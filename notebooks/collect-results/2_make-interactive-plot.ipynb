{
 "cells": [
  {
   "cell_type": "markdown",
   "id": "94d03df5-a75b-4857-91c6-3a5f957e05ca",
   "metadata": {},
   "source": [
    "# Visualize Search Results\n",
    "Render a space of molecules in human-readable formats"
   ]
  },
  {
   "cell_type": "code",
   "execution_count": null,
   "id": "9b2cc864-7bc8-4bc7-b7cc-b79ffe216cce",
   "metadata": {},
   "outputs": [],
   "source": [
    "from bokeh.io import output_file, show, output_notebook\n",
    "from bokeh.models import ColumnDataSource, HoverTool, CDSView, GroupFilter\n",
    "from bokeh.layouts import column\n",
    "from bokeh.plotting import figure\n",
    "from bokeh.models import CustomJS, Div\n",
    "from rdkit import Chem\n",
    "from rdkit.Chem import Draw, AllChem\n",
    "from rdkit.Chem.Draw import MolDraw2DSVG, MolToImage\n",
    "from pathlib import Path\n",
    "from io import BytesIO\n",
    "import pandas as pd\n",
    "import xlsxwriter\n",
    "import yaml"
   ]
  },
  {
   "cell_type": "markdown",
   "id": "fde3dcf4-f2b9-441a-b314-094587ff9413",
   "metadata": {},
   "source": [
    "Configuration"
   ]
  },
  {
   "cell_type": "code",
   "execution_count": null,
   "id": "6ee4fa55-f207-42f4-b918-ddec54842ce2",
   "metadata": {},
   "outputs": [],
   "source": [
    "data_file = 'results/anolytes-220607-neutral_only-subset_ZINC15-filter_round2.1.csv'\n",
    "filter_path = Path('../screen-search-space/round2.1.yml')"
   ]
  },
  {
   "cell_type": "markdown",
   "id": "df510e47-2a71-4e83-9a07-2b653bb96175",
   "metadata": {},
   "source": [
    "Output file paths"
   ]
  },
  {
   "cell_type": "code",
   "execution_count": null,
   "id": "f42b0d93-472f-4d3f-8f3b-c143234c5c4c",
   "metadata": {},
   "outputs": [],
   "source": [
    "graph_file = data_file[:-4] + '.html'\n",
    "table_file = data_file[:-4] + '.xlsx'"
   ]
  },
  {
   "cell_type": "markdown",
   "id": "8a1332f6-36ad-4654-80d1-7248e9528259",
   "metadata": {},
   "source": [
    "## Load in the data\n",
    "Read a results file, which includes the molecule identity and properties"
   ]
  },
  {
   "cell_type": "code",
   "execution_count": null,
   "id": "d1adf6c4-a1b6-47a3-81bc-e3ea70587fb3",
   "metadata": {},
   "outputs": [],
   "source": [
    "results = pd.read_csv(data_file)\n",
    "print(f'Loaded {len(results)} molecules')"
   ]
  },
  {
   "cell_type": "markdown",
   "id": "06a1de06-ac0c-42fa-8e5c-4fa2614e0e74",
   "metadata": {},
   "source": [
    "Get the name of the output properties"
   ]
  },
  {
   "cell_type": "code",
   "execution_count": null,
   "id": "7d7c9897-8d2d-4dd2-80ef-37901b1a3750",
   "metadata": {},
   "outputs": [],
   "source": [
    "redox_col = results.columns[4]\n",
    "redox_name = redox_col.split(\"_\")[0].upper()\n",
    "results['redox'] = results[redox_col]\n",
    "print(f'The redox property is {redox_name}')"
   ]
  },
  {
   "cell_type": "code",
   "execution_count": null,
   "id": "91175bec-ff0c-4559-819d-ecc6a6d31d55",
   "metadata": {},
   "outputs": [],
   "source": [
    "solv_col = results.columns[5]\n",
    "results['solv'] = results[solv_col]"
   ]
  },
  {
   "cell_type": "markdown",
   "id": "1e19c07c-ee92-476c-8dd5-6dc4a7e34c04",
   "metadata": {},
   "source": [
    "Compute the redox potential wrt Ferrocene. See [reference](https://pubs.acs.org/doi/10.1021/ct1003252)"
   ]
  },
  {
   "cell_type": "code",
   "execution_count": null,
   "id": "3e03f17f-216d-4b29-8a27-dab7df85d3f5",
   "metadata": {},
   "outputs": [],
   "source": [
    "results['redox'] -= 4.988   # Convert to wrt SHE"
   ]
  },
  {
   "cell_type": "markdown",
   "id": "5c4a14ae-bdba-4c7c-acab-caedbaffe77c",
   "metadata": {},
   "source": [
    "## Compute Vector Images of Each Molecule\n",
    "Something we can visualize later"
   ]
  },
  {
   "cell_type": "code",
   "execution_count": null,
   "id": "2cefd405-b0f4-4ec9-99c7-3a860326906c",
   "metadata": {},
   "outputs": [],
   "source": [
    "def print_molecule(smiles) -> str:\n",
    "    \"\"\"Print a molecule as an SVG\n",
    "    \n",
    "    Args:\n",
    "        smiles (str): SMILES string of molecule to present\n",
    "        atom_id (int): ID number atom to highlight\n",
    "    Returns:\n",
    "        (str): SVG rendering of molecule\n",
    "    \"\"\"\n",
    "    # Compute 2D coordinates\n",
    "    mol = Chem.MolFromSmiles(smiles)\n",
    "    AllChem.Compute2DCoords(mol)\n",
    "    \n",
    "    \n",
    "    # Print out an SVG\n",
    "    rsvg = MolDraw2DSVG(250, 250)\n",
    "    rsvg.DrawMolecule(mol)\n",
    "    rsvg.FinishDrawing()\n",
    "    return rsvg.GetDrawingText().strip()"
   ]
  },
  {
   "cell_type": "code",
   "execution_count": null,
   "id": "70c5cd0c-05cb-4706-9e6a-222990bfaeb4",
   "metadata": {},
   "outputs": [],
   "source": [
    "results['svg'] = results['smiles'].apply(print_molecule)"
   ]
  },
  {
   "cell_type": "markdown",
   "id": "1d3f2622-4ebd-4b27-bb38-52ef25e7f4ea",
   "metadata": {},
   "source": [
    "## Make a Pareto Plot\n",
    "Something that shows each of the results and you can move around to zoom in on specific molecules"
   ]
  },
  {
   "cell_type": "code",
   "execution_count": null,
   "id": "a2086d41-da47-44c7-977a-3389be49328d",
   "metadata": {},
   "outputs": [],
   "source": [
    "output_file(graph_file)\n",
    "output_notebook()"
   ]
  },
  {
   "cell_type": "markdown",
   "id": "a9df7a7e-b5ec-40ad-a950-3eadccd10199",
   "metadata": {},
   "source": [
    "Assign each point a color based on whether it is pareto or not"
   ]
  },
  {
   "cell_type": "code",
   "execution_count": null,
   "id": "7b893e92-db8d-4b79-b309-12ef843a1c50",
   "metadata": {},
   "outputs": [],
   "source": [
    "results['color'] = results['is_pareto'].apply(lambda x: '#CD5C5C' if x else '#2471A3')"
   ]
  },
  {
   "cell_type": "markdown",
   "id": "0c29f6f6-1477-4e48-9391-09ca28040317",
   "metadata": {},
   "source": [
    "Define the tooltip"
   ]
  },
  {
   "cell_type": "code",
   "execution_count": null,
   "id": "80b93266-5b13-4b89-8620-5c5441f6ed3d",
   "metadata": {},
   "outputs": [],
   "source": [
    "hover = HoverTool(tooltips=f\"\"\"\n",
    "<style>\n",
    "        .bk-tooltip>div:not(:first-child) {{display:none;}}\n",
    "</style>\n",
    "\n",
    "@svg{{safe}}</br>\n",
    "<b>SMILES</b>: @smiles{{safe}} </br>\n",
    "<b>{redox_name}</b>: @redox{{0.0}} V </br>\n",
    "<b>G<sub>solv</sub></b>: @solv{{0.000}} kcal/mol\n",
    "\"\"\")"
   ]
  },
  {
   "cell_type": "markdown",
   "id": "e6368d77-7470-4c48-8a29-b547e355a7d7",
   "metadata": {},
   "source": [
    "Make the data source"
   ]
  },
  {
   "cell_type": "code",
   "execution_count": null,
   "id": "5f9ed440-0090-4680-8a7f-3dc6e3ef0733",
   "metadata": {},
   "outputs": [],
   "source": [
    "results_view = ColumnDataSource(results[['smiles', 'redox', 'solv', 'color', 'svg']])"
   ]
  },
  {
   "cell_type": "markdown",
   "id": "5ebfaa9a-329b-4afb-adc1-e96db5f1efe5",
   "metadata": {},
   "source": [
    "Make the pareto plot"
   ]
  },
  {
   "cell_type": "code",
   "execution_count": null,
   "id": "085280f9-6d16-41df-9fe1-ebafb17b11e3",
   "metadata": {},
   "outputs": [],
   "source": [
    "p = figure(x_axis_label=redox_name + ' (V)', y_axis_label='G_solv (kcal/mol)',\n",
    "           width=1200, height=800, tools='box_select,lasso_select,pan,wheel_zoom,box_zoom,reset')\n",
    "p.circle(x='redox', y='solv', color='color', source=results_view)\n",
    "pareto = results.query('is_pareto')\n",
    "p.step(pareto['redox'], pareto[solv_col], mode='after', color='black')\n",
    "\n",
    "p.add_tools(hover)"
   ]
  },
  {
   "cell_type": "markdown",
   "id": "87b274cd-5977-4171-8b02-4dde2a641bf9",
   "metadata": {},
   "source": [
    "Create a div that will show the selected molecules"
   ]
  },
  {
   "cell_type": "code",
   "execution_count": null,
   "id": "c9a1e07f-de48-45b5-9b4e-01e0a7a3ac3a",
   "metadata": {},
   "outputs": [],
   "source": [
    "div = Div(width=p.width)\n",
    "\n",
    "init_text = '<b>Use the select tools to highlight molecules of interest</b>'\n",
    "div.text = init_text\n",
    "\n",
    "# Make the interaction that changes the selection\n",
    "results_view.selected.js_on_change('indices', CustomJS(\n",
    "    args={'results': results_view, 'div': div}, \n",
    "    code=f\"\"\"\n",
    "const inds = cb_obj.indices;\n",
    "const data = results.data;\n",
    "let output = \"<p>{init_text}</p>\";\n",
    "output += \"<table>\";\n",
    "output += \"<tr><th>SMILES</th><th>{redox_name}</th><th>G<sub>solv</sub></th><th>Image</th>\";\n",
    "for (let i = 0; i < inds.length; i++) {{\n",
    "    const id = inds[i];\n",
    "    output += \"<tr>\";\n",
    "    output += \"<td>\" + data[\"smiles\"][id] + \"</td>\";\n",
    "    output += \"<td>\" + data[\"redox\"][id].toFixed(2) + \"</td>\";\n",
    "    output += \"<td>\" + data[\"solv\"][id].toFixed(2) + \"</td>\";\n",
    "    output += \"<td>\" + data[\"svg\"][id] + \"</td>\";\n",
    "}}\n",
    "output += \"</table>\";\n",
    "div.text = output;\n",
    "\"\"\"))"
   ]
  },
  {
   "cell_type": "code",
   "execution_count": null,
   "id": "65e1a7cd-4aab-4982-938c-3ebfc7a3688b",
   "metadata": {},
   "outputs": [],
   "source": [
    "show(column(p, div))"
   ]
  },
  {
   "cell_type": "markdown",
   "id": "0ea327af-08f3-455a-9411-5d6ec023ad2c",
   "metadata": {},
   "source": [
    "## Save it in a table format\n",
    "Save the main columns in an XLSX file with pictures"
   ]
  },
  {
   "cell_type": "markdown",
   "id": "889b97ae-6e89-4020-8739-ab5b7d619673",
   "metadata": {},
   "source": [
    "First, make a function to convert a SMILES string to a PNG bytestring"
   ]
  },
  {
   "cell_type": "code",
   "execution_count": null,
   "id": "151e2158-0d98-403d-9014-6a2194bfdb25",
   "metadata": {},
   "outputs": [],
   "source": [
    "def molecule_to_png(smiles) -> BytesIO:\n",
    "    \"\"\"Print a molecule as a PNG\n",
    "    \n",
    "    Args:\n",
    "        smiles (str): SMILES string of molecule to present\n",
    "    Returns:\n",
    "        (str): SVG rendering of molecule\n",
    "    \"\"\"\n",
    "    # Compute 2D coordinates\n",
    "    mol = Chem.MolFromSmiles(smiles)\n",
    "    AllChem.Compute2DCoords(mol)\n",
    "    \n",
    "    \n",
    "    # Print out an SVG\n",
    "    img = MolToImage(mol, size=(256, 256))\n",
    "    fp = BytesIO()\n",
    "    img.save(fp, format='png')\n",
    "    return fp"
   ]
  },
  {
   "cell_type": "markdown",
   "id": "6fc7422e-fd33-4576-aca8-59e1053654e2",
   "metadata": {},
   "source": [
    "Now, make a subset of the dataset with only the columns we intend to save"
   ]
  },
  {
   "cell_type": "code",
   "execution_count": null,
   "id": "2ac4e086-8769-4101-939b-5f15645cbcef",
   "metadata": {},
   "outputs": [],
   "source": [
    "to_save = results[\n",
    "    ['smiles', 'molwt', redox_col, solv_col, 'is_pareto']\n",
    "].rename(columns={redox_col: redox_name, solv_col: 'G_solv'})"
   ]
  },
  {
   "cell_type": "markdown",
   "id": "3cabd146-0030-440f-95c0-fe5f6f4a70f4",
   "metadata": {},
   "source": [
    "Add a blank column to be the image"
   ]
  },
  {
   "cell_type": "code",
   "execution_count": null,
   "id": "42357950-11d0-4bf6-b947-2a2d67960391",
   "metadata": {},
   "outputs": [],
   "source": [
    "to_save['image'] = ''"
   ]
  },
  {
   "cell_type": "markdown",
   "id": "50c77056-d553-41eb-99b5-a70b5e6a3e10",
   "metadata": {},
   "source": [
    "Start by opening the spreadsheet [using the low-level ExcelWriter class from Pandas.](https://xlsxwriter.readthedocs.io/working_with_pandas.html)"
   ]
  },
  {
   "cell_type": "code",
   "execution_count": null,
   "id": "c5ac878a-2fab-44d3-91af-8da342bd04ad",
   "metadata": {},
   "outputs": [],
   "source": [
    "Path(table_file).unlink(missing_ok=True)"
   ]
  },
  {
   "cell_type": "code",
   "execution_count": null,
   "id": "0d127048-78c0-491b-8c83-727e2a099405",
   "metadata": {},
   "outputs": [],
   "source": [
    "# Create a Pandas Excel writer using XlsxWriter as the engine.\n",
    "writer = pd.ExcelWriter(table_file, engine='xlsxwriter')\n",
    "\n",
    "# Convert the dataframe to an XlsxWriter Excel object.\n",
    "to_save.to_excel(writer, sheet_name='molecules', index=False)"
   ]
  },
  {
   "cell_type": "markdown",
   "id": "47e462a6-39c3-4fcb-9008-a6d7a49ede7e",
   "metadata": {},
   "source": [
    "Fill in the last column of the sheet with an image [in each cell](https://xlsxwriter.readthedocs.io/worksheet.html#insert_image)"
   ]
  },
  {
   "cell_type": "code",
   "execution_count": null,
   "id": "4117edb4-ea24-42bd-8243-47f834da7e7f",
   "metadata": {},
   "outputs": [],
   "source": [
    "sheet = writer.sheets['molecules']  # Get the sheet"
   ]
  },
  {
   "cell_type": "code",
   "execution_count": null,
   "id": "f00f2822-7980-462d-8dff-0a56b907890c",
   "metadata": {},
   "outputs": [],
   "source": [
    "for i, smiles in enumerate(results['smiles']):  # Paste in each molecule\n",
    "    sheet.insert_image(f'F{i+2}', 'smiles.png', {'image_data': molecule_to_png(smiles), 'object_position': 1})\n",
    "    sheet.set_row_pixels(i + 1, 270)"
   ]
  },
  {
   "cell_type": "markdown",
   "id": "cd29cfbb-57da-4adf-9718-e76983a0bc1d",
   "metadata": {},
   "source": [
    "Make the column wide enough to fit the image"
   ]
  },
  {
   "cell_type": "code",
   "execution_count": null,
   "id": "e62b0351-4486-476f-9a4a-f36b4fec7c70",
   "metadata": {},
   "outputs": [],
   "source": [
    "sheet.set_column_pixels(5, 5, 270)"
   ]
  },
  {
   "cell_type": "markdown",
   "id": "5f62ea1e-188e-41f7-bbe5-49ddc2af247d",
   "metadata": {},
   "source": [
    "Write it to disk!"
   ]
  },
  {
   "cell_type": "code",
   "execution_count": null,
   "id": "bfbd6738-c582-4f0f-80c6-4ffa3139193c",
   "metadata": {},
   "outputs": [],
   "source": [
    "writer.save()"
   ]
  },
  {
   "cell_type": "code",
   "execution_count": null,
   "id": "85092375-f640-4712-b261-106791f4b5f5",
   "metadata": {},
   "outputs": [],
   "source": []
  }
 ],
 "metadata": {
  "kernelspec": {
   "display_name": "Python 3 (ipykernel)",
   "language": "python",
   "name": "python3"
  },
  "language_info": {
   "codemirror_mode": {
    "name": "ipython",
    "version": 3
   },
   "file_extension": ".py",
   "mimetype": "text/x-python",
   "name": "python",
   "nbconvert_exporter": "python",
   "pygments_lexer": "ipython3",
   "version": "3.8.13"
  }
 },
 "nbformat": 4,
 "nbformat_minor": 5
}
