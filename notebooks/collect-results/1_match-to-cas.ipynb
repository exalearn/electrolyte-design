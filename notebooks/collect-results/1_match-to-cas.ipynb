{
 "cells": [
  {
   "cell_type": "markdown",
   "id": "a7575fd8-6300-46d0-a17c-61f8e7ac302b",
   "metadata": {},
   "source": [
    "## Get CAS Numbers\n",
    "Get the CAS numbers associated with each molecule in the database. "
   ]
  },
  {
   "cell_type": "code",
   "execution_count": 1,
   "id": "2408c949-a095-414f-9451-26548cb7d014",
   "metadata": {},
   "outputs": [
    {
     "name": "stderr",
     "output_type": "stream",
     "text": [
      "[19:37:33] Enabling RDKit 2019.09.3 jupyter extensions\n",
      "RDKit WARNING: [19:37:33] Enabling RDKit 2019.09.3 jupyter extensions\n"
     ]
    }
   ],
   "source": [
    "from moldesign.store.mongo import MoleculePropertyDB\n",
    "from typing import List\n",
    "from tqdm import tqdm\n",
    "from time import sleep\n",
    "import requests"
   ]
  },
  {
   "cell_type": "markdown",
   "id": "0e74f83a-e6e0-4910-896f-2d1dd3124ca5",
   "metadata": {},
   "source": [
    "Configuration"
   ]
  },
  {
   "cell_type": "code",
   "execution_count": 2,
   "id": "05af8252-70a2-4be2-84c7-33f44b104257",
   "metadata": {},
   "outputs": [],
   "source": [
    "retry = False\n",
    "spacing = 0.1"
   ]
  },
  {
   "cell_type": "markdown",
   "id": "54cd8689-eecb-472a-b747-6637dfedfc60",
   "metadata": {},
   "source": [
    "## Find the molecules without a CAS identifier\n",
    "Either because we couldn't find one, or because it's unset"
   ]
  },
  {
   "cell_type": "code",
   "execution_count": 3,
   "id": "8290b016-5673-454a-a810-b1270fe0e240",
   "metadata": {},
   "outputs": [],
   "source": [
    "mongo = MoleculePropertyDB.from_connection_info(port=27855)"
   ]
  },
  {
   "cell_type": "code",
   "execution_count": 4,
   "id": "ebd18634-8c6a-4376-a8b6-cc3249bf056d",
   "metadata": {},
   "outputs": [],
   "source": [
    "query = {'identifier.cas': {'$exists': False}}\n",
    "if retry:\n",
    "    query = {'$or': [{'identifier.cas': 'none'}, query]}"
   ]
  },
  {
   "cell_type": "code",
   "execution_count": 5,
   "id": "12860205-7208-40ca-871a-2a16edf9589d",
   "metadata": {},
   "outputs": [
    {
     "name": "stdout",
     "output_type": "stream",
     "text": [
      "Found 22682 matching records\n"
     ]
    }
   ],
   "source": [
    "count = mongo.collection.count_documents(query)\n",
    "print(f'Found {count} matching records' )"
   ]
  },
  {
   "cell_type": "code",
   "execution_count": 6,
   "id": "575d7081-d3f0-4c05-aa11-981e06084139",
   "metadata": {},
   "outputs": [],
   "source": [
    "cursor = mongo.collection.find(query, projection=['identifier'])"
   ]
  },
  {
   "cell_type": "markdown",
   "id": "d33facd8-160a-4aa4-8c93-7112d9b48e96",
   "metadata": {},
   "source": [
    "## Query CAS with the InChI\n",
    "See if it is known yet"
   ]
  },
  {
   "cell_type": "code",
   "execution_count": 10,
   "id": "f3afed59-df72-43a1-9b22-4f147b36f997",
   "metadata": {},
   "outputs": [
    {
     "data": {
      "text/plain": [
       "['75-89-8']"
      ]
     },
     "execution_count": 10,
     "metadata": {},
     "output_type": "execute_result"
    }
   ],
   "source": [
    "find_cas_records('InChI=1S/C2H3F3O/c3-2(4,5)1-6/h6H,1H2')"
   ]
  },
  {
   "cell_type": "code",
   "execution_count": 7,
   "id": "7c647e95-2c07-4dbb-bb55-f55ac56829d0",
   "metadata": {},
   "outputs": [],
   "source": [
    "def find_cas_records(inchi: str) -> List[str]:\n",
    "    \"\"\"Get a list of CAS records for a certain InChI\n",
    "    \n",
    "    Args:\n",
    "        inchi: Record of the molecule to evaluate\n",
    "    Returns:\n",
    "        List of CAS records\n",
    "    \"\"\"\n",
    "    result = requests.get(\"https://commonchemistry.cas.org/api/search\", {\"q\": inchi})\n",
    "    return [x[\"rn\"] for x in result.json()['results']]\n",
    "assert find_cas_records('InChI=1S/C2H3F3O/c3-2(4,5)1-6/h6H,1H2') == ['75-89-8']"
   ]
  },
  {
   "cell_type": "code",
   "execution_count": 12,
   "id": "b4baabd8-6ba5-4436-bff7-409f6db95c53",
   "metadata": {},
   "outputs": [
    {
     "data": {
      "text/plain": [
       "{'uri': 'substance/pt/75898',\n",
       " 'rn': '75-89-8',\n",
       " 'name': '2,2,2-Trifluoroethanol',\n",
       " 'image': '<svg width=\"107.52\" viewBox=\"0 0 3584 2142\" text-rendering=\"auto\" stroke-width=\"1\" stroke-opacity=\"1\" stroke-miterlimit=\"10\" stroke-linejoin=\"miter\" stroke-linecap=\"square\" stroke-dashoffset=\"0\" stroke-dasharray=\"none\" stroke=\"black\" shape-rendering=\"auto\" image-rendering=\"auto\" height=\"64.26\" font-weight=\"normal\" font-style=\"normal\" font-size=\"12\" font-family=\"\\'Dialog\\'\" fill-opacity=\"1\" fill=\"black\" color-rendering=\"auto\" color-interpolation=\"auto\" xmlns=\"http://www.w3.org/2000/svg\"><g><g stroke=\"white\" fill=\"white\"><rect y=\"0\" x=\"0\" width=\"3584\" stroke=\"none\" height=\"2142\"/></g><g transform=\"translate(32866,32758)\" text-rendering=\"geometricPrecision\" stroke-width=\"44\" stroke-linejoin=\"round\" stroke-linecap=\"round\"><line y2=\"-30992\" y1=\"-31514\" x2=\"-30798\" x1=\"-31705\" fill=\"none\"/><line y2=\"-31408\" y1=\"-30992\" x2=\"-30079\" x1=\"-30798\" fill=\"none\"/><line y2=\"-31098\" y1=\"-31514\" x2=\"-32424\" x1=\"-31705\" fill=\"none\"/><line y2=\"-32202\" y1=\"-31514\" x2=\"-31306\" x1=\"-31705\" fill=\"none\"/><line y2=\"-32202\" y1=\"-31514\" x2=\"-32101\" x1=\"-31705\" fill=\"none\"/><text y=\"-30812\" xml:space=\"preserve\" x=\"-32762\" stroke=\"none\" font-size=\"433.3333\" font-family=\"sans-serif\">F</text><text y=\"-32242\" xml:space=\"preserve\" x=\"-31332\" stroke=\"none\" font-size=\"433.3333\" font-family=\"sans-serif\">F</text><text y=\"-32242\" xml:space=\"preserve\" x=\"-32381\" stroke=\"none\" font-size=\"433.3333\" font-family=\"sans-serif\">F</text><text y=\"-31335\" xml:space=\"preserve\" x=\"-30041\" stroke=\"none\" font-size=\"433.3333\" font-family=\"sans-serif\">OH</text></g></g></svg>',\n",
       " 'inchi': 'InChI=1S/C2H3F3O/c3-2(4,5)1-6/h6H,1H2',\n",
       " 'inchiKey': 'InChIKey=RHQDFWAXVIIEBN-UHFFFAOYSA-N',\n",
       " 'smile': 'C(CO)(F)(F)F',\n",
       " 'canonicalSmile': 'FC(F)(F)CO',\n",
       " 'molecularFormula': 'C<sub>2</sub>H<sub>3</sub>F<sub>3</sub>O',\n",
       " 'molecularMass': '100.04',\n",
       " 'experimentalProperties': [{'name': 'Boiling Point',\n",
       "   'property': '74 °C',\n",
       "   'sourceNumber': 1},\n",
       "  {'name': 'Melting Point', 'property': '-43.5 °C', 'sourceNumber': 1},\n",
       "  {'name': 'Density',\n",
       "   'property': '1.4106 g/cm<sup>3</sup> @ Temp: 0 °C',\n",
       "   'sourceNumber': 2}],\n",
       " 'propertyCitations': [{'docUri': '',\n",
       "   'sourceNumber': 1,\n",
       "   'source': 'PhysProp data were obtained from Syracuse Research Corporation of Syracuse, New York (US)'},\n",
       "  {'docUri': 'document/pt/document/22777087',\n",
       "   'sourceNumber': 2,\n",
       "   'source': 'Swarts, Fred.; Compt. rend., (1933), 197, 1261-4, CAplus'}],\n",
       " 'synonyms': ['Ethanol, 2,2,2-trifluoro-',\n",
       "  '2,2,2-Trifluoroethanol',\n",
       "  'β,β,β-Trifluoroethyl alcohol',\n",
       "  '2,2,2-Trifluoroethyl alcohol',\n",
       "  'TFE',\n",
       "  'NSC 451',\n",
       "  '2,2,2-Trifluoroethan-1-ol'],\n",
       " 'replacedRns': [],\n",
       " 'hasMolfile': True}"
      ]
     },
     "execution_count": 12,
     "metadata": {},
     "output_type": "execute_result"
    }
   ],
   "source": [
    "get_cas_data('75-89-8')"
   ]
  },
  {
   "cell_type": "code",
   "execution_count": 8,
   "id": "4cc2cda8-8405-4209-9386-a1586df74121",
   "metadata": {},
   "outputs": [],
   "source": [
    "def get_cas_data(rn: str) -> dict:\n",
    "    \"\"\"Get the data about a CAS record\n",
    "    \n",
    "    Args:\n",
    "        rn: CAS number of molecule of interest\n",
    "    Returns:\n",
    "        Record held by CAS\n",
    "    \"\"\"\n",
    "    result = requests.get(\"https://commonchemistry.cas.org/api/detail\", {\"cas_rn\": rn})\n",
    "    return result.json()"
   ]
  },
  {
   "cell_type": "code",
   "execution_count": 9,
   "id": "0400f762-cea3-4322-86a4-54da36032f2c",
   "metadata": {},
   "outputs": [
    {
     "name": "stderr",
     "output_type": "stream",
     "text": [
      "matched: 1571: 100%|██████████| 22682/22682 [1:21:31<00:00,  4.64it/s]\n"
     ]
    }
   ],
   "source": [
    "matched = 0\n",
    "cursor_bar = tqdm(cursor, total=count, desc='matched: 0')\n",
    "for record in cursor_bar:\n",
    "    sleep(spacing)\n",
    "    \n",
    "    # Find all CAS numbers that match\n",
    "    cas = find_cas_records(record['identifier']['inchi'])\n",
    "    \n",
    "    my_cas = None\n",
    "    if len(cas) == 1:\n",
    "        # Easy case\n",
    "        my_cas = cas[0]\n",
    "    elif len(cas) > 1:\n",
    "        # Find one that is not a polymer\n",
    "        for rn in cas:\n",
    "            data = get_cas_data(rn)\n",
    "            if data['molecularMass'] != \"\":  # Polymers do not have a molecular mass\n",
    "                my_cas = rn\n",
    "            if my_cas:\n",
    "                break\n",
    "    if my_cas is not None:\n",
    "        mongo.collection.update_one({'_id': record['_id']}, {'$set': {'identifier.cas': my_cas}})\n",
    "        matched += 1\n",
    "        cursor_bar.set_description(f'matched: {matched}')\n",
    "    else:\n",
    "        mongo.collection.update_one({'_id': record['_id']}, {'$set': {'identifier.cas': 'none'}})"
   ]
  },
  {
   "cell_type": "code",
   "execution_count": null,
   "id": "2e54d9d6-28c2-40d6-8e9f-b59f072f40ed",
   "metadata": {},
   "outputs": [],
   "source": []
  }
 ],
 "metadata": {
  "kernelspec": {
   "display_name": "edw",
   "language": "python",
   "name": "edw"
  },
  "language_info": {
   "codemirror_mode": {
    "name": "ipython",
    "version": 3
   },
   "file_extension": ".py",
   "mimetype": "text/x-python",
   "name": "python",
   "nbconvert_exporter": "python",
   "pygments_lexer": "ipython3",
   "version": "3.8.12"
  }
 },
 "nbformat": 4,
 "nbformat_minor": 5
}
