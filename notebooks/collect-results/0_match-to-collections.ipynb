{
 "cells": [
  {
   "cell_type": "markdown",
   "id": "890cc92c-12af-4a16-983b-bd75aedffcb8",
   "metadata": {},
   "source": [
    "# Add Missing Tags\n",
    "Some of the moelcules in our database are part of existing collections and, for some reason, they are not labelled as such. \n",
    "This notebook goes through and assigns all of the molecules to each of our collections"
   ]
  },
  {
   "cell_type": "code",
   "execution_count": 14,
   "id": "8d6c8bce-97e0-47ba-a219-1eb119e66491",
   "metadata": {
    "tags": []
   },
   "outputs": [],
   "source": [
    "from moldesign.store.mongo import MoleculePropertyDB\n",
    "from multiprocessing import Pool\n",
    "from functools import partial\n",
    "from typing import List, Iterator, Set\n",
    "from pathlib import Path\n",
    "from rdkit import Chem\n",
    "from tqdm import tqdm"
   ]
  },
  {
   "cell_type": "markdown",
   "id": "6c05d2c6-2ea5-48ba-854a-2a8593fa24de",
   "metadata": {},
   "source": [
    "Turn of RDKit's logging"
   ]
  },
  {
   "cell_type": "code",
   "execution_count": 15,
   "id": "608ab4da-33fb-4c89-8786-43ce11ba7fea",
   "metadata": {
    "tags": []
   },
   "outputs": [],
   "source": [
    "import rdkit.rdBase as rkrb\n",
    "import rdkit.RDLogger as rkl\n",
    "logger = rkl.logger()\n",
    "logger.setLevel(rkl.ERROR)\n",
    "rkrb.DisableLog('rdApp.error')"
   ]
  },
  {
   "cell_type": "markdown",
   "id": "6a06f24e-7252-4f0a-afc4-61e554629239",
   "metadata": {},
   "source": [
    "Configuration"
   ]
  },
  {
   "cell_type": "code",
   "execution_count": 16,
   "id": "7a66a396-4c12-46d0-b461-1570e55ea688",
   "metadata": {
    "tags": []
   },
   "outputs": [],
   "source": [
    "ncov_path = Path('/eagle/CVD-Mol-AI/release/v1.0/canonical_smiles/')"
   ]
  },
  {
   "cell_type": "markdown",
   "id": "87178677-15e0-4bb2-9e57-088c9308886e",
   "metadata": {},
   "source": [
    "## Connect to the database\n",
    "Get a connection to the MongoDB"
   ]
  },
  {
   "cell_type": "code",
   "execution_count": 17,
   "id": "15c37e98-bce2-4818-a5eb-6d1b579436e0",
   "metadata": {
    "tags": []
   },
   "outputs": [
    {
     "name": "stdout",
     "output_type": "stream",
     "text": [
      "Connected to database with 25246 molecules\n"
     ]
    }
   ],
   "source": [
    "mongo = MoleculePropertyDB.from_connection_info(port=27855)\n",
    "print(f'Connected to database with {mongo.collection.count_documents({})} molecules')"
   ]
  },
  {
   "cell_type": "code",
   "execution_count": 22,
   "id": "891c34b9-e295-41a4-89e9-af38aa8d20d6",
   "metadata": {},
   "outputs": [
    {
     "data": {
      "text/plain": [
       "1441"
      ]
     },
     "execution_count": 22,
     "metadata": {},
     "output_type": "execute_result"
    }
   ],
   "source": [
    "nmp = mongo.get_molecule_record(smiles='CN1C(=O)c2ccccc2C1=O')\n",
    "Path('nmp-reduced.xyz').write_text(nmp.data['small_basis']['reduced'].xyz)"
   ]
  },
  {
   "cell_type": "code",
   "execution_count": 33,
   "id": "af8cc3d4-c5aa-4260-b529-659517a43b77",
   "metadata": {},
   "outputs": [
    {
     "data": {
      "text/plain": [
       "{'dfb-acn-smb-geom': 1.713531530879095,\n",
       " 'dfb-vacuum-smb-geom': 0.12035400022383365,\n",
       " 'smb-acn-vertical': 2.1774512017101717,\n",
       " 'smb-vacuum-no-zpe': -0.4035548207926126,\n",
       " 'smb-vacuum-vertical': 0.44476412682949634}"
      ]
     },
     "execution_count": 33,
     "metadata": {},
     "output_type": "execute_result"
    }
   ],
   "source": [
    "nmpp.reduction_potential"
   ]
  },
  {
   "cell_type": "code",
   "execution_count": 34,
   "id": "23c59b0a-4666-4826-b627-501533015f08",
   "metadata": {},
   "outputs": [
    {
     "data": {
      "text/plain": [
       "{'dfb-acn-smb-geom': 2.877379962527396,\n",
       " 'dfb-vacuum-smb-geom': 1.0718877101356208,\n",
       " 'smb-acn-vertical': 2.118791342425684,\n",
       " 'smb-vacuum-no-zpe': 0.41305979852865576,\n",
       " 'smb-vacuum-vertical': 0.16575085973157608}"
      ]
     },
     "execution_count": 34,
     "metadata": {},
     "output_type": "execute_result"
    }
   ],
   "source": [
    "nmp.reduction_potential"
   ]
  },
  {
   "cell_type": "code",
   "execution_count": 31,
   "id": "f89de596-6ff7-4ff1-b60f-9e26dc749417",
   "metadata": {},
   "outputs": [],
   "source": [
    "with open('nmp.json', 'w') as fp:\n",
    "    print(nmp.json(indent=True), file=fp)"
   ]
  },
  {
   "cell_type": "code",
   "execution_count": 28,
   "id": "848c62bf-2533-441f-a1e9-6c065fb65a6d",
   "metadata": {},
   "outputs": [
    {
     "data": {
      "text/plain": [
       "3018"
      ]
     },
     "execution_count": 28,
     "metadata": {},
     "output_type": "execute_result"
    }
   ],
   "source": [
    "nmpp = mongo.get_molecule_record(smiles='COCCOCC(CN1C(=O)c2ccccc2C1=O)OC')\n",
    "Path('nmp-plus-reduced.xyz').write_text(nmpp.data['small_basis']['reduced'].xyz)"
   ]
  },
  {
   "cell_type": "code",
   "execution_count": 30,
   "id": "c623e34a-b4f0-4cf0-9c77-c626bc87e3ca",
   "metadata": {},
   "outputs": [],
   "source": [
    "with open('nmp-plus.json', 'w') as fp:\n",
    "    print(nmpp.json(indent=True), file=fp)"
   ]
  },
  {
   "cell_type": "markdown",
   "id": "8b1328b0-8d55-421f-8099-69a05e5c132d",
   "metadata": {},
   "source": [
    "## Match to Enumerations from [nCov-group](https://2019-ncovgroup.github.io/data/)\n",
    "These are located on ALCF's filesystems in a known format. They're huge file, so we're going to implement an out-of-core algorithm"
   ]
  },
  {
   "cell_type": "code",
   "execution_count": null,
   "id": "3d145fbe-9a1a-4083-8ad5-794125a18ea6",
   "metadata": {},
   "outputs": [],
   "source": [
    "def read_in_chunks(path: Path, chunk_size: int = 10000) -> Iterator[List[str]]:\n",
    "    \"\"\"Iterate a chunk of SMILES strings from an nCov-format file\n",
    "    \n",
    "    Args:\n",
    "        path: Path to the file\n",
    "        chunk_size: Number of molecules per chunk\n",
    "    Yields:\n",
    "        A chunk of molecules\n",
    "    \"\"\"\n",
    "    \n",
    "    chunk = []  # Initial chunk\n",
    "    with path.open() as fp:\n",
    "        for line in fp:  # Iterate over each line in the file\n",
    "            smiles = line.split(\",\")[-1]\n",
    "            chunk.append(smiles.strip())\n",
    "            \n",
    "            # If the chunk is big enough, yield it!\n",
    "            if len(chunk) >= chunk_size:\n",
    "                yield chunk\n",
    "                chunk = []\n",
    "        \n",
    "    return chunk"
   ]
  },
  {
   "cell_type": "code",
   "execution_count": null,
   "id": "0ff2bff4-728e-4f11-b0b9-3ebb19c540f3",
   "metadata": {},
   "outputs": [],
   "source": [
    "def match_molecules(source_mols: List[str], keys_to_match: Set[str]) -> List[str]:\n",
    "    \"\"\"Find which molecules in a source appear in a set of InChI keys to match against\n",
    "    \n",
    "    Args:\n",
    "        source_mols: List of SMILES strings from a certain collection\n",
    "        keys_to_match: List of of InChI keys to check if are contained in the database\n",
    "    Returns:\n",
    "        List of `keys_to_match` that are found in the source molecules\n",
    "    \"\"\"\n",
    "    \n",
    "    # Keep track of the matches \n",
    "    hits = []\n",
    "    \n",
    "    # Loop through the source molecules\n",
    "    for smiles in source_mols:\n",
    "        mol = Chem.MolFromSmiles(smiles)\n",
    "        \n",
    "        # Skip if it failed to parse\n",
    "        if mol is None:\n",
    "            continue\n",
    "            \n",
    "        # Compute an InChI key\n",
    "        try:\n",
    "            key = Chem.MolToInchiKey(mol)\n",
    "        except Chem.KekulizeException:\n",
    "            continue\n",
    "\n",
    "        # See if it's in set to match\n",
    "        if key in keys_to_match:\n",
    "            hits.append(key)\n",
    "            \n",
    "    return hits"
   ]
  },
  {
   "cell_type": "markdown",
   "id": "d66fb0e8-d614-476c-9154-d9002e21c6f0",
   "metadata": {},
   "source": [
    "Get all of the existing molecules as InChI keys"
   ]
  },
  {
   "cell_type": "code",
   "execution_count": null,
   "id": "2e61670d-90d5-4d85-b540-463a9fa23577",
   "metadata": {},
   "outputs": [],
   "source": [
    "inchi_keys = mongo.get_molecules(output_key='key')\n",
    "print(f'Found {len(inchi_keys)} molecules')"
   ]
  },
  {
   "cell_type": "markdown",
   "id": "9194b4f0-fb44-499e-bbe6-d8d24eb5f7e0",
   "metadata": {},
   "source": [
    "Loop over a few collections"
   ]
  },
  {
   "cell_type": "code",
   "execution_count": null,
   "id": "eeb4b554-5dca-4d0d-ae21-b9f923da5aeb",
   "metadata": {},
   "outputs": [],
   "source": [
    "for coll_key, coll_name in [('QM9', 'QM9'), ('PCH', 'PubChem'), ('ZIN', 'ZINC15')]:\n",
    "    count_first = mongo.collection.count_documents({'subsets': {'$in': [coll_name]}})\n",
    "    print(f'Found {count_first} in {coll_name} to start with')\n",
    "    \n",
    "    # Get the path to the file\n",
    "    file = ncov_path / coll_key / f'{coll_key}.csv'\n",
    "    \n",
    "    # Create the generator\n",
    "    chunk_gen = read_in_chunks(file)\n",
    "    \n",
    "    # Process the chunks in parallel\n",
    "    fun = partial(match_molecules, keys_to_match=inchi_keys)\n",
    "    all_hits = set()\n",
    "    with Pool(32) as p:\n",
    "        for hits in tqdm(p.imap_unordered(fun, chunk_gen), desc=coll_key):\n",
    "            all_hits.update(hits)\n",
    "    print(f'Matched {len(all_hits)} molecules to those in the {coll_key} file')\n",
    "    \n",
    "    # Update the MongoDB\n",
    "    result = mongo.collection.update_many({'key': {'$in': list(all_hits)}}, {'$addToSet': {'subsets': coll_name}})\n",
    "    print(f'Updated {result.modified_count} of {result.matched_count} matched records')"
   ]
  },
  {
   "cell_type": "markdown",
   "id": "7ae6b399-cd49-46eb-8e90-0bbe93c0b19a",
   "metadata": {},
   "source": [
    "## Match to Substructures\n",
    "See which molecules in the database match a certain substructure"
   ]
  },
  {
   "cell_type": "code",
   "execution_count": null,
   "id": "dd67986f-4873-4fc7-9b9b-8639253f0cbb",
   "metadata": {
    "tags": []
   },
   "outputs": [],
   "source": [
    "def matches_substruct(smiles: str, substruct: str) -> bool:\n",
    "    \"\"\"Determine whether a SMILES string matches a certain substructure\n",
    "    \n",
    "    Args:\n",
    "        smiles: SMILES string to match\n",
    "        substruct: Structure to match against\n",
    "    \"\"\"\n",
    "    \n",
    "    mol = Chem.MolFromSmiles(smiles)\n",
    "    smarts = Chem.MolFromSmarts(substruct)\n",
    "    \n",
    "    return mol.HasSubstructMatch(smarts)"
   ]
  },
  {
   "cell_type": "markdown",
   "id": "85d8f4d4-181c-4f59-a3e1-7a8ee935c4ae",
   "metadata": {},
   "source": [
    "Get the SMILES strings from the database"
   ]
  },
  {
   "cell_type": "code",
   "execution_count": null,
   "id": "17190aaa-b14e-4ec5-b011-fcb9cc168d84",
   "metadata": {
    "tags": []
   },
   "outputs": [],
   "source": [
    "smiles_strings = mongo.get_molecules(output_key='identifier.smiles')\n",
    "print(f'Found {len(smiles_strings)} molecules')"
   ]
  },
  {
   "cell_type": "markdown",
   "id": "60461be8-e323-4178-8a48-062406b98848",
   "metadata": {},
   "source": [
    "Loop over a few different patterns"
   ]
  },
  {
   "cell_type": "code",
   "execution_count": null,
   "id": "c7f035fe-c9c0-4fd4-ab3c-e3a6ed045416",
   "metadata": {
    "tags": []
   },
   "outputs": [],
   "source": [
    "for pattern, name in [('O=C2c1ccccc1C(=O)N2', 'phthalimide'),\n",
    "                      ('c1cc1', 'cyclopropenium'),\n",
    "                      ('Oc1ccc(O)cc1', 'DMB')]:\n",
    "    # Get those smiles strings which match the pattern\n",
    "    matches = [x for x in smiles_strings if matches_substruct(x, pattern)]\n",
    "    \n",
    "    # Update database\n",
    "    result = mongo.collection.update_many({'identifier.smiles': {'$in': matches}}, {'$addToSet': {'subsets': name}})\n",
    "    print(f'Updated {result.modified_count} of {result.matched_count} records that match {name}')"
   ]
  },
  {
   "cell_type": "markdown",
   "id": "32b5f582-4a19-47e2-9b8f-073ea7a068ea",
   "metadata": {},
   "source": [
    "## Print out the Summary\n",
    "List membership for molecules"
   ]
  },
  {
   "cell_type": "code",
   "execution_count": null,
   "id": "ae430769-cfaf-4644-99bc-b10f209623e6",
   "metadata": {},
   "outputs": [],
   "source": [
    "list(mongo.collection.aggregate([\n",
    "    {'$unwind': '$subsets'},\n",
    "    {'$group': {\n",
    "        '_id': '$subsets',\n",
    "        'count': {'$sum': 1},\n",
    "    }}\n",
    "]))"
   ]
  },
  {
   "cell_type": "code",
   "execution_count": null,
   "id": "1b33d85b-8e7b-449e-94be-59fafa0e9c77",
   "metadata": {},
   "outputs": [],
   "source": []
  }
 ],
 "metadata": {
  "kernelspec": {
   "display_name": "edw",
   "language": "python",
   "name": "edw"
  },
  "language_info": {
   "codemirror_mode": {
    "name": "ipython",
    "version": 3
   },
   "file_extension": ".py",
   "mimetype": "text/x-python",
   "name": "python",
   "nbconvert_exporter": "python",
   "pygments_lexer": "ipython3",
   "version": "3.8.12"
  }
 },
 "nbformat": 4,
 "nbformat_minor": 5
}
