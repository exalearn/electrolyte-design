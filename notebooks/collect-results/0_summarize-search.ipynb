{
 "cells": [
  {
   "cell_type": "markdown",
   "id": "4a6456d1-7490-47b9-ad8d-97233b4aa45c",
   "metadata": {},
   "source": [
    "# Generate Search Summary\n",
    "This notebook retrieves different subsets of the search and dumps them into a spreadsheet"
   ]
  },
  {
   "cell_type": "code",
   "execution_count": 1,
   "id": "46fbd835-fd7b-4b26-88c7-028cb09190c7",
   "metadata": {},
   "outputs": [
    {
     "name": "stdout",
     "output_type": "stream",
     "text": [
      "The history saving thread hit an unexpected error (DatabaseError('database disk image is malformed')).History will not be written to the database.\n"
     ]
    },
    {
     "name": "stderr",
     "output_type": "stream",
     "text": [
      "RDKit WARNING: [15:12:37] Enabling RDKit 2019.09.3 jupyter extensions\n",
      "[15:12:37] Enabling RDKit 2019.09.3 jupyter extensions\n"
     ]
    }
   ],
   "source": [
    "%matplotlib inline\n",
    "from matplotlib import pyplot as plt\n",
    "from moldesign.store.mongo import MoleculePropertyDB\n",
    "from moldesign.store.models import MoleculeData\n",
    "from moldesign.store.recipes import redox_recipes\n",
    "from rdkit.Chem import Descriptors\n",
    "from rdkit import Chem\n",
    "from pathlib import Path\n",
    "from tqdm import tqdm\n",
    "from datetime import datetime\n",
    "from scipy.interpolate import interp1d\n",
    "import pandas as pd\n",
    "import numpy as np\n",
    "import json\n",
    "import yaml"
   ]
  },
  {
   "cell_type": "markdown",
   "id": "8a8650e6-79f0-4969-bf66-ca2f1fe62daf",
   "metadata": {},
   "source": [
    "Define the search parameters"
   ]
  },
  {
   "cell_type": "code",
   "execution_count": 2,
   "id": "29db07b8-504b-48eb-8ba8-bb2b9c9dc4e1",
   "metadata": {
    "tags": [
     "parameters"
    ]
   },
   "outputs": [],
   "source": [
    "subset = 'ZINC15'  # Allowed source of the molecules\n",
    "neutral = True  # Whether to get only charge-balanced molecules"
   ]
  },
  {
   "cell_type": "markdown",
   "id": "5bf6224a-61fe-4661-84ea-4493bb4097eb",
   "metadata": {},
   "source": [
    "Gather which properties to look up."
   ]
  },
  {
   "cell_type": "code",
   "execution_count": 3,
   "id": "daaf59fe-32c0-4bf7-8584-39588d164519",
   "metadata": {},
   "outputs": [],
   "source": [
    "levels = [level.name for level in redox_recipes] \n",
    "solvation_energy = {'small': 'data.small_basis.neutral.solvation_energy.neutral.acetntrl.small_basis',\n",
    "                    'normal': 'data.small_basis.neutral.solvation_energy.neutral.acetntrl.normal_basis',\n",
    "                    'diffuse': 'data.small_basis.neutral.solvation_energy.neutral.acetntrl.diffuse_basis'}"
   ]
  },
  {
   "cell_type": "markdown",
   "id": "3d7f98a1-1ffb-42a4-beb8-3c3ee0b8830a",
   "metadata": {},
   "source": [
    "## Query the current state of the search from MongoDB\n",
    "Gather only the molecules in the target subset and return the accires at all available levels"
   ]
  },
  {
   "cell_type": "markdown",
   "id": "c231066b-ea7c-4ae1-9ada-2630195e9337",
   "metadata": {},
   "source": [
    "Query the database to get the desired results"
   ]
  },
  {
   "cell_type": "code",
   "execution_count": 4,
   "id": "a51f214c-b956-485c-8b6e-affb17e3a7b9",
   "metadata": {},
   "outputs": [],
   "source": [
    "mongo = MoleculePropertyDB.from_connection_info(port=27855)"
   ]
  },
  {
   "cell_type": "code",
   "execution_count": 5,
   "id": "6b0a8fdd-f03d-44e0-be9e-a1a618b6aecd",
   "metadata": {},
   "outputs": [
    {
     "name": "stderr",
     "output_type": "stream",
     "text": [
      "0it [00:30, ?it/s]\n"
     ]
    },
    {
     "ename": "ServerSelectionTimeoutError",
     "evalue": "localhost:27855: [Errno 111] Connection refused, Timeout: 30s, Topology Description: <TopologyDescription id: 628fd1262d6752f6ae737b60, topology_type: Single, servers: [<ServerDescription ('localhost', 27855) server_type: Unknown, rtt: None, error=AutoReconnect('localhost:27855: [Errno 111] Connection refused')>]>",
     "output_type": "error",
     "traceback": [
      "\u001b[0;31m---------------------------------------------------------------------------\u001b[0m",
      "\u001b[0;31mServerSelectionTimeoutError\u001b[0m               Traceback (most recent call last)",
      "Input \u001b[0;32mIn [5]\u001b[0m, in \u001b[0;36m<cell line: 2>\u001b[0;34m()\u001b[0m\n\u001b[1;32m      1\u001b[0m hits \u001b[38;5;241m=\u001b[39m []\n\u001b[0;32m----> 2\u001b[0m \u001b[38;5;28;01mfor\u001b[39;00m hit \u001b[38;5;129;01min\u001b[39;00m tqdm(mongo\u001b[38;5;241m.\u001b[39mcollection\u001b[38;5;241m.\u001b[39mfind({\u001b[38;5;124m'\u001b[39m\u001b[38;5;124msubsets\u001b[39m\u001b[38;5;124m'\u001b[39m: {\u001b[38;5;124m'\u001b[39m\u001b[38;5;124m$in\u001b[39m\u001b[38;5;124m'\u001b[39m: [subset]}})):\n\u001b[1;32m      3\u001b[0m     hits\u001b[38;5;241m.\u001b[39mappend(MoleculeData\u001b[38;5;241m.\u001b[39mparse_obj(hit))\n",
      "File \u001b[0;32m~/miniconda3/envs/edw/lib/python3.8/site-packages/tqdm/std.py:1195\u001b[0m, in \u001b[0;36mtqdm.__iter__\u001b[0;34m(self)\u001b[0m\n\u001b[1;32m   1192\u001b[0m time \u001b[38;5;241m=\u001b[39m \u001b[38;5;28mself\u001b[39m\u001b[38;5;241m.\u001b[39m_time\n\u001b[1;32m   1194\u001b[0m \u001b[38;5;28;01mtry\u001b[39;00m:\n\u001b[0;32m-> 1195\u001b[0m     \u001b[38;5;28;01mfor\u001b[39;00m obj \u001b[38;5;129;01min\u001b[39;00m iterable:\n\u001b[1;32m   1196\u001b[0m         \u001b[38;5;28;01myield\u001b[39;00m obj\n\u001b[1;32m   1197\u001b[0m         \u001b[38;5;66;03m# Update and possibly print the progressbar.\u001b[39;00m\n\u001b[1;32m   1198\u001b[0m         \u001b[38;5;66;03m# Note: does not call self.update(1) for speed optimisation.\u001b[39;00m\n",
      "File \u001b[0;32m~/miniconda3/envs/edw/lib/python3.8/site-packages/pymongo/cursor.py:1207\u001b[0m, in \u001b[0;36mCursor.next\u001b[0;34m(self)\u001b[0m\n\u001b[1;32m   1205\u001b[0m \u001b[38;5;28;01mif\u001b[39;00m \u001b[38;5;28mself\u001b[39m\u001b[38;5;241m.\u001b[39m__empty:\n\u001b[1;32m   1206\u001b[0m     \u001b[38;5;28;01mraise\u001b[39;00m \u001b[38;5;167;01mStopIteration\u001b[39;00m\n\u001b[0;32m-> 1207\u001b[0m \u001b[38;5;28;01mif\u001b[39;00m \u001b[38;5;28mlen\u001b[39m(\u001b[38;5;28mself\u001b[39m\u001b[38;5;241m.\u001b[39m__data) \u001b[38;5;129;01mor\u001b[39;00m \u001b[38;5;28;43mself\u001b[39;49m\u001b[38;5;241;43m.\u001b[39;49m\u001b[43m_refresh\u001b[49m\u001b[43m(\u001b[49m\u001b[43m)\u001b[49m:\n\u001b[1;32m   1208\u001b[0m     \u001b[38;5;28;01mif\u001b[39;00m \u001b[38;5;28mself\u001b[39m\u001b[38;5;241m.\u001b[39m__manipulate:\n\u001b[1;32m   1209\u001b[0m         _db \u001b[38;5;241m=\u001b[39m \u001b[38;5;28mself\u001b[39m\u001b[38;5;241m.\u001b[39m__collection\u001b[38;5;241m.\u001b[39mdatabase\n",
      "File \u001b[0;32m~/miniconda3/envs/edw/lib/python3.8/site-packages/pymongo/cursor.py:1100\u001b[0m, in \u001b[0;36mCursor._refresh\u001b[0;34m(self)\u001b[0m\n\u001b[1;32m   1097\u001b[0m     \u001b[38;5;28;01mreturn\u001b[39;00m \u001b[38;5;28mlen\u001b[39m(\u001b[38;5;28mself\u001b[39m\u001b[38;5;241m.\u001b[39m__data)\n\u001b[1;32m   1099\u001b[0m \u001b[38;5;28;01mif\u001b[39;00m \u001b[38;5;129;01mnot\u001b[39;00m \u001b[38;5;28mself\u001b[39m\u001b[38;5;241m.\u001b[39m__session:\n\u001b[0;32m-> 1100\u001b[0m     \u001b[38;5;28mself\u001b[39m\u001b[38;5;241m.\u001b[39m__session \u001b[38;5;241m=\u001b[39m \u001b[38;5;28;43mself\u001b[39;49m\u001b[38;5;241;43m.\u001b[39;49m\u001b[43m__collection\u001b[49m\u001b[38;5;241;43m.\u001b[39;49m\u001b[43mdatabase\u001b[49m\u001b[38;5;241;43m.\u001b[39;49m\u001b[43mclient\u001b[49m\u001b[38;5;241;43m.\u001b[39;49m\u001b[43m_ensure_session\u001b[49m\u001b[43m(\u001b[49m\u001b[43m)\u001b[49m\n\u001b[1;32m   1102\u001b[0m \u001b[38;5;28;01mif\u001b[39;00m \u001b[38;5;28mself\u001b[39m\u001b[38;5;241m.\u001b[39m__id \u001b[38;5;129;01mis\u001b[39;00m \u001b[38;5;28;01mNone\u001b[39;00m:  \u001b[38;5;66;03m# Query\u001b[39;00m\n\u001b[1;32m   1103\u001b[0m     \u001b[38;5;28;01mif\u001b[39;00m (\u001b[38;5;28mself\u001b[39m\u001b[38;5;241m.\u001b[39m__min \u001b[38;5;129;01mor\u001b[39;00m \u001b[38;5;28mself\u001b[39m\u001b[38;5;241m.\u001b[39m__max) \u001b[38;5;129;01mand\u001b[39;00m \u001b[38;5;129;01mnot\u001b[39;00m \u001b[38;5;28mself\u001b[39m\u001b[38;5;241m.\u001b[39m__hint:\n",
      "File \u001b[0;32m~/miniconda3/envs/edw/lib/python3.8/site-packages/pymongo/mongo_client.py:1816\u001b[0m, in \u001b[0;36mMongoClient._ensure_session\u001b[0;34m(self, session)\u001b[0m\n\u001b[1;32m   1811\u001b[0m     \u001b[38;5;28;01mreturn\u001b[39;00m session\n\u001b[1;32m   1813\u001b[0m \u001b[38;5;28;01mtry\u001b[39;00m:\n\u001b[1;32m   1814\u001b[0m     \u001b[38;5;66;03m# Don't make implicit sessions causally consistent. Applications\u001b[39;00m\n\u001b[1;32m   1815\u001b[0m     \u001b[38;5;66;03m# should always opt-in.\u001b[39;00m\n\u001b[0;32m-> 1816\u001b[0m     \u001b[38;5;28;01mreturn\u001b[39;00m \u001b[38;5;28;43mself\u001b[39;49m\u001b[38;5;241;43m.\u001b[39;49m\u001b[43m__start_session\u001b[49m\u001b[43m(\u001b[49m\u001b[38;5;28;43;01mTrue\u001b[39;49;00m\u001b[43m,\u001b[49m\u001b[43m \u001b[49m\u001b[43mcausal_consistency\u001b[49m\u001b[38;5;241;43m=\u001b[39;49m\u001b[38;5;28;43;01mFalse\u001b[39;49;00m\u001b[43m)\u001b[49m\n\u001b[1;32m   1817\u001b[0m \u001b[38;5;28;01mexcept\u001b[39;00m (ConfigurationError, InvalidOperation):\n\u001b[1;32m   1818\u001b[0m     \u001b[38;5;66;03m# Sessions not supported, or multiple users authenticated.\u001b[39;00m\n\u001b[1;32m   1819\u001b[0m     \u001b[38;5;28;01mreturn\u001b[39;00m \u001b[38;5;28;01mNone\u001b[39;00m\n",
      "File \u001b[0;32m~/miniconda3/envs/edw/lib/python3.8/site-packages/pymongo/mongo_client.py:1766\u001b[0m, in \u001b[0;36mMongoClient.__start_session\u001b[0;34m(self, implicit, **kwargs)\u001b[0m\n\u001b[1;32m   1762\u001b[0m     \u001b[38;5;28;01mraise\u001b[39;00m InvalidOperation(\u001b[38;5;124m\"\u001b[39m\u001b[38;5;124mCannot call start_session when\u001b[39m\u001b[38;5;124m\"\u001b[39m\n\u001b[1;32m   1763\u001b[0m                            \u001b[38;5;124m\"\u001b[39m\u001b[38;5;124m multiple users are authenticated\u001b[39m\u001b[38;5;124m\"\u001b[39m)\n\u001b[1;32m   1765\u001b[0m \u001b[38;5;66;03m# Raises ConfigurationError if sessions are not supported.\u001b[39;00m\n\u001b[0;32m-> 1766\u001b[0m server_session \u001b[38;5;241m=\u001b[39m \u001b[38;5;28;43mself\u001b[39;49m\u001b[38;5;241;43m.\u001b[39;49m\u001b[43m_get_server_session\u001b[49m\u001b[43m(\u001b[49m\u001b[43m)\u001b[49m\n\u001b[1;32m   1767\u001b[0m opts \u001b[38;5;241m=\u001b[39m client_session\u001b[38;5;241m.\u001b[39mSessionOptions(\u001b[38;5;241m*\u001b[39m\u001b[38;5;241m*\u001b[39mkwargs)\n\u001b[1;32m   1768\u001b[0m \u001b[38;5;28;01mreturn\u001b[39;00m client_session\u001b[38;5;241m.\u001b[39mClientSession(\n\u001b[1;32m   1769\u001b[0m     \u001b[38;5;28mself\u001b[39m, server_session, opts, authset, implicit)\n",
      "File \u001b[0;32m~/miniconda3/envs/edw/lib/python3.8/site-packages/pymongo/mongo_client.py:1802\u001b[0m, in \u001b[0;36mMongoClient._get_server_session\u001b[0;34m(self)\u001b[0m\n\u001b[1;32m   1800\u001b[0m \u001b[38;5;28;01mdef\u001b[39;00m \u001b[38;5;21m_get_server_session\u001b[39m(\u001b[38;5;28mself\u001b[39m):\n\u001b[1;32m   1801\u001b[0m     \u001b[38;5;124;03m\"\"\"Internal: start or resume a _ServerSession.\"\"\"\u001b[39;00m\n\u001b[0;32m-> 1802\u001b[0m     \u001b[38;5;28;01mreturn\u001b[39;00m \u001b[38;5;28;43mself\u001b[39;49m\u001b[38;5;241;43m.\u001b[39;49m\u001b[43m_topology\u001b[49m\u001b[38;5;241;43m.\u001b[39;49m\u001b[43mget_server_session\u001b[49m\u001b[43m(\u001b[49m\u001b[43m)\u001b[49m\n",
      "File \u001b[0;32m~/miniconda3/envs/edw/lib/python3.8/site-packages/pymongo/topology.py:485\u001b[0m, in \u001b[0;36mTopology.get_server_session\u001b[0;34m(self)\u001b[0m\n\u001b[1;32m    483\u001b[0m \u001b[38;5;28;01mif\u001b[39;00m \u001b[38;5;28mself\u001b[39m\u001b[38;5;241m.\u001b[39m_description\u001b[38;5;241m.\u001b[39mtopology_type \u001b[38;5;241m==\u001b[39m TOPOLOGY_TYPE\u001b[38;5;241m.\u001b[39mSingle:\n\u001b[1;32m    484\u001b[0m     \u001b[38;5;28;01mif\u001b[39;00m \u001b[38;5;129;01mnot\u001b[39;00m \u001b[38;5;28mself\u001b[39m\u001b[38;5;241m.\u001b[39m_description\u001b[38;5;241m.\u001b[39mhas_known_servers:\n\u001b[0;32m--> 485\u001b[0m         \u001b[38;5;28;43mself\u001b[39;49m\u001b[38;5;241;43m.\u001b[39;49m\u001b[43m_select_servers_loop\u001b[49m\u001b[43m(\u001b[49m\n\u001b[1;32m    486\u001b[0m \u001b[43m            \u001b[49m\u001b[43many_server_selector\u001b[49m\u001b[43m,\u001b[49m\n\u001b[1;32m    487\u001b[0m \u001b[43m            \u001b[49m\u001b[38;5;28;43mself\u001b[39;49m\u001b[38;5;241;43m.\u001b[39;49m\u001b[43m_settings\u001b[49m\u001b[38;5;241;43m.\u001b[39;49m\u001b[43mserver_selection_timeout\u001b[49m\u001b[43m,\u001b[49m\n\u001b[1;32m    488\u001b[0m \u001b[43m            \u001b[49m\u001b[38;5;28;43;01mNone\u001b[39;49;00m\u001b[43m)\u001b[49m\n\u001b[1;32m    489\u001b[0m \u001b[38;5;28;01melif\u001b[39;00m \u001b[38;5;129;01mnot\u001b[39;00m \u001b[38;5;28mself\u001b[39m\u001b[38;5;241m.\u001b[39m_description\u001b[38;5;241m.\u001b[39mreadable_servers:\n\u001b[1;32m    490\u001b[0m     \u001b[38;5;28mself\u001b[39m\u001b[38;5;241m.\u001b[39m_select_servers_loop(\n\u001b[1;32m    491\u001b[0m         readable_server_selector,\n\u001b[1;32m    492\u001b[0m         \u001b[38;5;28mself\u001b[39m\u001b[38;5;241m.\u001b[39m_settings\u001b[38;5;241m.\u001b[39mserver_selection_timeout,\n\u001b[1;32m    493\u001b[0m         \u001b[38;5;28;01mNone\u001b[39;00m)\n",
      "File \u001b[0;32m~/miniconda3/envs/edw/lib/python3.8/site-packages/pymongo/topology.py:215\u001b[0m, in \u001b[0;36mTopology._select_servers_loop\u001b[0;34m(self, selector, timeout, address)\u001b[0m\n\u001b[1;32m    212\u001b[0m \u001b[38;5;28;01mwhile\u001b[39;00m \u001b[38;5;129;01mnot\u001b[39;00m server_descriptions:\n\u001b[1;32m    213\u001b[0m     \u001b[38;5;66;03m# No suitable servers.\u001b[39;00m\n\u001b[1;32m    214\u001b[0m     \u001b[38;5;28;01mif\u001b[39;00m timeout \u001b[38;5;241m==\u001b[39m \u001b[38;5;241m0\u001b[39m \u001b[38;5;129;01mor\u001b[39;00m now \u001b[38;5;241m>\u001b[39m end_time:\n\u001b[0;32m--> 215\u001b[0m         \u001b[38;5;28;01mraise\u001b[39;00m ServerSelectionTimeoutError(\n\u001b[1;32m    216\u001b[0m             \u001b[38;5;124m\"\u001b[39m\u001b[38;5;132;01m%s\u001b[39;00m\u001b[38;5;124m, Timeout: \u001b[39m\u001b[38;5;132;01m%s\u001b[39;00m\u001b[38;5;124ms, Topology Description: \u001b[39m\u001b[38;5;132;01m%r\u001b[39;00m\u001b[38;5;124m\"\u001b[39m \u001b[38;5;241m%\u001b[39m\n\u001b[1;32m    217\u001b[0m             (\u001b[38;5;28mself\u001b[39m\u001b[38;5;241m.\u001b[39m_error_message(selector), timeout, \u001b[38;5;28mself\u001b[39m\u001b[38;5;241m.\u001b[39mdescription))\n\u001b[1;32m    219\u001b[0m     \u001b[38;5;28mself\u001b[39m\u001b[38;5;241m.\u001b[39m_ensure_opened()\n\u001b[1;32m    220\u001b[0m     \u001b[38;5;28mself\u001b[39m\u001b[38;5;241m.\u001b[39m_request_check_all()\n",
      "\u001b[0;31mServerSelectionTimeoutError\u001b[0m: localhost:27855: [Errno 111] Connection refused, Timeout: 30s, Topology Description: <TopologyDescription id: 628fd1262d6752f6ae737b60, topology_type: Single, servers: [<ServerDescription ('localhost', 27855) server_type: Unknown, rtt: None, error=AutoReconnect('localhost:27855: [Errno 111] Connection refused')>]>"
     ]
    }
   ],
   "source": [
    "hits = []\n",
    "for hit in tqdm(mongo.collection.find({'subsets': {'$in': [subset]}})):\n",
    "    hits.append(MoleculeData.parse_obj(hit))"
   ]
  },
  {
   "cell_type": "code",
   "execution_count": null,
   "id": "c6bde65d-f0be-4b02-aa04-ba502bebec42",
   "metadata": {},
   "outputs": [],
   "source": [
    "results = []\n",
    "for hit in tqdm(hits):\n",
    "    # Get the basic information\n",
    "    result = {'smiles': hit.identifier['smiles'],\n",
    "              'inchi': hit.identifier['inchi'],\n",
    "              'record': hit,\n",
    "              'molwt': Descriptors.MolWt(hit.mol),\n",
    "              'charge': Chem.GetFormalCharge(hit.mol),\n",
    "             'n_atoms': hit.mol.GetNumHeavyAtoms()}\n",
    "    \n",
    "    # Store the reduction potentials\n",
    "    for label, data in zip(['ip', 'ea'], [hit.oxidation_potential, hit.reduction_potential]):\n",
    "        for level in levels:\n",
    "            result.update({f'{label}_' + level: data.get(level)})\n",
    "    \n",
    "    # Get the solvation\n",
    "    for label, key in solvation_energy.items():\n",
    "        try:\n",
    "            result[f'solv_eng_{label}'] = hit.get_data(key)\n",
    "        except KeyError:\n",
    "            continue\n",
    "    \n",
    "    results.append(result)\n",
    "results = pd.DataFrame(results)"
   ]
  },
  {
   "cell_type": "markdown",
   "id": "c1a4583c-d83d-4a08-926d-21ce788134bf",
   "metadata": {},
   "source": [
    "Get only the nuetral molecules, if desired"
   ]
  },
  {
   "cell_type": "code",
   "execution_count": null,
   "id": "6a4f9a63-6cd3-4d9e-b6db-0ca748359829",
   "metadata": {},
   "outputs": [],
   "source": [
    "if neutral:\n",
    "    results.query('charge == 0', inplace=True)"
   ]
  },
  {
   "cell_type": "markdown",
   "id": "bbd902a7-e3e2-4b9e-830a-7d8074623ae5",
   "metadata": {},
   "source": [
    "Write out a subset of the data frame to illustrate its content"
   ]
  },
  {
   "cell_type": "code",
   "execution_count": null,
   "id": "406d4e79-f228-42af-975d-1753c7656d8d",
   "metadata": {},
   "outputs": [],
   "source": [
    "results.sort_values('ip_nob-acn-smb-geom', ascending=False)[['smiles', 'molwt', 'ip_nob-acn-smb-geom', 'solv_eng_normal']]"
   ]
  },
  {
   "cell_type": "markdown",
   "id": "23b5b689-8b35-41c9-b036-25f533964aec",
   "metadata": {},
   "source": [
    "## Plot the Pareto Surface\n",
    "What about our tradeoff betweeen solvation energy and EA"
   ]
  },
  {
   "cell_type": "code",
   "execution_count": null,
   "id": "1a5bb583-4e63-4749-93f8-a011ce88b317",
   "metadata": {},
   "outputs": [],
   "source": [
    "def get_dominating_solutions(results, redox_key = 'ea_dfb-acn-smb-geom', solv_key = 'solv_eng_diffuse', mols_to_skip = ()): \n",
    "    \"\"\"Get the results with the best solvation energy for a certain redox potential\n",
    "    \n",
    "    Args:\n",
    "        results: Results array to process\n",
    "        redox_key: Name of the redox column\n",
    "        solv_key: Name fo the solvation column\n",
    "        mols_to_skip\n",
    "    Returns:\n",
    "        - Version of the results array with the pareto surface identified and distances from the surface collected\n",
    "    \"\"\"\n",
    "    \n",
    "    # Get a copy of the array\n",
    "    results = results.copy()\n",
    "    results = results[~results[[redox_key, solv_key]].isnull().any(axis=1)]\n",
    "    \n",
    "    # Remove all columns except those we are interested in\n",
    "    results = results[['inchi', 'smiles', 'molwt', 'charge', redox_key, solv_key]]\n",
    "    \n",
    "    # Get rid of molecules in the skip list\n",
    "    results = results[results.smiles.apply(lambda x: x not in mols_to_skip)]\n",
    "    \n",
    "    # Put a placeholder for whether something is on the surface\n",
    "    #  and by how much it is off\n",
    "    results['is_pareto'] = False\n",
    "    results['redox_dist'] = 0\n",
    "    results['solv_dist'] = 0\n",
    "\n",
    "    # Get the dominating solutions\n",
    "    pareto = []\n",
    "    output = results\n",
    "    results.sort_values(redox_key, inplace=True, ascending=redox_key.startswith('ea_'))\n",
    "    while len(results) > 0:\n",
    "        # Get the best value and remove it from the list\n",
    "        new_best = results.iloc[0]\n",
    "        \n",
    "        # Mark the best as pareto optimal\n",
    "        output.loc[results.index[0], 'is_pareto'] = True\n",
    "        \n",
    "        # Find all entries that also have a worse solvation\n",
    "        dominated = results[solv_key] > new_best[solv_key]\n",
    "        \n",
    "        # Store the \"dominated distance\" \n",
    "        output.loc[results.index, 'redox_dist'] = np.abs(results[redox_key] - new_best[redox_key])\n",
    "        output.loc[results.index, 'solv_dist'] = np.abs(new_best[solv_key] - results[solv_key])\n",
    "        \n",
    "        # Mark it as dominated\n",
    "        results = results[~dominated]\n",
    "        results = results.iloc[1:]\n",
    "        \n",
    "    # Sort by the distance to the dominating redox solution\n",
    "    output.sort_values(['redox_dist', 'solv_dist'], ascending=True, inplace=True)\n",
    "                          \n",
    "    return output\n",
    "pareto_front = get_dominating_solutions(results)"
   ]
  },
  {
   "cell_type": "code",
   "execution_count": null,
   "id": "47803e73-7d96-40ec-91b2-e050edae816f",
   "metadata": {},
   "outputs": [],
   "source": [
    "ea_results = get_dominating_solutions(results)"
   ]
  },
  {
   "cell_type": "code",
   "execution_count": null,
   "id": "c3456e41-c987-4476-b355-52dd63b33e75",
   "metadata": {},
   "outputs": [],
   "source": [
    "ea_results"
   ]
  },
  {
   "cell_type": "code",
   "execution_count": null,
   "id": "8365f48e-c3b5-4bb6-b935-a37bd56a53a5",
   "metadata": {},
   "outputs": [],
   "source": [
    "fig, ax = plt.subplots(figsize=(3.5, 2.5))\n",
    "\n",
    "pareto_front = ea_results.query('is_pareto')\n",
    "ax.scatter(ea_results['ea_dfb-acn-smb-geom'], ea_results['solv_eng_diffuse'])\n",
    "ax.scatter(pareto_front['ea_dfb-acn-smb-geom'], pareto_front['solv_eng_diffuse'], s=35, marker='s', color='crimson')\n",
    "ax.step(pareto_front['ea_dfb-acn-smb-geom'], pareto_front['solv_eng_diffuse'], 'k--', where='post')\n",
    "\n",
    "ax.set_xlabel('EA (V)')\n",
    "ax.set_ylabel('$G_{solv}$ (kcal/mol)')\n",
    "\n",
    "fig.tight_layout()\n",
    "fig.savefig('pthalimide-pareto.png', dpi=320)"
   ]
  },
  {
   "cell_type": "code",
   "execution_count": null,
   "id": "f28e3571-0466-44dd-8ac8-b47c73c46ac8",
   "metadata": {},
   "outputs": [],
   "source": [
    "pareto_front"
   ]
  },
  {
   "cell_type": "code",
   "execution_count": null,
   "id": "685ee609-8570-4bd3-999d-251389aca565",
   "metadata": {},
   "outputs": [],
   "source": [
    "ip_results = get_dominating_solutions(results, 'ip_nob-acn-smb-geom', 'solv_eng_normal')#, mols_to_skip=('F[N+](F)(F)F', 'N#Cc1oncc1C=O'))"
   ]
  },
  {
   "cell_type": "code",
   "execution_count": null,
   "id": "e2e23304-c800-4997-8c17-37217451dd7d",
   "metadata": {},
   "outputs": [],
   "source": [
    "ip_results"
   ]
  },
  {
   "cell_type": "code",
   "execution_count": null,
   "id": "07550029-66ed-4380-b41d-4eb27f19913b",
   "metadata": {},
   "outputs": [],
   "source": [
    "fig, ax = plt.subplots(figsize=(3.5, 2.5))\n",
    "\n",
    "pareto_front = ip_results.query('is_pareto')\n",
    "ax.scatter(ip_results['ip_nob-acn-smb-geom'], ip_results['solv_eng_normal'])\n",
    "ax.scatter(pareto_front['ip_nob-acn-smb-geom'], pareto_front['solv_eng_normal'], s=35, marker='s', color='crimson')\n",
    "ax.step(pareto_front['ip_nob-acn-smb-geom'], pareto_front['solv_eng_normal'], 'k--', where='post')\n",
    "\n",
    "ax.set_xlabel('IP (V)')\n",
    "ax.set_ylabel('$G_{solv}$ (kcal/mol)')\n",
    "\n",
    "fig.tight_layout()"
   ]
  },
  {
   "cell_type": "code",
   "execution_count": null,
   "id": "b2acb981-2188-4a5e-9cb1-5c1348aca9fd",
   "metadata": {},
   "outputs": [],
   "source": [
    "pareto_front"
   ]
  },
  {
   "cell_type": "markdown",
   "id": "f74138fa-1c24-47d3-8242-b266115ef9f5",
   "metadata": {},
   "source": [
    "## Save them to disk\n",
    "Let's make a memorable filename and dump accordingly"
   ]
  },
  {
   "cell_type": "code",
   "execution_count": null,
   "id": "1ace67b3-1e78-4840-b650-81bd1dbd7aca",
   "metadata": {},
   "outputs": [],
   "source": [
    "filename = datetime.now().strftime('%y%m%d')  # Start with the date"
   ]
  },
  {
   "cell_type": "code",
   "execution_count": null,
   "id": "aee5d670-2510-40c0-9ba3-94d166c6787b",
   "metadata": {},
   "outputs": [],
   "source": [
    "if neutral:   # Mark whether we only output the neutrals\n",
    "    filename += \"-neutral_only\""
   ]
  },
  {
   "cell_type": "code",
   "execution_count": null,
   "id": "481091f0-c9d1-4087-a816-00202587aaa1",
   "metadata": {},
   "outputs": [],
   "source": [
    "if subset:\n",
    "    filename += f'-subset_{subset}'"
   ]
  },
  {
   "cell_type": "code",
   "execution_count": null,
   "id": "43892d8e-90af-444c-b1a8-39500956a351",
   "metadata": {},
   "outputs": [],
   "source": [
    "print(f'Filename postfix: {filename}')"
   ]
  },
  {
   "cell_type": "markdown",
   "id": "eb9019cb-4e6f-494b-ad2a-b535dba63bae",
   "metadata": {},
   "source": [
    "Save the data to a collection folder"
   ]
  },
  {
   "cell_type": "code",
   "execution_count": null,
   "id": "5147e1ff-7871-42d5-a713-3ef14dc932d3",
   "metadata": {},
   "outputs": [],
   "source": [
    "output_folder = Path('results')\n",
    "output_folder.mkdir(exist_ok=True)"
   ]
  },
  {
   "cell_type": "code",
   "execution_count": null,
   "id": "97b543f4-dba2-4226-91c4-1cd88697e19d",
   "metadata": {},
   "outputs": [],
   "source": [
    "ea_results.to_csv(output_folder / f'anolytes-{filename}.csv', index=False)"
   ]
  },
  {
   "cell_type": "code",
   "execution_count": null,
   "id": "d04c61b8-b43f-4685-91b0-85329fc52ff9",
   "metadata": {},
   "outputs": [],
   "source": [
    "ip_results.to_csv(output_folder / f'catholytes-{filename}.csv', index=False)"
   ]
  },
  {
   "cell_type": "markdown",
   "id": "7e11ccad-e330-4dbb-8ff2-c216b1e942c2",
   "metadata": {},
   "source": [
    "## Make a tabular form\n",
    "Render the data into HTML"
   ]
  },
  {
   "cell_type": "code",
   "execution_count": null,
   "id": "54736e66-c4f2-4e73-978c-e8d48da72732",
   "metadata": {},
   "outputs": [],
   "source": [
    "results."
   ]
  }
 ],
 "metadata": {
  "kernelspec": {
   "display_name": "Python 3 (ipykernel)",
   "language": "python",
   "name": "python3"
  },
  "language_info": {
   "codemirror_mode": {
    "name": "ipython",
    "version": 3
   },
   "file_extension": ".py",
   "mimetype": "text/x-python",
   "name": "python",
   "nbconvert_exporter": "python",
   "pygments_lexer": "ipython3",
   "version": "3.8.13"
  }
 },
 "nbformat": 4,
 "nbformat_minor": 5
}
