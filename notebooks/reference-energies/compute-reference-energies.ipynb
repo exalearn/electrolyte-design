{
 "cells": [
  {
   "cell_type": "markdown",
   "metadata": {},
   "source": [
    "# Compute Reference Energies\n",
    "Compute and save the reference energies for each specification"
   ]
  },
  {
   "cell_type": "code",
   "execution_count": 1,
   "metadata": {},
   "outputs": [
    {
     "name": "stderr",
     "output_type": "stream",
     "text": [
      "RDKit WARNING: [10:18:30] Enabling RDKit 2019.09.3 jupyter extensions\n"
     ]
    }
   ],
   "source": [
    "from moldesign.simulate.functions import compute_reference_energy\n",
    "from moldesign.simulate.specs import get_qcinput_specification\n",
    "from qcelemental.models.procedures import QCInputSpecification\n",
    "from qcengine.exceptions import InputError"
   ]
  },
  {
   "cell_type": "markdown",
   "metadata": {},
   "source": [
    "Configuration data"
   ]
  },
  {
   "cell_type": "code",
   "execution_count": 2,
   "metadata": {},
   "outputs": [],
   "source": [
    "specs = ['xtb', 'small_basis', 'normal_basis']"
   ]
  },
  {
   "cell_type": "code",
   "execution_count": 5,
   "metadata": {},
   "outputs": [],
   "source": [
    "multiplicity = {'H': 2, 'He': 1, 'Li': 2, 'C': 3, 'N': 4, 'O': 3, 'F': 2, 'Si': 3, 'P': 4, 'S': 3, 'Cl': 2, 'Br': 2, 'I': 2}"
   ]
  },
  {
   "cell_type": "markdown",
   "metadata": {},
   "source": [
    "## Get all of the reference energies\n",
    "Loop over spec and each element"
   ]
  },
  {
   "cell_type": "code",
   "execution_count": 6,
   "metadata": {},
   "outputs": [
    {
     "name": "stdout",
     "output_type": "stream",
     "text": [
      "building CURRENT CORRELATION ENERGY ........................SUCCESS\n",
      "building CURRENT CORRELATION ENERGY ........................SUCCESS\n",
      "building CURRENT CORRELATION ENERGY ........................SUCCESS\n",
      "building CURRENT CORRELATION ENERGY ........................SUCCESS\n",
      "building CURRENT CORRELATION ENERGY ........................SUCCESS\n",
      "building CURRENT CORRELATION ENERGY ........................SUCCESS\n",
      "building CURRENT CORRELATION ENERGY ........................SUCCESS\n",
      "building CURRENT CORRELATION ENERGY ........................SUCCESS\n",
      "building CURRENT CORRELATION ENERGY ........................SUCCESS\n",
      "building CURRENT CORRELATION ENERGY ........................SUCCESS\n",
      "building CURRENT CORRELATION ENERGY ........................SUCCESS\n",
      "building CURRENT CORRELATION ENERGY ........................SUCCESS\n",
      "building CURRENT CORRELATION ENERGY ........................SUCCESS\n",
      "building CURRENT CORRELATION ENERGY ........................SUCCESS\n",
      "building CURRENT CORRELATION ENERGY ........................SUCCESS\n",
      "building CURRENT CORRELATION ENERGY ........................SUCCESS\n",
      "building CURRENT CORRELATION ENERGY ........................SUCCESS\n",
      "building CURRENT CORRELATION ENERGY ........................SUCCESS\n",
      "building CURRENT CORRELATION ENERGY ........................SUCCESS\n",
      "building CURRENT CORRELATION ENERGY ........................SUCCESS\n",
      "building CURRENT CORRELATION ENERGY ........................SUCCESS\n",
      "building CURRENT CORRELATION ENERGY ........................SUCCESS\n",
      "building CURRENT CORRELATION ENERGY ........................SUCCESS\n",
      "building CURRENT CORRELATION ENERGY ........................SUCCESS\n"
     ]
    }
   ],
   "source": [
    "ref_energies = {}\n",
    "for spec_name in specs:\n",
    "    # Make the specification\n",
    "    spec, program = get_qcinput_specification(spec_name)\n",
    "    \n",
    "    # Get the reference energy for each element\n",
    "    ref_energies[spec_name] = {}\n",
    "    for elem, n_open in multiplicity.items():\n",
    "        try:\n",
    "            ref_energies[spec_name][elem] = compute_reference_energy(elem, spec, n_open, program)\n",
    "        except InputError:\n",
    "            continue"
   ]
  },
  {
   "cell_type": "code",
   "execution_count": 7,
   "metadata": {},
   "outputs": [
    {
     "data": {
      "text/plain": [
       "{'xtb': {'H': -0.3934827639359724,\n",
       "  'He': -1.743126632945867,\n",
       "  'Li': -0.18007168657517492,\n",
       "  'C': -1.7932963713649235,\n",
       "  'N': -2.6058241612788278,\n",
       "  'O': -3.767606950375682,\n",
       "  'F': -4.619339964237827,\n",
       "  'Si': -1.569609938455468,\n",
       "  'P': -2.3741787947323725,\n",
       "  'S': -3.146456870402072,\n",
       "  'Cl': -4.4825251349610635,\n",
       "  'Br': -4.048339371234208,\n",
       "  'I': -3.7796302633896515},\n",
       " 'small_basis': {'H': -0.497311388804,\n",
       "  'He': -2.886001303629,\n",
       "  'Li': -7.438943611544,\n",
       "  'C': -37.64269644992,\n",
       "  'N': -54.295462727225,\n",
       "  'O': -74.660293277123,\n",
       "  'F': -99.182166194876,\n",
       "  'Si': -287.866879627857,\n",
       "  'P': -339.548419942544,\n",
       "  'S': -396.162245759273,\n",
       "  'Cl': -457.945732528969,\n",
       "  'Br': -2561.754609523183,\n",
       "  'I': -6889.992449675247},\n",
       " 'normal_basis': {'H': -0.500272782422,\n",
       "  'He': -2.9070481031,\n",
       "  'Li': -7.490902306945,\n",
       "  'C': -37.844958497185,\n",
       "  'N': -54.582875607216,\n",
       "  'O': -75.060582294288,\n",
       "  'F': -99.715958130901,\n",
       "  'Si': -289.370112438377,\n",
       "  'P': -341.255344529106,\n",
       "  'S': -398.103353899211,\n",
       "  'Cl': -460.134289124795}}"
      ]
     },
     "execution_count": 7,
     "metadata": {},
     "output_type": "execute_result"
    }
   ],
   "source": [
    "ref_energies"
   ]
  },
  {
   "cell_type": "code",
   "execution_count": null,
   "metadata": {},
   "outputs": [],
   "source": []
  }
 ],
 "metadata": {
  "kernelspec": {
   "display_name": "Python 3",
   "language": "python",
   "name": "python3"
  },
  "language_info": {
   "codemirror_mode": {
    "name": "ipython",
    "version": 3
   },
   "file_extension": ".py",
   "mimetype": "text/x-python",
   "name": "python",
   "nbconvert_exporter": "python",
   "pygments_lexer": "ipython3",
   "version": "3.7.9"
  }
 },
 "nbformat": 4,
 "nbformat_minor": 4
}
