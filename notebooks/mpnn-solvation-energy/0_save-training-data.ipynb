{
 "cells": [
  {
   "cell_type": "markdown",
   "metadata": {},
   "source": [
    "# Prepare Input Data\n",
    "We are going to train an MPNN to predict the B3LYP-level atomization energy."
   ]
  },
  {
   "cell_type": "code",
   "execution_count": 1,
   "metadata": {
    "execution": {
     "iopub.execute_input": "2020-11-24T20:22:57.952773Z",
     "iopub.status.busy": "2020-11-24T20:22:57.952205Z",
     "iopub.status.idle": "2020-11-24T20:22:59.627704Z",
     "shell.execute_reply": "2020-11-24T20:22:59.628659Z"
    }
   },
   "outputs": [
    {
     "name": "stderr",
     "output_type": "stream",
     "text": [
      "RDKit WARNING: [14:22:59] Enabling RDKit 2019.09.3 jupyter extensions\n"
     ]
    }
   ],
   "source": [
    "%matplotlib inline\n",
    "from matplotlib import pyplot as plt\n",
    "from moldesign.score.mpnn.data import convert_nx_to_dict, make_type_lookup_tables, make_tfrecord\n",
    "from moldesign.utils.conversions import convert_smiles_to_nx\n",
    "from sklearn.model_selection import train_test_split\n",
    "from tqdm import tqdm\n",
    "import tensorflow as tf\n",
    "import pandas as pd\n",
    "import numpy as np\n",
    "import json"
   ]
  },
  {
   "cell_type": "markdown",
   "metadata": {},
   "source": [
    "## Get the Data\n",
    "It is stored on a [GitHub page](https://github.com/globus-labs/g4mp2-atomization-energy) from a previous project"
   ]
  },
  {
   "cell_type": "code",
   "execution_count": 2,
   "metadata": {
    "execution": {
     "iopub.execute_input": "2020-11-24T20:22:59.633841Z",
     "iopub.status.busy": "2020-11-24T20:22:59.632934Z",
     "iopub.status.idle": "2020-11-24T20:23:05.853947Z",
     "shell.execute_reply": "2020-11-24T20:23:05.854572Z"
    }
   },
   "outputs": [
    {
     "name": "stdout",
     "output_type": "stream",
     "text": [
      "Downloaded 130258 training entries\n"
     ]
    }
   ],
   "source": [
    "data = pd.read_json('g4mp2_data.json.gz', lines=True)\n",
    "print(f'Downloaded {len(data)} training entries')"
   ]
  },
  {
   "cell_type": "markdown",
   "metadata": {},
   "source": [
    "Convert the SMILES to a networkx object"
   ]
  },
  {
   "cell_type": "code",
   "execution_count": 3,
   "metadata": {
    "execution": {
     "iopub.execute_input": "2020-11-24T20:23:05.861685Z",
     "iopub.status.busy": "2020-11-24T20:23:05.859183Z",
     "iopub.status.idle": "2020-11-24T20:23:46.267202Z",
     "shell.execute_reply": "2020-11-24T20:23:46.266181Z"
    }
   },
   "outputs": [
    {
     "name": "stdout",
     "output_type": "stream",
     "text": [
      "CPU times: user 39.3 s, sys: 1.07 s, total: 40.4 s\n",
      "Wall time: 40.4 s\n"
     ]
    }
   ],
   "source": [
    "%%time\n",
    "data['nx'] = data['smiles_0'].apply(lambda x: convert_smiles_to_nx(x, add_hs=True))"
   ]
  },
  {
   "cell_type": "markdown",
   "metadata": {},
   "source": [
    "## Save the Data as TF Records\n",
    "We'll make both a training, validation and test set"
   ]
  },
  {
   "cell_type": "code",
   "execution_count": 4,
   "metadata": {
    "execution": {
     "iopub.execute_input": "2020-11-24T20:23:46.272012Z",
     "iopub.status.busy": "2020-11-24T20:23:46.271058Z",
     "iopub.status.idle": "2020-11-24T20:23:46.379915Z",
     "shell.execute_reply": "2020-11-24T20:23:46.378979Z"
    }
   },
   "outputs": [
    {
     "name": "stdout",
     "output_type": "stream",
     "text": [
      "Set aside 13026 training entries\n"
     ]
    }
   ],
   "source": [
    "test_set = data.query('in_holdout')\n",
    "print(f'Set aside {len(test_set)} training entries')"
   ]
  },
  {
   "cell_type": "code",
   "execution_count": 5,
   "metadata": {
    "execution": {
     "iopub.execute_input": "2020-11-24T20:23:46.384676Z",
     "iopub.status.busy": "2020-11-24T20:23:46.383778Z",
     "iopub.status.idle": "2020-11-24T20:23:46.523036Z",
     "shell.execute_reply": "2020-11-24T20:23:46.522099Z"
    }
   },
   "outputs": [
    {
     "name": "stdout",
     "output_type": "stream",
     "text": [
      "Split off 105508 training and 11724 validation entries\n"
     ]
    }
   ],
   "source": [
    "train_set, val_set = train_test_split(data.query('not in_holdout'), test_size=0.1, random_state=1)\n",
    "print(f'Split off {len(train_set)} training and {len(val_set)} validation entries')"
   ]
  },
  {
   "cell_type": "markdown",
   "metadata": {},
   "source": [
    "Get all of the types observed in the dataset"
   ]
  },
  {
   "cell_type": "code",
   "execution_count": 6,
   "metadata": {
    "execution": {
     "iopub.execute_input": "2020-11-24T20:23:46.582777Z",
     "iopub.status.busy": "2020-11-24T20:23:46.562165Z",
     "iopub.status.idle": "2020-11-24T20:23:48.782919Z",
     "shell.execute_reply": "2020-11-24T20:23:48.782072Z"
    }
   },
   "outputs": [
    {
     "name": "stdout",
     "output_type": "stream",
     "text": [
      "CPU times: user 2.21 s, sys: 43.8 ms, total: 2.25 s\n",
      "Wall time: 2.25 s\n"
     ]
    }
   ],
   "source": [
    "%%time\n",
    "atom_types, bond_types = make_type_lookup_tables(data['nx'])"
   ]
  },
  {
   "cell_type": "code",
   "execution_count": 7,
   "metadata": {
    "execution": {
     "iopub.execute_input": "2020-11-24T20:23:48.787599Z",
     "iopub.status.busy": "2020-11-24T20:23:48.786801Z",
     "iopub.status.idle": "2020-11-24T20:23:48.790427Z",
     "shell.execute_reply": "2020-11-24T20:23:48.789562Z"
    }
   },
   "outputs": [],
   "source": [
    "with open('atom_types.json', 'w') as fp:\n",
    "    json.dump(atom_types, fp)\n",
    "with open('bond_types.json', 'w') as fp:\n",
    "    json.dump(bond_types, fp)"
   ]
  },
  {
   "cell_type": "markdown",
   "metadata": {},
   "source": [
    "List out the solvation energy columns"
   ]
  },
  {
   "cell_type": "code",
   "execution_count": 8,
   "metadata": {
    "execution": {
     "iopub.execute_input": "2020-11-24T20:23:48.795507Z",
     "iopub.status.busy": "2020-11-24T20:23:48.795018Z",
     "iopub.status.idle": "2020-11-24T20:23:48.798064Z",
     "shell.execute_reply": "2020-11-24T20:23:48.798449Z"
    }
   },
   "outputs": [
    {
     "name": "stdout",
     "output_type": "stream",
     "text": [
      "Found 5 columns: ['sol_acetone', 'sol_acn', 'sol_dmso', 'sol_ethanol', 'sol_water']\n"
     ]
    }
   ],
   "source": [
    "sol_cols = sorted([s for s in data.columns if s.startswith('sol_')])\n",
    "print(f'Found {len(sol_cols)} columns: {sol_cols}')"
   ]
  },
  {
   "cell_type": "markdown",
   "metadata": {},
   "source": [
    "Save their dielectric constants"
   ]
  },
  {
   "cell_type": "code",
   "execution_count": 9,
   "metadata": {
    "execution": {
     "iopub.execute_input": "2020-11-24T20:23:48.803367Z",
     "iopub.status.busy": "2020-11-24T20:23:48.802863Z",
     "iopub.status.idle": "2020-11-24T20:23:48.805788Z",
     "shell.execute_reply": "2020-11-24T20:23:48.805223Z"
    }
   },
   "outputs": [],
   "source": [
    "assert sol_cols == ['sol_acetone', 'sol_acn', 'sol_dmso', 'sol_ethanol', 'sol_water']\n",
    "with open('dielectric_constants.json', 'w') as fp:\n",
    "    json.dump({'solvents': sol_cols, 'e': [20.493, 35.688, 46.826, 20.493, 78.3553]}, fp)"
   ]
  },
  {
   "cell_type": "markdown",
   "metadata": {},
   "source": [
    "Save the data in TF format"
   ]
  },
  {
   "cell_type": "code",
   "execution_count": 10,
   "metadata": {
    "execution": {
     "iopub.execute_input": "2020-11-24T20:23:48.812140Z",
     "iopub.status.busy": "2020-11-24T20:23:48.811493Z",
     "iopub.status.idle": "2020-11-24T20:25:23.993999Z",
     "shell.execute_reply": "2020-11-24T20:25:23.995008Z"
    }
   },
   "outputs": [
    {
     "name": "stderr",
     "output_type": "stream",
     "text": [
      "train: 105508it [01:11, 1475.34it/s]\n",
      "valid: 11724it [00:07, 1482.36it/s]\n",
      "test: 13026it [00:08, 1501.90it/s]\n"
     ]
    }
   ],
   "source": [
    "for name, dataset in zip(['train', 'valid', 'test'], [train_set, val_set, test_set]):\n",
    "    dataset = dataset.sample(frac=1.)  # Shuffle contents\n",
    "    with tf.io.TFRecordWriter(f'{name}_data.proto') as writer:\n",
    "        for _, entry in tqdm(dataset.iterrows(), desc=name):\n",
    "            record = convert_nx_to_dict(entry['nx'], atom_types, bond_types)\n",
    "            record['solv_energies'] = np.array(entry[sol_cols].values, dtype=np.float32)\n",
    "            writer.write(make_tfrecord(record))\n",
    "    dataset.to_csv(f'{name}_data.csv', index=False)"
   ]
  },
  {
   "cell_type": "code",
   "execution_count": null,
   "metadata": {},
   "outputs": [],
   "source": []
  }
 ],
 "metadata": {
  "kernelspec": {
   "display_name": "Python 3",
   "language": "python",
   "name": "python3"
  },
  "language_info": {
   "codemirror_mode": {
    "name": "ipython",
    "version": 3
   },
   "file_extension": ".py",
   "mimetype": "text/x-python",
   "name": "python",
   "nbconvert_exporter": "python",
   "pygments_lexer": "ipython3",
   "version": "3.7.9"
  }
 },
 "nbformat": 4,
 "nbformat_minor": 4
}
