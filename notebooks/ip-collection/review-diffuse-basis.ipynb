{
 "cells": [
  {
   "cell_type": "markdown",
   "metadata": {},
   "source": [
    "# Compute IP/EA with NWChem USING Diffuse Basis Functions\n",
    "Check on how the calculations are doing. What the run times are, what fractions have completed, etc."
   ]
  },
  {
   "cell_type": "code",
   "execution_count": 1,
   "metadata": {},
   "outputs": [
    {
     "name": "stderr",
     "output_type": "stream",
     "text": [
      "RDKit WARNING: [14:23:30] Enabling RDKit 2019.09.3 jupyter extensions\n"
     ]
    }
   ],
   "source": [
    "%matplotlib inline\n",
    "from matplotlib import pyplot as plt\n",
    "from moldesign.simulate.qcfractal import GeometryDataset, SolvationEnergyDataset, HessianDataset, SinglePointDataset, collect_molecular_properties\n",
    "import pandas as pd\n",
    "import numpy as np"
   ]
  },
  {
   "cell_type": "code",
   "execution_count": 2,
   "metadata": {},
   "outputs": [],
   "source": [
    "import os\n",
    "qca_pwd = 'bTYl1h3cVYY_nQ2tGl3cuEWWnVNmL9WPoH9HF9_3-bQ'\n",
    "os.environ['QCAUSR'] = qca_pwd"
   ]
  },
  {
   "cell_type": "markdown",
   "metadata": {},
   "source": [
    "## Review Vertical Energies\n",
    "Starting with the XTB geometry"
   ]
  },
  {
   "cell_type": "code",
   "execution_count": 3,
   "metadata": {},
   "outputs": [],
   "source": [
    "xtb_vert = SinglePointDataset('Electrolyte XTB Neutral Geometry, Diffuse-Basis Energy', 'nwchem', 'diffuse_basis')"
   ]
  },
  {
   "cell_type": "markdown",
   "metadata": {},
   "source": [
    "Pull down a summary"
   ]
  },
  {
   "cell_type": "code",
   "execution_count": 4,
   "metadata": {},
   "outputs": [
    {
     "name": "stdout",
     "output_type": "stream",
     "text": [
      "Completed 2299 single point energy computations\n"
     ]
    }
   ],
   "source": [
    "records = xtb_vert.get_complete_records()\n",
    "runtimes = records.apply(lambda x: x.provenance.wall_time)\n",
    "print(f'Completed {len(records)} single point energy computations')"
   ]
  },
  {
   "cell_type": "code",
   "execution_count": 5,
   "metadata": {},
   "outputs": [
    {
     "data": {
      "text/plain": [
       "count    2299.000000\n",
       "mean       23.782010\n",
       "std        67.979145\n",
       "min         0.168992\n",
       "25%         0.935198\n",
       "50%         2.240231\n",
       "75%        10.811301\n",
       "max       999.717006\n",
       "Name: record, dtype: float64"
      ]
     },
     "execution_count": 5,
     "metadata": {},
     "output_type": "execute_result"
    }
   ],
   "source": [
    "(runtimes / 60).describe()"
   ]
  },
  {
   "cell_type": "code",
   "execution_count": 6,
   "metadata": {},
   "outputs": [
    {
     "data": {
      "image/png": "[encoded data removed]",
      "text/plain": [
       "<Figure size 252x180 with 1 Axes>"
      ]
     },
     "metadata": {
      "needs_background": "light"
     },
     "output_type": "display_data"
    }
   ],
   "source": [
    "fig, ax = plt.subplots(figsize=(3.5, 2.5))\n",
    "\n",
    "min_ = np.log10(runtimes.min())\n",
    "max_ = np.log10(runtimes.max())\n",
    "ax.hist(runtimes, bins=np.logspace(min_ - 0.2, max_ + 0.2, 16))\n",
    "\n",
    "ax.set_xscale('log')\n",
    "ax.set_xlabel('Runtime (s)')\n",
    "ax.set_ylabel('Frequency')\n",
    "\n",
    "fig.tight_layout()"
   ]
  },
  {
   "cell_type": "markdown",
   "metadata": {},
   "source": [
    "## Compute the redox properties\n",
    "Save them to disk for later user"
   ]
  },
  {
   "cell_type": "markdown",
   "metadata": {},
   "source": [
    "## Vertical IPs\n",
    "Fastest approximation, especially when we start with the XTB geometry"
   ]
  },
  {
   "cell_type": "code",
   "execution_count": 7,
   "metadata": {},
   "outputs": [
    {
     "name": "stderr",
     "output_type": "stream",
     "text": [
      "RDKit WARNING: [14:24:01] Cannot assign bond directions!\n"
     ]
    },
    {
     "name": "stdout",
     "output_type": "stream",
     "text": [
      "Calculations completed for 760 molecules\n"
     ]
    }
   ],
   "source": [
    "redox_data = collect_molecular_properties(xtb_vert, None)\n",
    "print(f'Calculations completed for {len(redox_data)} molecules')"
   ]
  },
  {
   "cell_type": "code",
   "execution_count": 8,
   "metadata": {},
   "outputs": [],
   "source": [
    "redox_data.to_csv('datasets/diffuse-basis_vertical-xtb_redox.csv', index=False)"
   ]
  },
  {
   "cell_type": "code",
   "execution_count": null,
   "metadata": {},
   "outputs": [],
   "source": []
  }
 ],
 "metadata": {
  "kernelspec": {
   "display_name": "edw",
   "language": "python",
   "name": "edw"
  },
  "language_info": {
   "codemirror_mode": {
    "name": "ipython",
    "version": 3
   },
   "file_extension": ".py",
   "mimetype": "text/x-python",
   "name": "python",
   "nbconvert_exporter": "python",
   "pygments_lexer": "ipython3",
   "version": "3.7.9"
  }
 },
 "nbformat": 4,
 "nbformat_minor": 4
}
