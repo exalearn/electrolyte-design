{
 "cells": [
  {
   "cell_type": "markdown",
   "metadata": {},
   "source": [
    "# Compute IP/EA with NWChem\n",
    "Check on how the calculations are doing. What the run times are, what fractions have completed, etc."
   ]
  },
  {
   "cell_type": "code",
   "execution_count": 1,
   "metadata": {
    "execution": {
     "iopub.execute_input": "2020-11-17T14:27:49.202673Z",
     "iopub.status.busy": "2020-11-17T14:27:49.202076Z",
     "iopub.status.idle": "2020-11-17T14:27:54.073811Z",
     "shell.execute_reply": "2020-11-17T14:27:54.073077Z"
    }
   },
   "outputs": [
    {
     "name": "stderr",
     "output_type": "stream",
     "text": [
      "RDKit WARNING: [14:27:52] Enabling RDKit 2019.09.3 jupyter extensions\n"
     ]
    }
   ],
   "source": [
    "%matplotlib inline\n",
    "from matplotlib import pyplot as plt\n",
    "from moldesign.simulate.qcfractal import GeometryDataset, SolvationEnergyDataset, HessianDataset, collect_molecular_properties\n",
    "import pandas as pd\n",
    "import numpy as np"
   ]
  },
  {
   "cell_type": "markdown",
   "metadata": {},
   "source": [
    "## Get the Geometries\n",
    "Gather the XTB geometries"
   ]
  },
  {
   "cell_type": "code",
   "execution_count": 2,
   "metadata": {
    "execution": {
     "iopub.execute_input": "2020-11-17T14:27:54.079539Z",
     "iopub.status.busy": "2020-11-17T14:27:54.078944Z",
     "iopub.status.idle": "2020-11-17T14:27:54.574017Z",
     "shell.execute_reply": "2020-11-17T14:27:54.574538Z"
    }
   },
   "outputs": [],
   "source": [
    "dataset = GeometryDataset('Electrolyte Geometry NWChem, 6-31G(2df,p)', 'normal_basis')"
   ]
  },
  {
   "cell_type": "markdown",
   "metadata": {},
   "source": [
    "Print out the general status"
   ]
  },
  {
   "cell_type": "code",
   "execution_count": 3,
   "metadata": {
    "execution": {
     "iopub.execute_input": "2020-11-17T14:27:54.589343Z",
     "iopub.status.busy": "2020-11-17T14:27:54.588508Z",
     "iopub.status.idle": "2020-11-17T14:28:02.234280Z",
     "shell.execute_reply": "2020-11-17T14:28:02.234853Z"
    }
   },
   "outputs": [
    {
     "data": {
      "text/html": [
       "<div>\n",
       "<style scoped>\n",
       "    .dataframe tbody tr th:only-of-type {\n",
       "        vertical-align: middle;\n",
       "    }\n",
       "\n",
       "    .dataframe tbody tr th {\n",
       "        vertical-align: top;\n",
       "    }\n",
       "\n",
       "    .dataframe thead th {\n",
       "        text-align: right;\n",
       "    }\n",
       "</style>\n",
       "<table border=\"1\" class=\"dataframe\">\n",
       "  <thead>\n",
       "    <tr style=\"text-align: right;\">\n",
       "      <th></th>\n",
       "      <th>normal_basis</th>\n",
       "    </tr>\n",
       "  </thead>\n",
       "  <tbody>\n",
       "    <tr>\n",
       "      <th>COMPLETE</th>\n",
       "      <td>4741</td>\n",
       "    </tr>\n",
       "    <tr>\n",
       "      <th>INCOMPLETE</th>\n",
       "      <td>4694</td>\n",
       "    </tr>\n",
       "    <tr>\n",
       "      <th>ERROR</th>\n",
       "      <td>891</td>\n",
       "    </tr>\n",
       "  </tbody>\n",
       "</table>\n",
       "</div>"
      ],
      "text/plain": [
       "            normal_basis\n",
       "COMPLETE            4741\n",
       "INCOMPLETE          4694\n",
       "ERROR                891"
      ]
     },
     "execution_count": 1,
     "metadata": {},
     "output_type": "execute_result"
    }
   ],
   "source": [
    "dataset.coll.status()"
   ]
  },
  {
   "cell_type": "markdown",
   "metadata": {},
   "source": [
    "Review the completed geometries"
   ]
  },
  {
   "cell_type": "code",
   "execution_count": 4,
   "metadata": {
    "execution": {
     "iopub.execute_input": "2020-11-17T14:28:02.251558Z",
     "iopub.status.busy": "2020-11-17T14:28:02.250920Z",
     "iopub.status.idle": "2020-11-17T14:28:09.760657Z",
     "shell.execute_reply": "2020-11-17T14:28:09.761319Z"
    }
   },
   "outputs": [
    {
     "name": "stdout",
     "output_type": "stream",
     "text": [
      "Completed 4741 geometries of 3109 molecules\n",
      "All ionic states computed for 569 molecules\n",
      "CPU times: user 3.27 s, sys: 178 ms, total: 3.45 s\n",
      "Wall time: 7.5 s\n"
     ]
    }
   ],
   "source": [
    "%%time\n",
    "geoms = dataset.get_energies()\n",
    "print(f'Completed {sum(map(len, geoms.values()))} geometries of {len(geoms)} molecules')\n",
    "print(f'All ionic states computed for {sum(map(lambda x: len(x) == 3, geoms.values()))} molecules')"
   ]
  },
  {
   "cell_type": "markdown",
   "metadata": {},
   "source": [
    "Plot the runtimes"
   ]
  },
  {
   "cell_type": "code",
   "execution_count": 5,
   "metadata": {
    "execution": {
     "iopub.execute_input": "2020-11-17T14:28:09.777869Z",
     "iopub.status.busy": "2020-11-17T14:28:09.777226Z",
     "iopub.status.idle": "2020-11-17T14:28:09.778738Z",
     "shell.execute_reply": "2020-11-17T14:28:09.779377Z"
    }
   },
   "outputs": [],
   "source": [
    "runtimes = dataset.coll.df['normal_basis'].apply(lambda x: x.provenance.wall_time if x.status.value == \"COMPLETE\" else None)"
   ]
  },
  {
   "cell_type": "code",
   "execution_count": 6,
   "metadata": {
    "execution": {
     "iopub.execute_input": "2020-11-17T14:28:09.783443Z",
     "iopub.status.busy": "2020-11-17T14:28:09.782802Z",
     "iopub.status.idle": "2020-11-17T14:28:09.784828Z",
     "shell.execute_reply": "2020-11-17T14:28:09.784180Z"
    }
   },
   "outputs": [],
   "source": [
    "runtimes = runtimes[runtimes != None]"
   ]
  },
  {
   "cell_type": "markdown",
   "metadata": {},
   "source": [
    "Print statistics in minutes"
   ]
  },
  {
   "cell_type": "code",
   "execution_count": 7,
   "metadata": {
    "execution": {
     "iopub.execute_input": "2020-11-17T14:28:09.788831Z",
     "iopub.status.busy": "2020-11-17T14:28:09.788119Z",
     "iopub.status.idle": "2020-11-17T14:28:09.799929Z",
     "shell.execute_reply": "2020-11-17T14:28:09.800620Z"
    }
   },
   "outputs": [
    {
     "data": {
      "text/plain": [
       "count    4741.000000\n",
       "mean       35.714756\n",
       "std        37.888167\n",
       "min         0.515426\n",
       "25%        10.259170\n",
       "50%        19.412754\n",
       "75%        51.170955\n",
       "max       343.078326\n",
       "Name: normal_basis, dtype: float64"
      ]
     },
     "execution_count": 1,
     "metadata": {},
     "output_type": "execute_result"
    }
   ],
   "source": [
    "(runtimes / 60).describe()"
   ]
  },
  {
   "cell_type": "code",
   "execution_count": 8,
   "metadata": {
    "execution": {
     "iopub.execute_input": "2020-11-17T14:28:09.818841Z",
     "iopub.status.busy": "2020-11-17T14:28:09.818190Z",
     "iopub.status.idle": "2020-11-17T14:28:11.085551Z",
     "shell.execute_reply": "2020-11-17T14:28:11.086086Z"
    }
   },
   "outputs": [
    {
     "data": {
      "image/png": "[encoded data removed]",
      "text/plain": [
       "<Figure size 252x180 with 1 Axes>"
      ]
     },
     "metadata": {
      "needs_background": "light"
     },
     "output_type": "display_data"
    }
   ],
   "source": [
    "fig, ax = plt.subplots(figsize=(3.5, 2.5))\n",
    "\n",
    "min_ = np.log10(runtimes.min())\n",
    "max_ = np.log10(runtimes.max())\n",
    "ax.hist(runtimes, bins=np.logspace(min_ - 0.2, max_ + 0.2, 16))\n",
    "\n",
    "ax.set_xscale('log')\n",
    "ax.set_xlabel('Runtime (s)')\n",
    "ax.set_ylabel('Frequency')\n",
    "\n",
    "fig.tight_layout()"
   ]
  },
  {
   "cell_type": "code",
   "execution_count": 9,
   "metadata": {
    "execution": {
     "iopub.execute_input": "2020-11-17T14:28:11.108559Z",
     "iopub.status.busy": "2020-11-17T14:28:11.107837Z",
     "iopub.status.idle": "2020-11-17T14:28:18.636450Z",
     "shell.execute_reply": "2020-11-17T14:28:18.635848Z"
    }
   },
   "outputs": [],
   "source": [
    "wts = dataset.get_wall_times()"
   ]
  },
  {
   "cell_type": "markdown",
   "metadata": {},
   "source": [
    "## Review the ZPE Calculations\n",
    "We ran Hessian calculations for each geometry"
   ]
  },
  {
   "cell_type": "code",
   "execution_count": 10,
   "metadata": {
    "execution": {
     "iopub.execute_input": "2020-11-17T14:28:18.642499Z",
     "iopub.status.busy": "2020-11-17T14:28:18.641692Z",
     "iopub.status.idle": "2020-11-17T14:28:23.351598Z",
     "shell.execute_reply": "2020-11-17T14:28:23.352140Z"
    }
   },
   "outputs": [],
   "source": [
    "hess = HessianDataset('Electrolyte Hessian, 6-31G(2df,p)', 'nwchem', 'normal_basis')"
   ]
  },
  {
   "cell_type": "code",
   "execution_count": 11,
   "metadata": {
    "execution": {
     "iopub.execute_input": "2020-11-17T14:28:23.394202Z",
     "iopub.status.busy": "2020-11-17T14:28:23.368379Z",
     "iopub.status.idle": "2020-11-17T14:28:58.581192Z",
     "shell.execute_reply": "2020-11-17T14:28:58.581725Z"
    }
   },
   "outputs": [
    {
     "name": "stderr",
     "output_type": "stream",
     "text": [
      "/lus/theta-fs0/projects/CSC249ADCD08/edw/moldesign/simulate/thermo.py:97: UnitStrippedWarning: The unit of the quantity is stripped when downcasting to ndarray.\n",
      "  temps = temps[np.array(temps.to(\"K\")) > 300.]\n",
      "/lus/theta-fs0/projects/CSC249ADCD08/edw/env/lib/python3.7/site-packages/numpy/core/_asarray.py:83: UnitStrippedWarning: The unit of the quantity is stripped when downcasting to ndarray.\n",
      "  return array(a, dtype, copy=False, order=order)\n"
     ]
    },
    {
     "name": "stdout",
     "output_type": "stream",
     "text": [
      "Computed 2558 ZPEs\n"
     ]
    }
   ],
   "source": [
    "zpes = hess.get_zpe()\n",
    "print(f'Computed {sum(map(len, zpes.values()))} ZPEs')"
   ]
  },
  {
   "cell_type": "markdown",
   "metadata": {},
   "source": [
    "Get the runtimes"
   ]
  },
  {
   "cell_type": "code",
   "execution_count": 12,
   "metadata": {
    "execution": {
     "iopub.execute_input": "2020-11-17T14:28:58.607943Z",
     "iopub.status.busy": "2020-11-17T14:28:58.595658Z",
     "iopub.status.idle": "2020-11-17T14:29:19.118052Z",
     "shell.execute_reply": "2020-11-17T14:29:19.118600Z"
    }
   },
   "outputs": [],
   "source": [
    "records = hess.get_complete_records()\n",
    "runtimes = hess.get_complete_records().apply(lambda x: x.provenance.wall_time)"
   ]
  },
  {
   "cell_type": "markdown",
   "metadata": {},
   "source": [
    "Print statistics in minutes"
   ]
  },
  {
   "cell_type": "code",
   "execution_count": 13,
   "metadata": {
    "execution": {
     "iopub.execute_input": "2020-11-17T14:29:19.123960Z",
     "iopub.status.busy": "2020-11-17T14:29:19.123323Z",
     "iopub.status.idle": "2020-11-17T14:29:19.129336Z",
     "shell.execute_reply": "2020-11-17T14:29:19.128664Z"
    }
   },
   "outputs": [
    {
     "data": {
      "text/plain": [
       "count    2558.000000\n",
       "mean       20.543123\n",
       "std        14.781518\n",
       "min         1.199869\n",
       "25%        11.007861\n",
       "50%        16.845870\n",
       "75%        26.688362\n",
       "max       158.741129\n",
       "Name: record, dtype: float64"
      ]
     },
     "execution_count": 1,
     "metadata": {},
     "output_type": "execute_result"
    }
   ],
   "source": [
    "(runtimes / 60).describe()"
   ]
  },
  {
   "cell_type": "code",
   "execution_count": 14,
   "metadata": {
    "execution": {
     "iopub.execute_input": "2020-11-17T14:29:19.145100Z",
     "iopub.status.busy": "2020-11-17T14:29:19.139282Z",
     "iopub.status.idle": "2020-11-17T14:29:19.506396Z",
     "shell.execute_reply": "2020-11-17T14:29:19.505829Z"
    }
   },
   "outputs": [
    {
     "data": {
      "image/png": "[encoded data removed]",
      "text/plain": [
       "<Figure size 252x180 with 1 Axes>"
      ]
     },
     "metadata": {
      "needs_background": "light"
     },
     "output_type": "display_data"
    }
   ],
   "source": [
    "fig, ax = plt.subplots(figsize=(3.5, 2.5))\n",
    "\n",
    "min_ = np.log10(runtimes.min())\n",
    "max_ = np.log10(runtimes.max())\n",
    "ax.hist(runtimes, bins=np.logspace(min_ - 0.2, max_ + 0.2, 16))\n",
    "\n",
    "ax.set_xscale('log')\n",
    "ax.set_xlabel('Runtime (s)')\n",
    "ax.set_ylabel('Frequency')\n",
    "\n",
    "fig.tight_layout()"
   ]
  },
  {
   "cell_type": "markdown",
   "metadata": {},
   "source": [
    "## Review the Solvation Energy Calculations\n",
    "Compute the solvation energies for all of the molecules"
   ]
  },
  {
   "cell_type": "code",
   "execution_count": 15,
   "metadata": {
    "execution": {
     "iopub.execute_input": "2020-11-17T14:29:19.511727Z",
     "iopub.status.busy": "2020-11-17T14:29:19.510977Z",
     "iopub.status.idle": "2020-11-17T14:29:19.615915Z",
     "shell.execute_reply": "2020-11-17T14:29:19.615262Z"
    }
   },
   "outputs": [],
   "source": [
    "solv_dataset = SolvationEnergyDataset('EDW NWChem Solvation Energy, 6-31G(2df,p)', 'nwchem', 'normal_basis')"
   ]
  },
  {
   "cell_type": "markdown",
   "metadata": {},
   "source": [
    "Pull down a summary"
   ]
  },
  {
   "cell_type": "code",
   "execution_count": 16,
   "metadata": {
    "execution": {
     "iopub.execute_input": "2020-11-17T14:29:19.628869Z",
     "iopub.status.busy": "2020-11-17T14:29:19.627292Z",
     "iopub.status.idle": "2020-11-17T14:29:19.677036Z",
     "shell.execute_reply": "2020-11-17T14:29:19.676474Z"
    }
   },
   "outputs": [
    {
     "name": "stdout",
     "output_type": "stream",
     "text": [
      "Completed 0.0 solvation energies of 0 molecules\n",
      "CPU times: user 54.4 ms, sys: 1.02 ms, total: 55.4 ms\n",
      "Wall time: 54.6 ms\n"
     ]
    }
   ],
   "source": [
    "%%time\n",
    "solv_energies = solv_dataset.get_energies()\n",
    "solv_df = solv_dataset.coll.get_values()\n",
    "print(f'Completed {(~solv_df.isnull()).values.sum()} solvation energies '\n",
    "      f'of {len(solv_energies)} molecules')"
   ]
  },
  {
   "cell_type": "markdown",
   "metadata": {},
   "source": [
    "## Generate Redox Properties\n",
    "Compute the redox properties with and without ZPE"
   ]
  },
  {
   "cell_type": "code",
   "execution_count": 17,
   "metadata": {
    "execution": {
     "iopub.execute_input": "2020-11-17T14:29:19.692174Z",
     "iopub.status.busy": "2020-11-17T14:29:19.691471Z",
     "iopub.status.idle": "2020-11-17T14:29:51.455331Z",
     "shell.execute_reply": "2020-11-17T14:29:51.455864Z"
    }
   },
   "outputs": [
    {
     "name": "stderr",
     "output_type": "stream",
     "text": [
      "RDKit WARNING: [14:29:49] Cannot assign bond directions!\n"
     ]
    }
   ],
   "source": [
    "redox_data = collect_molecular_properties(dataset, solv_dataset)"
   ]
  },
  {
   "cell_type": "markdown",
   "metadata": {},
   "source": [
    "Load in Gaussian data for comparison"
   ]
  },
  {
   "cell_type": "code",
   "execution_count": 18,
   "metadata": {
    "execution": {
     "iopub.execute_input": "2020-11-17T14:29:51.466644Z",
     "iopub.status.busy": "2020-11-17T14:29:51.465990Z",
     "iopub.status.idle": "2020-11-17T14:29:51.590217Z",
     "shell.execute_reply": "2020-11-17T14:29:51.590739Z"
    }
   },
   "outputs": [],
   "source": [
    "gaussian_data = pd.read_csv('datasets/gaussian-redox.csv')"
   ]
  },
  {
   "cell_type": "code",
   "execution_count": 19,
   "metadata": {
    "execution": {
     "iopub.execute_input": "2020-11-17T14:29:51.611889Z",
     "iopub.status.busy": "2020-11-17T14:29:51.611141Z",
     "iopub.status.idle": "2020-11-17T14:29:51.897296Z",
     "shell.execute_reply": "2020-11-17T14:29:51.896719Z"
    }
   },
   "outputs": [
    {
     "data": {
      "image/png": "[encoded data removed]",
      "text/plain": [
       "<Figure size 324x162 with 2 Axes>"
      ]
     },
     "metadata": {
      "needs_background": "light"
     },
     "output_type": "display_data"
    }
   ],
   "source": [
    "fig, axs = plt.subplots(1, 2, figsize=(4.5, 2.25))\n",
    "\n",
    "merged_data = redox_data.merge(gaussian_data, on='inchi_key', suffixes=['_nwc', '_g09'])\n",
    "\n",
    "for l, ax in zip(['EA', 'IP'], axs):\n",
    "    xtb = merged_data[f'{l}_nwc']\n",
    "    g09 = merged_data[f'{l}_g09']\n",
    "    r2 = np.corrcoef(xtb, g09)[0, 1] ** 2\n",
    "    ax.scatter(xtb, g09, s=2.5)\n",
    "    ax.text(0.1, 0.9, f'$R^2$ = {r2:.2f}', transform=ax.transAxes)\n",
    "\n",
    "    min_ = min(ax.get_xlim()[0], ax.get_ylim()[0])\n",
    "    max_ = max(ax.get_xlim()[1], ax.get_ylim()[1])\n",
    "    ax.set_xlim(min_, max_)\n",
    "    ax.set_ylim(ax.get_xlim())\n",
    "    ax.plot(ax.get_xlim(), ax.get_xlim(), 'k--')\n",
    "\n",
    "    ax.set_xlabel(f'{l}, NWChem (V)')\n",
    "    ax.set_ylabel(f'{l}, Gaussian (V)')\n",
    "fig.tight_layout()"
   ]
  },
  {
   "cell_type": "code",
   "execution_count": 20,
   "metadata": {
    "execution": {
     "iopub.execute_input": "2020-11-17T14:29:51.901300Z",
     "iopub.status.busy": "2020-11-17T14:29:51.900500Z",
     "iopub.status.idle": "2020-11-17T14:29:52.056955Z",
     "shell.execute_reply": "2020-11-17T14:29:52.056392Z"
    }
   },
   "outputs": [],
   "source": [
    "redox_data.to_csv('datasets/normal-basis_no-zpe_redox.csv', index=False)"
   ]
  },
  {
   "cell_type": "markdown",
   "metadata": {},
   "source": [
    "Repeat, but with ZPE"
   ]
  },
  {
   "cell_type": "code",
   "execution_count": 21,
   "metadata": {
    "execution": {
     "iopub.execute_input": "2020-11-17T14:29:52.079212Z",
     "iopub.status.busy": "2020-11-17T14:29:52.078469Z",
     "iopub.status.idle": "2020-11-17T14:30:46.551310Z",
     "shell.execute_reply": "2020-11-17T14:30:46.551859Z"
    }
   },
   "outputs": [
    {
     "name": "stderr",
     "output_type": "stream",
     "text": [
      "/lus/theta-fs0/projects/CSC249ADCD08/edw/moldesign/simulate/thermo.py:97: UnitStrippedWarning: The unit of the quantity is stripped when downcasting to ndarray.\n",
      "  temps = temps[np.array(temps.to(\"K\")) > 300.]\n",
      "/lus/theta-fs0/projects/CSC249ADCD08/edw/env/lib/python3.7/site-packages/numpy/core/_asarray.py:83: UnitStrippedWarning: The unit of the quantity is stripped when downcasting to ndarray.\n",
      "  return array(a, dtype, copy=False, order=order)\n"
     ]
    }
   ],
   "source": [
    "redox_data = collect_molecular_properties(dataset, solv_dataset, hess)"
   ]
  },
  {
   "cell_type": "code",
   "execution_count": 22,
   "metadata": {
    "execution": {
     "iopub.execute_input": "2020-11-17T14:30:46.572190Z",
     "iopub.status.busy": "2020-11-17T14:30:46.570895Z",
     "iopub.status.idle": "2020-11-17T14:30:46.807325Z",
     "shell.execute_reply": "2020-11-17T14:30:46.806739Z"
    }
   },
   "outputs": [
    {
     "data": {
      "image/png": "[encoded data removed]",
      "text/plain": [
       "<Figure size 324x162 with 2 Axes>"
      ]
     },
     "metadata": {
      "needs_background": "light"
     },
     "output_type": "display_data"
    }
   ],
   "source": [
    "fig, axs = plt.subplots(1, 2, figsize=(4.5, 2.25))\n",
    "\n",
    "merged_data = redox_data.merge(gaussian_data, on='inchi_key', suffixes=['_nwc', '_g09'])\n",
    "\n",
    "for l, ax in zip(['EA', 'IP'], axs):\n",
    "    xtb = merged_data[f'{l}_nwc']\n",
    "    g09 = merged_data[f'{l}_g09']\n",
    "    r2 = np.corrcoef(xtb, g09)[0, 1] ** 2\n",
    "    ax.scatter(xtb, g09, s=2.5)\n",
    "    ax.text(0.1, 0.9, f'$R^2$ = {r2:.2f}', transform=ax.transAxes)\n",
    "\n",
    "    min_ = min(ax.get_xlim()[0], ax.get_ylim()[0])\n",
    "    max_ = max(ax.get_xlim()[1], ax.get_ylim()[1])\n",
    "    ax.set_xlim(min_, max_)\n",
    "    ax.set_ylim(ax.get_xlim())\n",
    "    ax.plot(ax.get_xlim(), ax.get_xlim(), 'k--')\n",
    "\n",
    "    ax.set_xlabel(f'{l}, NWChem (V)')\n",
    "    ax.set_ylabel(f'{l}, Gaussian (V)')\n",
    "fig.tight_layout()"
   ]
  },
  {
   "cell_type": "code",
   "execution_count": 23,
   "metadata": {
    "execution": {
     "iopub.execute_input": "2020-11-17T14:30:46.811448Z",
     "iopub.status.busy": "2020-11-17T14:30:46.810744Z",
     "iopub.status.idle": "2020-11-17T14:30:46.874191Z",
     "shell.execute_reply": "2020-11-17T14:30:46.873605Z"
    }
   },
   "outputs": [],
   "source": [
    "redox_data.to_csv('datasets/normal-basis_redox.csv', index=False)"
   ]
  },
  {
   "cell_type": "code",
   "execution_count": null,
   "metadata": {},
   "outputs": [],
   "source": []
  }
 ],
 "metadata": {
  "kernelspec": {
   "display_name": "Python 3",
   "language": "python",
   "name": "python3"
  },
  "language_info": {
   "codemirror_mode": {
    "name": "ipython",
    "version": 3
   },
   "file_extension": ".py",
   "mimetype": "text/x-python",
   "name": "python",
   "nbconvert_exporter": "python",
   "pygments_lexer": "ipython3",
   "version": "3.7.9"
  }
 },
 "nbformat": 4,
 "nbformat_minor": 4
}
