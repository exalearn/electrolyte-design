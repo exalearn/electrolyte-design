{
 "cells": [
  {
   "cell_type": "markdown",
   "metadata": {},
   "source": [
    "# Determining the Cost vs Size Estimates for Different Tasks\n",
    "We want to be able to get an estimate of time to relax a compute and compute a gradient"
   ]
  },
  {
   "cell_type": "code",
   "execution_count": 1,
   "metadata": {
    "execution": {
     "iopub.execute_input": "2021-07-23T15:36:06.807258Z",
     "iopub.status.busy": "2021-07-23T15:36:06.806542Z",
     "iopub.status.idle": "2021-07-23T15:36:07.875180Z",
     "shell.execute_reply": "2021-07-23T15:36:07.874590Z"
    }
   },
   "outputs": [],
   "source": [
    "%matplotlib inline\n",
    "from matplotlib import pyplot as plt\n",
    "from scipy.stats import siegelslopes\n",
    "import pandas as pd\n",
    "import numpy as np"
   ]
  },
  {
   "cell_type": "markdown",
   "metadata": {},
   "source": [
    "## Load in the Data\n",
    "Get the small and normal basis sets"
   ]
  },
  {
   "cell_type": "code",
   "execution_count": 2,
   "metadata": {
    "execution": {
     "iopub.execute_input": "2021-07-23T15:36:07.879502Z",
     "iopub.status.busy": "2021-07-23T15:36:07.878956Z",
     "iopub.status.idle": "2021-07-23T15:36:07.899833Z",
     "shell.execute_reply": "2021-07-23T15:36:07.899237Z"
    }
   },
   "outputs": [],
   "source": [
    "diffuse_data = pd.read_csv('datasets/diffuse-basis_vertical-xtb_redox.csv')"
   ]
  },
  {
   "cell_type": "code",
   "execution_count": 3,
   "metadata": {
    "execution": {
     "iopub.execute_input": "2021-07-23T15:36:07.903240Z",
     "iopub.status.busy": "2021-07-23T15:36:07.902728Z",
     "iopub.status.idle": "2021-07-23T15:36:08.021497Z",
     "shell.execute_reply": "2021-07-23T15:36:08.020995Z"
    }
   },
   "outputs": [],
   "source": [
    "normal_data = pd.read_csv('datasets/normal-basis_redox.csv')"
   ]
  },
  {
   "cell_type": "code",
   "execution_count": 4,
   "metadata": {
    "execution": {
     "iopub.execute_input": "2021-07-23T15:36:08.025315Z",
     "iopub.status.busy": "2021-07-23T15:36:08.024803Z",
     "iopub.status.idle": "2021-07-23T15:36:08.173805Z",
     "shell.execute_reply": "2021-07-23T15:36:08.173188Z"
    }
   },
   "outputs": [],
   "source": [
    "small_data = pd.read_csv('datasets/small-basis_redox.csv')"
   ]
  },
  {
   "cell_type": "code",
   "execution_count": 5,
   "metadata": {
    "execution": {
     "iopub.execute_input": "2021-07-23T15:36:08.177713Z",
     "iopub.status.busy": "2021-07-23T15:36:08.177189Z",
     "iopub.status.idle": "2021-07-23T15:36:08.415699Z",
     "shell.execute_reply": "2021-07-23T15:36:08.415022Z"
    }
   },
   "outputs": [],
   "source": [
    "xtb_data = pd.read_csv('datasets/xtb_redox.csv')"
   ]
  },
  {
   "cell_type": "markdown",
   "metadata": {},
   "source": [
    "## Plot the Cost as a Function of Size for DFT\n",
    "Get a single-node estimate for the performance"
   ]
  },
  {
   "cell_type": "code",
   "execution_count": 6,
   "metadata": {
    "execution": {
     "iopub.execute_input": "2021-07-23T15:36:08.435231Z",
     "iopub.status.busy": "2021-07-23T15:36:08.434654Z",
     "iopub.status.idle": "2021-07-23T15:36:10.778790Z",
     "shell.execute_reply": "2021-07-23T15:36:10.778202Z"
    }
   },
   "outputs": [
    {
     "name": "stdout",
     "output_type": "stream",
     "text": [
      "B3LYP/3-21g: 1.71\n",
      "B3LYP/6-31g(2df-p): 2.49\n",
      "B3LYP/6-311++g**: 2.59\n"
     ]
    },
    {
     "data": {
      "image/png": "[encoded data removed]",
      "text/plain": [
       "<Figure size 270x180 with 1 Axes>"
      ]
     },
     "metadata": {
      "needs_background": "light"
     },
     "output_type": "display_data"
    }
   ],
   "source": [
    "fig, ax = plt.subplots(figsize=(3.75, 2.5))\n",
    "\n",
    "ax.set_xlim(4, 300)\n",
    "\n",
    "for l, data in zip(['B3LYP/3-21g', 'B3LYP/6-31g(2df-p)', 'B3LYP/6-311++g**'], [small_data, normal_data, diffuse_data]):\n",
    "    # Plot each point\n",
    "    data = data[~data['wall_time_IP'].isnull()]\n",
    "    ax.loglog(data['n_electrons'], data['wall_time_IP'] / 3600, 'o', alpha=0.5, label=l)\n",
    "    \n",
    "    # Compute a slope\n",
    "    m, b = siegelslopes(np.log10(data['wall_time_IP'] / 3600), np.log10(data['n_electrons']))\n",
    "    print(f'{l}: {m:.2f}')\n",
    "    ax.plot(ax.get_xlim(), np.power(10, np.multiply(m, np.log10(ax.get_xlim())) + b), '--k')\n",
    "  \n",
    "ax.legend()\n",
    "ax.set_ylim(0.001, 80)\n",
    "ax.set_xlabel('Electron Count')\n",
    "ax.set_ylabel('Walltime (hr)')\n",
    "\n",
    "fig.tight_layout()\n",
    "fig.savefig('figures/nwchem-cost-vs-size.pdf')"
   ]
  },
  {
   "cell_type": "markdown",
   "metadata": {},
   "source": [
    "## Plot the Histogram of the XTB\n",
    "Get an idea how cheap it is"
   ]
  },
  {
   "cell_type": "code",
   "execution_count": 7,
   "metadata": {
    "execution": {
     "iopub.execute_input": "2021-07-23T15:36:10.784099Z",
     "iopub.status.busy": "2021-07-23T15:36:10.783452Z",
     "iopub.status.idle": "2021-07-23T15:36:10.789926Z",
     "shell.execute_reply": "2021-07-23T15:36:10.789338Z"
    }
   },
   "outputs": [
    {
     "data": {
      "text/plain": [
       "count    4520.000000\n",
       "mean        9.288717\n",
       "std         3.829753\n",
       "min         1.000000\n",
       "25%         7.000000\n",
       "50%         7.000000\n",
       "75%        13.000000\n",
       "max        48.000000\n",
       "Name: n_atoms, dtype: float64"
      ]
     },
     "execution_count": 1,
     "metadata": {},
     "output_type": "execute_result"
    }
   ],
   "source": [
    "xtb_data['n_atoms'].describe()"
   ]
  },
  {
   "cell_type": "code",
   "execution_count": 8,
   "metadata": {
    "execution": {
     "iopub.execute_input": "2021-07-23T15:36:10.793937Z",
     "iopub.status.busy": "2021-07-23T15:36:10.793279Z",
     "iopub.status.idle": "2021-07-23T15:36:10.798896Z",
     "shell.execute_reply": "2021-07-23T15:36:10.799421Z"
    }
   },
   "outputs": [
    {
     "data": {
      "text/plain": [
       "count    1.255000\n",
       "mean     0.016209\n",
       "std      0.014309\n",
       "min      0.000218\n",
       "25%      0.006870\n",
       "50%      0.011948\n",
       "75%      0.021351\n",
       "max      0.243435\n",
       "Name: wall_time_IP, dtype: float64"
      ]
     },
     "execution_count": 1,
     "metadata": {},
     "output_type": "execute_result"
    }
   ],
   "source": [
    "xtb_data['wall_time_IP'].describe() / 3600"
   ]
  },
  {
   "cell_type": "code",
   "execution_count": 9,
   "metadata": {
    "execution": {
     "iopub.execute_input": "2021-07-23T15:36:10.819315Z",
     "iopub.status.busy": "2021-07-23T15:36:10.818652Z",
     "iopub.status.idle": "2021-07-23T15:36:12.598084Z",
     "shell.execute_reply": "2021-07-23T15:36:12.597538Z"
    }
   },
   "outputs": [
    {
     "name": "stdout",
     "output_type": "stream",
     "text": [
      "XTB: 1.30\n"
     ]
    },
    {
     "data": {
      "image/png": "[encoded data removed]",
      "text/plain": [
       "<Figure size 270x180 with 1 Axes>"
      ]
     },
     "metadata": {
      "needs_background": "light"
     },
     "output_type": "display_data"
    }
   ],
   "source": [
    "fig, ax = plt.subplots(figsize=(3.75, 2.5))\n",
    "\n",
    "for l, data in zip(['XTB'], [xtb_data]):\n",
    "    # Plot each point\n",
    "    data = data[~data['wall_time_IP'].isnull()]\n",
    "    ax.loglog(data['n_electrons'], data['wall_time_EA'] / 3600, 'o', alpha=0.5, label=l)\n",
    "    \n",
    "    # Compute a slope\n",
    "    m, b = siegelslopes(np.log10(data['wall_time_IP'] / 3600), np.log10(data['n_electrons']))\n",
    "    print(f'{l}: {m:.2f}')\n",
    "    ax.plot(ax.get_xlim(), np.power(10, np.multiply(m, np.log10(ax.get_xlim())) + b), '--k')\n",
    "  \n",
    "ax.legend()\n",
    "#ax.set_xlim(8, 300)\n",
    "#ax.set_ylim(0.03, 70)\n",
    "ax.set_xlabel('Electron Count')\n",
    "ax.set_ylabel('Walltime (hr)')\n",
    "\n",
    "fig.tight_layout()\n",
    "fig.savefig('figures/xtb-cost-size.svg')"
   ]
  },
  {
   "cell_type": "code",
   "execution_count": null,
   "metadata": {},
   "outputs": [],
   "source": []
  }
 ],
 "metadata": {
  "kernelspec": {
   "display_name": "Python 3",
   "language": "python",
   "name": "python3"
  },
  "language_info": {
   "codemirror_mode": {
    "name": "ipython",
    "version": 3
   },
   "file_extension": ".py",
   "mimetype": "text/x-python",
   "name": "python",
   "nbconvert_exporter": "python",
   "pygments_lexer": "ipython3",
   "version": "3.7.9"
  }
 },
 "nbformat": 4,
 "nbformat_minor": 4
}
