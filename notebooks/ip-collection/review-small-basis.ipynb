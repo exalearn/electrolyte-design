{
 "cells": [
  {
   "cell_type": "markdown",
   "metadata": {},
   "source": [
    "# Compute IP/EA with NWChem\n",
    "Check on how the calculations are doing. What the run times are, what fractions have completed, etc."
   ]
  },
  {
   "cell_type": "code",
   "execution_count": 1,
   "metadata": {},
   "outputs": [
    {
     "name": "stderr",
     "output_type": "stream",
     "text": [
      "RDKit WARNING: [13:32:17] Enabling RDKit 2019.09.3 jupyter extensions\n"
     ]
    }
   ],
   "source": [
    "%matplotlib inline\n",
    "from matplotlib import pyplot as plt\n",
    "from moldesign.simulate.qcfractal import GeometryDataset, SolvationEnergyDataset, HessianDataset, compute_ionization_potentials\n",
    "import pandas as pd\n",
    "import numpy as np"
   ]
  },
  {
   "cell_type": "markdown",
   "metadata": {},
   "source": [
    "## Get the Geometries\n",
    "Gather the XTB geometries"
   ]
  },
  {
   "cell_type": "code",
   "execution_count": 2,
   "metadata": {},
   "outputs": [],
   "source": [
    "dataset = GeometryDataset('Electrolyte Geometry NWChem', 'small_basis')"
   ]
  },
  {
   "cell_type": "markdown",
   "metadata": {},
   "source": [
    "Print out the general status"
   ]
  },
  {
   "cell_type": "code",
   "execution_count": 3,
   "metadata": {},
   "outputs": [
    {
     "data": {
      "text/html": [
       "<div>\n",
       "<style scoped>\n",
       "    .dataframe tbody tr th:only-of-type {\n",
       "        vertical-align: middle;\n",
       "    }\n",
       "\n",
       "    .dataframe tbody tr th {\n",
       "        vertical-align: top;\n",
       "    }\n",
       "\n",
       "    .dataframe thead th {\n",
       "        text-align: right;\n",
       "    }\n",
       "</style>\n",
       "<table border=\"1\" class=\"dataframe\">\n",
       "  <thead>\n",
       "    <tr style=\"text-align: right;\">\n",
       "      <th></th>\n",
       "      <th>small_basis</th>\n",
       "    </tr>\n",
       "  </thead>\n",
       "  <tbody>\n",
       "    <tr>\n",
       "      <th>COMPLETE</th>\n",
       "      <td>9258</td>\n",
       "    </tr>\n",
       "    <tr>\n",
       "      <th>ERROR</th>\n",
       "      <td>3614</td>\n",
       "    </tr>\n",
       "  </tbody>\n",
       "</table>\n",
       "</div>"
      ],
      "text/plain": [
       "          small_basis\n",
       "COMPLETE         9258\n",
       "ERROR            3614"
      ]
     },
     "execution_count": 3,
     "metadata": {},
     "output_type": "execute_result"
    }
   ],
   "source": [
    "dataset.coll.status()"
   ]
  },
  {
   "cell_type": "markdown",
   "metadata": {},
   "source": [
    "redox_dataiew the completed geometries"
   ]
  },
  {
   "cell_type": "code",
   "execution_count": 4,
   "metadata": {},
   "outputs": [
    {
     "name": "stdout",
     "output_type": "stream",
     "text": [
      "Completed 9258 geometries of 4123 molecules\n",
      "All ionic states computed for 1783 molecules\n",
      "CPU times: user 4.53 s, sys: 68.6 ms, total: 4.6 s\n",
      "Wall time: 13.1 s\n"
     ]
    }
   ],
   "source": [
    "%%time\n",
    "geoms = dataset.get_energies()\n",
    "print(f'Completed {sum(map(len, geoms.values()))} geometries of {len(geoms)} molecules')\n",
    "print(f'All ionic states computed for {len(list(filter(lambda x: len(x) == 3, geoms.values())))} molecules')"
   ]
  },
  {
   "cell_type": "markdown",
   "metadata": {},
   "source": [
    "Plot the runtimes"
   ]
  },
  {
   "cell_type": "code",
   "execution_count": 5,
   "metadata": {},
   "outputs": [],
   "source": [
    "runtimes = dataset.get_complete_records().apply(lambda x: x.provenance.wall_time)"
   ]
  },
  {
   "cell_type": "code",
   "execution_count": 6,
   "metadata": {},
   "outputs": [
    {
     "data": {
      "text/plain": [
       "<moldesign.simulate.qcfractal.GeometryDataset at 0x7f221adb4950>"
      ]
     },
     "execution_count": 6,
     "metadata": {},
     "output_type": "execute_result"
    }
   ],
   "source": [
    "dataset"
   ]
  },
  {
   "cell_type": "markdown",
   "metadata": {},
   "source": [
    "Print statistics in minutes"
   ]
  },
  {
   "cell_type": "code",
   "execution_count": 7,
   "metadata": {},
   "outputs": [
    {
     "data": {
      "text/plain": [
       "count    9258.000000\n",
       "mean       11.618154\n",
       "std        11.553843\n",
       "min         0.553135\n",
       "25%         4.493729\n",
       "50%         8.264985\n",
       "75%        14.159647\n",
       "max       181.223446\n",
       "Name: small_basis, dtype: float64"
      ]
     },
     "execution_count": 7,
     "metadata": {},
     "output_type": "execute_result"
    }
   ],
   "source": [
    "(runtimes / 60).describe()"
   ]
  },
  {
   "cell_type": "code",
   "execution_count": 8,
   "metadata": {},
   "outputs": [
    {
     "data": {
      "image/png": "[encoded data removed]",
      "text/plain": [
       "<Figure size 252x180 with 1 Axes>"
      ]
     },
     "metadata": {
      "needs_background": "light"
     },
     "output_type": "display_data"
    }
   ],
   "source": [
    "fig, ax = plt.subplots(figsize=(3.5, 2.5))\n",
    "\n",
    "min_ = np.log10(runtimes.min())\n",
    "max_ = np.log10(runtimes.max())\n",
    "ax.hist(runtimes, bins=np.logspace(min_ - 0.2, max_ + 0.2, 16))\n",
    "\n",
    "ax.set_xscale('log')\n",
    "ax.set_xlabel('Runtime (s)')\n",
    "ax.set_ylabel('Frequency')\n",
    "\n",
    "fig.tight_layout()"
   ]
  },
  {
   "cell_type": "markdown",
   "metadata": {},
   "source": [
    "## Review the ZPE Calculations\n",
    "We ran Hessian calculations for each geometry"
   ]
  },
  {
   "cell_type": "code",
   "execution_count": 9,
   "metadata": {},
   "outputs": [],
   "source": [
    "hess = HessianDataset('Electrolyte Hessian', 'nwchem', 'small_basis')"
   ]
  },
  {
   "cell_type": "code",
   "execution_count": 10,
   "metadata": {},
   "outputs": [
    {
     "name": "stderr",
     "output_type": "stream",
     "text": [
      "/home/wardlt/UC/JCESR/edw/moldesign/simulate/thermo.py:97: UnitStrippedWarning: The unit of the quantity is stripped when downcasting to ndarray.\n",
      "  temps = temps[np.array(temps.to(\"K\")) > 300.]\n",
      "/home/wardlt/miniconda3/envs/edw/lib/python3.7/site-packages/numpy/core/_asarray.py:83: UnitStrippedWarning: The unit of the quantity is stripped when downcasting to ndarray.\n",
      "  return array(a, dtype, copy=False, order=order)\n"
     ]
    },
    {
     "name": "stdout",
     "output_type": "stream",
     "text": [
      "Computed 9222 ZPEs\n"
     ]
    }
   ],
   "source": [
    "zpes = hess.get_zpe()\n",
    "print(f'Computed {sum(map(len, zpes.values()))} ZPEs')"
   ]
  },
  {
   "cell_type": "markdown",
   "metadata": {},
   "source": [
    "Get the runtimes"
   ]
  },
  {
   "cell_type": "code",
   "execution_count": 11,
   "metadata": {},
   "outputs": [],
   "source": [
    "records = hess.get_complete_records()\n",
    "runtimes = hess.get_complete_records().apply(lambda x: x.provenance.wall_time)"
   ]
  },
  {
   "cell_type": "markdown",
   "metadata": {},
   "source": [
    "Print statistics in minutes"
   ]
  },
  {
   "cell_type": "code",
   "execution_count": 12,
   "metadata": {},
   "outputs": [
    {
     "data": {
      "text/plain": [
       "count    9222.000000\n",
       "mean       11.293248\n",
       "std        22.544674\n",
       "min         0.226785\n",
       "25%         2.992353\n",
       "50%         5.798483\n",
       "75%        12.798875\n",
       "max       780.489533\n",
       "Name: record, dtype: float64"
      ]
     },
     "execution_count": 12,
     "metadata": {},
     "output_type": "execute_result"
    }
   ],
   "source": [
    "(runtimes / 60).describe()"
   ]
  },
  {
   "cell_type": "code",
   "execution_count": 13,
   "metadata": {},
   "outputs": [
    {
     "data": {
      "image/png": "[encoded data removed]",
      "text/plain": [
       "<Figure size 252x180 with 1 Axes>"
      ]
     },
     "metadata": {
      "needs_background": "light"
     },
     "output_type": "display_data"
    }
   ],
   "source": [
    "fig, ax = plt.subplots(figsize=(3.5, 2.5))\n",
    "\n",
    "min_ = np.log10(runtimes.min())\n",
    "max_ = np.log10(runtimes.max())\n",
    "ax.hist(runtimes, bins=np.logspace(min_ - 0.2, max_ + 0.2, 16))\n",
    "\n",
    "ax.set_xscale('log')\n",
    "ax.set_xlabel('Runtime (s)')\n",
    "ax.set_ylabel('Frequency')\n",
    "\n",
    "fig.tight_layout()"
   ]
  },
  {
   "cell_type": "markdown",
   "metadata": {},
   "source": [
    "## Review the Solvation Energy Calculations\n",
    "Compute the solvation energies for all of the molecules"
   ]
  },
  {
   "cell_type": "code",
   "execution_count": 14,
   "metadata": {},
   "outputs": [],
   "source": [
    "solv_dataset = SolvationEnergyDataset('EDW NWChem Solvation Energy', 'nwchem', 'small_basis')"
   ]
  },
  {
   "cell_type": "markdown",
   "metadata": {},
   "source": [
    "Pull down a summary"
   ]
  },
  {
   "cell_type": "code",
   "execution_count": 15,
   "metadata": {},
   "outputs": [
    {
     "name": "stdout",
     "output_type": "stream",
     "text": [
      "Completed 7175 solvation energies of 1042 molecules\n",
      "CPU times: user 1.25 s, sys: 3.91 ms, total: 1.26 s\n",
      "Wall time: 3.61 s\n"
     ]
    }
   ],
   "source": [
    "%%time\n",
    "solv_energies = solv_dataset.get_energies()\n",
    "solv_df = solv_dataset.coll.get_values()\n",
    "print(f'Completed {(~solv_df.isnull()).values.sum()} solvation energies '\n",
    "      f'of {len(solv_energies)} molecules')"
   ]
  },
  {
   "cell_type": "markdown",
   "metadata": {},
   "source": [
    "## Compute the redox properties\n",
    "See how well we compare to Gaussian G4MP2"
   ]
  },
  {
   "cell_type": "markdown",
   "metadata": {},
   "source": [
    "Load in Gaussian data for comparison"
   ]
  },
  {
   "cell_type": "code",
   "execution_count": 16,
   "metadata": {},
   "outputs": [],
   "source": [
    "gaussian_data = pd.read_csv('datasets/gaussian-redox.csv')"
   ]
  },
  {
   "cell_type": "markdown",
   "metadata": {},
   "source": [
    "### Without ZPE Correction\n",
    "Faster approximation"
   ]
  },
  {
   "cell_type": "code",
   "execution_count": 17,
   "metadata": {},
   "outputs": [
    {
     "name": "stderr",
     "output_type": "stream",
     "text": [
      "RDKit WARNING: [13:43:19] Cannot assign bond directions!\n"
     ]
    },
    {
     "name": "stdout",
     "output_type": "stream",
     "text": [
      "Calculations completed for 4108 molecules\n"
     ]
    },
    {
     "name": "stderr",
     "output_type": "stream",
     "text": [
      "RDKit WARNING: [13:43:26] Cannot assign bond directions!\n"
     ]
    }
   ],
   "source": [
    "redox_data = compute_ionization_potentials(dataset, solv_dataset)\n",
    "print(f'Calculations completed for {len(redox_data)} molecules')"
   ]
  },
  {
   "cell_type": "code",
   "execution_count": 18,
   "metadata": {},
   "outputs": [
    {
     "data": {
      "image/png": "[encoded data removed]",
      "text/plain": [
       "<Figure size 324x162 with 2 Axes>"
      ]
     },
     "metadata": {
      "needs_background": "light"
     },
     "output_type": "display_data"
    }
   ],
   "source": [
    "fig, axs = plt.subplots(1, 2, figsize=(4.5, 2.25))\n",
    "\n",
    "merged_data = redox_data.merge(gaussian_data, on='inchi_key', suffixes=['_nwc', '_g09'])\n",
    "\n",
    "for l, ax in zip(['EA', 'IP'], axs):\n",
    "    xtb = merged_data[f'{l}_nwc']\n",
    "    g09 = merged_data[f'{l}_g09']\n",
    "    r2 = np.corrcoef(xtb, g09)[0, 1] ** 2\n",
    "    ax.scatter(xtb, g09, s=2.5)\n",
    "    ax.text(0.1, 0.9, f'$R^2$ = {r2:.2f}', transform=ax.transAxes)\n",
    "\n",
    "    min_ = min(ax.get_xlim()[0], ax.get_ylim()[0])\n",
    "    max_ = max(ax.get_xlim()[1], ax.get_ylim()[1])\n",
    "    ax.set_xlim(min_, max_)\n",
    "    ax.set_ylim(ax.get_xlim())\n",
    "    ax.plot(ax.get_xlim(), ax.get_xlim(), 'k--')\n",
    "\n",
    "    ax.set_xlabel(f'{l}, NWChem (V)')\n",
    "    ax.set_ylabel(f'{l}, Gaussian (V)')\n",
    "fig.tight_layout()"
   ]
  },
  {
   "cell_type": "markdown",
   "metadata": {},
   "source": [
    "*Finding*: Seems good so far, need to put in the ZPE"
   ]
  },
  {
   "cell_type": "code",
   "execution_count": 19,
   "metadata": {},
   "outputs": [],
   "source": [
    "redox_data.to_csv('datasets/small-basis_no-zpe_redox.csv', index=False)"
   ]
  },
  {
   "cell_type": "markdown",
   "metadata": {},
   "source": [
    "### With ZPE\n",
    "Should be closer to agreeing fully"
   ]
  },
  {
   "cell_type": "code",
   "execution_count": 20,
   "metadata": {},
   "outputs": [
    {
     "name": "stderr",
     "output_type": "stream",
     "text": [
      "/home/wardlt/UC/JCESR/edw/moldesign/simulate/thermo.py:97: UnitStrippedWarning: The unit of the quantity is stripped when downcasting to ndarray.\n",
      "  temps = temps[np.array(temps.to(\"K\")) > 300.]\n",
      "/home/wardlt/miniconda3/envs/edw/lib/python3.7/site-packages/numpy/core/_asarray.py:83: UnitStrippedWarning: The unit of the quantity is stripped when downcasting to ndarray.\n",
      "  return array(a, dtype, copy=False, order=order)\n",
      "RDKit WARNING: [13:48:07] Cannot assign bond directions!\n"
     ]
    },
    {
     "name": "stdout",
     "output_type": "stream",
     "text": [
      "All calculations completed for 4084 molecules\n"
     ]
    },
    {
     "name": "stderr",
     "output_type": "stream",
     "text": [
      "RDKit WARNING: [13:48:14] Cannot assign bond directions!\n"
     ]
    }
   ],
   "source": [
    "redox_data = compute_ionization_potentials(dataset, solv_dataset, hess)\n",
    "print(f'All calculations completed for {len(redox_data)} molecules')"
   ]
  },
  {
   "cell_type": "code",
   "execution_count": 21,
   "metadata": {},
   "outputs": [
    {
     "data": {
      "image/png": "[encoded data removed]",
      "text/plain": [
       "<Figure size 324x162 with 2 Axes>"
      ]
     },
     "metadata": {
      "needs_background": "light"
     },
     "output_type": "display_data"
    }
   ],
   "source": [
    "fig, axs = plt.subplots(1, 2, figsize=(4.5, 2.25))\n",
    "\n",
    "merged_data = redox_data.merge(gaussian_data, on='inchi_key', suffixes=['_nwc', '_g09'])\n",
    "\n",
    "for l, ax in zip(['EA', 'IP'], axs):\n",
    "    xtb = merged_data[f'{l}_nwc']\n",
    "    g09 = merged_data[f'{l}_g09']\n",
    "    r2 = np.corrcoef(xtb, g09)[0, 1] ** 2\n",
    "    ax.scatter(xtb, g09, s=2.5)\n",
    "    ax.text(0.1, 0.9, f'$R^2$ = {r2:.2f}', transform=ax.transAxes)\n",
    "\n",
    "    min_ = min(ax.get_xlim()[0], ax.get_ylim()[0])\n",
    "    max_ = max(ax.get_xlim()[1], ax.get_ylim()[1])\n",
    "    ax.set_xlim(min_, max_)\n",
    "    ax.set_ylim(ax.get_xlim())\n",
    "    ax.plot(ax.get_xlim(), ax.get_xlim(), 'k--')\n",
    "\n",
    "    ax.set_xlabel(f'{l}, NWChem (V)')\n",
    "    ax.set_ylabel(f'{l}, Gaussian (V)')\n",
    "fig.tight_layout()"
   ]
  },
  {
   "cell_type": "markdown",
   "metadata": {},
   "source": [
    "Save the with ZPE version"
   ]
  },
  {
   "cell_type": "code",
   "execution_count": 22,
   "metadata": {},
   "outputs": [],
   "source": [
    "redox_data.to_csv('datasets/small-basis_redox.csv', index=False)"
   ]
  },
  {
   "cell_type": "code",
   "execution_count": null,
   "metadata": {},
   "outputs": [],
   "source": []
  }
 ],
 "metadata": {
  "kernelspec": {
   "display_name": "Python 3",
   "language": "python",
   "name": "python3"
  },
  "language_info": {
   "codemirror_mode": {
    "name": "ipython",
    "version": 3
   },
   "file_extension": ".py",
   "mimetype": "text/x-python",
   "name": "python",
   "nbconvert_exporter": "python",
   "pygments_lexer": "ipython3",
   "version": "3.7.9"
  }
 },
 "nbformat": 4,
 "nbformat_minor": 4
}
