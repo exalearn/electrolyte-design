{
 "cells": [
  {
   "cell_type": "markdown",
   "metadata": {},
   "source": [
    "# Compute IP/EA with NWChem\n",
    "Check on how the calculations are doing. What the run times are, what fractions have completed, etc."
   ]
  },
  {
   "cell_type": "code",
   "execution_count": 1,
   "metadata": {},
   "outputs": [
    {
     "name": "stderr",
     "output_type": "stream",
     "text": [
      "RDKit WARNING: [14:37:56] Enabling RDKit 2019.09.3 jupyter extensions\n"
     ]
    }
   ],
   "source": [
    "%matplotlib inline\n",
    "from matplotlib import pyplot as plt\n",
    "from moldesign.simulate.qcfractal import GeometryDataset, SolvationEnergyDataset, HessianDataset, SinglePointDataset, collect_molecular_properties\n",
    "import pandas as pd\n",
    "import numpy as np"
   ]
  },
  {
   "cell_type": "code",
   "execution_count": 2,
   "metadata": {},
   "outputs": [],
   "source": [
    "import os\n",
    "qca_pwd = 'bTYl1h3cVYY_nQ2tGl3cuEWWnVNmL9WPoH9HF9_3-bQ'\n",
    "os.environ['QCAUSR'] = qca_pwd"
   ]
  },
  {
   "cell_type": "markdown",
   "metadata": {},
   "source": [
    "## Get the Geometries\n",
    "Gather the XTB geometries"
   ]
  },
  {
   "cell_type": "code",
   "execution_count": 3,
   "metadata": {},
   "outputs": [],
   "source": [
    "dataset = GeometryDataset('Electrolyte Geometry NWChem', 'small_basis')"
   ]
  },
  {
   "cell_type": "markdown",
   "metadata": {},
   "source": [
    "Print out the general status"
   ]
  },
  {
   "cell_type": "code",
   "execution_count": 4,
   "metadata": {},
   "outputs": [
    {
     "data": {
      "text/html": [
       "<div>\n",
       "<style scoped>\n",
       "    .dataframe tbody tr th:only-of-type {\n",
       "        vertical-align: middle;\n",
       "    }\n",
       "\n",
       "    .dataframe tbody tr th {\n",
       "        vertical-align: top;\n",
       "    }\n",
       "\n",
       "    .dataframe thead th {\n",
       "        text-align: right;\n",
       "    }\n",
       "</style>\n",
       "<table border=\"1\" class=\"dataframe\">\n",
       "  <thead>\n",
       "    <tr style=\"text-align: right;\">\n",
       "      <th></th>\n",
       "      <th>small_basis</th>\n",
       "    </tr>\n",
       "  </thead>\n",
       "  <tbody>\n",
       "    <tr>\n",
       "      <th>COMPLETE</th>\n",
       "      <td>10497</td>\n",
       "    </tr>\n",
       "    <tr>\n",
       "      <th>ERROR</th>\n",
       "      <td>2489</td>\n",
       "    </tr>\n",
       "  </tbody>\n",
       "</table>\n",
       "</div>"
      ],
      "text/plain": [
       "          small_basis\n",
       "COMPLETE        10497\n",
       "ERROR            2489"
      ]
     },
     "execution_count": 4,
     "metadata": {},
     "output_type": "execute_result"
    }
   ],
   "source": [
    "dataset.coll.status()"
   ]
  },
  {
   "cell_type": "markdown",
   "metadata": {},
   "source": [
    "Review the completed geometries"
   ]
  },
  {
   "cell_type": "code",
   "execution_count": 5,
   "metadata": {},
   "outputs": [
    {
     "name": "stdout",
     "output_type": "stream",
     "text": [
      "Completed 10497 geometries of 4183 molecules\n",
      "All ionic states computed for 2571 molecules\n",
      "CPU times: user 5.08 s, sys: 187 ms, total: 5.27 s\n",
      "Wall time: 11 s\n"
     ]
    }
   ],
   "source": [
    "%%time\n",
    "geoms = dataset.get_energies()\n",
    "print(f'Completed {sum(map(len, geoms.values()))} geometries of {len(geoms)} molecules')\n",
    "print(f'All ionic states computed for {len(list(filter(lambda x: len(x) == 3, geoms.values())))} molecules')"
   ]
  },
  {
   "cell_type": "markdown",
   "metadata": {},
   "source": [
    "Plot the runtimes"
   ]
  },
  {
   "cell_type": "code",
   "execution_count": 6,
   "metadata": {},
   "outputs": [],
   "source": [
    "runtimes = dataset.get_complete_records().apply(lambda x: x.provenance.wall_time)"
   ]
  },
  {
   "cell_type": "markdown",
   "metadata": {},
   "source": [
    "Print statistics in minutes"
   ]
  },
  {
   "cell_type": "code",
   "execution_count": 7,
   "metadata": {},
   "outputs": [
    {
     "data": {
      "text/plain": [
       "count    10497.000000\n",
       "mean        14.906528\n",
       "std         20.638045\n",
       "min          0.553135\n",
       "25%          4.820838\n",
       "50%          9.302891\n",
       "75%         16.677065\n",
       "max        479.774724\n",
       "Name: small_basis, dtype: float64"
      ]
     },
     "execution_count": 7,
     "metadata": {},
     "output_type": "execute_result"
    }
   ],
   "source": [
    "(runtimes / 60).describe()"
   ]
  },
  {
   "cell_type": "code",
   "execution_count": 8,
   "metadata": {},
   "outputs": [
    {
     "data": {
      "image/png": "[encoded data removed]",
      "text/plain": [
       "<Figure size 252x180 with 1 Axes>"
      ]
     },
     "metadata": {
      "needs_background": "light"
     },
     "output_type": "display_data"
    }
   ],
   "source": [
    "fig, ax = plt.subplots(figsize=(3.5, 2.5))\n",
    "\n",
    "min_ = np.log10(runtimes.min())\n",
    "max_ = np.log10(runtimes.max())\n",
    "ax.hist(runtimes, bins=np.logspace(min_ - 0.2, max_ + 0.2, 16))\n",
    "\n",
    "ax.set_xscale('log')\n",
    "ax.set_xlabel('Runtime (s)')\n",
    "ax.set_ylabel('Frequency')\n",
    "\n",
    "fig.tight_layout()"
   ]
  },
  {
   "cell_type": "markdown",
   "metadata": {},
   "source": [
    "## Review the ZPE Calculations\n",
    "We ran Hessian calculations for each geometry"
   ]
  },
  {
   "cell_type": "code",
   "execution_count": 9,
   "metadata": {},
   "outputs": [],
   "source": [
    "hess = HessianDataset('Electrolyte Hessian', 'nwchem', 'small_basis')"
   ]
  },
  {
   "cell_type": "markdown",
   "metadata": {},
   "source": [
    "Get the runtimes"
   ]
  },
  {
   "cell_type": "code",
   "execution_count": 10,
   "metadata": {},
   "outputs": [
    {
     "name": "stdout",
     "output_type": "stream",
     "text": [
      "CPU times: user 8.93 s, sys: 2.95 s, total: 11.9 s\n",
      "Wall time: 1min 6s\n"
     ]
    }
   ],
   "source": [
    "%%time\n",
    "records = hess.get_complete_records()\n",
    "runtimes = records.apply(lambda x: x.provenance.wall_time)"
   ]
  },
  {
   "cell_type": "markdown",
   "metadata": {},
   "source": [
    "Print statistics in minutes"
   ]
  },
  {
   "cell_type": "code",
   "execution_count": 11,
   "metadata": {},
   "outputs": [
    {
     "data": {
      "text/plain": [
       "count    10399.000000\n",
       "mean        11.722752\n",
       "std         21.737953\n",
       "min          0.226785\n",
       "25%          3.218389\n",
       "50%          5.998776\n",
       "75%         13.381290\n",
       "max        780.489533\n",
       "Name: record, dtype: float64"
      ]
     },
     "execution_count": 11,
     "metadata": {},
     "output_type": "execute_result"
    }
   ],
   "source": [
    "(runtimes / 60).describe()"
   ]
  },
  {
   "cell_type": "code",
   "execution_count": 12,
   "metadata": {},
   "outputs": [
    {
     "data": {
      "image/png": "[encoded data removed]",
      "text/plain": [
       "<Figure size 252x180 with 1 Axes>"
      ]
     },
     "metadata": {
      "needs_background": "light"
     },
     "output_type": "display_data"
    }
   ],
   "source": [
    "fig, ax = plt.subplots(figsize=(3.5, 2.5))\n",
    "\n",
    "min_ = np.log10(runtimes.min())\n",
    "max_ = np.log10(runtimes.max())\n",
    "ax.hist(runtimes, bins=np.logspace(min_ - 0.2, max_ + 0.2, 16))\n",
    "\n",
    "ax.set_xscale('log')\n",
    "ax.set_xlabel('Runtime (s)')\n",
    "ax.set_ylabel('Frequency')\n",
    "\n",
    "fig.tight_layout()"
   ]
  },
  {
   "cell_type": "markdown",
   "metadata": {},
   "source": [
    "## Review Vertical Energies\n",
    "Starting with the XTB geometry"
   ]
  },
  {
   "cell_type": "code",
   "execution_count": 13,
   "metadata": {},
   "outputs": [],
   "source": [
    "xtb_vert = SinglePointDataset('Electrolyte XTB Neutral Geometry, Small-Basis Energy', 'nwchem', 'small_basis')"
   ]
  },
  {
   "cell_type": "markdown",
   "metadata": {},
   "source": [
    "Pull down a summary"
   ]
  },
  {
   "cell_type": "code",
   "execution_count": 14,
   "metadata": {},
   "outputs": [
    {
     "name": "stdout",
     "output_type": "stream",
     "text": [
      "Completed 12065 single point energy computations\n"
     ]
    }
   ],
   "source": [
    "records = xtb_vert.get_complete_records()\n",
    "runtimes = records.apply(lambda x: x.provenance.wall_time)\n",
    "print(f'Completed {len(records)} single point energy computations')"
   ]
  },
  {
   "cell_type": "code",
   "execution_count": 15,
   "metadata": {},
   "outputs": [
    {
     "data": {
      "text/plain": [
       "count    12065.000000\n",
       "mean         0.706182\n",
       "std          0.903899\n",
       "min          0.174134\n",
       "25%          0.338754\n",
       "50%          0.466157\n",
       "75%          0.685902\n",
       "max         20.311530\n",
       "Name: record, dtype: float64"
      ]
     },
     "execution_count": 15,
     "metadata": {},
     "output_type": "execute_result"
    }
   ],
   "source": [
    "(runtimes / 60).describe()"
   ]
  },
  {
   "cell_type": "code",
   "execution_count": 16,
   "metadata": {},
   "outputs": [
    {
     "data": {
      "image/png": "[encoded data removed]",
      "text/plain": [
       "<Figure size 252x180 with 1 Axes>"
      ]
     },
     "metadata": {
      "needs_background": "light"
     },
     "output_type": "display_data"
    }
   ],
   "source": [
    "fig, ax = plt.subplots(figsize=(3.5, 2.5))\n",
    "\n",
    "min_ = np.log10(runtimes.min())\n",
    "max_ = np.log10(runtimes.max())\n",
    "ax.hist(runtimes, bins=np.logspace(min_ - 0.2, max_ + 0.2, 16))\n",
    "\n",
    "ax.set_xscale('log')\n",
    "ax.set_xlabel('Runtime (s)')\n",
    "ax.set_ylabel('Frequency')\n",
    "\n",
    "fig.tight_layout()"
   ]
  },
  {
   "cell_type": "markdown",
   "metadata": {},
   "source": [
    "#### Vertical using the Small Basis Geometry"
   ]
  },
  {
   "cell_type": "code",
   "execution_count": 17,
   "metadata": {},
   "outputs": [],
   "source": [
    "smb_vert = SinglePointDataset('Electrolyte SMB Neutral Geometry, Small-Basis Energy', 'nwchem', 'small_basis')"
   ]
  },
  {
   "cell_type": "markdown",
   "metadata": {},
   "source": [
    "Pull down a summary"
   ]
  },
  {
   "cell_type": "code",
   "execution_count": 18,
   "metadata": {},
   "outputs": [
    {
     "name": "stdout",
     "output_type": "stream",
     "text": [
      "Completed 6290 single point energy computations\n"
     ]
    }
   ],
   "source": [
    "records = smb_vert.get_complete_records()\n",
    "runtimes = records.apply(lambda x: x.provenance.wall_time)\n",
    "print(f'Completed {len(records)} single point energy computations')"
   ]
  },
  {
   "cell_type": "code",
   "execution_count": 19,
   "metadata": {},
   "outputs": [
    {
     "data": {
      "text/plain": [
       "count    6290.000000\n",
       "mean        0.717780\n",
       "std         0.939200\n",
       "min         0.162543\n",
       "25%         0.336626\n",
       "50%         0.463161\n",
       "75%         0.688941\n",
       "max        22.928772\n",
       "Name: record, dtype: float64"
      ]
     },
     "execution_count": 19,
     "metadata": {},
     "output_type": "execute_result"
    }
   ],
   "source": [
    "(runtimes / 60).describe()"
   ]
  },
  {
   "cell_type": "code",
   "execution_count": 20,
   "metadata": {},
   "outputs": [
    {
     "data": {
      "image/png": "[encoded data removed]",
      "text/plain": [
       "<Figure size 252x180 with 1 Axes>"
      ]
     },
     "metadata": {
      "needs_background": "light"
     },
     "output_type": "display_data"
    }
   ],
   "source": [
    "fig, ax = plt.subplots(figsize=(3.5, 2.5))\n",
    "\n",
    "min_ = np.log10(runtimes.min())\n",
    "max_ = np.log10(runtimes.max())\n",
    "ax.hist(runtimes, bins=np.logspace(min_ - 0.2, max_ + 0.2, 16))\n",
    "\n",
    "ax.set_xscale('log')\n",
    "ax.set_xlabel('Runtime (s)')\n",
    "ax.set_ylabel('Frequency')\n",
    "\n",
    "fig.tight_layout()"
   ]
  },
  {
   "cell_type": "markdown",
   "metadata": {},
   "source": [
    "## Review Solvation Energy Calculations\n",
    "Compute the solvation energies for all of the molecules"
   ]
  },
  {
   "cell_type": "code",
   "execution_count": 21,
   "metadata": {},
   "outputs": [],
   "source": [
    "solv_dataset = SolvationEnergyDataset('EDW NWChem Solvation Energy', 'nwchem', 'small_basis')"
   ]
  },
  {
   "cell_type": "markdown",
   "metadata": {},
   "source": [
    "Pull down a summary"
   ]
  },
  {
   "cell_type": "code",
   "execution_count": 22,
   "metadata": {},
   "outputs": [
    {
     "name": "stdout",
     "output_type": "stream",
     "text": [
      "Completed 25150 solvation energies of 4179 molecules\n",
      "CPU times: user 9.94 s, sys: 68.4 ms, total: 10 s\n",
      "Wall time: 31.7 s\n"
     ]
    }
   ],
   "source": [
    "%%time\n",
    "solv_energies = solv_dataset.get_energies()\n",
    "solv_df = solv_dataset.coll.get_values()\n",
    "print(f'Completed {(~solv_df.isnull()).values.sum()} solvation energies '\n",
    "      f'of {len(solv_energies)} molecules')"
   ]
  },
  {
   "cell_type": "markdown",
   "metadata": {},
   "source": [
    "We also do them for the XTB and SMB verticals"
   ]
  },
  {
   "cell_type": "code",
   "execution_count": 24,
   "metadata": {},
   "outputs": [],
   "source": [
    "xtb_vert_solv = SolvationEnergyDataset('Electrolyte XTB Neutral Geometry, Small-Basis Solvation Energy', 'nwchem', 'small_basis')\n"
   ]
  },
  {
   "cell_type": "markdown",
   "metadata": {},
   "source": [
    "## Compute the redox properties\n",
    "Save them to disk for later user"
   ]
  },
  {
   "cell_type": "markdown",
   "metadata": {},
   "source": [
    "### Vertical IPs\n",
    "Fastest approximation, especially when we start with the XTB geometry"
   ]
  },
  {
   "cell_type": "code",
   "execution_count": 25,
   "metadata": {},
   "outputs": [
    {
     "name": "stderr",
     "output_type": "stream",
     "text": [
      "RDKit WARNING: [14:42:14] WARNING:  Problems/mismatches: Mobile-H( Mobile-H groups: Attachment points, Number)\n",
      "RDKit WARNING: [14:42:22] Cannot assign bond directions!\n",
      "RDKit WARNING: [14:42:23] Cannot assign bond directions!\n",
      "RDKit WARNING: [14:42:26] Cannot assign bond directions!\n"
     ]
    },
    {
     "name": "stdout",
     "output_type": "stream",
     "text": [
      "Calculations completed for 4332 molecules\n"
     ]
    }
   ],
   "source": [
    "redox_data = collect_molecular_properties(xtb_vert, xtb_vert_solv)\n",
    "print(f'Calculations completed for {len(redox_data)} molecules')"
   ]
  },
  {
   "cell_type": "code",
   "execution_count": 26,
   "metadata": {},
   "outputs": [],
   "source": [
    "redox_data.to_csv('datasets/small-basis_vertical-xtb_redox.csv', index=False)"
   ]
  },
  {
   "cell_type": "markdown",
   "metadata": {},
   "source": [
    "Now for the small-basis set geometry"
   ]
  },
  {
   "cell_type": "code",
   "execution_count": 28,
   "metadata": {},
   "outputs": [
    {
     "name": "stderr",
     "output_type": "stream",
     "text": [
      "RDKit WARNING: [14:48:11] Cannot assign bond directions!\n"
     ]
    },
    {
     "name": "stdout",
     "output_type": "stream",
     "text": [
      "Calculations completed for 2257 molecules\n"
     ]
    }
   ],
   "source": [
    "redox_data = collect_molecular_properties(smb_vert)\n",
    "print(f'Calculations completed for {len(redox_data)} molecules')"
   ]
  },
  {
   "cell_type": "code",
   "execution_count": 29,
   "metadata": {},
   "outputs": [],
   "source": [
    "redox_data.to_csv('datasets/small-basis_vertical-smb_redox.csv', index=False)"
   ]
  },
  {
   "cell_type": "markdown",
   "metadata": {},
   "source": [
    "### Without ZPE Correction\n",
    "Faster approximation"
   ]
  },
  {
   "cell_type": "code",
   "execution_count": 30,
   "metadata": {},
   "outputs": [
    {
     "name": "stderr",
     "output_type": "stream",
     "text": [
      "RDKit WARNING: [14:49:15] Cannot assign bond directions!\n"
     ]
    },
    {
     "name": "stdout",
     "output_type": "stream",
     "text": [
      "Calculations completed for 4165 molecules\n"
     ]
    },
    {
     "name": "stderr",
     "output_type": "stream",
     "text": [
      "RDKit WARNING: [14:49:23] Cannot assign bond directions!\n"
     ]
    }
   ],
   "source": [
    "redox_data = collect_molecular_properties(dataset, solv_dataset)\n",
    "print(f'Calculations completed for {len(redox_data)} molecules')"
   ]
  },
  {
   "cell_type": "code",
   "execution_count": 31,
   "metadata": {},
   "outputs": [],
   "source": [
    "redox_data.to_csv('datasets/small-basis_no-zpe_redox.csv', index=False)"
   ]
  },
  {
   "cell_type": "markdown",
   "metadata": {},
   "source": [
    "### With ZPE\n",
    "Should be closer to agreeing fully"
   ]
  },
  {
   "cell_type": "code",
   "execution_count": 32,
   "metadata": {},
   "outputs": [
    {
     "name": "stderr",
     "output_type": "stream",
     "text": [
      "RDKit WARNING: [14:53:33] Cannot assign bond directions!\n",
      "RDKit WARNING: [14:53:41] Cannot assign bond directions!\n"
     ]
    },
    {
     "name": "stdout",
     "output_type": "stream",
     "text": [
      "Calculations completed for 4140 molecules\n"
     ]
    }
   ],
   "source": [
    "redox_data = collect_molecular_properties(dataset, solv_dataset, hess)\n",
    "print(f'Calculations completed for {len(redox_data)} molecules')"
   ]
  },
  {
   "cell_type": "code",
   "execution_count": 33,
   "metadata": {},
   "outputs": [],
   "source": [
    "redox_data.to_csv('datasets/small-basis_redox.csv', index=False)"
   ]
  },
  {
   "cell_type": "code",
   "execution_count": null,
   "metadata": {},
   "outputs": [],
   "source": []
  }
 ],
 "metadata": {
  "kernelspec": {
   "display_name": "edw",
   "language": "python",
   "name": "edw"
  },
  "language_info": {
   "codemirror_mode": {
    "name": "ipython",
    "version": 3
   },
   "file_extension": ".py",
   "mimetype": "text/x-python",
   "name": "python",
   "nbconvert_exporter": "python",
   "pygments_lexer": "ipython3",
   "version": "3.7.9"
  }
 },
 "nbformat": 4,
 "nbformat_minor": 4
}
