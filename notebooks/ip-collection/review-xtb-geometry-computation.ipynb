{
 "cells": [
  {
   "cell_type": "markdown",
   "metadata": {},
   "source": [
    "# Compute IP/EA with XTB\n",
    "Check on how the calculations are doing. What the run times are, what fractions have completed, etc."
   ]
  },
  {
   "cell_type": "code",
   "execution_count": 1,
   "metadata": {},
   "outputs": [],
   "source": [
    "%matplotlib inline\n",
    "from matplotlib import pyplot as plt\n",
    "from edw.qc import GeometryDataset, SolvationEnergyDataset, compute_ionization_potentials, f\n",
    "from qcelemental.physical_constants import constants\n",
    "import pandas as pd\n",
    "import numpy as np"
   ]
  },
  {
   "cell_type": "markdown",
   "metadata": {},
   "source": [
    "## Get the Geometries\n",
    "Gather the XTB geometries"
   ]
  },
  {
   "cell_type": "code",
   "execution_count": 2,
   "metadata": {},
   "outputs": [],
   "source": [
    "dataset = GeometryDataset('Electrolyte Geometry XTB', 'xtb')"
   ]
  },
  {
   "cell_type": "markdown",
   "metadata": {},
   "source": [
    "Print out the general statusqcelemental"
   ]
  },
  {
   "cell_type": "code",
   "execution_count": 3,
   "metadata": {},
   "outputs": [
    {
     "data": {
      "text/html": [
       "<div>\n",
       "<style scoped>\n",
       "    .dataframe tbody tr th:only-of-type {\n",
       "        vertical-align: middle;\n",
       "    }\n",
       "\n",
       "    .dataframe tbody tr th {\n",
       "        vertical-align: top;\n",
       "    }\n",
       "\n",
       "    .dataframe thead th {\n",
       "        text-align: right;\n",
       "    }\n",
       "</style>\n",
       "<table border=\"1\" class=\"dataframe\">\n",
       "  <thead>\n",
       "    <tr style=\"text-align: right;\">\n",
       "      <th></th>\n",
       "      <th>xtb</th>\n",
       "    </tr>\n",
       "  </thead>\n",
       "  <tbody>\n",
       "    <tr>\n",
       "      <th>COMPLETE</th>\n",
       "      <td>4503</td>\n",
       "    </tr>\n",
       "    <tr>\n",
       "      <th>ERROR</th>\n",
       "      <td>1</td>\n",
       "    </tr>\n",
       "  </tbody>\n",
       "</table>\n",
       "</div>"
      ],
      "text/plain": [
       "           xtb\n",
       "COMPLETE  4503\n",
       "ERROR        1"
      ]
     },
     "execution_count": 3,
     "metadata": {},
     "output_type": "execute_result"
    }
   ],
   "source": [
    "dataset.coll.status()"
   ]
  },
  {
   "cell_type": "markdown",
   "metadata": {},
   "source": [
    "Review the completed geometries"
   ]
  },
  {
   "cell_type": "code",
   "execution_count": 4,
   "metadata": {},
   "outputs": [
    {
     "name": "stdout",
     "output_type": "stream",
     "text": [
      "Completed 4503 geometries of 1501 molecules\n",
      "All ionic states computed for 1501 molecules\n",
      "CPU times: user 2.1 s, sys: 44.8 ms, total: 2.15 s\n",
      "Wall time: 5.51 s\n"
     ]
    }
   ],
   "source": [
    "%%time\n",
    "geoms = dataset.get_geometries()\n",
    "print(f'Completed {sum(map(len, geoms.values()))} geometries of {len(geoms)} molecules')\n",
    "print(f'All ionic states computed for {len(list(filter(lambda x: len(x) == 3, geoms.values())))} molecules')"
   ]
  },
  {
   "cell_type": "markdown",
   "metadata": {},
   "source": [
    "## Review the Solvation Energy Calculations\n",
    "Compute the solvation energies for all of the molecules"
   ]
  },
  {
   "cell_type": "code",
   "execution_count": 5,
   "metadata": {},
   "outputs": [],
   "source": [
    "solv_dataset = SolvationEnergyDataset('EDW XTB Solvation Energy', 'xtb', 'xtb')"
   ]
  },
  {
   "cell_type": "markdown",
   "metadata": {},
   "source": [
    "Pull down a summary"
   ]
  },
  {
   "cell_type": "code",
   "execution_count": 6,
   "metadata": {},
   "outputs": [
    {
     "name": "stdout",
     "output_type": "stream",
     "text": [
      "Completed 17863 solvation energies of 1592 molecules\n",
      "CPU times: user 5.85 s, sys: 35.7 ms, total: 5.88 s\n",
      "Wall time: 22.4 s\n"
     ]
    }
   ],
   "source": [
    "%%time\n",
    "solv_energies = solv_dataset.get_energies()\n",
    "solv_df = solv_dataset.coll.get_values()\n",
    "print(f'Completed {(~solv_df.isnull()).values.sum()} solvation energies '\n",
    "      f'of {len(solv_energies)} molecules')"
   ]
  },
  {
   "cell_type": "code",
   "execution_count": 7,
   "metadata": {},
   "outputs": [],
   "source": [
    "redox_data = compute_ionization_potentials(dataset, solv_dataset)"
   ]
  },
  {
   "cell_type": "markdown",
   "metadata": {},
   "source": [
    "### Compute Redox Properties from Gaussian\n",
    "We have the raw energies, will have to do some work to process them into a usable form"
   ]
  },
  {
   "cell_type": "code",
   "execution_count": 8,
   "metadata": {},
   "outputs": [],
   "source": [
    "gaussian_data = pd.read_csv('solvent_results-3.csv')"
   ]
  },
  {
   "cell_type": "code",
   "execution_count": 12,
   "metadata": {},
   "outputs": [],
   "source": [
    "def compute_ea_ip(level='b3lyp'):\n",
    "    # Compute the EA and IP in each solvent we have\n",
    "    for label, name in zip(['reduced', 'oxidized'], ['EA', 'IP']):\n",
    "        # Prefactor\n",
    "        p = -1 if name == \"EA\" else 1\n",
    "\n",
    "        # Compute the potential in gas\n",
    "        g_chg = gaussian_data[f'u0_{label}.{level}'] - gaussian_data[f'u0.{level}']\n",
    "        g_chg_u = constants.ureg.Quantity(g_chg.values * constants.hartree2kcalmol, 'kcal/mol')\n",
    "        gaussian_data[name] = (p * g_chg_u / f).to(\"V\").magnitude\n",
    "\n",
    "        # Correct for solvent\n",
    "        sol_cols = ['water', 'acetonitrile', 'ethanol', 'dimethylsulfoxide', 'acetone']\n",
    "        for solv in sol_cols:\n",
    "\n",
    "            solv_neu = gaussian_data[f'solvent_neutral.B3LYP_{solv}'] / constants.hartree2kcalmol\n",
    "            solv_chg = gaussian_data[f'solvent_{label}.B3LYP_{solv}'] - (gaussian_data[f'u0_{label}.b3lyp'] - gaussian_data[f'zpe_{label}.b3lyp'])\n",
    "            g_solv = constants.ureg.Quantity(\n",
    "                (g_chg + solv_chg - solv_neu).values * constants.hartree2kcalmol, 'kcal/mol')\n",
    "            e_red = p * g_solv / (1 * f)\n",
    "            gaussian_data[f'{name}_{solv}'] = e_red.to(\"V\").magnitude\n",
    "compute_ea_ip('b3lyp')"
   ]
  },
  {
   "cell_type": "code",
   "execution_count": 13,
   "metadata": {},
   "outputs": [
    {
     "data": {
      "image/png": "[encoded data removed]",
      "text/plain": [
       "<Figure size 324x162 with 2 Axes>"
      ]
     },
     "metadata": {
      "needs_background": "light"
     },
     "output_type": "display_data"
    }
   ],
   "source": [
    "fig, axs = plt.subplots(1, 2, figsize=(4.5, 2.25))\n",
    "\n",
    "merged_data = redox_data.merge(gaussian_data, on='inchi_key', suffixes=['_xtb', '_g09'])\n",
    "\n",
    "for l, ax in zip(['EA', 'IP'], axs):\n",
    "    xtb = merged_data[f'{l}_xtb']\n",
    "    g09 = merged_data[f'{l}_g09']\n",
    "    r2 = np.corrcoef(xtb, g09)[0, 1] ** 2\n",
    "    ax.scatter(xtb, g09, s=2.5)\n",
    "    ax.text(0.1, 0.9, f'$R^2$ = {r2:.2f}', transform=ax.transAxes)\n",
    "\n",
    "    min_ = min(ax.get_xlim()[0], ax.get_ylim()[0])\n",
    "    max_ = max(ax.get_xlim()[1], ax.get_ylim()[1])\n",
    "    ax.set_xlim(min_, max_)\n",
    "    ax.set_ylim(ax.get_xlim())\n",
    "    ax.plot(ax.get_xlim(), ax.get_xlim(), 'k--')\n",
    "\n",
    "    ax.set_xlabel(f'{l}, XTB (V)')\n",
    "    ax.set_ylabel(f'{l}, Gaussian (V)')\n",
    "fig.tight_layout()"
   ]
  },
  {
   "cell_type": "markdown",
   "metadata": {},
   "source": [
    "Save the Gaussian Data"
   ]
  },
  {
   "cell_type": "code",
   "execution_count": 11,
   "metadata": {},
   "outputs": [],
   "source": [
    "gaussian_data.to_csv('gaussian-redox.csv', index=False)"
   ]
  },
  {
   "cell_type": "markdown",
   "metadata": {},
   "source": [
    "**TODO**: Send XTB results to "
   ]
  },
  {
   "cell_type": "code",
   "execution_count": null,
   "metadata": {},
   "outputs": [],
   "source": [
    "redox_data."
   ]
  }
 ],
 "metadata": {
  "kernelspec": {
   "display_name": "Python 3",
   "language": "python",
   "name": "python3"
  },
  "language_info": {
   "codemirror_mode": {
    "name": "ipython",
    "version": 3
   },
   "file_extension": ".py",
   "mimetype": "text/x-python",
   "name": "python",
   "nbconvert_exporter": "python",
   "pygments_lexer": "ipython3",
   "version": "3.7.4"
  }
 },
 "nbformat": 4,
 "nbformat_minor": 4
}
