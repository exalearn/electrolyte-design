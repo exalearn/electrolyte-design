{
 "cells": [
  {
   "cell_type": "markdown",
   "metadata": {},
   "source": [
    "# Post-Process Gaussian Data\n",
    "Compute the ionization potential and electron affinity"
   ]
  },
  {
   "cell_type": "code",
   "execution_count": 1,
   "metadata": {},
   "outputs": [
    {
     "name": "stderr",
     "output_type": "stream",
     "text": [
      "RDKit WARNING: [11:56:55] Enabling RDKit 2019.09.3 jupyter extensions\n"
     ]
    }
   ],
   "source": [
    "%matplotlib inline\n",
    "from matplotlib import pyplot as plt\n",
    "from moldesign.simulate.qcfractal import f\n",
    "from qcelemental.physical_constants import constants\n",
    "import pandas as pd"
   ]
  },
  {
   "cell_type": "markdown",
   "metadata": {},
   "source": [
    "## Load in the data\n",
    "Get the data from an output of Naveen's computations"
   ]
  },
  {
   "cell_type": "code",
   "execution_count": 2,
   "metadata": {},
   "outputs": [
    {
     "name": "stdout",
     "output_type": "stream",
     "text": [
      "Loaded 2744 molecules\n"
     ]
    }
   ],
   "source": [
    "gaussian_data = pd.read_csv('seed-datasets/g4mp2_results.csv')\n",
    "print(f'Loaded {len(gaussian_data)} molecules')"
   ]
  },
  {
   "cell_type": "markdown",
   "metadata": {},
   "source": [
    "## Compute the IP and EA\n",
    "At the G4MP2 level"
   ]
  },
  {
   "cell_type": "code",
   "execution_count": 3,
   "metadata": {},
   "outputs": [],
   "source": [
    "def compute_ea_ip(level='b3lyp'):\n",
    "    # Compute the EA and IP in each solvent we have\n",
    "    for label, name in zip(['reduced', 'oxidized'], ['EA', 'IP']):\n",
    "        # Prefactor\n",
    "        p = -1 if name == \"EA\" else 1\n",
    "\n",
    "        # Compute the potential in gas\n",
    "        g_chg = gaussian_data[f'u0_{label}.{level}'] - gaussian_data[f'u0.{level}']\n",
    "        g_chg_u = constants.ureg.Quantity(g_chg.values * constants.hartree2kcalmol, 'kcal/mol')\n",
    "        gaussian_data[name] = (p * g_chg_u / f).to(\"V\").magnitude\n",
    "\n",
    "        # Correct for solvent\n",
    "        sol_cols = ['water', 'acetonitrile', 'ethanol', 'dimethylsulfoxide', 'acetone']\n",
    "        for solv in sol_cols:\n",
    "\n",
    "            solv_neu = gaussian_data[f'solvent_neutral.B3LYP_{solv}'] / constants.hartree2kcalmol\n",
    "            solv_chg = gaussian_data[f'solvent_{label}.B3LYP_{solv}'] / constants.hartree2kcalmol\n",
    "            g_solv = constants.ureg.Quantity(\n",
    "                (g_chg + solv_chg - solv_neu).values * constants.hartree2kcalmol, 'kcal/mol')\n",
    "            e_red = p * g_solv / (1 * f)\n",
    "            gaussian_data[f'{name}_{solv}'] = e_red.to(\"V\").magnitude\n",
    "compute_ea_ip('g4mp2')"
   ]
  },
  {
   "cell_type": "markdown",
   "metadata": {},
   "source": [
    "Remove outliers"
   ]
  },
  {
   "cell_type": "code",
   "execution_count": 4,
   "metadata": {},
   "outputs": [],
   "source": [
    "gaussian_data.query('IP > 3 and EA > -4 and EA < 5', inplace=True)"
   ]
  },
  {
   "cell_type": "code",
   "execution_count": 5,
   "metadata": {},
   "outputs": [],
   "source": [
    "solv_cols = [c for c in gaussian_data.columns if c.startswith('solv')]"
   ]
  },
  {
   "cell_type": "code",
   "execution_count": 6,
   "metadata": {},
   "outputs": [],
   "source": [
    "gaussian_data = gaussian_data[~(gaussian_data[solv_cols] < -200).any(axis=1)]"
   ]
  },
  {
   "cell_type": "code",
   "execution_count": 7,
   "metadata": {},
   "outputs": [],
   "source": [
    "gaussian_data.to_csv('datasets/gaussian-redox.csv', index=False)"
   ]
  },
  {
   "cell_type": "code",
   "execution_count": null,
   "metadata": {},
   "outputs": [],
   "source": []
  }
 ],
 "metadata": {
  "kernelspec": {
   "display_name": "edw",
   "language": "python",
   "name": "edw"
  },
  "language_info": {
   "codemirror_mode": {
    "name": "ipython",
    "version": 3
   },
   "file_extension": ".py",
   "mimetype": "text/x-python",
   "name": "python",
   "nbconvert_exporter": "python",
   "pygments_lexer": "ipython3",
   "version": "3.7.9"
  }
 },
 "nbformat": 4,
 "nbformat_minor": 4
}
