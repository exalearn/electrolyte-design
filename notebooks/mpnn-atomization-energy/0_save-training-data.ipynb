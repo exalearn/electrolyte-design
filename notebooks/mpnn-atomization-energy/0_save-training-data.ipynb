{
 "cells": [
  {
   "cell_type": "markdown",
   "metadata": {},
   "source": [
    "# Prepare Input Data\n",
    "We are going to train an MPNN to predict the B3LYP-level atomization energy."
   ]
  },
  {
   "cell_type": "code",
   "execution_count": 1,
   "metadata": {},
   "outputs": [
    {
     "name": "stderr",
     "output_type": "stream",
     "text": [
      "RDKit WARNING: [18:48:30] Enabling RDKit 2019.09.3 jupyter extensions\n"
     ]
    }
   ],
   "source": [
    "%matplotlib inline\n",
    "from matplotlib import pyplot as plt\n",
    "from moldesign.score.mpnn.data import convert_nx_to_dict, make_type_lookup_tables, make_tfrecord\n",
    "from moldesign.utils.conversions import convert_smiles_to_nx\n",
    "from sklearn.model_selection import train_test_split\n",
    "from tqdm import tqdm\n",
    "import tensorflow as tf\n",
    "import pandas as pd\n",
    "import json"
   ]
  },
  {
   "cell_type": "markdown",
   "metadata": {},
   "source": [
    "## Get the Data\n",
    "It is stored on a [GitHub page](https://github.com/globus-labs/g4mp2-atomization-energy) from a previous project"
   ]
  },
  {
   "cell_type": "code",
   "execution_count": 2,
   "metadata": {},
   "outputs": [
    {
     "name": "stdout",
     "output_type": "stream",
     "text": [
      "Downloaded 130258 training entries\n"
     ]
    }
   ],
   "source": [
    "data = pd.read_json('https://github.com/globus-labs/g4mp2-atomization-energy/raw/master/data/output/g4mp2_data.json.gz', \n",
    "                   lines=True)\n",
    "print(f'Downloaded {len(data)} training entries')"
   ]
  },
  {
   "cell_type": "markdown",
   "metadata": {},
   "source": [
    "Convert the SMILES to a networkx object"
   ]
  },
  {
   "cell_type": "code",
   "execution_count": 3,
   "metadata": {},
   "outputs": [
    {
     "name": "stdout",
     "output_type": "stream",
     "text": [
      "CPU times: user 1min 2s, sys: 1.64 s, total: 1min 4s\n",
      "Wall time: 1min 4s\n"
     ]
    }
   ],
   "source": [
    "%%time\n",
    "data['nx'] = data['smiles_0'].apply(lambda x: convert_smiles_to_nx(x, add_hs=True))"
   ]
  },
  {
   "cell_type": "markdown",
   "metadata": {},
   "source": [
    "## Save the Data as TF Records\n",
    "We'll make both a training, validation and test set"
   ]
  },
  {
   "cell_type": "code",
   "execution_count": 4,
   "metadata": {},
   "outputs": [
    {
     "name": "stdout",
     "output_type": "stream",
     "text": [
      "Set aside 13026 training entries\n"
     ]
    }
   ],
   "source": [
    "test_set = data.query('in_holdout')\n",
    "print(f'Set aside {len(test_set)} training entries')"
   ]
  },
  {
   "cell_type": "code",
   "execution_count": 5,
   "metadata": {},
   "outputs": [
    {
     "name": "stdout",
     "output_type": "stream",
     "text": [
      "Split off 105508 training and 11724 validation entries\n"
     ]
    }
   ],
   "source": [
    "train_set, val_set = train_test_split(data.query('not in_holdout'), test_size=0.1, random_state=1)\n",
    "print(f'Split off {len(train_set)} training and {len(val_set)} validation entries')"
   ]
  },
  {
   "cell_type": "markdown",
   "metadata": {},
   "source": [
    "Get all of the types observed in the dataset"
   ]
  },
  {
   "cell_type": "code",
   "execution_count": 6,
   "metadata": {},
   "outputs": [
    {
     "name": "stdout",
     "output_type": "stream",
     "text": [
      "CPU times: user 3.3 s, sys: 43.4 ms, total: 3.34 s\n",
      "Wall time: 3.34 s\n"
     ]
    }
   ],
   "source": [
    "%%time\n",
    "atom_types, bond_types = make_type_lookup_tables(data['nx'])"
   ]
  },
  {
   "cell_type": "code",
   "execution_count": 7,
   "metadata": {},
   "outputs": [],
   "source": [
    "with open('atom_types.json', 'w') as fp:\n",
    "    json.dump(atom_types, fp)\n",
    "with open('bond_types.json', 'w') as fp:\n",
    "    json.dump(bond_types, fp)"
   ]
  },
  {
   "cell_type": "markdown",
   "metadata": {},
   "source": [
    "Save the data in TF format"
   ]
  },
  {
   "cell_type": "code",
   "execution_count": 9,
   "metadata": {},
   "outputs": [
    {
     "name": "stderr",
     "output_type": "stream",
     "text": [
      "train: 105508it [01:04, 1646.04it/s]\n",
      "valid: 11724it [00:07, 1471.64it/s]\n",
      "test: 13026it [00:08, 1472.24it/s]\n"
     ]
    }
   ],
   "source": [
    "for name, dataset in zip(['train', 'valid', 'test'], [train_set, val_set, test_set]):\n",
    "    dataset = dataset.sample(frac=1.)  # Shuffle contents\n",
    "    with tf.io.TFRecordWriter(f'{name}_data.proto') as writer:\n",
    "        for _, entry in tqdm(dataset.iterrows(), desc=name):\n",
    "            record = convert_nx_to_dict(entry['nx'], atom_types, bond_types)\n",
    "            for output in ['u0_atom', 'g4mp2_atom']:\n",
    "                record[output] = entry[output]\n",
    "            writer.write(make_tfrecord(record))"
   ]
  },
  {
   "cell_type": "code",
   "execution_count": null,
   "metadata": {},
   "outputs": [],
   "source": []
  }
 ],
 "metadata": {
  "kernelspec": {
   "display_name": "edw",
   "language": "python",
   "name": "edw"
  },
  "language_info": {
   "codemirror_mode": {
    "name": "ipython",
    "version": 3
   },
   "file_extension": ".py",
   "mimetype": "text/x-python",
   "name": "python",
   "nbconvert_exporter": "python",
   "pygments_lexer": "ipython3",
   "version": "3.7.9"
  }
 },
 "nbformat": 4,
 "nbformat_minor": 4
}
