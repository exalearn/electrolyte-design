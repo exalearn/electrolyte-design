{
 "cells": [
  {
   "cell_type": "markdown",
   "metadata": {},
   "source": [
    "# Evaluate MPNN Performance\n",
    "Review the models which have been trained and pick one for our application."
   ]
  },
  {
   "cell_type": "code",
   "execution_count": 1,
   "metadata": {},
   "outputs": [],
   "source": [
    "%matplotlib inline\n",
    "from matplotlib import pyplot as plt\n",
    "from glob import glob\n",
    "import pandas as pd\n",
    "import numpy as np\n",
    "import json\n",
    "import os"
   ]
  },
  {
   "cell_type": "markdown",
   "metadata": {},
   "source": [
    "## Load in the Models\n",
    "They are all located in a directory with a `test_summary.json` file"
   ]
  },
  {
   "cell_type": "code",
   "execution_count": 2,
   "metadata": {},
   "outputs": [
    {
     "name": "stdout",
     "output_type": "stream",
     "text": [
      "Found 8 model directories\n"
     ]
    }
   ],
   "source": [
    "model_dirs = list(map(os.path.dirname, glob(os.path.join('networks', '**', 'test_summary.json'))))\n",
    "print(f'Found {len(model_dirs)} model directories')"
   ]
  },
  {
   "cell_type": "code",
   "execution_count": 3,
   "metadata": {},
   "outputs": [],
   "source": [
    "def get_summary(path):\n",
    "    \"\"\"Get the summary of a run\"\"\"\n",
    "    \n",
    "    output = {'path': path}\n",
    "    \n",
    "    # Load the config\n",
    "    with open(os.path.join(path, 'config.json')) as fp:\n",
    "        output.update(json.load(fp))\n",
    "        \n",
    "    # Load in the run summary\n",
    "    with open(os.path.join(path, 'test_summary.json')) as fp:\n",
    "        output.update(json.load(fp))\n",
    "    return output"
   ]
  },
  {
   "cell_type": "code",
   "execution_count": 4,
   "metadata": {},
   "outputs": [
    {
     "data": {
      "text/html": [
       "<div>\n",
       "<style scoped>\n",
       "    .dataframe tbody tr th:only-of-type {\n",
       "        vertical-align: middle;\n",
       "    }\n",
       "\n",
       "    .dataframe tbody tr th {\n",
       "        vertical-align: top;\n",
       "    }\n",
       "\n",
       "    .dataframe thead th {\n",
       "        text-align: right;\n",
       "    }\n",
       "</style>\n",
       "<table border=\"1\" class=\"dataframe\">\n",
       "  <thead>\n",
       "    <tr style=\"text-align: right;\">\n",
       "      <th></th>\n",
       "      <th>path</th>\n",
       "      <th>atom_features</th>\n",
       "      <th>num_messages</th>\n",
       "      <th>output_layers</th>\n",
       "      <th>batch_size</th>\n",
       "      <th>num_epochs</th>\n",
       "      <th>r2_score</th>\n",
       "      <th>spearmanr</th>\n",
       "      <th>kendall_tau</th>\n",
       "      <th>mae</th>\n",
       "      <th>rmse</th>\n",
       "    </tr>\n",
       "  </thead>\n",
       "  <tbody>\n",
       "    <tr>\n",
       "      <th>0</th>\n",
       "      <td>networks/T10_b128_n512_d98893</td>\n",
       "      <td>256</td>\n",
       "      <td>10</td>\n",
       "      <td>[512, 256, 128]</td>\n",
       "      <td>128</td>\n",
       "      <td>512</td>\n",
       "      <td>0.999932</td>\n",
       "      <td>0.999957</td>\n",
       "      <td>0.996013</td>\n",
       "      <td>0.001650</td>\n",
       "      <td>0.003107</td>\n",
       "    </tr>\n",
       "    <tr>\n",
       "      <th>2</th>\n",
       "      <td>networks/T10_b128_n1024_a22ea3</td>\n",
       "      <td>256</td>\n",
       "      <td>10</td>\n",
       "      <td>[512, 256, 128]</td>\n",
       "      <td>128</td>\n",
       "      <td>1024</td>\n",
       "      <td>0.999929</td>\n",
       "      <td>0.999955</td>\n",
       "      <td>0.995922</td>\n",
       "      <td>0.001670</td>\n",
       "      <td>0.003176</td>\n",
       "    </tr>\n",
       "    <tr>\n",
       "      <th>4</th>\n",
       "      <td>networks/T8_b128_n512_65b16f</td>\n",
       "      <td>256</td>\n",
       "      <td>8</td>\n",
       "      <td>[512, 256, 128]</td>\n",
       "      <td>128</td>\n",
       "      <td>512</td>\n",
       "      <td>0.999895</td>\n",
       "      <td>0.999943</td>\n",
       "      <td>0.995437</td>\n",
       "      <td>0.001903</td>\n",
       "      <td>0.003870</td>\n",
       "    </tr>\n",
       "    <tr>\n",
       "      <th>3</th>\n",
       "      <td>networks/T8_b64_n128_36abfb</td>\n",
       "      <td>256</td>\n",
       "      <td>8</td>\n",
       "      <td>[512, 256, 128]</td>\n",
       "      <td>64</td>\n",
       "      <td>128</td>\n",
       "      <td>0.999848</td>\n",
       "      <td>0.999906</td>\n",
       "      <td>0.993529</td>\n",
       "      <td>0.002726</td>\n",
       "      <td>0.004645</td>\n",
       "    </tr>\n",
       "    <tr>\n",
       "      <th>7</th>\n",
       "      <td>networks/T10_b128_n128_9f5c9b</td>\n",
       "      <td>256</td>\n",
       "      <td>10</td>\n",
       "      <td>[512, 256, 128]</td>\n",
       "      <td>128</td>\n",
       "      <td>128</td>\n",
       "      <td>0.999681</td>\n",
       "      <td>0.999819</td>\n",
       "      <td>0.990603</td>\n",
       "      <td>0.003979</td>\n",
       "      <td>0.006747</td>\n",
       "    </tr>\n",
       "  </tbody>\n",
       "</table>\n",
       "</div>"
      ],
      "text/plain": [
       "                             path  atom_features  num_messages  \\\n",
       "0   networks/T10_b128_n512_d98893            256            10   \n",
       "2  networks/T10_b128_n1024_a22ea3            256            10   \n",
       "4    networks/T8_b128_n512_65b16f            256             8   \n",
       "3     networks/T8_b64_n128_36abfb            256             8   \n",
       "7   networks/T10_b128_n128_9f5c9b            256            10   \n",
       "\n",
       "     output_layers  batch_size  num_epochs  r2_score  spearmanr  kendall_tau  \\\n",
       "0  [512, 256, 128]         128         512  0.999932   0.999957     0.996013   \n",
       "2  [512, 256, 128]         128        1024  0.999929   0.999955     0.995922   \n",
       "4  [512, 256, 128]         128         512  0.999895   0.999943     0.995437   \n",
       "3  [512, 256, 128]          64         128  0.999848   0.999906     0.993529   \n",
       "7  [512, 256, 128]         128         128  0.999681   0.999819     0.990603   \n",
       "\n",
       "        mae      rmse  \n",
       "0  0.001650  0.003107  \n",
       "2  0.001670  0.003176  \n",
       "4  0.001903  0.003870  \n",
       "3  0.002726  0.004645  \n",
       "7  0.003979  0.006747  "
      ]
     },
     "execution_count": 4,
     "metadata": {},
     "output_type": "execute_result"
    }
   ],
   "source": [
    "models = pd.DataFrame(get_summary(p) for p in model_dirs).sort_values('mae')\n",
    "models.head(5)"
   ]
  },
  {
   "cell_type": "markdown",
   "metadata": {},
   "source": [
    "## Validate the Model\n",
    "Visualize the results on the hold-out set of 10% of our data"
   ]
  },
  {
   "cell_type": "code",
   "execution_count": 5,
   "metadata": {},
   "outputs": [],
   "source": [
    "best_model = models.iloc[0]"
   ]
  },
  {
   "cell_type": "code",
   "execution_count": 6,
   "metadata": {},
   "outputs": [
    {
     "data": {
      "text/plain": [
       "path             networks/T10_b128_n512_d98893\n",
       "atom_features                              256\n",
       "num_messages                                10\n",
       "output_layers                  [512, 256, 128]\n",
       "batch_size                                 128\n",
       "num_epochs                                 512\n",
       "r2_score                              0.999932\n",
       "spearmanr                             0.999957\n",
       "kendall_tau                           0.996013\n",
       "mae                                 0.00165017\n",
       "rmse                                0.00310698\n",
       "Name: 0, dtype: object"
      ]
     },
     "execution_count": 6,
     "metadata": {},
     "output_type": "execute_result"
    }
   ],
   "source": [
    "best_model"
   ]
  },
  {
   "cell_type": "code",
   "execution_count": 7,
   "metadata": {},
   "outputs": [],
   "source": [
    "test_data = pd.read_csv(os.path.join(best_model['path'], 'test_results.csv'))"
   ]
  },
  {
   "cell_type": "code",
   "execution_count": 8,
   "metadata": {},
   "outputs": [
    {
     "data": {
      "image/png": "[encoded data removed]",
      "text/plain": [
       "<Figure size 468x180 with 2 Axes>"
      ]
     },
     "metadata": {
      "needs_background": "light"
     },
     "output_type": "display_data"
    }
   ],
   "source": [
    "fig, axs = plt.subplots(1, 2, figsize=(6.5, 2.5))\n",
    "\n",
    "errors = (test_data['pred'] - test_data['true']) * 627.50947406  # kcal/mol\n",
    "\n",
    "ax = axs[0]\n",
    "ax.scatter(test_data['true'], test_data['pred'], s=5, alpha=0.7, edgecolor='none')\n",
    "ax.text(0.05, 0.95, f'$R^2$:{best_model[\"r2_score\"]: .5f}\\nMAE:{errors.abs().mean(): .1f} kcal/mol', \n",
    "       transform=ax.transAxes, va='top', ha='left')\n",
    "\n",
    "ax.set_xlim(ax.get_xlim())\n",
    "ax.set_ylim(ax.get_xlim())\n",
    "\n",
    "ax.plot(ax.get_xlim(), ax.get_xlim(), 'k--')\n",
    "\n",
    "ax.set_xlabel('$U_0$, True (Ha)')\n",
    "ax.set_ylabel('$U_0$, MPNN (Ha)')\n",
    "\n",
    "ax = axs[1]\n",
    "\n",
    "\n",
    "ax.hist(errors, bins=np.linspace(-6, 6, 128))\n",
    "ax.text(1, 0.95, f'', \n",
    "       transform=ax.transAxes, va='top', ha='right')\n",
    "\n",
    "ax.set_ylim(ax.get_ylim())\n",
    "ax.plot([-1, -1], ax.get_ylim(), 'k--')\n",
    "ax.plot([1, 1], ax.get_ylim(), 'k--')\n",
    "\n",
    "ax.set_xlabel('Error (kcal/mol)')\n",
    "ax.set_ylabel('Frequency')\n",
    "fig.tight_layout()"
   ]
  },
  {
   "cell_type": "markdown",
   "metadata": {},
   "source": [
    "Link the best model to the local directory"
   ]
  },
  {
   "cell_type": "code",
   "execution_count": 9,
   "metadata": {},
   "outputs": [],
   "source": [
    "if os.path.isfile('best_model.h5'):\n",
    "    os.unlink('best_model.h5')\n",
    "os.symlink(os.path.join(best_model['path'], 'best_model.h5'), 'best_model.h5')"
   ]
  },
  {
   "cell_type": "code",
   "execution_count": 10,
   "metadata": {},
   "outputs": [],
   "source": [
    "if os.path.isfile('best_config.json'):\n",
    "    os.unlink('best_config.json')\n",
    "os.symlink(os.path.join(best_model['path'], 'config.json'), 'best_config.json')"
   ]
  },
  {
   "cell_type": "code",
   "execution_count": null,
   "metadata": {},
   "outputs": [],
   "source": []
  }
 ],
 "metadata": {
  "kernelspec": {
   "display_name": "Python 3",
   "language": "python",
   "name": "python3"
  },
  "language_info": {
   "codemirror_mode": {
    "name": "ipython",
    "version": 3
   },
   "file_extension": ".py",
   "mimetype": "text/x-python",
   "name": "python",
   "nbconvert_exporter": "python",
   "pygments_lexer": "ipython3",
   "version": "3.7.9"
  }
 },
 "nbformat": 4,
 "nbformat_minor": 4
}
