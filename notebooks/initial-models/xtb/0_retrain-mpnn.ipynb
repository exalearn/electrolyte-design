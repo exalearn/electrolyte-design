{
 "cells": [
  {
   "cell_type": "markdown",
   "metadata": {},
   "source": [
    "# Pretrain MPNN using NWChem Atomization Energies\n",
    "Use transfer learning from the Gaussian model to create an initial model for the atomization energy app."
   ]
  },
  {
   "cell_type": "code",
   "execution_count": 1,
   "metadata": {
    "execution": {
     "iopub.execute_input": "2020-11-17T20:29:54.845438Z",
     "iopub.status.busy": "2020-11-17T20:29:54.844825Z",
     "iopub.status.idle": "2020-11-17T20:29:56.519545Z",
     "shell.execute_reply": "2020-11-17T20:29:56.520529Z"
    }
   },
   "outputs": [
    {
     "name": "stderr",
     "output_type": "stream",
     "text": [
      "RDKit WARNING: [14:29:56] Enabling RDKit 2019.09.3 jupyter extensions\n"
     ]
    }
   ],
   "source": [
    "%matplotlib inline\n",
    "from matplotlib import pyplot as plt\n",
    "from moldesign.score.mpnn.data import convert_nx_to_dict, make_type_lookup_tables, make_tfrecord, make_data_loader\n",
    "from moldesign.score.mpnn.callbacks import LRLogger, EpochTimeLogger\n",
    "from moldesign.score.mpnn.layers import custom_objects\n",
    "from moldesign.utils.conversions import convert_smiles_to_nx\n",
    "from sklearn.model_selection import train_test_split\n",
    "from rdkit import Chem\n",
    "from tqdm import tqdm\n",
    "import tensorflow as tf\n",
    "import pandas as pd\n",
    "import numpy as np\n",
    "import json\n",
    "import os"
   ]
  },
  {
   "cell_type": "markdown",
   "metadata": {},
   "source": [
    "Configuration data"
   ]
  },
  {
   "cell_type": "code",
   "execution_count": 2,
   "metadata": {
    "execution": {
     "iopub.execute_input": "2020-11-17T20:29:56.525524Z",
     "iopub.status.busy": "2020-11-17T20:29:56.524559Z",
     "iopub.status.idle": "2020-11-17T20:29:56.526445Z",
     "shell.execute_reply": "2020-11-17T20:29:56.527388Z"
    }
   },
   "outputs": [],
   "source": [
    "train_path = os.path.join('..', '..', 'ip-collection', 'datasets', 'xtb_redox.csv')\n",
    "assert os.path.isfile(train_path)"
   ]
  },
  {
   "cell_type": "code",
   "execution_count": 3,
   "metadata": {
    "execution": {
     "iopub.execute_input": "2020-11-17T20:29:56.531458Z",
     "iopub.status.busy": "2020-11-17T20:29:56.531050Z",
     "iopub.status.idle": "2020-11-17T20:29:56.533477Z",
     "shell.execute_reply": "2020-11-17T20:29:56.533109Z"
    }
   },
   "outputs": [],
   "source": [
    "model_dir = os.path.join('..', '..', 'mpnn-atomization-energy')\n",
    "assert os.path.isdir(model_dir)"
   ]
  },
  {
   "cell_type": "markdown",
   "metadata": {},
   "source": [
    "## Load in the NWChem Data\n",
    "Make the training and validation data for the model"
   ]
  },
  {
   "cell_type": "code",
   "execution_count": 4,
   "metadata": {
    "execution": {
     "iopub.execute_input": "2020-11-17T20:29:56.537323Z",
     "iopub.status.busy": "2020-11-17T20:29:56.536884Z",
     "iopub.status.idle": "2020-11-17T20:29:56.697501Z",
     "shell.execute_reply": "2020-11-17T20:29:56.697911Z"
    }
   },
   "outputs": [
    {
     "name": "stdout",
     "output_type": "stream",
     "text": [
      "Loaded 4518 molecules\n"
     ]
    }
   ],
   "source": [
    "data = pd.read_csv(train_path)\n",
    "print(f'Loaded {len(data)} molecules')"
   ]
  },
  {
   "cell_type": "code",
   "execution_count": 5,
   "metadata": {
    "execution": {
     "iopub.execute_input": "2020-11-17T20:29:56.891499Z",
     "iopub.status.busy": "2020-11-17T20:29:56.854867Z",
     "iopub.status.idle": "2020-11-17T20:29:58.240372Z",
     "shell.execute_reply": "2020-11-17T20:29:58.241335Z"
    }
   },
   "outputs": [
    {
     "name": "stdout",
     "output_type": "stream",
     "text": [
      "CPU times: user 1.47 s, sys: 63.5 ms, total: 1.54 s\n",
      "Wall time: 1.54 s\n"
     ]
    }
   ],
   "source": [
    "%%time\n",
    "data['nx'] = data['smiles'].apply(lambda x: convert_smiles_to_nx(x, add_hs=True))"
   ]
  },
  {
   "cell_type": "markdown",
   "metadata": {},
   "source": [
    "Remove molecules with yet-included atom types"
   ]
  },
  {
   "cell_type": "code",
   "execution_count": 6,
   "metadata": {
    "execution": {
     "iopub.execute_input": "2020-11-17T20:29:58.246504Z",
     "iopub.status.busy": "2020-11-17T20:29:58.245304Z",
     "iopub.status.idle": "2020-11-17T20:29:58.247449Z",
     "shell.execute_reply": "2020-11-17T20:29:58.248388Z"
    }
   },
   "outputs": [],
   "source": [
    "with open(os.path.join(model_dir, 'atom_types.json')) as fp:\n",
    "    atom_types = json.load(fp)\n",
    "with open('atom_types.json', 'w') as fp:\n",
    "    json.dump(atom_types, fp)"
   ]
  },
  {
   "cell_type": "code",
   "execution_count": 7,
   "metadata": {
    "execution": {
     "iopub.execute_input": "2020-11-17T20:29:58.252378Z",
     "iopub.status.busy": "2020-11-17T20:29:58.251960Z",
     "iopub.status.idle": "2020-11-17T20:29:58.254730Z",
     "shell.execute_reply": "2020-11-17T20:29:58.254288Z"
    }
   },
   "outputs": [],
   "source": [
    "with open(os.path.join(model_dir, 'bond_types.json')) as fp:\n",
    "    bond_types = json.load(fp)\n",
    "with open('bond_types.json', 'w') as fp:\n",
    "    json.dump(bond_types, fp)"
   ]
  },
  {
   "cell_type": "code",
   "execution_count": 8,
   "metadata": {
    "execution": {
     "iopub.execute_input": "2020-11-17T20:29:58.259727Z",
     "iopub.status.busy": "2020-11-17T20:29:58.259311Z",
     "iopub.status.idle": "2020-11-17T20:29:58.262140Z",
     "shell.execute_reply": "2020-11-17T20:29:58.261486Z"
    }
   },
   "outputs": [],
   "source": [
    "def all_included(smiles) -> bool:\n",
    "    mol = Chem.MolFromSmiles(smiles)\n",
    "    return all(a.GetAtomicNum() in atom_types for a in mol.GetAtoms())\n",
    "assert all_included('C')\n",
    "assert not all_included('[Xe]')"
   ]
  },
  {
   "cell_type": "code",
   "execution_count": 9,
   "metadata": {
    "execution": {
     "iopub.execute_input": "2020-11-17T20:29:58.322389Z",
     "iopub.status.busy": "2020-11-17T20:29:58.285999Z",
     "iopub.status.idle": "2020-11-17T20:29:58.646262Z",
     "shell.execute_reply": "2020-11-17T20:29:58.647261Z"
    }
   },
   "outputs": [
    {
     "name": "stdout",
     "output_type": "stream",
     "text": [
      "Found 4228 molecules usable with model\n"
     ]
    }
   ],
   "source": [
    "data = data[data['smiles'].apply(all_included)]\n",
    "print(f'Found {len(data)} molecules usable with model')"
   ]
  },
  {
   "cell_type": "code",
   "execution_count": 10,
   "metadata": {
    "execution": {
     "iopub.execute_input": "2020-11-17T20:29:58.656495Z",
     "iopub.status.busy": "2020-11-17T20:29:58.650667Z",
     "iopub.status.idle": "2020-11-17T20:29:58.666446Z",
     "shell.execute_reply": "2020-11-17T20:29:58.665950Z"
    }
   },
   "outputs": [],
   "source": [
    "with open('initial_database.json', 'w') as fp:\n",
    "    json.dump(dict(zip(data['smiles'], data['u0_atom'])), fp)"
   ]
  },
  {
   "cell_type": "markdown",
   "metadata": {},
   "source": [
    "Save it in TF format"
   ]
  },
  {
   "cell_type": "code",
   "execution_count": 11,
   "metadata": {
    "execution": {
     "iopub.execute_input": "2020-11-17T20:29:58.670604Z",
     "iopub.status.busy": "2020-11-17T20:29:58.669855Z",
     "iopub.status.idle": "2020-11-17T20:29:58.672844Z",
     "shell.execute_reply": "2020-11-17T20:29:58.672097Z"
    }
   },
   "outputs": [],
   "source": [
    "train_set, test_set = train_test_split(data, test_size=0.1, random_state=1)"
   ]
  },
  {
   "cell_type": "code",
   "execution_count": 12,
   "metadata": {
    "execution": {
     "iopub.execute_input": "2020-11-17T20:29:58.677159Z",
     "iopub.status.busy": "2020-11-17T20:29:58.676416Z",
     "iopub.status.idle": "2020-11-17T20:29:58.681082Z",
     "shell.execute_reply": "2020-11-17T20:29:58.680636Z"
    }
   },
   "outputs": [],
   "source": [
    "train_set, val_set = train_test_split(train_set, test_size=0.1, random_state=1)"
   ]
  },
  {
   "cell_type": "code",
   "execution_count": 13,
   "metadata": {
    "execution": {
     "iopub.execute_input": "2020-11-17T20:29:58.687082Z",
     "iopub.status.busy": "2020-11-17T20:29:58.686567Z",
     "iopub.status.idle": "2020-11-17T20:30:00.211059Z",
     "shell.execute_reply": "2020-11-17T20:30:00.211834Z"
    }
   },
   "outputs": [
    {
     "name": "stderr",
     "output_type": "stream",
     "text": [
      "train: 3424it [00:01, 2840.01it/s]\n",
      "valid: 381it [00:00, 2605.30it/s]\n",
      "test: 423it [00:00, 2620.60it/s]\n"
     ]
    }
   ],
   "source": [
    "for name, dataset in zip(['train', 'valid', 'test'], [train_set, val_set, test_set]):\n",
    "    dataset = dataset.sample(frac=1.)  # Shuffle contents\n",
    "    with tf.io.TFRecordWriter(f'{name}_data.proto') as writer:\n",
    "        for _, entry in tqdm(dataset.iterrows(), desc=name):\n",
    "            record = convert_nx_to_dict(entry['nx'], atom_types, bond_types)\n",
    "            for output in ['u0_atom']:\n",
    "                record[output] = entry[output]\n",
    "            writer.write(make_tfrecord(record))"
   ]
  },
  {
   "cell_type": "markdown",
   "metadata": {},
   "source": [
    "## Train the Model\n",
    "Use the model trained on the QM9 atomization energy"
   ]
  },
  {
   "cell_type": "code",
   "execution_count": 14,
   "metadata": {
    "execution": {
     "iopub.execute_input": "2020-11-17T20:30:00.218010Z",
     "iopub.status.busy": "2020-11-17T20:30:00.217036Z",
     "iopub.status.idle": "2020-11-17T20:30:07.573775Z",
     "shell.execute_reply": "2020-11-17T20:30:07.572861Z"
    }
   },
   "outputs": [
    {
     "name": "stderr",
     "output_type": "stream",
     "text": [
      "/home/lward/electrolyte-design/env/lib/python3.7/site-packages/tensorflow_core/python/framework/indexed_slices.py:433: UserWarning: Converting sparse IndexedSlices to a dense Tensor of unknown shape. This may consume a large amount of memory.\n",
      "  \"Converting sparse IndexedSlices to a dense Tensor of unknown shape. \"\n",
      "/home/lward/electrolyte-design/env/lib/python3.7/site-packages/tensorflow_core/python/framework/indexed_slices.py:433: UserWarning: Converting sparse IndexedSlices to a dense Tensor of unknown shape. This may consume a large amount of memory.\n",
      "  \"Converting sparse IndexedSlices to a dense Tensor of unknown shape. \"\n",
      "/home/lward/electrolyte-design/env/lib/python3.7/site-packages/tensorflow_core/python/framework/indexed_slices.py:433: UserWarning: Converting sparse IndexedSlices to a dense Tensor of unknown shape. This may consume a large amount of memory.\n",
      "  \"Converting sparse IndexedSlices to a dense Tensor of unknown shape. \"\n",
      "/home/lward/electrolyte-design/env/lib/python3.7/site-packages/tensorflow_core/python/framework/indexed_slices.py:433: UserWarning: Converting sparse IndexedSlices to a dense Tensor of unknown shape. This may consume a large amount of memory.\n",
      "  \"Converting sparse IndexedSlices to a dense Tensor of unknown shape. \"\n",
      "/home/lward/electrolyte-design/env/lib/python3.7/site-packages/tensorflow_core/python/framework/indexed_slices.py:433: UserWarning: Converting sparse IndexedSlices to a dense Tensor of unknown shape. This may consume a large amount of memory.\n",
      "  \"Converting sparse IndexedSlices to a dense Tensor of unknown shape. \"\n",
      "/home/lward/electrolyte-design/env/lib/python3.7/site-packages/tensorflow_core/python/framework/indexed_slices.py:433: UserWarning: Converting sparse IndexedSlices to a dense Tensor of unknown shape. This may consume a large amount of memory.\n",
      "  \"Converting sparse IndexedSlices to a dense Tensor of unknown shape. \"\n",
      "/home/lward/electrolyte-design/env/lib/python3.7/site-packages/tensorflow_core/python/framework/indexed_slices.py:433: UserWarning: Converting sparse IndexedSlices to a dense Tensor of unknown shape. This may consume a large amount of memory.\n",
      "  \"Converting sparse IndexedSlices to a dense Tensor of unknown shape. \"\n",
      "/home/lward/electrolyte-design/env/lib/python3.7/site-packages/tensorflow_core/python/framework/indexed_slices.py:433: UserWarning: Converting sparse IndexedSlices to a dense Tensor of unknown shape. This may consume a large amount of memory.\n",
      "  \"Converting sparse IndexedSlices to a dense Tensor of unknown shape. \"\n",
      "/home/lward/electrolyte-design/env/lib/python3.7/site-packages/tensorflow_core/python/framework/indexed_slices.py:433: UserWarning: Converting sparse IndexedSlices to a dense Tensor of unknown shape. This may consume a large amount of memory.\n",
      "  \"Converting sparse IndexedSlices to a dense Tensor of unknown shape. \"\n",
      "/home/lward/electrolyte-design/env/lib/python3.7/site-packages/tensorflow_core/python/framework/indexed_slices.py:433: UserWarning: Converting sparse IndexedSlices to a dense Tensor of unknown shape. This may consume a large amount of memory.\n",
      "  \"Converting sparse IndexedSlices to a dense Tensor of unknown shape. \"\n"
     ]
    }
   ],
   "source": [
    "model = tf.keras.models.load_model(os.path.join(model_dir, 'best_model.h5'), custom_objects=custom_objects)"
   ]
  },
  {
   "cell_type": "code",
   "execution_count": 15,
   "metadata": {
    "execution": {
     "iopub.execute_input": "2020-11-17T20:30:07.578600Z",
     "iopub.status.busy": "2020-11-17T20:30:07.577858Z",
     "iopub.status.idle": "2020-11-17T20:30:07.579798Z",
     "shell.execute_reply": "2020-11-17T20:30:07.580499Z"
    }
   },
   "outputs": [],
   "source": [
    "with open(os.path.join(model_dir, 'best_config.json')) as fp:\n",
    "    config = json.load(fp)"
   ]
  },
  {
   "cell_type": "markdown",
   "metadata": {},
   "source": [
    "Make the data loaders"
   ]
  },
  {
   "cell_type": "code",
   "execution_count": 16,
   "metadata": {
    "execution": {
     "iopub.execute_input": "2020-11-17T20:30:07.585214Z",
     "iopub.status.busy": "2020-11-17T20:30:07.584492Z",
     "iopub.status.idle": "2020-11-17T20:30:08.038945Z",
     "shell.execute_reply": "2020-11-17T20:30:08.039747Z"
    }
   },
   "outputs": [],
   "source": [
    "train_loader = make_data_loader('train_data.proto', shuffle_buffer=1024, batch_size=config['batch_size'], output_property='u0_atom')"
   ]
  },
  {
   "cell_type": "code",
   "execution_count": 17,
   "metadata": {
    "execution": {
     "iopub.execute_input": "2020-11-17T20:30:08.044396Z",
     "iopub.status.busy": "2020-11-17T20:30:08.043448Z",
     "iopub.status.idle": "2020-11-17T20:30:08.158299Z",
     "shell.execute_reply": "2020-11-17T20:30:08.157279Z"
    }
   },
   "outputs": [],
   "source": [
    "val_loader = make_data_loader('valid_data.proto', batch_size=config['batch_size'], output_property='u0_atom')"
   ]
  },
  {
   "cell_type": "code",
   "execution_count": 18,
   "metadata": {
    "execution": {
     "iopub.execute_input": "2020-11-17T20:30:08.162912Z",
     "iopub.status.busy": "2020-11-17T20:30:08.161931Z",
     "iopub.status.idle": "2020-11-17T20:30:08.276958Z",
     "shell.execute_reply": "2020-11-17T20:30:08.277751Z"
    }
   },
   "outputs": [],
   "source": [
    "test_loader = make_data_loader('test_data.proto', batch_size=config['batch_size'], output_property='u0_atom')"
   ]
  },
  {
   "cell_type": "markdown",
   "metadata": {},
   "source": [
    "Re-compile the model with a new optimizer"
   ]
  },
  {
   "cell_type": "code",
   "execution_count": 19,
   "metadata": {
    "execution": {
     "iopub.execute_input": "2020-11-17T20:30:08.282398Z",
     "iopub.status.busy": "2020-11-17T20:30:08.281491Z",
     "iopub.status.idle": "2020-11-17T20:30:08.283249Z",
     "shell.execute_reply": "2020-11-17T20:30:08.284120Z"
    }
   },
   "outputs": [],
   "source": [
    "final_learn_rate = 1e-6\n",
    "init_learn_rate = 1e-3\n",
    "decay_rate = (final_learn_rate / init_learn_rate) ** (1. / (config['num_epochs'] - 1))"
   ]
  },
  {
   "cell_type": "code",
   "execution_count": 20,
   "metadata": {
    "execution": {
     "iopub.execute_input": "2020-11-17T20:30:08.288202Z",
     "iopub.status.busy": "2020-11-17T20:30:08.287306Z",
     "iopub.status.idle": "2020-11-17T20:30:08.289078Z",
     "shell.execute_reply": "2020-11-17T20:30:08.289517Z"
    }
   },
   "outputs": [],
   "source": [
    "def lr_schedule(epoch, lr):\n",
    "    return lr * decay_rate"
   ]
  },
  {
   "cell_type": "code",
   "execution_count": 21,
   "metadata": {
    "execution": {
     "iopub.execute_input": "2020-11-17T20:30:08.293368Z",
     "iopub.status.busy": "2020-11-17T20:30:08.292914Z",
     "iopub.status.idle": "2020-11-17T20:30:08.294784Z",
     "shell.execute_reply": "2020-11-17T20:30:08.295223Z"
    }
   },
   "outputs": [],
   "source": [
    "cb = tf.keras.callbacks"
   ]
  },
  {
   "cell_type": "code",
   "execution_count": 22,
   "metadata": {
    "execution": {
     "iopub.execute_input": "2020-11-17T20:30:08.301113Z",
     "iopub.status.busy": "2020-11-17T20:30:08.300643Z",
     "iopub.status.idle": "2020-11-17T20:46:17.594444Z",
     "shell.execute_reply": "2020-11-17T20:46:17.595443Z"
    }
   },
   "outputs": [
    {
     "name": "stderr",
     "output_type": "stream",
     "text": [
      "/home/lward/electrolyte-design/env/lib/python3.7/site-packages/tensorflow_core/python/framework/indexed_slices.py:433: UserWarning: Converting sparse IndexedSlices to a dense Tensor of unknown shape. This may consume a large amount of memory.\n",
      "  \"Converting sparse IndexedSlices to a dense Tensor of unknown shape. \"\n",
      "/home/lward/electrolyte-design/env/lib/python3.7/site-packages/tensorflow_core/python/framework/indexed_slices.py:433: UserWarning: Converting sparse IndexedSlices to a dense Tensor of unknown shape. This may consume a large amount of memory.\n",
      "  \"Converting sparse IndexedSlices to a dense Tensor of unknown shape. \"\n",
      "/home/lward/electrolyte-design/env/lib/python3.7/site-packages/tensorflow_core/python/framework/indexed_slices.py:433: UserWarning: Converting sparse IndexedSlices to a dense Tensor of unknown shape. This may consume a large amount of memory.\n",
      "  \"Converting sparse IndexedSlices to a dense Tensor of unknown shape. \"\n",
      "/home/lward/electrolyte-design/env/lib/python3.7/site-packages/tensorflow_core/python/framework/indexed_slices.py:433: UserWarning: Converting sparse IndexedSlices to a dense Tensor of unknown shape. This may consume a large amount of memory.\n",
      "  \"Converting sparse IndexedSlices to a dense Tensor of unknown shape. \"\n",
      "/home/lward/electrolyte-design/env/lib/python3.7/site-packages/tensorflow_core/python/framework/indexed_slices.py:433: UserWarning: Converting sparse IndexedSlices to a dense Tensor of unknown shape. This may consume a large amount of memory.\n",
      "  \"Converting sparse IndexedSlices to a dense Tensor of unknown shape. \"\n",
      "/home/lward/electrolyte-design/env/lib/python3.7/site-packages/tensorflow_core/python/framework/indexed_slices.py:433: UserWarning: Converting sparse IndexedSlices to a dense Tensor of unknown shape. This may consume a large amount of memory.\n",
      "  \"Converting sparse IndexedSlices to a dense Tensor of unknown shape. \"\n",
      "/home/lward/electrolyte-design/env/lib/python3.7/site-packages/tensorflow_core/python/framework/indexed_slices.py:433: UserWarning: Converting sparse IndexedSlices to a dense Tensor of unknown shape. This may consume a large amount of memory.\n",
      "  \"Converting sparse IndexedSlices to a dense Tensor of unknown shape. \"\n",
      "/home/lward/electrolyte-design/env/lib/python3.7/site-packages/tensorflow_core/python/framework/indexed_slices.py:433: UserWarning: Converting sparse IndexedSlices to a dense Tensor of unknown shape. This may consume a large amount of memory.\n",
      "  \"Converting sparse IndexedSlices to a dense Tensor of unknown shape. \"\n",
      "/home/lward/electrolyte-design/env/lib/python3.7/site-packages/tensorflow_core/python/framework/indexed_slices.py:433: UserWarning: Converting sparse IndexedSlices to a dense Tensor of unknown shape. This may consume a large amount of memory.\n",
      "  \"Converting sparse IndexedSlices to a dense Tensor of unknown shape. \"\n",
      "/home/lward/electrolyte-design/env/lib/python3.7/site-packages/tensorflow_core/python/framework/indexed_slices.py:433: UserWarning: Converting sparse IndexedSlices to a dense Tensor of unknown shape. This may consume a large amount of memory.\n",
      "  \"Converting sparse IndexedSlices to a dense Tensor of unknown shape. \"\n",
      "/home/lward/electrolyte-design/env/lib/python3.7/site-packages/tensorflow_core/python/framework/indexed_slices.py:433: UserWarning: Converting sparse IndexedSlices to a dense Tensor of unknown shape. This may consume a large amount of memory.\n",
      "  \"Converting sparse IndexedSlices to a dense Tensor of unknown shape. \"\n",
      "/home/lward/electrolyte-design/env/lib/python3.7/site-packages/tensorflow_core/python/framework/indexed_slices.py:433: UserWarning: Converting sparse IndexedSlices to a dense Tensor of unknown shape. This may consume a large amount of memory.\n",
      "  \"Converting sparse IndexedSlices to a dense Tensor of unknown shape. \"\n",
      "/home/lward/electrolyte-design/env/lib/python3.7/site-packages/tensorflow_core/python/framework/indexed_slices.py:433: UserWarning: Converting sparse IndexedSlices to a dense Tensor of unknown shape. This may consume a large amount of memory.\n",
      "  \"Converting sparse IndexedSlices to a dense Tensor of unknown shape. \"\n",
      "/home/lward/electrolyte-design/env/lib/python3.7/site-packages/tensorflow_core/python/framework/indexed_slices.py:433: UserWarning: Converting sparse IndexedSlices to a dense Tensor of unknown shape. This may consume a large amount of memory.\n",
      "  \"Converting sparse IndexedSlices to a dense Tensor of unknown shape. \"\n",
      "/home/lward/electrolyte-design/env/lib/python3.7/site-packages/tensorflow_core/python/framework/indexed_slices.py:433: UserWarning: Converting sparse IndexedSlices to a dense Tensor of unknown shape. This may consume a large amount of memory.\n",
      "  \"Converting sparse IndexedSlices to a dense Tensor of unknown shape. \"\n",
      "/home/lward/electrolyte-design/env/lib/python3.7/site-packages/tensorflow_core/python/framework/indexed_slices.py:433: UserWarning: Converting sparse IndexedSlices to a dense Tensor of unknown shape. This may consume a large amount of memory.\n",
      "  \"Converting sparse IndexedSlices to a dense Tensor of unknown shape. \"\n",
      "/home/lward/electrolyte-design/env/lib/python3.7/site-packages/tensorflow_core/python/framework/indexed_slices.py:433: UserWarning: Converting sparse IndexedSlices to a dense Tensor of unknown shape. This may consume a large amount of memory.\n",
      "  \"Converting sparse IndexedSlices to a dense Tensor of unknown shape. \"\n",
      "/home/lward/electrolyte-design/env/lib/python3.7/site-packages/tensorflow_core/python/framework/indexed_slices.py:433: UserWarning: Converting sparse IndexedSlices to a dense Tensor of unknown shape. This may consume a large amount of memory.\n",
      "  \"Converting sparse IndexedSlices to a dense Tensor of unknown shape. \"\n",
      "/home/lward/electrolyte-design/env/lib/python3.7/site-packages/tensorflow_core/python/framework/indexed_slices.py:433: UserWarning: Converting sparse IndexedSlices to a dense Tensor of unknown shape. This may consume a large amount of memory.\n",
      "  \"Converting sparse IndexedSlices to a dense Tensor of unknown shape. \"\n",
      "/home/lward/electrolyte-design/env/lib/python3.7/site-packages/tensorflow_core/python/framework/indexed_slices.py:433: UserWarning: Converting sparse IndexedSlices to a dense Tensor of unknown shape. This may consume a large amount of memory.\n",
      "  \"Converting sparse IndexedSlices to a dense Tensor of unknown shape. \"\n"
     ]
    }
   ],
   "source": [
    "model.compile(tf.keras.optimizers.Adam(init_learn_rate), 'mean_squared_error', metrics=['mean_absolute_error'])\n",
    "history = model.fit(\n",
    "    train_loader, validation_data=val_loader, epochs=config['num_epochs'], verbose=False,\n",
    "    shuffle=False, callbacks=[\n",
    "        LRLogger(),\n",
    "        EpochTimeLogger(),\n",
    "        cb.LearningRateScheduler(lr_schedule),\n",
    "        cb.ModelCheckpoint('best_model.h5', save_best_only=True),\n",
    "        cb.EarlyStopping(patience=128, restore_best_weights=True),\n",
    "        cb.CSVLogger('train_log.csv'),\n",
    "        cb.TerminateOnNaN()\n",
    "    ]\n",
    ")"
   ]
  },
  {
   "cell_type": "markdown",
   "metadata": {},
   "source": [
    "Plot the training performance"
   ]
  },
  {
   "cell_type": "code",
   "execution_count": 23,
   "metadata": {
    "execution": {
     "iopub.execute_input": "2020-11-17T20:46:17.617480Z",
     "iopub.status.busy": "2020-11-17T20:46:17.616675Z",
     "iopub.status.idle": "2020-11-17T20:46:18.067666Z",
     "shell.execute_reply": "2020-11-17T20:46:18.068457Z"
    }
   },
   "outputs": [
    {
     "data": {
      "text/plain": [
       "Text(0, 0.5, 'Loss (Ha$^2$)')"
      ]
     },
     "execution_count": 1,
     "metadata": {},
     "output_type": "execute_result"
    },
    {
     "data": {
      "image/png": "[encoded data removed]",
      "text/plain": [
       "<Figure size 252x180 with 1 Axes>"
      ]
     },
     "metadata": {
      "needs_background": "light"
     },
     "output_type": "display_data"
    }
   ],
   "source": [
    "fig, ax = plt.subplots(figsize=(3.5, 2.5))\n",
    "\n",
    "ax.semilogy(history.epoch, history.history['loss'], label='Train')\n",
    "ax.semilogy(history.epoch, history.history['val_loss'], label='Validation')\n",
    "\n",
    "ax.set_xlabel('Epoch')\n",
    "ax.set_ylabel('Loss (Ha$^2$)')"
   ]
  },
  {
   "cell_type": "markdown",
   "metadata": {},
   "source": [
    "## Assess Performance\n",
    "Evaluate ht emodel performance"
   ]
  },
  {
   "cell_type": "code",
   "execution_count": 24,
   "metadata": {
    "execution": {
     "iopub.execute_input": "2020-11-17T20:46:18.075441Z",
     "iopub.status.busy": "2020-11-17T20:46:18.074462Z",
     "iopub.status.idle": "2020-11-17T20:46:18.709161Z",
     "shell.execute_reply": "2020-11-17T20:46:18.708464Z"
    }
   },
   "outputs": [],
   "source": [
    "y_true = np.hstack([x[1].numpy()[:, 0] for x in iter(test_loader)])\n",
    "y_pred = np.squeeze(model.predict(test_loader))"
   ]
  },
  {
   "cell_type": "code",
   "execution_count": 25,
   "metadata": {
    "execution": {
     "iopub.execute_input": "2020-11-17T20:46:18.715020Z",
     "iopub.status.busy": "2020-11-17T20:46:18.714266Z",
     "iopub.status.idle": "2020-11-17T20:46:18.715989Z",
     "shell.execute_reply": "2020-11-17T20:46:18.716697Z"
    }
   },
   "outputs": [],
   "source": [
    "test_data = pd.DataFrame({'true': y_true, 'pred': y_pred})"
   ]
  },
  {
   "cell_type": "code",
   "execution_count": 26,
   "metadata": {
    "execution": {
     "iopub.execute_input": "2020-11-17T20:46:18.749666Z",
     "iopub.status.busy": "2020-11-17T20:46:18.737098Z",
     "iopub.status.idle": "2020-11-17T20:46:18.958701Z",
     "shell.execute_reply": "2020-11-17T20:46:18.959429Z"
    }
   },
   "outputs": [
    {
     "data": {
      "image/png": "[encoded data removed]",
      "text/plain": [
       "<Figure size 468x180 with 2 Axes>"
      ]
     },
     "metadata": {
      "needs_background": "light"
     },
     "output_type": "display_data"
    }
   ],
   "source": [
    "fig, axs = plt.subplots(1, 2, figsize=(6.5, 2.5))\n",
    "\n",
    "errors = (test_data['pred'] - test_data['true']) * 627.50947406  # kcal/mol\n",
    "r2_score = np.corrcoef(test_data['pred'], test_data['true'])[0][1] ** 2\n",
    "\n",
    "ax = axs[0]\n",
    "ax.scatter(test_data['true'], test_data['pred'], s=25, alpha=0.7, edgecolor='none')\n",
    "ax.text(0.05, 0.95, f'$R^2$:{r2_score: .5f}\\nMAE:{errors.abs().mean(): .1f} kcal/mol', \n",
    "       transform=ax.transAxes, va='top', ha='left')\n",
    "\n",
    "ax.set_xlim(ax.get_xlim())\n",
    "ax.set_ylim(ax.get_xlim())\n",
    "\n",
    "ax.plot(ax.get_xlim(), ax.get_xlim(), 'k--')\n",
    "\n",
    "ax.set_xlabel('$U_0$, True (Ha)')\n",
    "ax.set_ylabel('$U_0$, MPNN (Ha)')\n",
    "\n",
    "ax = axs[1]\n",
    "\n",
    "\n",
    "ax.hist(errors, bins=np.linspace(-6, 6, 32))\n",
    "ax.text(1, 0.95, f'', \n",
    "       transform=ax.transAxes, va='top', ha='right')\n",
    "\n",
    "ax.set_ylim(ax.get_ylim())\n",
    "ax.plot([-1, -1], ax.get_ylim(), 'k--')\n",
    "ax.plot([1, 1], ax.get_ylim(), 'k--')\n",
    "\n",
    "ax.set_xlabel('Error (kcal/mol)')\n",
    "ax.set_ylabel('Frequency')\n",
    "fig.tight_layout()"
   ]
  },
  {
   "cell_type": "code",
   "execution_count": null,
   "metadata": {},
   "outputs": [],
   "source": []
  }
 ],
 "metadata": {
  "kernelspec": {
   "display_name": "python",
   "language": "python",
   "name": "python"
  },
  "language_info": {
   "codemirror_mode": {
    "name": "ipython",
    "version": 3
   },
   "file_extension": ".py",
   "mimetype": "text/x-python",
   "name": "python",
   "nbconvert_exporter": "python",
   "pygments_lexer": "ipython3",
   "version": "3.7.9"
  }
 },
 "nbformat": 4,
 "nbformat_minor": 4
}
