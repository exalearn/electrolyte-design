{
 "cells": [
  {
   "cell_type": "markdown",
   "metadata": {},
   "source": [
    "# Collect Results from the Training, Pick the Best MolDQN\n",
    "Get the results from the different runs and mark the MolDQN which was the best"
   ]
  },
  {
   "cell_type": "code",
   "execution_count": 1,
   "metadata": {
    "execution": {
     "iopub.execute_input": "2020-11-11T00:42:30.374105Z",
     "iopub.status.busy": "2020-11-11T00:42:30.373544Z",
     "iopub.status.idle": "2020-11-11T00:42:30.695006Z",
     "shell.execute_reply": "2020-11-11T00:42:30.695836Z"
    }
   },
   "outputs": [],
   "source": [
    "%matplotlib inline\n",
    "from matplotlib import pyplot as plt\n",
    "from glob import glob\n",
    "import pandas as pd\n",
    "import numpy as np\n",
    "import json\n",
    "import os"
   ]
  },
  {
   "cell_type": "markdown",
   "metadata": {},
   "source": [
    "Things to configure"
   ]
  },
  {
   "cell_type": "code",
   "execution_count": 2,
   "metadata": {
    "execution": {
     "iopub.execute_input": "2020-11-11T00:42:30.700846Z",
     "iopub.status.busy": "2020-11-11T00:42:30.699883Z",
     "iopub.status.idle": "2020-11-11T00:42:30.701749Z",
     "shell.execute_reply": "2020-11-11T00:42:30.702706Z"
    }
   },
   "outputs": [],
   "source": [
    "top_mols_to_save = 8192"
   ]
  },
  {
   "cell_type": "markdown",
   "metadata": {},
   "source": [
    "## Get all the Results\n",
    "Get the results of any models"
   ]
  },
  {
   "cell_type": "code",
   "execution_count": 3,
   "metadata": {
    "execution": {
     "iopub.execute_input": "2020-11-11T00:42:30.706740Z",
     "iopub.status.busy": "2020-11-11T00:42:30.706335Z",
     "iopub.status.idle": "2020-11-11T00:42:30.709801Z",
     "shell.execute_reply": "2020-11-11T00:42:30.709440Z"
    }
   },
   "outputs": [
    {
     "name": "stdout",
     "output_type": "stream",
     "text": [
      "Found 1 run directories\n"
     ]
    }
   ],
   "source": [
    "dirs = list(filter(os.path.isdir, glob(os.path.join('rl_tests', '*'))))\n",
    "print(f'Found {len(dirs)} run directories')"
   ]
  },
  {
   "cell_type": "code",
   "execution_count": 4,
   "metadata": {
    "execution": {
     "iopub.execute_input": "2020-11-11T00:42:30.719497Z",
     "iopub.status.busy": "2020-11-11T00:42:30.718750Z",
     "iopub.status.idle": "2020-11-11T00:42:30.720333Z",
     "shell.execute_reply": "2020-11-11T00:42:30.720896Z"
    }
   },
   "outputs": [],
   "source": [
    "def summarize_run(path: str) -> dict:\n",
    "    \"\"\"Summarize the performance of a certain run\n",
    "    \n",
    "    Args:\n",
    "        path (str): Path to the ML run\n",
    "    Returns:\n",
    "        (dict) Run summary\n",
    "    \"\"\"\n",
    "    \n",
    "    # First, load in the configuratoin\n",
    "    with open(os.path.join(path, 'config.json')) as fp:\n",
    "        output = json.load(fp)\n",
    "    output['path'] = path\n",
    "        \n",
    "    # Load in the name of the system and some other performance details\n",
    "    perf_path = os.path.join(path, 'performance.json')\n",
    "    if os.path.isfile(perf_path):\n",
    "        with open(perf_path) as fp:\n",
    "            perf = json.load(fp)\n",
    "            for k in ['hostname', 'runtime']:\n",
    "                output[k] = perf[k]\n",
    "        output['complete'] = True\n",
    "    else:\n",
    "        output['complete'] = False\n",
    "            \n",
    "    # Assess the run data\n",
    "    try:\n",
    "        mols = pd.read_csv(os.path.join(path, 'molecules.csv'))\n",
    "    except:\n",
    "        return output\n",
    "    if not output['maximize']:\n",
    "        mols['reward'] = -1 * mols['reward']\n",
    "    output['episodes_completed'] = mols['episode'].max() + 1\n",
    "    output['rewards_computed'] = len(mols)\n",
    "    output['unique_molecules'] = len(set(mols['smiles']))\n",
    "    output['unique_fraction'] = output['unique_molecules'] / len(mols)\n",
    "    output['best_found'] = -1 * mols['u0_atom'].max()\n",
    "    output['below_4ha'] = len(set(mols.query('u0_atom >= 4')['smiles']))\n",
    "        \n",
    "    return output"
   ]
  },
  {
   "cell_type": "code",
   "execution_count": 5,
   "metadata": {
    "execution": {
     "iopub.execute_input": "2020-11-11T00:42:30.724789Z",
     "iopub.status.busy": "2020-11-11T00:42:30.724055Z",
     "iopub.status.idle": "2020-11-11T00:42:31.627704Z",
     "shell.execute_reply": "2020-11-11T00:42:31.628708Z"
    }
   },
   "outputs": [
    {
     "data": {
      "text/html": [
       "<div>\n",
       "<style scoped>\n",
       "    .dataframe tbody tr th:only-of-type {\n",
       "        vertical-align: middle;\n",
       "    }\n",
       "\n",
       "    .dataframe tbody tr th {\n",
       "        vertical-align: top;\n",
       "    }\n",
       "\n",
       "    .dataframe thead th {\n",
       "        text-align: right;\n",
       "    }\n",
       "</style>\n",
       "<table border=\"1\" class=\"dataframe\">\n",
       "  <thead>\n",
       "    <tr style=\"text-align: right;\">\n",
       "      <th></th>\n",
       "      <th>epsilon</th>\n",
       "      <th>epsilon_min</th>\n",
       "      <th>epsilon_decay</th>\n",
       "      <th>max_steps</th>\n",
       "      <th>episodes</th>\n",
       "      <th>q_update_freq</th>\n",
       "      <th>reward</th>\n",
       "      <th>hidden_layers</th>\n",
       "      <th>gamma</th>\n",
       "      <th>fingerprint_size</th>\n",
       "      <th>...</th>\n",
       "      <th>path</th>\n",
       "      <th>hostname</th>\n",
       "      <th>runtime</th>\n",
       "      <th>complete</th>\n",
       "      <th>episodes_completed</th>\n",
       "      <th>rewards_computed</th>\n",
       "      <th>unique_molecules</th>\n",
       "      <th>unique_fraction</th>\n",
       "      <th>best_found</th>\n",
       "      <th>below_4ha</th>\n",
       "    </tr>\n",
       "  </thead>\n",
       "  <tbody>\n",
       "    <tr>\n",
       "      <th>0</th>\n",
       "      <td>1.0</td>\n",
       "      <td>0.25</td>\n",
       "      <td>0.9995</td>\n",
       "      <td>40</td>\n",
       "      <td>20000</td>\n",
       "      <td>10</td>\n",
       "      <td>u0_atom</td>\n",
       "      <td>[1024, 512, 128, 32]</td>\n",
       "      <td>0.9</td>\n",
       "      <td>2048</td>\n",
       "      <td>...</td>\n",
       "      <td>rl_tests/u0_atom_2020-11-09T09.03.19.156032</td>\n",
       "      <td>venti</td>\n",
       "      <td>120538.532525</td>\n",
       "      <td>True</td>\n",
       "      <td>20000</td>\n",
       "      <td>795773</td>\n",
       "      <td>340382</td>\n",
       "      <td>0.427738</td>\n",
       "      <td>-3.101141</td>\n",
       "      <td>0</td>\n",
       "    </tr>\n",
       "  </tbody>\n",
       "</table>\n",
       "<p>1 rows × 25 columns</p>\n",
       "</div>"
      ],
      "text/plain": [
       "   epsilon  epsilon_min  epsilon_decay  max_steps  episodes  q_update_freq  \\\n",
       "0      1.0         0.25         0.9995         40     20000             10   \n",
       "\n",
       "    reward         hidden_layers  gamma  fingerprint_size  ...  \\\n",
       "0  u0_atom  [1024, 512, 128, 32]    0.9              2048  ...   \n",
       "\n",
       "                                          path  hostname        runtime  \\\n",
       "0  rl_tests/u0_atom_2020-11-09T09.03.19.156032     venti  120538.532525   \n",
       "\n",
       "   complete  episodes_completed rewards_computed unique_molecules  \\\n",
       "0      True               20000           795773           340382   \n",
       "\n",
       "   unique_fraction  best_found  below_4ha  \n",
       "0         0.427738   -3.101141          0  \n",
       "\n",
       "[1 rows x 25 columns]"
      ]
     },
     "execution_count": 1,
     "metadata": {},
     "output_type": "execute_result"
    }
   ],
   "source": [
    "results = pd.DataFrame(summarize_run(d) for d in dirs).sort_values('below_4ha', ascending=False)\n",
    "results.head()#[['path', 'rewards_computed', 'unique_fraction', 'best_found', 'below_8ha']]"
   ]
  },
  {
   "cell_type": "code",
   "execution_count": 6,
   "metadata": {
    "execution": {
     "iopub.execute_input": "2020-11-11T00:42:31.636969Z",
     "iopub.status.busy": "2020-11-11T00:42:31.635994Z",
     "iopub.status.idle": "2020-11-11T00:42:31.637858Z",
     "shell.execute_reply": "2020-11-11T00:42:31.638780Z"
    }
   },
   "outputs": [],
   "source": [
    "best_run = results.query('complete').iloc[0]"
   ]
  },
  {
   "cell_type": "code",
   "execution_count": 7,
   "metadata": {
    "execution": {
     "iopub.execute_input": "2020-11-11T00:42:31.644187Z",
     "iopub.status.busy": "2020-11-11T00:42:31.643653Z",
     "iopub.status.idle": "2020-11-11T00:42:31.646208Z",
     "shell.execute_reply": "2020-11-11T00:42:31.645670Z"
    }
   },
   "outputs": [
    {
     "data": {
      "text/plain": [
       "epsilon                                                         1\n",
       "epsilon_min                                                  0.25\n",
       "epsilon_decay                                              0.9995\n",
       "max_steps                                                      40\n",
       "episodes                                                    20000\n",
       "q_update_freq                                                  10\n",
       "reward                                                    u0_atom\n",
       "hidden_layers                                [1024, 512, 128, 32]\n",
       "gamma                                                         0.9\n",
       "fingerprint_size                                             2048\n",
       "batch_size                                                     32\n",
       "no_backtrack                                                False\n",
       "initial_molecule                                             None\n",
       "max_size                                                       13\n",
       "maximize                                                    False\n",
       "path                  rl_tests/u0_atom_2020-11-09T09.03.19.156032\n",
       "hostname                                                    venti\n",
       "runtime                                                    120539\n",
       "complete                                                     True\n",
       "episodes_completed                                          20000\n",
       "rewards_computed                                           795773\n",
       "unique_molecules                                           340382\n",
       "unique_fraction                                          0.427738\n",
       "best_found                                               -3.10114\n",
       "below_4ha                                                       0\n",
       "Name: 0, dtype: object"
      ]
     },
     "execution_count": 1,
     "metadata": {},
     "output_type": "execute_result"
    }
   ],
   "source": [
    "best_run"
   ]
  },
  {
   "cell_type": "markdown",
   "metadata": {},
   "source": [
    "## Link the best agent to the local directory\n",
    "So that we can easily access it later"
   ]
  },
  {
   "cell_type": "code",
   "execution_count": 8,
   "metadata": {
    "execution": {
     "iopub.execute_input": "2020-11-11T00:42:31.650005Z",
     "iopub.status.busy": "2020-11-11T00:42:31.649488Z",
     "iopub.status.idle": "2020-11-11T00:42:31.651581Z",
     "shell.execute_reply": "2020-11-11T00:42:31.651056Z"
    }
   },
   "outputs": [],
   "source": [
    "if os.path.islink('agent.pkl'):\n",
    "    os.unlink('agent.pkl')\n",
    "os.symlink(os.path.join(best_run['path'], 'agent.pkl'), 'agent.pkl')"
   ]
  },
  {
   "cell_type": "markdown",
   "metadata": {},
   "source": [
    "## Save a list of \"top molecules\"\n",
    "So that we can seed the molecular design engine"
   ]
  },
  {
   "cell_type": "code",
   "execution_count": 9,
   "metadata": {
    "execution": {
     "iopub.execute_input": "2020-11-11T00:42:31.655070Z",
     "iopub.status.busy": "2020-11-11T00:42:31.654564Z",
     "iopub.status.idle": "2020-11-11T00:42:32.349561Z",
     "shell.execute_reply": "2020-11-11T00:42:32.350454Z"
    }
   },
   "outputs": [],
   "source": [
    "mols = pd.read_csv(os.path.join(best_run.path, 'molecules.csv'))"
   ]
  },
  {
   "cell_type": "code",
   "execution_count": 10,
   "metadata": {
    "execution": {
     "iopub.execute_input": "2020-11-11T00:42:32.365286Z",
     "iopub.status.busy": "2020-11-11T00:42:32.364145Z",
     "iopub.status.idle": "2020-11-11T00:42:32.862148Z",
     "shell.execute_reply": "2020-11-11T00:42:32.861566Z"
    }
   },
   "outputs": [
    {
     "data": {
      "image/png": "[encoded data removed]",
      "text/plain": [
       "<Figure size 252x180 with 1 Axes>"
      ]
     },
     "metadata": {
      "needs_background": "light"
     },
     "output_type": "display_data"
    }
   ],
   "source": [
    "fig, ax, = plt.subplots(figsize=(3.5, 2.5))\n",
    "\n",
    "# Get the top points by value\n",
    "x = np.linspace(0, top_mols_to_save, 128, dtype=np.int)\n",
    "u_0 = np.sort(mols.drop_duplicates('smiles')['u0_atom'])\n",
    "v = [-u_0[-i-1] for i in x]\n",
    "\n",
    "ax.scatter(x, v)\n",
    "ax.set_xlabel('Rank')\n",
    "ax.set_ylabel('$u_0$ (Ha)')\n",
    "fig.tight_layout()"
   ]
  },
  {
   "cell_type": "code",
   "execution_count": 11,
   "metadata": {
    "execution": {
     "iopub.execute_input": "2020-11-11T00:42:32.866733Z",
     "iopub.status.busy": "2020-11-11T00:42:32.865989Z",
     "iopub.status.idle": "2020-11-11T00:42:33.364182Z",
     "shell.execute_reply": "2020-11-11T00:42:33.363685Z"
    }
   },
   "outputs": [],
   "source": [
    "with open('best_mols.json', 'w') as fp:\n",
    "    best_list = list(set(mols.sort_values('u0_atom').drop_duplicates('smiles').tail(top_mols_to_save)['smiles']))\n",
    "    json.dump(best_list, fp)"
   ]
  },
  {
   "cell_type": "code",
   "execution_count": null,
   "metadata": {},
   "outputs": [],
   "source": []
  }
 ],
 "metadata": {
  "kernelspec": {
   "display_name": "Python 3",
   "language": "python",
   "name": "python3"
  },
  "language_info": {
   "codemirror_mode": {
    "name": "ipython",
    "version": 3
   },
   "file_extension": ".py",
   "mimetype": "text/x-python",
   "name": "python",
   "nbconvert_exporter": "python",
   "pygments_lexer": "ipython3",
   "version": "3.7.9"
  }
 },
 "nbformat": 4,
 "nbformat_minor": 4
}
