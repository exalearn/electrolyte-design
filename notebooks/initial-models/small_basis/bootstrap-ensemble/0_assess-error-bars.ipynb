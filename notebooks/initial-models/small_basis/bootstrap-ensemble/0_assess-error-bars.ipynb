{
 "cells": [
  {
   "cell_type": "markdown",
   "metadata": {},
   "source": [
    "# Assess Performance of the Error Bars\n",
    "Measure how many replicas are needed and the quality of the error bars"
   ]
  },
  {
   "cell_type": "code",
   "execution_count": 1,
   "metadata": {
    "execution": {
     "iopub.execute_input": "2020-11-19T14:04:41.483987Z",
     "iopub.status.busy": "2020-11-19T14:04:41.483389Z",
     "iopub.status.idle": "2020-11-19T14:04:42.455708Z",
     "shell.execute_reply": "2020-11-19T14:04:42.456220Z"
    }
   },
   "outputs": [],
   "source": [
    "%matplotlib inline\n",
    "from matplotlib import pyplot as plt\n",
    "from itertools import combinations\n",
    "from scipy.stats import kendalltau, norm\n",
    "from glob import glob\n",
    "from tqdm import tqdm\n",
    "import pandas as pd\n",
    "import numpy as np\n",
    "import json\n",
    "import os"
   ]
  },
  {
   "cell_type": "markdown",
   "metadata": {},
   "source": [
    "## Load All of the Predictions\n",
    "Get the `test_results.csv` file, which reports the performance on the model on some hold-out data"
   ]
  },
  {
   "cell_type": "code",
   "execution_count": 2,
   "metadata": {
    "execution": {
     "iopub.execute_input": "2020-11-19T14:04:42.460239Z",
     "iopub.status.busy": "2020-11-19T14:04:42.459651Z",
     "iopub.status.idle": "2020-11-19T14:04:42.514483Z",
     "shell.execute_reply": "2020-11-19T14:04:42.513928Z"
    }
   },
   "outputs": [
    {
     "name": "stdout",
     "output_type": "stream",
     "text": [
      "Found 16 runs\n"
     ]
    }
   ],
   "source": [
    "outputs = glob(os.path.join('networks', '**', 'test_results.csv'))\n",
    "print(f'Found {len(outputs)} runs')"
   ]
  },
  {
   "cell_type": "code",
   "execution_count": 3,
   "metadata": {
    "execution": {
     "iopub.execute_input": "2020-11-19T14:04:42.519039Z",
     "iopub.status.busy": "2020-11-19T14:04:42.518513Z",
     "iopub.status.idle": "2020-11-19T14:04:42.520825Z",
     "shell.execute_reply": "2020-11-19T14:04:42.520269Z"
    }
   },
   "outputs": [],
   "source": [
    "def load_data(path) -> dict:\n",
    "    \"\"\"Get the true, predicted values and random seed\"\"\"\n",
    "    run_data = pd.read_csv(path)\n",
    "    with open(os.path.join(os.path.dirname(path), 'config.json')) as fp:\n",
    "        seed = json.load(fp)['random_seed']\n",
    "    return {\n",
    "        'true': run_data['true'].values,\n",
    "        'pred': run_data['pred'].values,\n",
    "        'seed': seed\n",
    "    }"
   ]
  },
  {
   "cell_type": "code",
   "execution_count": 4,
   "metadata": {
    "execution": {
     "iopub.execute_input": "2020-11-19T14:04:42.524363Z",
     "iopub.status.busy": "2020-11-19T14:04:42.523862Z",
     "iopub.status.idle": "2020-11-19T14:04:42.957170Z",
     "shell.execute_reply": "2020-11-19T14:04:42.957709Z"
    }
   },
   "outputs": [],
   "source": [
    "run_data = [load_data(p) for p in outputs]"
   ]
  },
  {
   "cell_type": "code",
   "execution_count": 5,
   "metadata": {
    "execution": {
     "iopub.execute_input": "2020-11-19T14:04:42.963266Z",
     "iopub.status.busy": "2020-11-19T14:04:42.962568Z",
     "iopub.status.idle": "2020-11-19T14:04:42.964751Z",
     "shell.execute_reply": "2020-11-19T14:04:42.965306Z"
    }
   },
   "outputs": [],
   "source": [
    "data = {'true': run_data[0]['true']}\n",
    "for v in run_data:\n",
    "    data[f'pred-{v[\"seed\"]}'] = v['pred']\n",
    "data = pd.DataFrame(data)"
   ]
  },
  {
   "cell_type": "markdown",
   "metadata": {},
   "source": [
    "## Determine How Many Replicas Are Needed\n",
    "Measure the error bar using all replicas and then see how well the error bars computed with fewer replicas measure up."
   ]
  },
  {
   "cell_type": "code",
   "execution_count": 6,
   "metadata": {
    "execution": {
     "iopub.execute_input": "2020-11-19T14:04:42.969574Z",
     "iopub.status.busy": "2020-11-19T14:04:42.968927Z",
     "iopub.status.idle": "2020-11-19T14:04:42.971032Z",
     "shell.execute_reply": "2020-11-19T14:04:42.971556Z"
    }
   },
   "outputs": [],
   "source": [
    "pred_cols = [c for c in data.columns if c.startswith('pred-')]"
   ]
  },
  {
   "cell_type": "code",
   "execution_count": 7,
   "metadata": {
    "execution": {
     "iopub.execute_input": "2020-11-19T14:04:42.976860Z",
     "iopub.status.busy": "2020-11-19T14:04:42.976220Z",
     "iopub.status.idle": "2020-11-19T14:04:42.978558Z",
     "shell.execute_reply": "2020-11-19T14:04:42.979184Z"
    }
   },
   "outputs": [],
   "source": [
    "all_std = data[pred_cols].std(axis=1)"
   ]
  },
  {
   "cell_type": "markdown",
   "metadata": {},
   "source": [
    "Compute the ranking correlation coefficient with different subsets of all of the columns"
   ]
  },
  {
   "cell_type": "code",
   "execution_count": 8,
   "metadata": {
    "execution": {
     "iopub.execute_input": "2020-11-19T14:04:42.984790Z",
     "iopub.status.busy": "2020-11-19T14:04:42.984128Z",
     "iopub.status.idle": "2020-11-19T14:06:13.318756Z",
     "shell.execute_reply": "2020-11-19T14:06:13.319304Z"
    }
   },
   "outputs": [
    {
     "name": "stderr",
     "output_type": "stream",
     "text": [
      "100%|█████████████████████████████████████████████████████████████████████████████████████████████████████████████████████████████████████████████████████████████████████████████████████| 15/15 [01:30<00:00,  6.02s/it]\n"
     ]
    }
   ],
   "source": [
    "subset_results = []\n",
    "for n in tqdm(range(2, len(pred_cols)+1)):\n",
    "    taus = []\n",
    "    for c in combinations(pred_cols, n):\n",
    "        taus.append(kendalltau(all_std, data[list(c)].std(axis=1)).correlation)\n",
    "    subset_results.append({\n",
    "        'n': n,\n",
    "        'count': len(taus),\n",
    "        'mean': np.mean(taus),\n",
    "        'median': np.percentile(taus, 50),\n",
    "        '25perc': np.percentile(taus, 25),\n",
    "        'std': np.std(taus)\n",
    "    })"
   ]
  },
  {
   "cell_type": "code",
   "execution_count": 9,
   "metadata": {
    "execution": {
     "iopub.execute_input": "2020-11-19T14:06:13.323829Z",
     "iopub.status.busy": "2020-11-19T14:06:13.323336Z",
     "iopub.status.idle": "2020-11-19T14:06:13.328035Z",
     "shell.execute_reply": "2020-11-19T14:06:13.328470Z"
    }
   },
   "outputs": [],
   "source": [
    "subset_results = pd.DataFrame(subset_results)"
   ]
  },
  {
   "cell_type": "code",
   "execution_count": 10,
   "metadata": {
    "execution": {
     "iopub.execute_input": "2020-11-19T14:06:13.346376Z",
     "iopub.status.busy": "2020-11-19T14:06:13.345819Z",
     "iopub.status.idle": "2020-11-19T14:06:13.481539Z",
     "shell.execute_reply": "2020-11-19T14:06:13.481051Z"
    }
   },
   "outputs": [
    {
     "data": {
      "text/plain": [
       "Text(0, 0.5, 'Correlation w/ Full Set')"
      ]
     },
     "execution_count": 1,
     "metadata": {},
     "output_type": "execute_result"
    },
    {
     "data": {
      "image/png": "[encoded data removed]",
      "text/plain": [
       "<Figure size 252x158.4 with 1 Axes>"
      ]
     },
     "metadata": {
      "needs_background": "light"
     },
     "output_type": "display_data"
    }
   ],
   "source": [
    "fig, ax = plt.subplots(figsize=(3.5, 2.2))\n",
    "\n",
    "ax.plot(subset_results['n'], subset_results['mean'], 'o-')\n",
    "ax.plot(subset_results['n'], subset_results['25perc'], 'v-')\n",
    "\n",
    "ax.set_xlim(ax.get_xlim())\n",
    "ax.plot(ax.get_xlim(), [0.8]*2, 'k--', zorder=-1, lw=0.75)\n",
    "\n",
    "ax.set_xlabel('Subset Size')\n",
    "ax.set_ylabel('Correlation w/ Full Set')"
   ]
  },
  {
   "cell_type": "code",
   "execution_count": 11,
   "metadata": {
    "execution": {
     "iopub.execute_input": "2020-11-19T14:06:13.485965Z",
     "iopub.status.busy": "2020-11-19T14:06:13.485462Z",
     "iopub.status.idle": "2020-11-19T14:06:13.491827Z",
     "shell.execute_reply": "2020-11-19T14:06:13.491259Z"
    }
   },
   "outputs": [
    {
     "name": "stdout",
     "output_type": "stream",
     "text": [
      "Requires 12 to achieve a tau of 0.8 with full ensemble\n"
     ]
    }
   ],
   "source": [
    "best_n = subset_results.query('mean>0.8')['n'].min()\n",
    "print(f'Requires {best_n} to achieve a tau of 0.8 with full ensemble')"
   ]
  },
  {
   "cell_type": "markdown",
   "metadata": {},
   "source": [
    "Finding: The ensemble requires at least 12 members. Which is about a 25% savings over the full ensemble. I don't view it as being worthwhile decrease for the decrease in ranking accuracy"
   ]
  },
  {
   "cell_type": "markdown",
   "metadata": {},
   "source": [
    "## Assess Error Bar Quality\n",
    "We compare the normalized error to the unit normal distribution. I'm not _really_ sure if this is true, \n",
    "but the idea is that if we assume the true value is described by a distribution with mean equal to the ensemble mean\n",
    "and standard devation equal to the ensemble standard deviation then the normalized error $(y_{pred} - y_{true})/\\sigma$ should\n",
    "be a unit normal distribution"
   ]
  },
  {
   "cell_type": "code",
   "execution_count": 12,
   "metadata": {
    "execution": {
     "iopub.execute_input": "2020-11-19T14:06:13.509327Z",
     "iopub.status.busy": "2020-11-19T14:06:13.508786Z",
     "iopub.status.idle": "2020-11-19T14:06:13.636266Z",
     "shell.execute_reply": "2020-11-19T14:06:13.636705Z"
    }
   },
   "outputs": [
    {
     "data": {
      "text/plain": [
       "Text(0, 0.5, 'Probability')"
      ]
     },
     "execution_count": 1,
     "metadata": {},
     "output_type": "execute_result"
    },
    {
     "data": {
      "image/png": "[encoded data removed]",
      "text/plain": [
       "<Figure size 252x158.4 with 1 Axes>"
      ]
     },
     "metadata": {
      "needs_background": "light"
     },
     "output_type": "display_data"
    }
   ],
   "source": [
    "fig, ax = plt.subplots(figsize=(3.5, 2.2))\n",
    "\n",
    "ens_mean = data[pred_cols].mean(axis=1)\n",
    "ens_std = data[pred_cols].std(axis=1)\n",
    "norm_error = (ens_mean - data['true']) / ens_std\n",
    "ax.hist(norm_error, density=True)\n",
    "\n",
    "ax.set_xlim(ax.get_xlim())\n",
    "x = np.linspace(*ax.get_xlim(), 128)\n",
    "ax.plot(x, norm.pdf(x), 'k--')\n",
    "\n",
    "ax.set_xlabel('Normalized Error')\n",
    "ax.set_ylabel('Probability')"
   ]
  },
  {
   "cell_type": "markdown",
   "metadata": {},
   "source": [
    "*Finding*: Seems _reasonable_ visually. Not yet sure what is a good enough, but it is at least not super-bad."
   ]
  },
  {
   "cell_type": "code",
   "execution_count": null,
   "metadata": {},
   "outputs": [],
   "source": []
  }
 ],
 "metadata": {
  "kernelspec": {
   "display_name": "Python 3",
   "language": "python",
   "name": "python3"
  },
  "language_info": {
   "codemirror_mode": {
    "name": "ipython",
    "version": 3
   },
   "file_extension": ".py",
   "mimetype": "text/x-python",
   "name": "python",
   "nbconvert_exporter": "python",
   "pygments_lexer": "ipython3",
   "version": "3.7.4"
  }
 },
 "nbformat": 4,
 "nbformat_minor": 4
}
