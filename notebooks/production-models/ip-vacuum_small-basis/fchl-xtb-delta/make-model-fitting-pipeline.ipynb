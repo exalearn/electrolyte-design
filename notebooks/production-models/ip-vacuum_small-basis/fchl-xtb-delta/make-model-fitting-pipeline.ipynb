{
 "cells": [
  {
   "cell_type": "markdown",
   "metadata": {},
   "source": [
    "# Testing FCHL for Delta Learning from XTB\n",
    "This notebook ensures our automated modeling fitting works"
   ]
  },
  {
   "cell_type": "code",
   "execution_count": 1,
   "metadata": {},
   "outputs": [],
   "source": [
    "%matplotlib inline\n",
    "from matplotlib import pyplot as plt\n",
    "from moldesign.score.fchl import FCHLKernel, FCHLRepresentation\n",
    "from sklearn.model_selection import GridSearchCV, ShuffleSplit\n",
    "from sklearn.metrics import mean_absolute_error, median_absolute_error\n",
    "from sklearn.kernel_ridge import KernelRidge\n",
    "from sklearn.base import BaseEstimator\n",
    "from sklearn.pipeline import Pipeline\n",
    "from scipy.stats import linregress\n",
    "from time import perf_counter\n",
    "from io import StringIO\n",
    "from tqdm import tqdm\n",
    "import pandas as pd\n",
    "import numpy as np\n",
    "import os"
   ]
  },
  {
   "cell_type": "markdown",
   "metadata": {},
   "source": [
    "Configuration"
   ]
  },
  {
   "cell_type": "code",
   "execution_count": 2,
   "metadata": {},
   "outputs": [],
   "source": [
    "max_atoms = 75\n",
    "target = 'ip.vacuum.small_basis'\n",
    "low_res = 'ip.vacuum.xtb-no_zpe'\n",
    "geom_column = 'geometry.neutral.xtb'"
   ]
  },
  {
   "cell_type": "markdown",
   "metadata": {},
   "source": [
    "## Load the Data\n",
    "We want the canonical splits created for this problem"
   ]
  },
  {
   "cell_type": "code",
   "execution_count": 3,
   "metadata": {},
   "outputs": [
    {
     "name": "stdout",
     "output_type": "stream",
     "text": [
      "Loaded 2306 training entries\n"
     ]
    }
   ],
   "source": [
    "train_data = pd.concat([\n",
    "    pd.read_csv('../datasets/train.csv'),\n",
    "    pd.read_csv('../datasets/valid.csv')\n",
    "])\n",
    "print(f'Loaded {len(train_data)} training entries')"
   ]
  },
  {
   "cell_type": "code",
   "execution_count": 4,
   "metadata": {},
   "outputs": [
    {
     "name": "stdout",
     "output_type": "stream",
     "text": [
      "Loaded 257 test entries\n"
     ]
    }
   ],
   "source": [
    "test_data = pd.read_csv('../datasets/test.csv')\n",
    "print(f'Loaded {len(test_data)} test entries')"
   ]
  },
  {
   "cell_type": "markdown",
   "metadata": {},
   "source": [
    "## Process the data\n",
    "Need the the FCHL representations and the $\\Delta$ parameter to be learned "
   ]
  },
  {
   "cell_type": "code",
   "execution_count": 5,
   "metadata": {},
   "outputs": [],
   "source": [
    "rep = FCHLRepresentation(max_size=max_atoms, n_jobs=8)"
   ]
  },
  {
   "cell_type": "code",
   "execution_count": 6,
   "metadata": {},
   "outputs": [],
   "source": [
    "for data in [train_data, test_data]:\n",
    "    data['delta'] = data[target] - data[low_res]\n",
    "    data['rep'] = rep.transform(data[geom_column]).tolist()"
   ]
  },
  {
   "cell_type": "markdown",
   "metadata": {},
   "source": [
    "## Make a Model Fitting Pipeline \n",
    "Something that should work regardless of the amount of training data"
   ]
  },
  {
   "cell_type": "code",
   "execution_count": 7,
   "metadata": {},
   "outputs": [],
   "source": [
    "model = Pipeline([\n",
    "    ('kernel', FCHLKernel()),\n",
    "    ('krr', GridSearchCV(\n",
    "        estimator=KernelRidge(kernel='precomputed'), # Set the estimator to be KRR\n",
    "        param_grid={'alpha': np.logspace(-8, 0, 32)},  # Lambda is known as alpha in sklearn\n",
    "        cv=ShuffleSplit(test_size=0.1, random_state=1),  # Use 10, 90/10% splits\n",
    "        scoring='neg_mean_absolute_error',  # Score based on MAE\n",
    "    ))\n",
    "])"
   ]
  },
  {
   "cell_type": "markdown",
   "metadata": {},
   "source": [
    "Fit on the whole dataset"
   ]
  },
  {
   "cell_type": "code",
   "execution_count": 8,
   "metadata": {},
   "outputs": [
    {
     "data": {
      "text/plain": [
       "Pipeline(steps=[('kernel', FCHLKernel()),\n",
       "                ('krr',\n",
       "                 GridSearchCV(cv=ShuffleSplit(n_splits=10, random_state=1, test_size=0.1, train_size=None),\n",
       "                              estimator=KernelRidge(kernel='precomputed'),\n",
       "                              param_grid={'alpha': array([1.00000000e-08, 1.81160919e-08, 3.28192787e-08, 5.94557071e-08,\n",
       "       1.07710506e-07, 1.95129342e-07, 3.53498111e-07, 6.40400427e-07,\n",
       "       1.16015530e-06, 2.10174801...78538e-06,\n",
       "       1.24960914e-05, 2.26380341e-05, 4.10112707e-05, 7.42963951e-05,\n",
       "       1.34596032e-04, 2.43835410e-04, 4.41734470e-04, 8.00250228e-04,\n",
       "       1.44974067e-03, 2.62636353e-03, 4.75794431e-03, 8.61953566e-03,\n",
       "       1.56152301e-02, 2.82886943e-02, 5.12480588e-02, 9.28414545e-02,\n",
       "       1.68192432e-01, 3.04698957e-01, 5.51995432e-01, 1.00000000e+00])},\n",
       "                              scoring='neg_mean_absolute_error'))])"
      ]
     },
     "execution_count": 8,
     "metadata": {},
     "output_type": "execute_result"
    }
   ],
   "source": [
    "model.fit(train_data['rep'].tolist(), train_data['delta'])"
   ]
  },
  {
   "cell_type": "markdown",
   "metadata": {},
   "source": [
    "Plot the performance"
   ]
  },
  {
   "cell_type": "code",
   "execution_count": 9,
   "metadata": {},
   "outputs": [],
   "source": [
    "test_data['delta_pred'] = model.predict(test_data['rep'].tolist())"
   ]
  },
  {
   "cell_type": "code",
   "execution_count": 10,
   "metadata": {},
   "outputs": [
    {
     "data": {
      "text/plain": [
       "Text(0, 0.5, '$\\\\Delta$, ML (V)')"
      ]
     },
     "execution_count": 10,
     "metadata": {},
     "output_type": "execute_result"
    },
    {
     "data": {
      "image/png": "[encoded data removed]",
      "text/plain": [
       "<Figure size 252x252 with 1 Axes>"
      ]
     },
     "metadata": {
      "needs_background": "light"
     },
     "output_type": "display_data"
    }
   ],
   "source": [
    "fig, ax = plt.subplots(figsize=(3.5, 3.5))\n",
    "\n",
    "ax.scatter(test_data['delta'], data['delta_pred'])\n",
    "\n",
    "# Make the y=x\n",
    "min_ = min(ax.get_xlim() + ax.get_ylim())\n",
    "max_ = max(ax.get_xlim() + ax.get_ylim())\n",
    "ax.set_xlim([min_, max_])\n",
    "ax.set_ylim([min_, max_])\n",
    "ax.plot(ax.set_xlim(), ax.get_xlim(), 'k--')\n",
    "\n",
    "ax.set_xlabel('$\\Delta$, True (V)')\n",
    "ax.set_ylabel('$\\Delta$, ML (V)')"
   ]
  },
  {
   "cell_type": "markdown",
   "metadata": {},
   "source": [
    "Print out the outliers"
   ]
  },
  {
   "cell_type": "code",
   "execution_count": 11,
   "metadata": {},
   "outputs": [],
   "source": [
    "test_data['error'] = (test_data['delta'] - test_data['delta_pred']).abs()"
   ]
  },
  {
   "cell_type": "code",
   "execution_count": 12,
   "metadata": {},
   "outputs": [
    {
     "data": {
      "text/html": [
       "<div>\n",
       "<style scoped>\n",
       "    .dataframe tbody tr th:only-of-type {\n",
       "        vertical-align: middle;\n",
       "    }\n",
       "\n",
       "    .dataframe tbody tr th {\n",
       "        vertical-align: top;\n",
       "    }\n",
       "\n",
       "    .dataframe thead th {\n",
       "        text-align: right;\n",
       "    }\n",
       "</style>\n",
       "<table border=\"1\" class=\"dataframe\">\n",
       "  <thead>\n",
       "    <tr style=\"text-align: right;\">\n",
       "      <th></th>\n",
       "      <th>identifier.smiles</th>\n",
       "      <th>ip.vacuum.xtb-no_zpe</th>\n",
       "      <th>ip.vacuum.small_basis</th>\n",
       "      <th>error</th>\n",
       "    </tr>\n",
       "  </thead>\n",
       "  <tbody>\n",
       "    <tr>\n",
       "      <th>125</th>\n",
       "      <td>C[Si](C)(C)C1=CC(=O)C=CC1=O</td>\n",
       "      <td>12.781285</td>\n",
       "      <td>8.714530</td>\n",
       "      <td>7.911145</td>\n",
       "    </tr>\n",
       "    <tr>\n",
       "      <th>208</th>\n",
       "      <td>C1#CCCC#CCCC#CCC1</td>\n",
       "      <td>12.519490</td>\n",
       "      <td>8.148533</td>\n",
       "      <td>2.440732</td>\n",
       "    </tr>\n",
       "    <tr>\n",
       "      <th>159</th>\n",
       "      <td>[H]/N=C(/C)N(C)C=O</td>\n",
       "      <td>13.831881</td>\n",
       "      <td>7.212559</td>\n",
       "      <td>1.637541</td>\n",
       "    </tr>\n",
       "    <tr>\n",
       "      <th>8</th>\n",
       "      <td>c1ccc2snnc2c1</td>\n",
       "      <td>13.532832</td>\n",
       "      <td>8.322848</td>\n",
       "      <td>1.105517</td>\n",
       "    </tr>\n",
       "    <tr>\n",
       "      <th>180</th>\n",
       "      <td>Cc1c(C)c(C)c(C)c(C)c1C</td>\n",
       "      <td>12.192440</td>\n",
       "      <td>7.373312</td>\n",
       "      <td>1.076238</td>\n",
       "    </tr>\n",
       "  </tbody>\n",
       "</table>\n",
       "</div>"
      ],
      "text/plain": [
       "               identifier.smiles  ip.vacuum.xtb-no_zpe  ip.vacuum.small_basis  \\\n",
       "125  C[Si](C)(C)C1=CC(=O)C=CC1=O             12.781285               8.714530   \n",
       "208            C1#CCCC#CCCC#CCC1             12.519490               8.148533   \n",
       "159           [H]/N=C(/C)N(C)C=O             13.831881               7.212559   \n",
       "8                  c1ccc2snnc2c1             13.532832               8.322848   \n",
       "180       Cc1c(C)c(C)c(C)c(C)c1C             12.192440               7.373312   \n",
       "\n",
       "        error  \n",
       "125  7.911145  \n",
       "208  2.440732  \n",
       "159  1.637541  \n",
       "8    1.105517  \n",
       "180  1.076238  "
      ]
     },
     "execution_count": 12,
     "metadata": {},
     "output_type": "execute_result"
    }
   ],
   "source": [
    "test_data.sort_values('error', ascending=False)[['identifier.smiles', 'ip.vacuum.xtb-no_zpe', 'ip.vacuum.small_basis', 'error']].head(5)"
   ]
  },
  {
   "cell_type": "markdown",
   "metadata": {},
   "source": [
    "## Make a Learning Curve\n",
    "Ensure that the model is getting better as we add more data"
   ]
  },
  {
   "cell_type": "code",
   "execution_count": 13,
   "metadata": {},
   "outputs": [],
   "source": [
    "train_sizes = np.logspace(1, np.log10(len(train_data)), 6, dtype=np.int)"
   ]
  },
  {
   "cell_type": "code",
   "execution_count": 14,
   "metadata": {},
   "outputs": [
    {
     "name": "stderr",
     "output_type": "stream",
     "text": [
      "100%|██████████| 6/6 [14:14<00:00, 142.34s/it]\n"
     ]
    }
   ],
   "source": [
    "# Loop over the test sizes\n",
    "results = []\n",
    "for ts in tqdm(train_sizes):\n",
    "    # Split off some training data\n",
    "    train_subset = train_data.sample(ts, random_state=1)\n",
    "    \n",
    "    # Fit the model\n",
    "    train_time = perf_counter()\n",
    "    model.fit(train_subset['rep'].tolist(), train_subset['delta'])\n",
    "    train_time = perf_counter() - train_time\n",
    "    \n",
    "    # Evaluate the model on the test set\n",
    "    test_time = perf_counter()\n",
    "    test_data['delta_pred'] = model.predict(test_data['rep'].tolist())\n",
    "    test_time = perf_counter() - test_time\n",
    "    \n",
    "    # Store performance information\n",
    "    results.append({\n",
    "        'train_size': ts,\n",
    "        'train_time': train_time,\n",
    "        'test_time': test_time,\n",
    "        'alpha': model[1].best_params_['alpha'],\n",
    "        'mae': mean_absolute_error(test_data['delta'], test_data['delta_pred']),\n",
    "        'median_abs_error': median_absolute_error(test_data['delta'], test_data['delta_pred'])\n",
    "    })"
   ]
  },
  {
   "cell_type": "code",
   "execution_count": 15,
   "metadata": {},
   "outputs": [],
   "source": [
    "results = pd.DataFrame(results)"
   ]
  },
  {
   "cell_type": "code",
   "execution_count": 16,
   "metadata": {},
   "outputs": [
    {
     "data": {
      "image/png": "[encoded data removed]",
      "text/plain": [
       "<Figure size 612x216 with 3 Axes>"
      ]
     },
     "metadata": {
      "needs_background": "light"
     },
     "output_type": "display_data"
    }
   ],
   "source": [
    "fig, axs = plt.subplots(1, 3, figsize=(8.5, 3.))\n",
    "\n",
    "ax = axs[0]\n",
    "ax.loglog(results['train_size'], results['alpha'], '--o')\n",
    "ax.set_ylabel('$\\lambda$')\n",
    "ax.set_title('Hyperparameters')\n",
    "\n",
    "ax = axs[1]\n",
    "ax.loglog(results['train_size'], results['mae'], '--o', label='Mean')\n",
    "ax.loglog(results['train_size'], results['median_abs_error'], '--x', label='Median')\n",
    "ax.set_ylabel('Error (V)')\n",
    "ax.set_title('Training Performance')\n",
    "ax.legend()\n",
    "\n",
    "ax = axs[2]\n",
    "ax.loglog(results['train_size'], len(test_data) / results['test_time'], '--o')\n",
    "ax.set_ylabel('Test Time (mol/s)')\n",
    "ax.set_title('Inference Performance')\n",
    "\n",
    "for ax in axs:\n",
    "    ax.set_xlabel('Train Size')\n",
    "\n",
    "fig.tight_layout()"
   ]
  },
  {
   "cell_type": "code",
   "execution_count": null,
   "metadata": {},
   "outputs": [],
   "source": []
  }
 ],
 "metadata": {
  "kernelspec": {
   "display_name": "edw",
   "language": "python",
   "name": "edw"
  },
  "language_info": {
   "codemirror_mode": {
    "name": "ipython",
    "version": 3
   },
   "file_extension": ".py",
   "mimetype": "text/x-python",
   "name": "python",
   "nbconvert_exporter": "python",
   "pygments_lexer": "ipython3",
   "version": "3.7.9"
  }
 },
 "nbformat": 4,
 "nbformat_minor": 5
}
