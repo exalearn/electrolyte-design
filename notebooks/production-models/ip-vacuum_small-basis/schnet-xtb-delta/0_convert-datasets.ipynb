{
 "cells": [
  {
   "cell_type": "markdown",
   "id": "deadly-secondary",
   "metadata": {},
   "source": [
    "# Convert Data to ASE DBs\n",
    "That is the format that SchNetPack prefers for their data"
   ]
  },
  {
   "cell_type": "code",
   "execution_count": 1,
   "id": "ranging-measurement",
   "metadata": {
    "execution": {
     "iopub.execute_input": "2021-02-11T22:53:18.358984Z",
     "iopub.status.busy": "2021-02-11T22:53:18.358553Z",
     "iopub.status.idle": "2021-02-11T22:53:19.074224Z",
     "shell.execute_reply": "2021-02-11T22:53:19.074598Z"
    }
   },
   "outputs": [],
   "source": [
    "from schnetpack.data import AtomsData\n",
    "from ase.io.xyz import read_xyz\n",
    "from io import StringIO\n",
    "import pandas as pd\n",
    "import numpy as np\n",
    "import os"
   ]
  },
  {
   "cell_type": "markdown",
   "id": "lasting-campbell",
   "metadata": {},
   "source": [
    "Configuration"
   ]
  },
  {
   "cell_type": "code",
   "execution_count": 2,
   "id": "dutch-reader",
   "metadata": {
    "execution": {
     "iopub.execute_input": "2021-02-11T22:53:19.077590Z",
     "iopub.status.busy": "2021-02-11T22:53:19.077222Z",
     "iopub.status.idle": "2021-02-11T22:53:19.078481Z",
     "shell.execute_reply": "2021-02-11T22:53:19.078834Z"
    }
   },
   "outputs": [],
   "source": [
    "target = 'ip.vacuum.small_basis'\n",
    "low_res = 'ip.vacuum.xtb-no_zpe'\n",
    "geom_column = 'geometry.neutral.xtb'"
   ]
  },
  {
   "cell_type": "markdown",
   "id": "quiet-buffalo",
   "metadata": {},
   "source": [
    "## Save Each Dataset\n",
    "Loop over and store the datasets "
   ]
  },
  {
   "cell_type": "code",
   "execution_count": 3,
   "id": "popular-credit",
   "metadata": {
    "execution": {
     "iopub.execute_input": "2021-02-11T22:53:19.081453Z",
     "iopub.status.busy": "2021-02-11T22:53:19.081097Z",
     "iopub.status.idle": "2021-02-11T22:53:19.083363Z",
     "shell.execute_reply": "2021-02-11T22:53:19.083662Z"
    }
   },
   "outputs": [],
   "source": [
    "os.makedirs('datasets', exist_ok=True)"
   ]
  },
  {
   "cell_type": "code",
   "execution_count": 4,
   "id": "together-delta",
   "metadata": {
    "execution": {
     "iopub.execute_input": "2021-02-11T22:53:19.088011Z",
     "iopub.status.busy": "2021-02-11T22:53:19.087638Z",
     "iopub.status.idle": "2021-02-11T22:53:23.611127Z",
     "shell.execute_reply": "2021-02-11T22:53:23.611441Z"
    }
   },
   "outputs": [],
   "source": [
    "for name in ['train', 'test', 'valid']:\n",
    "    # Load data and compute delta\n",
    "    data = pd.read_csv(f'../datasets/{name}.csv')\n",
    "    data['delta'] = data[target] - data[low_res]\n",
    "    \n",
    "    # Compute ASE atoms objects\n",
    "    data['atoms'] = data[geom_column].apply(lambda x: next(read_xyz(StringIO(x), slice(None))))\n",
    "    \n",
    "    # Store in an ASE db\n",
    "    out_path = f'datasets/{name}.db'\n",
    "    if os.path.isfile(out_path):\n",
    "        os.unlink(out_path)\n",
    "        \n",
    "    # Make the database\n",
    "    db = AtomsData(out_path, available_properties=['delta'])\n",
    "    \n",
    "    # Add the data\n",
    "    db.add_systems(data['atoms'], data['delta'].apply(lambda x: {'delta': np.atleast_1d(x)}).tolist())"
   ]
  },
  {
   "cell_type": "code",
   "execution_count": null,
   "id": "central-founder",
   "metadata": {},
   "outputs": [],
   "source": []
  }
 ],
 "metadata": {
  "kernelspec": {
   "display_name": "Python 3",
   "language": "python",
   "name": "python3"
  },
  "language_info": {
   "codemirror_mode": {
    "name": "ipython",
    "version": 3
   },
   "file_extension": ".py",
   "mimetype": "text/x-python",
   "name": "python",
   "nbconvert_exporter": "python",
   "pygments_lexer": "ipython3",
   "version": "3.7.9"
  }
 },
 "nbformat": 4,
 "nbformat_minor": 5
}
