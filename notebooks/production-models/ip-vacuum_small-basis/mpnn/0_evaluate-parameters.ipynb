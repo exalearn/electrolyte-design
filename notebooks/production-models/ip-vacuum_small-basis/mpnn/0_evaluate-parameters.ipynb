{
 "cells": [
  {
   "cell_type": "markdown",
   "metadata": {},
   "source": [
    "# Evaluate MPNN Performance\n",
    "Review the models which have been trained and pick one for our application."
   ]
  },
  {
   "cell_type": "code",
   "execution_count": 1,
   "metadata": {
    "execution": {
     "iopub.execute_input": "2021-07-22T15:36:19.289289Z",
     "iopub.status.busy": "2021-07-22T15:36:19.288971Z",
     "iopub.status.idle": "2021-07-22T15:36:19.707682Z",
     "shell.execute_reply": "2021-07-22T15:36:19.707922Z"
    }
   },
   "outputs": [],
   "source": [
    "%matplotlib inline\n",
    "from matplotlib import pyplot as plt\n",
    "from glob import glob\n",
    "import pandas as pd\n",
    "import numpy as np\n",
    "import json\n",
    "import os"
   ]
  },
  {
   "cell_type": "markdown",
   "metadata": {},
   "source": [
    "## Load in the Models\n",
    "They are all located in a directory with a `test_summary.json` file"
   ]
  },
  {
   "cell_type": "code",
   "execution_count": 2,
   "metadata": {
    "execution": {
     "iopub.execute_input": "2021-07-22T15:36:19.710334Z",
     "iopub.status.busy": "2021-07-22T15:36:19.710043Z",
     "iopub.status.idle": "2021-07-22T15:36:19.713197Z",
     "shell.execute_reply": "2021-07-22T15:36:19.712813Z"
    }
   },
   "outputs": [
    {
     "name": "stdout",
     "output_type": "stream",
     "text": [
      "Found 4 model directories\n"
     ]
    }
   ],
   "source": [
    "model_dirs = list(map(os.path.dirname, glob(os.path.join('networks', '**', 'test_summary.json'))))\n",
    "print(f'Found {len(model_dirs)} model directories')"
   ]
  },
  {
   "cell_type": "code",
   "execution_count": 3,
   "metadata": {
    "execution": {
     "iopub.execute_input": "2021-07-22T15:36:19.716117Z",
     "iopub.status.busy": "2021-07-22T15:36:19.715833Z",
     "iopub.status.idle": "2021-07-22T15:36:19.717696Z",
     "shell.execute_reply": "2021-07-22T15:36:19.717916Z"
    }
   },
   "outputs": [],
   "source": [
    "def get_summary(path):\n",
    "    \"\"\"Get the summary of a run\"\"\"\n",
    "    \n",
    "    output = {'path': path}\n",
    "    \n",
    "    # Load the config\n",
    "    with open(os.path.join(path, 'config.json')) as fp:\n",
    "        output.update(json.load(fp))\n",
    "        \n",
    "    # Load in the run summary\n",
    "    with open(os.path.join(path, 'test_summary.json')) as fp:\n",
    "        output.update(json.load(fp))\n",
    "    return output"
   ]
  },
  {
   "cell_type": "code",
   "execution_count": 4,
   "metadata": {
    "execution": {
     "iopub.execute_input": "2021-07-22T15:36:19.723645Z",
     "iopub.status.busy": "2021-07-22T15:36:19.719621Z",
     "iopub.status.idle": "2021-07-22T15:36:19.734606Z",
     "shell.execute_reply": "2021-07-22T15:36:19.734225Z"
    }
   },
   "outputs": [
    {
     "data": {
      "text/html": [
       "<div>\n",
       "<style scoped>\n",
       "    .dataframe tbody tr th:only-of-type {\n",
       "        vertical-align: middle;\n",
       "    }\n",
       "\n",
       "    .dataframe tbody tr th {\n",
       "        vertical-align: top;\n",
       "    }\n",
       "\n",
       "    .dataframe thead th {\n",
       "        text-align: right;\n",
       "    }\n",
       "</style>\n",
       "<table border=\"1\" class=\"dataframe\">\n",
       "  <thead>\n",
       "    <tr style=\"text-align: right;\">\n",
       "      <th></th>\n",
       "      <th>path</th>\n",
       "      <th>atom_features</th>\n",
       "      <th>num_messages</th>\n",
       "      <th>output_layers</th>\n",
       "      <th>batch_size</th>\n",
       "      <th>num_epochs</th>\n",
       "      <th>readout_fn</th>\n",
       "      <th>random_seed</th>\n",
       "      <th>r2_score</th>\n",
       "      <th>spearmanr</th>\n",
       "      <th>kendall_tau</th>\n",
       "      <th>mae</th>\n",
       "      <th>rmse</th>\n",
       "      <th>test_time</th>\n",
       "    </tr>\n",
       "  </thead>\n",
       "  <tbody>\n",
       "    <tr>\n",
       "      <th>1</th>\n",
       "      <td>networks/T8_b32_n512_256153</td>\n",
       "      <td>256</td>\n",
       "      <td>8</td>\n",
       "      <td>[512, 256, 128]</td>\n",
       "      <td>32</td>\n",
       "      <td>512</td>\n",
       "      <td>sum</td>\n",
       "      <td>1</td>\n",
       "      <td>0.742453</td>\n",
       "      <td>0.876986</td>\n",
       "      <td>0.717777</td>\n",
       "      <td>0.279833</td>\n",
       "      <td>0.436701</td>\n",
       "      <td>0.463450</td>\n",
       "    </tr>\n",
       "    <tr>\n",
       "      <th>2</th>\n",
       "      <td>networks/T8_b32_n512_b46572</td>\n",
       "      <td>256</td>\n",
       "      <td>8</td>\n",
       "      <td>[512, 256, 128]</td>\n",
       "      <td>32</td>\n",
       "      <td>512</td>\n",
       "      <td>softmax</td>\n",
       "      <td>1</td>\n",
       "      <td>0.736075</td>\n",
       "      <td>0.887360</td>\n",
       "      <td>0.726775</td>\n",
       "      <td>0.283084</td>\n",
       "      <td>0.441438</td>\n",
       "      <td>0.487190</td>\n",
       "    </tr>\n",
       "    <tr>\n",
       "      <th>0</th>\n",
       "      <td>networks/T8_b32_n512_f034cd</td>\n",
       "      <td>256</td>\n",
       "      <td>8</td>\n",
       "      <td>[512, 256, 128]</td>\n",
       "      <td>32</td>\n",
       "      <td>512</td>\n",
       "      <td>mean</td>\n",
       "      <td>1</td>\n",
       "      <td>0.700045</td>\n",
       "      <td>0.862681</td>\n",
       "      <td>0.690905</td>\n",
       "      <td>0.313477</td>\n",
       "      <td>0.477871</td>\n",
       "      <td>0.470146</td>\n",
       "    </tr>\n",
       "    <tr>\n",
       "      <th>3</th>\n",
       "      <td>networks/T8_b32_n512_8f751d</td>\n",
       "      <td>256</td>\n",
       "      <td>8</td>\n",
       "      <td>[512, 256, 128]</td>\n",
       "      <td>32</td>\n",
       "      <td>512</td>\n",
       "      <td>max</td>\n",
       "      <td>1</td>\n",
       "      <td>0.682579</td>\n",
       "      <td>0.855888</td>\n",
       "      <td>0.679596</td>\n",
       "      <td>0.323662</td>\n",
       "      <td>0.482886</td>\n",
       "      <td>0.463821</td>\n",
       "    </tr>\n",
       "  </tbody>\n",
       "</table>\n",
       "</div>"
      ],
      "text/plain": [
       "                          path  atom_features  num_messages    output_layers  \\\n",
       "1  networks/T8_b32_n512_256153            256             8  [512, 256, 128]   \n",
       "2  networks/T8_b32_n512_b46572            256             8  [512, 256, 128]   \n",
       "0  networks/T8_b32_n512_f034cd            256             8  [512, 256, 128]   \n",
       "3  networks/T8_b32_n512_8f751d            256             8  [512, 256, 128]   \n",
       "\n",
       "   batch_size  num_epochs readout_fn  random_seed  r2_score  spearmanr  \\\n",
       "1          32         512        sum            1  0.742453   0.876986   \n",
       "2          32         512    softmax            1  0.736075   0.887360   \n",
       "0          32         512       mean            1  0.700045   0.862681   \n",
       "3          32         512        max            1  0.682579   0.855888   \n",
       "\n",
       "   kendall_tau       mae      rmse  test_time  \n",
       "1     0.717777  0.279833  0.436701   0.463450  \n",
       "2     0.726775  0.283084  0.441438   0.487190  \n",
       "0     0.690905  0.313477  0.477871   0.470146  \n",
       "3     0.679596  0.323662  0.482886   0.463821  "
      ]
     },
     "execution_count": 4,
     "metadata": {},
     "output_type": "execute_result"
    }
   ],
   "source": [
    "models = pd.DataFrame(get_summary(p) for p in model_dirs).sort_values('mae')\n",
    "models.head(5)"
   ]
  },
  {
   "cell_type": "markdown",
   "metadata": {},
   "source": [
    "## Validate the Best Model\n",
    "Visualize the results on the hold-out set of 10% of our data"
   ]
  },
  {
   "cell_type": "code",
   "execution_count": 5,
   "metadata": {
    "execution": {
     "iopub.execute_input": "2021-07-22T15:36:19.736813Z",
     "iopub.status.busy": "2021-07-22T15:36:19.736530Z",
     "iopub.status.idle": "2021-07-22T15:36:19.738664Z",
     "shell.execute_reply": "2021-07-22T15:36:19.738429Z"
    }
   },
   "outputs": [],
   "source": [
    "best_model = models.iloc[0]"
   ]
  },
  {
   "cell_type": "code",
   "execution_count": 6,
   "metadata": {
    "execution": {
     "iopub.execute_input": "2021-07-22T15:36:19.741455Z",
     "iopub.status.busy": "2021-07-22T15:36:19.741180Z",
     "iopub.status.idle": "2021-07-22T15:36:19.743915Z",
     "shell.execute_reply": "2021-07-22T15:36:19.744138Z"
    }
   },
   "outputs": [
    {
     "data": {
      "text/plain": [
       "path             networks/T8_b32_n512_256153\n",
       "atom_features                            256\n",
       "num_messages                               8\n",
       "output_layers                [512, 256, 128]\n",
       "batch_size                                32\n",
       "num_epochs                               512\n",
       "readout_fn                               sum\n",
       "random_seed                                1\n",
       "r2_score                            0.742453\n",
       "spearmanr                           0.876986\n",
       "kendall_tau                         0.717777\n",
       "mae                                 0.279833\n",
       "rmse                                0.436701\n",
       "test_time                            0.46345\n",
       "Name: 1, dtype: object"
      ]
     },
     "execution_count": 6,
     "metadata": {},
     "output_type": "execute_result"
    }
   ],
   "source": [
    "best_model"
   ]
  },
  {
   "cell_type": "code",
   "execution_count": 7,
   "metadata": {
    "execution": {
     "iopub.execute_input": "2021-07-22T15:36:19.747076Z",
     "iopub.status.busy": "2021-07-22T15:36:19.745900Z",
     "iopub.status.idle": "2021-07-22T15:36:19.748655Z",
     "shell.execute_reply": "2021-07-22T15:36:19.748880Z"
    }
   },
   "outputs": [],
   "source": [
    "test_data = pd.read_csv(os.path.join(best_model['path'], 'test_results.csv'))"
   ]
  },
  {
   "cell_type": "code",
   "execution_count": 8,
   "metadata": {
    "execution": {
     "iopub.execute_input": "2021-07-22T15:36:19.760802Z",
     "iopub.status.busy": "2021-07-22T15:36:19.760506Z",
     "iopub.status.idle": "2021-07-22T15:36:20.046954Z",
     "shell.execute_reply": "2021-07-22T15:36:20.046565Z"
    }
   },
   "outputs": [
    {
     "data": {
      "image/png": "[encoded data removed]",
      "text/plain": [
       "<Figure size 468x180 with 2 Axes>"
      ]
     },
     "metadata": {
      "needs_background": "light"
     },
     "output_type": "display_data"
    }
   ],
   "source": [
    "fig, axs = plt.subplots(1, 2, figsize=(6.5, 2.5))\n",
    "\n",
    "errors = (test_data['pred'] - test_data['true'])\n",
    "\n",
    "ax = axs[0]\n",
    "ax.scatter(test_data['true'], test_data['pred'], s=5, alpha=0.7, edgecolor='none')\n",
    "ax.text(0.05, 0.95, f'$R^2$:{best_model[\"r2_score\"]: .3f}\\nMAE:{errors.abs().mean(): .3f} V', \n",
    "       transform=ax.transAxes, va='top', ha='left')\n",
    "\n",
    "min_ = min(ax.get_xlim() + ax.get_ylim())\n",
    "max_ = max(ax.get_xlim() + ax.get_ylim())\n",
    "ax.set_xlim(min_, max_)\n",
    "ax.set_ylim(ax.get_xlim())\n",
    "\n",
    "ax.plot(ax.get_xlim(), ax.get_xlim(), 'k--')\n",
    "\n",
    "ax.set_xlabel('IP, True (V)')\n",
    "ax.set_ylabel('IP, MPNN (V)')\n",
    "\n",
    "ax = axs[1]\n",
    "\n",
    "\n",
    "ax.hist(errors, bins=np.linspace(-4, 4, 32))\n",
    "\n",
    "ax.set_ylim(ax.get_ylim())\n",
    "ax.plot([-1, -1], ax.get_ylim(), 'k--')\n",
    "ax.plot([1, 1], ax.get_ylim(), 'k--')\n",
    "\n",
    "ax.set_xlabel('Error (V)')\n",
    "ax.set_ylabel('Frequency')\n",
    "fig.tight_layout()"
   ]
  },
  {
   "cell_type": "markdown",
   "metadata": {},
   "source": [
    "Link the best model to the local directory"
   ]
  },
  {
   "cell_type": "code",
   "execution_count": 9,
   "metadata": {
    "execution": {
     "iopub.execute_input": "2021-07-22T15:36:20.049252Z",
     "iopub.status.busy": "2021-07-22T15:36:20.048749Z",
     "iopub.status.idle": "2021-07-22T15:36:20.051177Z",
     "shell.execute_reply": "2021-07-22T15:36:20.050801Z"
    }
   },
   "outputs": [],
   "source": [
    "if os.path.exists('best_model.h5'):\n",
    "    os.unlink('best_model.h5')\n",
    "os.symlink(os.path.join(best_model['path'], 'best_model.h5'), 'best_model.h5')"
   ]
  },
  {
   "cell_type": "code",
   "execution_count": 10,
   "metadata": {
    "execution": {
     "iopub.execute_input": "2021-07-22T15:36:20.053437Z",
     "iopub.status.busy": "2021-07-22T15:36:20.052931Z",
     "iopub.status.idle": "2021-07-22T15:36:20.055262Z",
     "shell.execute_reply": "2021-07-22T15:36:20.055027Z"
    }
   },
   "outputs": [],
   "source": [
    "if os.path.exists('best_config.json'):\n",
    "    os.unlink('best_config.json')\n",
    "os.symlink(os.path.join(best_model['path'], 'config.json'), 'best_config.json')"
   ]
  },
  {
   "cell_type": "code",
   "execution_count": 11,
   "metadata": {
    "execution": {
     "iopub.execute_input": "2021-07-22T15:36:20.057575Z",
     "iopub.status.busy": "2021-07-22T15:36:20.057066Z",
     "iopub.status.idle": "2021-07-22T15:36:20.059157Z",
     "shell.execute_reply": "2021-07-22T15:36:20.059383Z"
    }
   },
   "outputs": [],
   "source": [
    "if os.path.exists('best_performance.json'):\n",
    "    os.unlink('best_performance.json')\n",
    "os.symlink(os.path.join(best_model['path'], 'test_summary.json'), 'best_performance.json')"
   ]
  },
  {
   "cell_type": "code",
   "execution_count": null,
   "metadata": {},
   "outputs": [],
   "source": []
  }
 ],
 "metadata": {
  "kernelspec": {
   "display_name": "Python 3",
   "language": "python",
   "name": "python3"
  },
  "language_info": {
   "codemirror_mode": {
    "name": "ipython",
    "version": 3
   },
   "file_extension": ".py",
   "mimetype": "text/x-python",
   "name": "python",
   "nbconvert_exporter": "python",
   "pygments_lexer": "ipython3",
   "version": "3.8.10"
  }
 },
 "nbformat": 4,
 "nbformat_minor": 4
}
