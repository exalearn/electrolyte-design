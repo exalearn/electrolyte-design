{
 "cells": [
  {
   "cell_type": "markdown",
   "metadata": {},
   "source": [
    "# Evaluate MPNN Performance\n",
    "Review the models which have been trained and pick one for our application."
   ]
  },
  {
   "cell_type": "code",
   "execution_count": 1,
   "metadata": {
    "execution": {
     "iopub.execute_input": "2021-03-17T18:20:50.593589Z",
     "iopub.status.busy": "2021-03-17T18:20:50.593107Z",
     "iopub.status.idle": "2021-03-17T18:20:56.994522Z",
     "shell.execute_reply": "2021-03-17T18:20:56.994018Z"
    }
   },
   "outputs": [],
   "source": [
    "%matplotlib inline\n",
    "from matplotlib import pyplot as plt\n",
    "from glob import glob\n",
    "import pandas as pd\n",
    "import numpy as np\n",
    "import json\n",
    "import os"
   ]
  },
  {
   "cell_type": "markdown",
   "metadata": {},
   "source": [
    "## Load in the Models\n",
    "They are all located in a directory with a `test_summary.json` file"
   ]
  },
  {
   "cell_type": "code",
   "execution_count": 2,
   "metadata": {
    "execution": {
     "iopub.execute_input": "2021-03-17T18:20:56.997950Z",
     "iopub.status.busy": "2021-03-17T18:20:56.997552Z",
     "iopub.status.idle": "2021-03-17T18:20:57.021942Z",
     "shell.execute_reply": "2021-03-17T18:20:57.022314Z"
    }
   },
   "outputs": [
    {
     "name": "stdout",
     "output_type": "stream",
     "text": [
      "Found 12 model directories\n"
     ]
    }
   ],
   "source": [
    "model_dirs = list(map(os.path.dirname, glob(os.path.join('networks', '**', 'test_summary.json'))))\n",
    "print(f'Found {len(model_dirs)} model directories')"
   ]
  },
  {
   "cell_type": "code",
   "execution_count": 3,
   "metadata": {
    "execution": {
     "iopub.execute_input": "2021-03-17T18:20:57.026383Z",
     "iopub.status.busy": "2021-03-17T18:20:57.025995Z",
     "iopub.status.idle": "2021-03-17T18:20:57.027367Z",
     "shell.execute_reply": "2021-03-17T18:20:57.027726Z"
    }
   },
   "outputs": [],
   "source": [
    "def get_summary(path):\n",
    "    \"\"\"Get the summary of a run\"\"\"\n",
    "    \n",
    "    output = {'path': path}\n",
    "    \n",
    "    # Load the config\n",
    "    with open(os.path.join(path, 'config.json')) as fp:\n",
    "        output.update(json.load(fp))\n",
    "        \n",
    "    # Load in the run summary\n",
    "    with open(os.path.join(path, 'test_summary.json')) as fp:\n",
    "        output.update(json.load(fp))\n",
    "    return output"
   ]
  },
  {
   "cell_type": "code",
   "execution_count": 4,
   "metadata": {
    "execution": {
     "iopub.execute_input": "2021-03-17T18:20:57.030328Z",
     "iopub.status.busy": "2021-03-17T18:20:57.029970Z",
     "iopub.status.idle": "2021-03-17T18:20:57.343272Z",
     "shell.execute_reply": "2021-03-17T18:20:57.343646Z"
    }
   },
   "outputs": [
    {
     "data": {
      "text/html": [
       "<div>\n",
       "<style scoped>\n",
       "    .dataframe tbody tr th:only-of-type {\n",
       "        vertical-align: middle;\n",
       "    }\n",
       "\n",
       "    .dataframe tbody tr th {\n",
       "        vertical-align: top;\n",
       "    }\n",
       "\n",
       "    .dataframe thead th {\n",
       "        text-align: right;\n",
       "    }\n",
       "</style>\n",
       "<table border=\"1\" class=\"dataframe\">\n",
       "  <thead>\n",
       "    <tr style=\"text-align: right;\">\n",
       "      <th></th>\n",
       "      <th>path</th>\n",
       "      <th>atom_features</th>\n",
       "      <th>num_messages</th>\n",
       "      <th>output_layers</th>\n",
       "      <th>batch_size</th>\n",
       "      <th>num_epochs</th>\n",
       "      <th>readout_fn</th>\n",
       "      <th>atomwise</th>\n",
       "      <th>device</th>\n",
       "      <th>r2_score</th>\n",
       "      <th>spearmanr</th>\n",
       "      <th>kendall_tau</th>\n",
       "      <th>mae</th>\n",
       "      <th>rmse</th>\n",
       "      <th>test_time</th>\n",
       "    </tr>\n",
       "  </thead>\n",
       "  <tbody>\n",
       "    <tr>\n",
       "      <th>11</th>\n",
       "      <td>networks/T6_b64_n512_955974</td>\n",
       "      <td>128</td>\n",
       "      <td>6</td>\n",
       "      <td>3</td>\n",
       "      <td>64</td>\n",
       "      <td>512</td>\n",
       "      <td>softmax</td>\n",
       "      <td>False</td>\n",
       "      <td>cuda</td>\n",
       "      <td>0.726609</td>\n",
       "      <td>0.889769</td>\n",
       "      <td>0.724769</td>\n",
       "      <td>0.287270</td>\n",
       "      <td>0.452008</td>\n",
       "      <td>1.272647</td>\n",
       "    </tr>\n",
       "    <tr>\n",
       "      <th>10</th>\n",
       "      <td>networks/T6_b64_n512_7081b8</td>\n",
       "      <td>128</td>\n",
       "      <td>6</td>\n",
       "      <td>3</td>\n",
       "      <td>64</td>\n",
       "      <td>512</td>\n",
       "      <td>softmax</td>\n",
       "      <td>True</td>\n",
       "      <td>cuda</td>\n",
       "      <td>0.699389</td>\n",
       "      <td>0.875185</td>\n",
       "      <td>0.709266</td>\n",
       "      <td>0.289848</td>\n",
       "      <td>0.468102</td>\n",
       "      <td>1.151091</td>\n",
       "    </tr>\n",
       "    <tr>\n",
       "      <th>9</th>\n",
       "      <td>networks/T8_b64_n512_e39c59</td>\n",
       "      <td>128</td>\n",
       "      <td>8</td>\n",
       "      <td>3</td>\n",
       "      <td>64</td>\n",
       "      <td>512</td>\n",
       "      <td>avg</td>\n",
       "      <td>False</td>\n",
       "      <td>cuda</td>\n",
       "      <td>0.715293</td>\n",
       "      <td>0.883477</td>\n",
       "      <td>0.717595</td>\n",
       "      <td>0.294571</td>\n",
       "      <td>0.461823</td>\n",
       "      <td>1.282656</td>\n",
       "    </tr>\n",
       "    <tr>\n",
       "      <th>5</th>\n",
       "      <td>networks/T6_b64_n512_594062</td>\n",
       "      <td>128</td>\n",
       "      <td>6</td>\n",
       "      <td>3</td>\n",
       "      <td>64</td>\n",
       "      <td>512</td>\n",
       "      <td>avg</td>\n",
       "      <td>False</td>\n",
       "      <td>cuda</td>\n",
       "      <td>0.689833</td>\n",
       "      <td>0.874977</td>\n",
       "      <td>0.706894</td>\n",
       "      <td>0.297728</td>\n",
       "      <td>0.477118</td>\n",
       "      <td>1.313787</td>\n",
       "    </tr>\n",
       "    <tr>\n",
       "      <th>2</th>\n",
       "      <td>networks/T6_b64_n512_811e4b</td>\n",
       "      <td>128</td>\n",
       "      <td>6</td>\n",
       "      <td>3</td>\n",
       "      <td>64</td>\n",
       "      <td>512</td>\n",
       "      <td>max</td>\n",
       "      <td>False</td>\n",
       "      <td>cuda</td>\n",
       "      <td>0.737427</td>\n",
       "      <td>0.879775</td>\n",
       "      <td>0.702517</td>\n",
       "      <td>0.298886</td>\n",
       "      <td>0.440623</td>\n",
       "      <td>1.365784</td>\n",
       "    </tr>\n",
       "  </tbody>\n",
       "</table>\n",
       "</div>"
      ],
      "text/plain": [
       "                           path  atom_features  num_messages  output_layers  \\\n",
       "11  networks/T6_b64_n512_955974            128             6              3   \n",
       "10  networks/T6_b64_n512_7081b8            128             6              3   \n",
       "9   networks/T8_b64_n512_e39c59            128             8              3   \n",
       "5   networks/T6_b64_n512_594062            128             6              3   \n",
       "2   networks/T6_b64_n512_811e4b            128             6              3   \n",
       "\n",
       "    batch_size  num_epochs readout_fn  atomwise device  r2_score  spearmanr  \\\n",
       "11          64         512    softmax     False   cuda  0.726609   0.889769   \n",
       "10          64         512    softmax      True   cuda  0.699389   0.875185   \n",
       "9           64         512        avg     False   cuda  0.715293   0.883477   \n",
       "5           64         512        avg     False   cuda  0.689833   0.874977   \n",
       "2           64         512        max     False   cuda  0.737427   0.879775   \n",
       "\n",
       "    kendall_tau       mae      rmse  test_time  \n",
       "11     0.724769  0.287270  0.452008   1.272647  \n",
       "10     0.709266  0.289848  0.468102   1.151091  \n",
       "9      0.717595  0.294571  0.461823   1.282656  \n",
       "5      0.706894  0.297728  0.477118   1.313787  \n",
       "2      0.702517  0.298886  0.440623   1.365784  "
      ]
     },
     "execution_count": 1,
     "metadata": {},
     "output_type": "execute_result"
    }
   ],
   "source": [
    "models = pd.DataFrame(get_summary(p) for p in model_dirs).sort_values('mae')\n",
    "models.head(5)"
   ]
  },
  {
   "cell_type": "markdown",
   "metadata": {},
   "source": [
    "## Validate the Model\n",
    "Visualize the results on the hold-out set of 10% of our data"
   ]
  },
  {
   "cell_type": "code",
   "execution_count": 5,
   "metadata": {
    "execution": {
     "iopub.execute_input": "2021-03-17T18:20:57.346742Z",
     "iopub.status.busy": "2021-03-17T18:20:57.346362Z",
     "iopub.status.idle": "2021-03-17T18:20:57.348031Z",
     "shell.execute_reply": "2021-03-17T18:20:57.347643Z"
    }
   },
   "outputs": [],
   "source": [
    "best_model = models.iloc[0]"
   ]
  },
  {
   "cell_type": "code",
   "execution_count": 6,
   "metadata": {
    "execution": {
     "iopub.execute_input": "2021-03-17T18:20:57.351810Z",
     "iopub.status.busy": "2021-03-17T18:20:57.351419Z",
     "iopub.status.idle": "2021-03-17T18:20:57.353170Z",
     "shell.execute_reply": "2021-03-17T18:20:57.353542Z"
    }
   },
   "outputs": [
    {
     "data": {
      "text/plain": [
       "path             networks/T6_b64_n512_955974\n",
       "atom_features                            128\n",
       "num_messages                               6\n",
       "output_layers                              3\n",
       "batch_size                                64\n",
       "num_epochs                               512\n",
       "readout_fn                           softmax\n",
       "atomwise                               False\n",
       "device                                  cuda\n",
       "r2_score                            0.726609\n",
       "spearmanr                           0.889769\n",
       "kendall_tau                         0.724769\n",
       "mae                                  0.28727\n",
       "rmse                                0.452008\n",
       "test_time                           1.272647\n",
       "Name: 11, dtype: object"
      ]
     },
     "execution_count": 1,
     "metadata": {},
     "output_type": "execute_result"
    }
   ],
   "source": [
    "best_model"
   ]
  },
  {
   "cell_type": "code",
   "execution_count": 7,
   "metadata": {
    "execution": {
     "iopub.execute_input": "2021-03-17T18:20:57.356531Z",
     "iopub.status.busy": "2021-03-17T18:20:57.356144Z",
     "iopub.status.idle": "2021-03-17T18:20:57.379932Z",
     "shell.execute_reply": "2021-03-17T18:20:57.379599Z"
    }
   },
   "outputs": [],
   "source": [
    "test_data = pd.read_csv(os.path.join(best_model['path'], 'test_results.csv'))"
   ]
  },
  {
   "cell_type": "code",
   "execution_count": 8,
   "metadata": {
    "execution": {
     "iopub.execute_input": "2021-03-17T18:20:57.394352Z",
     "iopub.status.busy": "2021-03-17T18:20:57.393954Z",
     "iopub.status.idle": "2021-03-17T18:20:58.237658Z",
     "shell.execute_reply": "2021-03-17T18:20:58.238043Z"
    }
   },
   "outputs": [
    {
     "data": {
      "image/png": "[encoded data removed]",
      "text/plain": [
       "<Figure size 468x180 with 2 Axes>"
      ]
     },
     "metadata": {
      "needs_background": "light"
     },
     "output_type": "display_data"
    }
   ],
   "source": [
    "fig, axs = plt.subplots(1, 2, figsize=(6.5, 2.5))\n",
    "\n",
    "errors = (test_data['pred'] - test_data['true'])\n",
    "\n",
    "ax = axs[0]\n",
    "ax.scatter(test_data['true'], test_data['pred'], s=5, alpha=0.7, edgecolor='none')\n",
    "ax.text(0.05, 0.95, f'$R^2$:{best_model[\"r2_score\"]: .5f}\\nMAE:{errors.abs().mean(): .1f} V', \n",
    "       transform=ax.transAxes, va='top', ha='left')\n",
    "\n",
    "ax.set_xlim(ax.get_xlim())\n",
    "ax.set_ylim(ax.get_xlim())\n",
    "\n",
    "ax.plot(ax.get_xlim(), ax.get_xlim(), 'k--')\n",
    "\n",
    "ax.set_xlabel('IP, True (V)')\n",
    "ax.set_ylabel('IP, MPNN (V)')\n",
    "\n",
    "ax = axs[1]\n",
    "\n",
    "\n",
    "ax.hist(errors, bins=np.linspace(-4, 4, 32))\n",
    "ax.text(1, 0.95, f'', \n",
    "       transform=ax.transAxes, va='top', ha='right')\n",
    "\n",
    "ax.set_ylim(ax.get_ylim())\n",
    "ax.plot([-1, -1], ax.get_ylim(), 'k--')\n",
    "ax.plot([1, 1], ax.get_ylim(), 'k--')\n",
    "\n",
    "ax.set_xlabel('Error (V)')\n",
    "ax.set_ylabel('Frequency')\n",
    "fig.tight_layout()"
   ]
  },
  {
   "cell_type": "markdown",
   "metadata": {},
   "source": [
    "Link the best model to the local directory"
   ]
  },
  {
   "cell_type": "code",
   "execution_count": 9,
   "metadata": {
    "execution": {
     "iopub.execute_input": "2021-03-17T18:20:58.241061Z",
     "iopub.status.busy": "2021-03-17T18:20:58.240686Z",
     "iopub.status.idle": "2021-03-17T18:20:58.245347Z",
     "shell.execute_reply": "2021-03-17T18:20:58.245009Z"
    }
   },
   "outputs": [],
   "source": [
    "if os.path.exists('best_model'):\n",
    "    os.unlink('best_model')\n",
    "os.symlink(os.path.join(best_model['path'], 'best_model'), 'best_model')"
   ]
  },
  {
   "cell_type": "code",
   "execution_count": 10,
   "metadata": {
    "execution": {
     "iopub.execute_input": "2021-03-17T18:20:58.248113Z",
     "iopub.status.busy": "2021-03-17T18:20:58.247738Z",
     "iopub.status.idle": "2021-03-17T18:20:58.250468Z",
     "shell.execute_reply": "2021-03-17T18:20:58.250763Z"
    }
   },
   "outputs": [],
   "source": [
    "if os.path.exists('best_config.json'):\n",
    "    os.unlink('best_config.json')\n",
    "os.symlink(os.path.join(best_model['path'], 'config.json'), 'best_config.json')"
   ]
  },
  {
   "cell_type": "code",
   "execution_count": 11,
   "metadata": {
    "execution": {
     "iopub.execute_input": "2021-03-17T18:20:58.253632Z",
     "iopub.status.busy": "2021-03-17T18:20:58.253096Z",
     "iopub.status.idle": "2021-03-17T18:20:58.255461Z",
     "shell.execute_reply": "2021-03-17T18:20:58.255758Z"
    }
   },
   "outputs": [],
   "source": [
    "if os.path.exists('best_performance.json'):\n",
    "    os.unlink('best_performance.json')\n",
    "os.symlink(os.path.join(best_model['path'], 'test_summary.json'), 'best_performance.json')"
   ]
  },
  {
   "cell_type": "code",
   "execution_count": null,
   "metadata": {},
   "outputs": [],
   "source": []
  },
  {
   "cell_type": "code",
   "execution_count": null,
   "metadata": {},
   "outputs": [],
   "source": []
  }
 ],
 "metadata": {
  "kernelspec": {
   "display_name": "Python 3",
   "language": "python",
   "name": "python3"
  },
  "language_info": {
   "codemirror_mode": {
    "name": "ipython",
    "version": 3
   },
   "file_extension": ".py",
   "mimetype": "text/x-python",
   "name": "python",
   "nbconvert_exporter": "python",
   "pygments_lexer": "ipython3",
   "version": "3.7.9"
  }
 },
 "nbformat": 4,
 "nbformat_minor": 4
}
