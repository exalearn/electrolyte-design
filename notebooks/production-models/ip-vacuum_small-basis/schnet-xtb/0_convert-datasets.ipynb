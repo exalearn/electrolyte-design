{
 "cells": [
  {
   "cell_type": "markdown",
   "metadata": {},
   "source": [
    "# Convert Data to ASE DBs\n",
    "That is the format that SchNetPack prefers for their data"
   ]
  },
  {
   "cell_type": "code",
   "execution_count": 1,
   "metadata": {},
   "outputs": [],
   "source": [
    "from schnetpack.data import AtomsData\n",
    "from ase.io.xyz import read_xyz\n",
    "from io import StringIO\n",
    "import pandas as pd\n",
    "import numpy as np\n",
    "import os"
   ]
  },
  {
   "cell_type": "markdown",
   "metadata": {},
   "source": [
    "Configuration"
   ]
  },
  {
   "cell_type": "code",
   "execution_count": 2,
   "metadata": {},
   "outputs": [],
   "source": [
    "target = 'oxidation_potential.smb-vacuum'\n",
    "geom_column = 'data.xtb.neutral.xyz'"
   ]
  },
  {
   "cell_type": "markdown",
   "metadata": {},
   "source": [
    "## Save Each Dataset\n",
    "Loop over and store the datasets "
   ]
  },
  {
   "cell_type": "code",
   "execution_count": 3,
   "metadata": {},
   "outputs": [],
   "source": [
    "os.makedirs('datasets', exist_ok=True)"
   ]
  },
  {
   "cell_type": "code",
   "execution_count": 4,
   "metadata": {},
   "outputs": [],
   "source": [
    "for name in ['train', 'test', 'valid']:\n",
    "    # Load data and compute delta\n",
    "    data = pd.read_csv(f'../datasets/{name}.csv')\n",
    "    \n",
    "    # Compute ASE atoms objects\n",
    "    data['atoms'] = data[geom_column].apply(lambda x: next(read_xyz(StringIO(x), slice(None))))\n",
    "    \n",
    "    # Store in an ASE db\n",
    "    out_path = f'datasets/{name}.db'\n",
    "    if os.path.isfile(out_path):\n",
    "        os.unlink(out_path)\n",
    "        \n",
    "    # Make the database\n",
    "    db = AtomsData(out_path, available_properties=['ip'])\n",
    "    \n",
    "    # Add the data\n",
    "    db.add_systems(data['atoms'], data[target].apply(lambda x: {'ip': np.atleast_1d(x)}).tolist())"
   ]
  },
  {
   "cell_type": "code",
   "execution_count": null,
   "metadata": {},
   "outputs": [],
   "source": []
  }
 ],
 "metadata": {
  "kernelspec": {
   "display_name": "edw",
   "language": "python",
   "name": "edw"
  },
  "language_info": {
   "codemirror_mode": {
    "name": "ipython",
    "version": 3
   },
   "file_extension": ".py",
   "mimetype": "text/x-python",
   "name": "python",
   "nbconvert_exporter": "python",
   "pygments_lexer": "ipython3",
   "version": "3.7.9"
  }
 },
 "nbformat": 4,
 "nbformat_minor": 5
}
