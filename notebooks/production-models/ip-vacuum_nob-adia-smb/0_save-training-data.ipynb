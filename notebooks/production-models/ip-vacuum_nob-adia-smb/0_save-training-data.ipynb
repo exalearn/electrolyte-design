{
 "cells": [
  {
   "cell_type": "markdown",
   "metadata": {},
   "source": [
    "# Prepare Input Data\n",
    "We are going to train an MPNN to predict the B3LYP-level atomization energy."
   ]
  },
  {
   "cell_type": "code",
   "execution_count": 2,
   "metadata": {},
   "outputs": [],
   "source": [
    "%matplotlib inline\n",
    "from matplotlib import pyplot as plt\n",
    "from moldesign.score.mpnn.data import convert_nx_to_dict, make_tfrecord\n",
    "from moldesign.utils.conversions import convert_string_to_nx\n",
    "from moldesign.store.mongo import MoleculePropertyDB\n",
    "from sklearn.model_selection import train_test_split\n",
    "from tqdm import tqdm\n",
    "import tensorflow as tf\n",
    "import pandas as pd\n",
    "import json\n",
    "import os"
   ]
  },
  {
   "cell_type": "markdown",
   "metadata": {},
   "source": [
    "## Get the Data\n",
    "The best copy is in our MongoDB isntance"
   ]
  },
  {
   "cell_type": "code",
   "execution_count": 3,
   "metadata": {},
   "outputs": [],
   "source": [
    "mongo = MoleculePropertyDB.from_connection_info()"
   ]
  },
  {
   "cell_type": "markdown",
   "metadata": {},
   "source": [
    "Get a mapping of smiles to \"normal basis\""
   ]
  },
  {
   "cell_type": "code",
   "execution_count": 4,
   "metadata": {},
   "outputs": [],
   "source": [
    "mongo.update_derived_properties()"
   ]
  },
  {
   "cell_type": "code",
   "execution_count": 5,
   "metadata": {},
   "outputs": [
    {
     "name": "stdout",
     "output_type": "stream",
     "text": [
      "Loaded 2960 molecules\n"
     ]
    }
   ],
   "source": [
    "data = mongo.get_training_set(['key', 'identifier.smiles', 'data.small_basis.neutral.xyz', 'data.small_basis.oxidized.xyz', 'oxidation_potential.smb-vacuum-vertical',\n",
    "                              'oxidation_potential.smb-vacuum-no-zpe'], ['oxidation_potential.nob-vacuum-smb-geom'])\n",
    "data = pd.DataFrame(data)\n",
    "print(f'Loaded {len(data)} molecules')"
   ]
  },
  {
   "cell_type": "markdown",
   "metadata": {},
   "source": [
    "Convert the SMILES to a networkx object"
   ]
  },
  {
   "cell_type": "code",
   "execution_count": 11,
   "metadata": {},
   "outputs": [
    {
     "name": "stdout",
     "output_type": "stream",
     "text": [
      "CPU times: user 837 ms, sys: 15.7 ms, total: 853 ms\n",
      "Wall time: 852 ms\n"
     ]
    }
   ],
   "source": [
    "%%time\n",
    "data['nx'] = data['identifier.smiles'].apply(convert_string_to_nx)"
   ]
  },
  {
   "cell_type": "markdown",
   "metadata": {},
   "source": [
    "## Save the Data as TF Records\n",
    "We'll make both a training, validation and test set"
   ]
  },
  {
   "cell_type": "code",
   "execution_count": 12,
   "metadata": {},
   "outputs": [
    {
     "name": "stdout",
     "output_type": "stream",
     "text": [
      "Set aside 296 training entries\n"
     ]
    }
   ],
   "source": [
    "train_set, test_set = train_test_split(data, test_size=0.1, random_state=1, shuffle=True)\n",
    "print(f'Set aside {len(test_set)} training entries')"
   ]
  },
  {
   "cell_type": "code",
   "execution_count": 13,
   "metadata": {},
   "outputs": [
    {
     "name": "stdout",
     "output_type": "stream",
     "text": [
      "Split off 2397 training and 267 validation entries\n"
     ]
    }
   ],
   "source": [
    "train_set, val_set = train_test_split(train_set, test_size=0.1, random_state=1, shuffle=True)\n",
    "print(f'Split off {len(train_set)} training and {len(val_set)} validation entries')"
   ]
  },
  {
   "cell_type": "markdown",
   "metadata": {},
   "source": [
    "Get all of the types observed in the dataset"
   ]
  },
  {
   "cell_type": "markdown",
   "metadata": {},
   "source": [
    "Save the data in TF format"
   ]
  },
  {
   "cell_type": "code",
   "execution_count": 14,
   "metadata": {},
   "outputs": [],
   "source": [
    "os.makedirs('datasets', exist_ok=True)"
   ]
  },
  {
   "cell_type": "code",
   "execution_count": 15,
   "metadata": {},
   "outputs": [
    {
     "name": "stderr",
     "output_type": "stream",
     "text": [
      "train: 2397it [00:00, 4973.69it/s]\n",
      "valid: 267it [00:00, 4953.73it/s]\n",
      "test: 296it [00:00, 5015.75it/s]\n"
     ]
    }
   ],
   "source": [
    "for name, dataset in zip(['train', 'valid', 'test'], [train_set, val_set, test_set]):\n",
    "    dataset = dataset.sample(frac=1.)  # Shuffle contents\n",
    "    dataset.drop(columns=['nx']).to_csv(f'datasets/{name}.csv', index=False)\n",
    "    with tf.io.TFRecordWriter(f'datasets/{name}_data.proto') as writer:\n",
    "        for _, entry in tqdm(dataset.iterrows(), desc=name):\n",
    "            record = convert_nx_to_dict(entry['nx'])\n",
    "            record['output'] = entry['oxidation_potential.nob-vacuum-smb-geom']\n",
    "            writer.write(make_tfrecord(record))"
   ]
  },
  {
   "cell_type": "code",
   "execution_count": null,
   "metadata": {},
   "outputs": [],
   "source": []
  }
 ],
 "metadata": {
  "kernelspec": {
   "display_name": "Python 3",
   "language": "python",
   "name": "python3"
  },
  "language_info": {
   "codemirror_mode": {
    "name": "ipython",
    "version": 3
   },
   "file_extension": ".py",
   "mimetype": "text/x-python",
   "name": "python",
   "nbconvert_exporter": "python",
   "pygments_lexer": "ipython3",
   "version": "3.8.10"
  }
 },
 "nbformat": 4,
 "nbformat_minor": 4
}
