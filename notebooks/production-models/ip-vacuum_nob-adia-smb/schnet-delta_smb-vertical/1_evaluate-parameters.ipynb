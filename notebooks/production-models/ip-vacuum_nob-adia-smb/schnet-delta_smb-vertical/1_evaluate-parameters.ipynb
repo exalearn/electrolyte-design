{
 "cells": [
  {
   "cell_type": "markdown",
   "metadata": {},
   "source": [
    "# Evaluate MPNN Performance\n",
    "Review the models which have been trained and pick one for our application."
   ]
  },
  {
   "cell_type": "code",
   "execution_count": 1,
   "metadata": {},
   "outputs": [],
   "source": [
    "%matplotlib inline\n",
    "from matplotlib import pyplot as plt\n",
    "from glob import glob\n",
    "import pandas as pd\n",
    "import numpy as np\n",
    "import json\n",
    "import os"
   ]
  },
  {
   "cell_type": "markdown",
   "metadata": {},
   "source": [
    "## Load in the Models\n",
    "They are all located in a directory with a `test_summary.json` file"
   ]
  },
  {
   "cell_type": "code",
   "execution_count": 2,
   "metadata": {},
   "outputs": [
    {
     "name": "stdout",
     "output_type": "stream",
     "text": [
      "Found 10 model directories\n"
     ]
    }
   ],
   "source": [
    "model_dirs = list(map(os.path.dirname, glob(os.path.join('networks', '**', 'test_summary.json'))))\n",
    "print(f'Found {len(model_dirs)} model directories')"
   ]
  },
  {
   "cell_type": "code",
   "execution_count": 3,
   "metadata": {},
   "outputs": [],
   "source": [
    "def get_summary(path):\n",
    "    \"\"\"Get the summary of a run\"\"\"\n",
    "    \n",
    "    output = {'path': path}\n",
    "    \n",
    "    # Load the config\n",
    "    with open(os.path.join(path, 'config.json')) as fp:\n",
    "        output.update(json.load(fp))\n",
    "        \n",
    "    # Load in the run summary\n",
    "    with open(os.path.join(path, 'test_summary.json')) as fp:\n",
    "        output.update(json.load(fp))\n",
    "    return output"
   ]
  },
  {
   "cell_type": "code",
   "execution_count": 4,
   "metadata": {},
   "outputs": [
    {
     "data": {
      "text/html": [
       "<div>\n",
       "<style scoped>\n",
       "    .dataframe tbody tr th:only-of-type {\n",
       "        vertical-align: middle;\n",
       "    }\n",
       "\n",
       "    .dataframe tbody tr th {\n",
       "        vertical-align: top;\n",
       "    }\n",
       "\n",
       "    .dataframe thead th {\n",
       "        text-align: right;\n",
       "    }\n",
       "</style>\n",
       "<table border=\"1\" class=\"dataframe\">\n",
       "  <thead>\n",
       "    <tr style=\"text-align: right;\">\n",
       "      <th></th>\n",
       "      <th>path</th>\n",
       "      <th>atom_features</th>\n",
       "      <th>num_messages</th>\n",
       "      <th>output_layers</th>\n",
       "      <th>batch_size</th>\n",
       "      <th>num_epochs</th>\n",
       "      <th>readout_fn</th>\n",
       "      <th>atomwise</th>\n",
       "      <th>device</th>\n",
       "      <th>r2_score</th>\n",
       "      <th>spearmanr</th>\n",
       "      <th>kendall_tau</th>\n",
       "      <th>mae</th>\n",
       "      <th>rmse</th>\n",
       "      <th>test_time</th>\n",
       "    </tr>\n",
       "  </thead>\n",
       "  <tbody>\n",
       "    <tr>\n",
       "      <th>8</th>\n",
       "      <td>networks/T6_b32_n512_3030bf</td>\n",
       "      <td>128</td>\n",
       "      <td>6</td>\n",
       "      <td>3</td>\n",
       "      <td>32</td>\n",
       "      <td>512</td>\n",
       "      <td>softmax</td>\n",
       "      <td>False</td>\n",
       "      <td>cuda</td>\n",
       "      <td>0.213072</td>\n",
       "      <td>0.491475</td>\n",
       "      <td>0.357215</td>\n",
       "      <td>0.244019</td>\n",
       "      <td>0.505602</td>\n",
       "      <td>0.205684</td>\n",
       "    </tr>\n",
       "    <tr>\n",
       "      <th>0</th>\n",
       "      <td>networks/T6_b32_n32_dc009f</td>\n",
       "      <td>128</td>\n",
       "      <td>6</td>\n",
       "      <td>3</td>\n",
       "      <td>32</td>\n",
       "      <td>32</td>\n",
       "      <td>softmax</td>\n",
       "      <td>False</td>\n",
       "      <td>cuda</td>\n",
       "      <td>0.209533</td>\n",
       "      <td>0.481252</td>\n",
       "      <td>0.349061</td>\n",
       "      <td>0.245014</td>\n",
       "      <td>0.497983</td>\n",
       "      <td>0.202517</td>\n",
       "    </tr>\n",
       "    <tr>\n",
       "      <th>6</th>\n",
       "      <td>networks/T6_b32_n128_16e56b</td>\n",
       "      <td>128</td>\n",
       "      <td>6</td>\n",
       "      <td>3</td>\n",
       "      <td>32</td>\n",
       "      <td>128</td>\n",
       "      <td>softmax</td>\n",
       "      <td>False</td>\n",
       "      <td>cuda</td>\n",
       "      <td>0.204417</td>\n",
       "      <td>0.461653</td>\n",
       "      <td>0.333486</td>\n",
       "      <td>0.248666</td>\n",
       "      <td>0.502582</td>\n",
       "      <td>0.195957</td>\n",
       "    </tr>\n",
       "    <tr>\n",
       "      <th>2</th>\n",
       "      <td>networks/T6_b32_n256_1df3e7</td>\n",
       "      <td>128</td>\n",
       "      <td>6</td>\n",
       "      <td>3</td>\n",
       "      <td>32</td>\n",
       "      <td>256</td>\n",
       "      <td>softmax</td>\n",
       "      <td>False</td>\n",
       "      <td>cuda</td>\n",
       "      <td>0.224088</td>\n",
       "      <td>0.506514</td>\n",
       "      <td>0.368026</td>\n",
       "      <td>0.249142</td>\n",
       "      <td>0.509458</td>\n",
       "      <td>0.199557</td>\n",
       "    </tr>\n",
       "    <tr>\n",
       "      <th>3</th>\n",
       "      <td>networks/T6_b32_n64_3c7607</td>\n",
       "      <td>128</td>\n",
       "      <td>6</td>\n",
       "      <td>3</td>\n",
       "      <td>32</td>\n",
       "      <td>64</td>\n",
       "      <td>softmax</td>\n",
       "      <td>False</td>\n",
       "      <td>cuda</td>\n",
       "      <td>0.180721</td>\n",
       "      <td>0.483248</td>\n",
       "      <td>0.353688</td>\n",
       "      <td>0.259447</td>\n",
       "      <td>0.507462</td>\n",
       "      <td>0.198017</td>\n",
       "    </tr>\n",
       "  </tbody>\n",
       "</table>\n",
       "</div>"
      ],
      "text/plain": [
       "                          path  atom_features  num_messages  output_layers  \\\n",
       "8  networks/T6_b32_n512_3030bf            128             6              3   \n",
       "0   networks/T6_b32_n32_dc009f            128             6              3   \n",
       "6  networks/T6_b32_n128_16e56b            128             6              3   \n",
       "2  networks/T6_b32_n256_1df3e7            128             6              3   \n",
       "3   networks/T6_b32_n64_3c7607            128             6              3   \n",
       "\n",
       "   batch_size  num_epochs readout_fn  atomwise device  r2_score  spearmanr  \\\n",
       "8          32         512    softmax     False   cuda  0.213072   0.491475   \n",
       "0          32          32    softmax     False   cuda  0.209533   0.481252   \n",
       "6          32         128    softmax     False   cuda  0.204417   0.461653   \n",
       "2          32         256    softmax     False   cuda  0.224088   0.506514   \n",
       "3          32          64    softmax     False   cuda  0.180721   0.483248   \n",
       "\n",
       "   kendall_tau       mae      rmse  test_time  \n",
       "8     0.357215  0.244019  0.505602   0.205684  \n",
       "0     0.349061  0.245014  0.497983   0.202517  \n",
       "6     0.333486  0.248666  0.502582   0.195957  \n",
       "2     0.368026  0.249142  0.509458   0.199557  \n",
       "3     0.353688  0.259447  0.507462   0.198017  "
      ]
     },
     "execution_count": 4,
     "metadata": {},
     "output_type": "execute_result"
    }
   ],
   "source": [
    "models = pd.DataFrame(get_summary(p) for p in model_dirs).sort_values('mae')\n",
    "models.head(5)"
   ]
  },
  {
   "cell_type": "markdown",
   "metadata": {},
   "source": [
    "## Validate the Model\n",
    "Visualize the results on the hold-out set of 10% of our data"
   ]
  },
  {
   "cell_type": "code",
   "execution_count": 5,
   "metadata": {},
   "outputs": [],
   "source": [
    "best_model = models.iloc[0]"
   ]
  },
  {
   "cell_type": "code",
   "execution_count": 6,
   "metadata": {},
   "outputs": [
    {
     "data": {
      "text/plain": [
       "path             networks/T6_b32_n512_3030bf\n",
       "atom_features                            128\n",
       "num_messages                               6\n",
       "output_layers                              3\n",
       "batch_size                                32\n",
       "num_epochs                               512\n",
       "readout_fn                           softmax\n",
       "atomwise                               False\n",
       "device                                  cuda\n",
       "r2_score                            0.213072\n",
       "spearmanr                           0.491475\n",
       "kendall_tau                         0.357215\n",
       "mae                                 0.244019\n",
       "rmse                                0.505602\n",
       "test_time                           0.205684\n",
       "Name: 8, dtype: object"
      ]
     },
     "execution_count": 6,
     "metadata": {},
     "output_type": "execute_result"
    }
   ],
   "source": [
    "best_model"
   ]
  },
  {
   "cell_type": "code",
   "execution_count": 7,
   "metadata": {},
   "outputs": [],
   "source": [
    "test_data = pd.read_csv(os.path.join(best_model['path'], 'test_results.csv'))"
   ]
  },
  {
   "cell_type": "code",
   "execution_count": 8,
   "metadata": {},
   "outputs": [
    {
     "data": {
      "image/png": "[encoded data removed]",
      "text/plain": [
       "<Figure size 468x180 with 2 Axes>"
      ]
     },
     "metadata": {
      "needs_background": "light"
     },
     "output_type": "display_data"
    }
   ],
   "source": [
    "fig, axs = plt.subplots(1, 2, figsize=(6.5, 2.5))\n",
    "\n",
    "errors = (test_data['pred'] - test_data['true'])\n",
    "\n",
    "ax = axs[0]\n",
    "ax.scatter(test_data['true'], test_data['pred'], s=5, alpha=0.7, edgecolor='none')\n",
    "ax.text(0.05, 0.95, f'$R^2$:{best_model[\"r2_score\"]: .5f}\\nMAE:{errors.abs().mean(): .1f} V', \n",
    "       transform=ax.transAxes, va='top', ha='left')\n",
    "\n",
    "ax.set_xlim(ax.get_xlim())\n",
    "ax.set_ylim(ax.get_xlim())\n",
    "\n",
    "ax.plot(ax.get_xlim(), ax.get_xlim(), 'k--')\n",
    "\n",
    "ax.set_xlabel('IP, True (V)')\n",
    "ax.set_ylabel('IP, MPNN (V)')\n",
    "\n",
    "ax = axs[1]\n",
    "\n",
    "\n",
    "ax.hist(errors, bins=np.linspace(-4, 4, 32))\n",
    "ax.text(1, 0.95, f'', \n",
    "       transform=ax.transAxes, va='top', ha='right')\n",
    "\n",
    "ax.set_ylim(ax.get_ylim())\n",
    "ax.plot([-1, -1], ax.get_ylim(), 'k--')\n",
    "ax.plot([1, 1], ax.get_ylim(), 'k--')\n",
    "\n",
    "ax.set_xlabel('Error (V)')\n",
    "ax.set_ylabel('Frequency')\n",
    "fig.tight_layout()"
   ]
  },
  {
   "cell_type": "markdown",
   "metadata": {},
   "source": [
    "Link the best model to the local directory"
   ]
  },
  {
   "cell_type": "code",
   "execution_count": 9,
   "metadata": {},
   "outputs": [],
   "source": [
    "if os.path.exists('best_model'):\n",
    "    os.unlink('best_model')\n",
    "os.symlink(os.path.join(best_model['path'], 'best_model'), 'best_model')"
   ]
  },
  {
   "cell_type": "code",
   "execution_count": 10,
   "metadata": {},
   "outputs": [],
   "source": [
    "if os.path.exists('best_config.json'):\n",
    "    os.unlink('best_config.json')\n",
    "os.symlink(os.path.join(best_model['path'], 'config.json'), 'best_config.json')"
   ]
  },
  {
   "cell_type": "code",
   "execution_count": 11,
   "metadata": {},
   "outputs": [],
   "source": [
    "if os.path.exists('best_performance.json'):\n",
    "    os.unlink('best_performance.json')\n",
    "os.symlink(os.path.join(best_model['path'], 'test_summary.json'), 'best_performance.json')"
   ]
  },
  {
   "cell_type": "code",
   "execution_count": null,
   "metadata": {},
   "outputs": [],
   "source": []
  }
 ],
 "metadata": {
  "kernelspec": {
   "display_name": "Python 3",
   "language": "python",
   "name": "python3"
  },
  "language_info": {
   "codemirror_mode": {
    "name": "ipython",
    "version": 3
   },
   "file_extension": ".py",
   "mimetype": "text/x-python",
   "name": "python",
   "nbconvert_exporter": "python",
   "pygments_lexer": "ipython3",
   "version": "3.8.10"
  }
 },
 "nbformat": 4,
 "nbformat_minor": 4
}
