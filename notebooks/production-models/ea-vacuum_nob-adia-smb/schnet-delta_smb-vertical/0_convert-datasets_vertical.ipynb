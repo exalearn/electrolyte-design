{
 "cells": [
  {
   "cell_type": "markdown",
   "id": "deadly-secondary",
   "metadata": {},
   "source": [
    "# Convert Data to ASE DBs\n",
    "That is the format that SchNetPack prefers for their data"
   ]
  },
  {
   "cell_type": "code",
   "execution_count": 1,
   "id": "ranging-measurement",
   "metadata": {},
   "outputs": [],
   "source": [
    "from schnetpack.data import AtomsData\n",
    "from ase.io.xyz import read_xyz\n",
    "from io import StringIO\n",
    "import pandas as pd\n",
    "import numpy as np\n",
    "import os"
   ]
  },
  {
   "cell_type": "markdown",
   "id": "lasting-campbell",
   "metadata": {},
   "source": [
    "Configuration"
   ]
  },
  {
   "cell_type": "code",
   "execution_count": 2,
   "id": "dutch-reader",
   "metadata": {},
   "outputs": [],
   "source": [
    "target = 'reduction_potential.dfb-vacuum-smb-geom'\n",
    "low_res = 'reduction_potential.smb-vacuum-vertical'\n",
    "geom_column = 'data.small_basis.neutral.xyz'"
   ]
  },
  {
   "cell_type": "markdown",
   "id": "quiet-buffalo",
   "metadata": {},
   "source": [
    "## Save Each Dataset\n",
    "Loop over and store the datasets "
   ]
  },
  {
   "cell_type": "code",
   "execution_count": 3,
   "id": "popular-credit",
   "metadata": {},
   "outputs": [],
   "source": [
    "os.makedirs('datasets', exist_ok=True)"
   ]
  },
  {
   "cell_type": "code",
   "execution_count": 4,
   "id": "together-delta",
   "metadata": {},
   "outputs": [],
   "source": [
    "for name in ['train', 'test', 'valid']:\n",
    "    # Load data and compute delta\n",
    "    data = pd.read_csv(f'../datasets/{name}.csv')\n",
    "    data['delta'] = data[target] - data[low_res]\n",
    "    \n",
    "    # Compute ASE atoms objects\n",
    "    data['atoms'] = data[geom_column].apply(lambda x: next(read_xyz(StringIO(x), slice(None))))\n",
    "    \n",
    "    # Store in an ASE db\n",
    "    out_path = f'datasets/{name}.db'\n",
    "    if os.path.isfile(out_path):\n",
    "        os.unlink(out_path)\n",
    "        \n",
    "    # Make the database\n",
    "    db = AtomsData(out_path, available_properties=['delta'])\n",
    "    \n",
    "    # Add the data\n",
    "    db.add_systems(data['atoms'], data['delta'].apply(lambda x: {'delta': np.atleast_1d(x)}).tolist())"
   ]
  },
  {
   "cell_type": "code",
   "execution_count": null,
   "id": "6fb9d252-0001-4fb3-9f98-79d5db486313",
   "metadata": {},
   "outputs": [],
   "source": []
  }
 ],
 "metadata": {
  "kernelspec": {
   "display_name": "Python 3",
   "language": "python",
   "name": "python3"
  },
  "language_info": {
   "codemirror_mode": {
    "name": "ipython",
    "version": 3
   },
   "file_extension": ".py",
   "mimetype": "text/x-python",
   "name": "python",
   "nbconvert_exporter": "python",
   "pygments_lexer": "ipython3",
   "version": "3.7.9"
  }
 },
 "nbformat": 4,
 "nbformat_minor": 5
}
