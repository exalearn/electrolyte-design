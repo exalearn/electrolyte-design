{
 "cells": [
  {
   "cell_type": "markdown",
   "metadata": {},
   "source": [
    "# Assess Performance of the Error Bars\n",
    "Measure how many replicas are needed and the quality of the error bars"
   ]
  },
  {
   "cell_type": "code",
   "execution_count": 1,
   "metadata": {
    "execution": {
     "iopub.execute_input": "2021-11-09T23:51:57.925120Z",
     "iopub.status.busy": "2021-11-09T23:51:57.924402Z",
     "iopub.status.idle": "2021-11-09T23:52:12.617034Z",
     "shell.execute_reply": "2021-11-09T23:52:12.616238Z"
    }
   },
   "outputs": [],
   "source": [
    "%matplotlib inline\n",
    "from matplotlib import pyplot as plt\n",
    "from matplotlib import cm\n",
    "import uncertainty_toolbox.metrics as umetrics\n",
    "from uncertainty_toolbox.metrics_calibration import (\n",
    "    get_proportion_lists_vectorized,\n",
    ")\n",
    "from uncertainty_toolbox.recalibration import optimize_recalibration_ratio\n",
    "from itertools import combinations\n",
    "from scipy.stats import kendalltau, norm\n",
    "from random import sample\n",
    "from glob import glob\n",
    "from tqdm import tqdm\n",
    "import pandas as pd\n",
    "import numpy as np\n",
    "import json\n",
    "import os"
   ]
  },
  {
   "cell_type": "markdown",
   "metadata": {},
   "source": [
    "## Load All of the Predictions\n",
    "Get the `test_results.csv` file, which reports the performance on the model on some hold-out data"
   ]
  },
  {
   "cell_type": "code",
   "execution_count": 2,
   "metadata": {
    "execution": {
     "iopub.execute_input": "2021-11-09T23:52:12.621643Z",
     "iopub.status.busy": "2021-11-09T23:52:12.621030Z",
     "iopub.status.idle": "2021-11-09T23:52:12.667686Z",
     "shell.execute_reply": "2021-11-09T23:52:12.667039Z"
    }
   },
   "outputs": [
    {
     "name": "stdout",
     "output_type": "stream",
     "text": [
      "Found 16 runs\n"
     ]
    }
   ],
   "source": [
    "outputs = glob(os.path.join('networks', '**', 'test_results.csv'))\n",
    "print(f'Found {len(outputs)} runs')"
   ]
  },
  {
   "cell_type": "code",
   "execution_count": 3,
   "metadata": {
    "execution": {
     "iopub.execute_input": "2021-11-09T23:52:12.674212Z",
     "iopub.status.busy": "2021-11-09T23:52:12.673597Z",
     "iopub.status.idle": "2021-11-09T23:52:12.676120Z",
     "shell.execute_reply": "2021-11-09T23:52:12.675582Z"
    }
   },
   "outputs": [],
   "source": [
    "def load_data(path) -> dict:\n",
    "    \"\"\"Get the true, predicted values and random seed\"\"\"\n",
    "    run_data = pd.read_csv(path)\n",
    "    with open(os.path.join(os.path.dirname(path), 'config.json')) as fp:\n",
    "        seed = json.load(fp)['random_seed']\n",
    "    return {\n",
    "        'true': run_data['true'].values,\n",
    "        'pred': run_data['pred'].values,\n",
    "        'seed': seed\n",
    "    }"
   ]
  },
  {
   "cell_type": "code",
   "execution_count": 4,
   "metadata": {
    "execution": {
     "iopub.execute_input": "2021-11-09T23:52:12.680660Z",
     "iopub.status.busy": "2021-11-09T23:52:12.680059Z",
     "iopub.status.idle": "2021-11-09T23:52:12.932704Z",
     "shell.execute_reply": "2021-11-09T23:52:12.933233Z"
    }
   },
   "outputs": [],
   "source": [
    "run_data = [load_data(p) for p in outputs]"
   ]
  },
  {
   "cell_type": "code",
   "execution_count": 5,
   "metadata": {
    "execution": {
     "iopub.execute_input": "2021-11-09T23:52:12.939251Z",
     "iopub.status.busy": "2021-11-09T23:52:12.938644Z",
     "iopub.status.idle": "2021-11-09T23:52:12.941073Z",
     "shell.execute_reply": "2021-11-09T23:52:12.941576Z"
    }
   },
   "outputs": [],
   "source": [
    "data = {'true': run_data[0]['true']}\n",
    "for v in run_data:\n",
    "    data[f'pred-{v[\"seed\"]}'] = v['pred']\n",
    "data = pd.DataFrame(data)"
   ]
  },
  {
   "cell_type": "markdown",
   "metadata": {},
   "source": [
    "## Determine How Many Replicas Are Needed\n",
    "Measure the error bar using all replicas and then see how well the error bars computed with fewer replicas measure up."
   ]
  },
  {
   "cell_type": "code",
   "execution_count": 6,
   "metadata": {
    "execution": {
     "iopub.execute_input": "2021-11-09T23:52:12.945663Z",
     "iopub.status.busy": "2021-11-09T23:52:12.945059Z",
     "iopub.status.idle": "2021-11-09T23:52:12.946944Z",
     "shell.execute_reply": "2021-11-09T23:52:12.947445Z"
    }
   },
   "outputs": [],
   "source": [
    "pred_cols = [c for c in data.columns if c.startswith('pred-')]"
   ]
  },
  {
   "cell_type": "code",
   "execution_count": 7,
   "metadata": {
    "execution": {
     "iopub.execute_input": "2021-11-09T23:52:12.952379Z",
     "iopub.status.busy": "2021-11-09T23:52:12.951275Z",
     "iopub.status.idle": "2021-11-09T23:52:12.954247Z",
     "shell.execute_reply": "2021-11-09T23:52:12.954746Z"
    }
   },
   "outputs": [],
   "source": [
    "all_std = data[pred_cols].std(axis=1)"
   ]
  },
  {
   "cell_type": "markdown",
   "metadata": {},
   "source": [
    "Compute the ranking correlation coefficient with different subsets of all of the columns"
   ]
  },
  {
   "cell_type": "code",
   "execution_count": 8,
   "metadata": {
    "execution": {
     "iopub.execute_input": "2021-11-09T23:52:12.960936Z",
     "iopub.status.busy": "2021-11-09T23:52:12.960321Z",
     "iopub.status.idle": "2021-11-09T23:53:05.629518Z",
     "shell.execute_reply": "2021-11-09T23:53:05.630082Z"
    }
   },
   "outputs": [
    {
     "name": "stderr",
     "output_type": "stream",
     "text": [
      "100%|██████████| 15/15 [00:52<00:00,  3.51s/it]\n"
     ]
    }
   ],
   "source": [
    "subset_results = []\n",
    "for n in tqdm(range(2, len(pred_cols)+1)):\n",
    "    taus = []\n",
    "    for c in combinations(pred_cols, n):\n",
    "        taus.append(kendalltau(all_std, data[list(c)].std(axis=1)).correlation)\n",
    "    subset_results.append({\n",
    "        'n': n,\n",
    "        'count': len(taus),\n",
    "        'mean': np.mean(taus),\n",
    "        'median': np.percentile(taus, 50),\n",
    "        '25perc': np.percentile(taus, 25),\n",
    "        'std': np.std(taus)\n",
    "    })"
   ]
  },
  {
   "cell_type": "code",
   "execution_count": 9,
   "metadata": {
    "execution": {
     "iopub.execute_input": "2021-11-09T23:53:05.634570Z",
     "iopub.status.busy": "2021-11-09T23:53:05.633962Z",
     "iopub.status.idle": "2021-11-09T23:53:05.660045Z",
     "shell.execute_reply": "2021-11-09T23:53:05.659404Z"
    }
   },
   "outputs": [],
   "source": [
    "subset_results = pd.DataFrame(subset_results)"
   ]
  },
  {
   "cell_type": "code",
   "execution_count": 10,
   "metadata": {
    "execution": {
     "iopub.execute_input": "2021-11-09T23:53:05.677393Z",
     "iopub.status.busy": "2021-11-09T23:53:05.676757Z",
     "iopub.status.idle": "2021-11-09T23:53:05.880917Z",
     "shell.execute_reply": "2021-11-09T23:53:05.881424Z"
    }
   },
   "outputs": [
    {
     "data": {
      "text/plain": [
       "Text(0, 0.5, 'Correlation w/ Full Set')"
      ]
     },
     "execution_count": 1,
     "metadata": {},
     "output_type": "execute_result"
    },
    {
     "data": {
      "image/png": "[encoded data removed]",
      "text/plain": [
       "<Figure size 252x158.4 with 1 Axes>"
      ]
     },
     "metadata": {
      "needs_background": "light"
     },
     "output_type": "display_data"
    }
   ],
   "source": [
    "fig, ax = plt.subplots(figsize=(3.5, 2.2))\n",
    "\n",
    "ax.plot(subset_results['n'], subset_results['mean'], 'o-')\n",
    "ax.plot(subset_results['n'], subset_results['25perc'], 'v-')\n",
    "\n",
    "ax.set_xlim(ax.get_xlim())\n",
    "ax.plot(ax.get_xlim(), [0.8]*2, 'k--', zorder=-1, lw=0.75)\n",
    "\n",
    "ax.set_xlabel('Subset Size')\n",
    "ax.set_ylabel('Correlation w/ Full Set')"
   ]
  },
  {
   "cell_type": "code",
   "execution_count": 11,
   "metadata": {
    "execution": {
     "iopub.execute_input": "2021-11-09T23:53:05.887384Z",
     "iopub.status.busy": "2021-11-09T23:53:05.886780Z",
     "iopub.status.idle": "2021-11-09T23:53:06.394982Z",
     "shell.execute_reply": "2021-11-09T23:53:06.395489Z"
    }
   },
   "outputs": [
    {
     "name": "stdout",
     "output_type": "stream",
     "text": [
      "Requires 10 to achieve a tau of 0.8 with full ensemble\n"
     ]
    }
   ],
   "source": [
    "best_n = subset_results.query('mean>0.8')['n'].min()\n",
    "print(f'Requires {best_n} to achieve a tau of 0.8 with full ensemble')"
   ]
  },
  {
   "cell_type": "markdown",
   "metadata": {},
   "source": [
    "Finding: The ensemble requires at least 12 members. Which is about a 25% savings over the full ensemble. I don't view it as being worthwhile decrease for the decrease in ranking accuracy"
   ]
  },
  {
   "cell_type": "markdown",
   "metadata": {},
   "source": [
    "## Assess Error Bar Quality\n",
    "We compare the normalized error to the unit normal distribution. I'm not _really_ sure if this is true, \n",
    "but the idea is that if we assume the true value is described by a distribution with mean equal to the ensemble mean\n",
    "and standard devation equal to the ensemble standard deviation then the normalized error $(y_{pred} - y_{true})/\\sigma$ should\n",
    "be a unit normal distribution"
   ]
  },
  {
   "cell_type": "code",
   "execution_count": 12,
   "metadata": {
    "execution": {
     "iopub.execute_input": "2021-11-09T23:53:06.404414Z",
     "iopub.status.busy": "2021-11-09T23:53:06.403772Z",
     "iopub.status.idle": "2021-11-10T00:03:38.381054Z",
     "shell.execute_reply": "2021-11-10T00:03:38.381807Z"
    }
   },
   "outputs": [
    {
     "name": "stderr",
     "output_type": "stream",
     "text": [
      "100%|██████████| 15/15 [10:31<00:00, 42.13s/it]\n"
     ]
    }
   ],
   "source": [
    "subset_results = []\n",
    "for n in tqdm(range(2, len(pred_cols)+1)):\n",
    "    mis = []\n",
    "    rec = []\n",
    "    combs = list(combinations(pred_cols, n))\n",
    "    for c in sample(combs, k=min(16, len(combs))):\n",
    "        # Summarize the results\n",
    "        subset = data[list(c)].values\n",
    "        mean = subset.mean(axis=1)\n",
    "        std = subset.std(axis=1)\n",
    "        \n",
    "        # Get a recalibration factor\n",
    "        recal_ratio = optimize_recalibration_ratio(mean, std, data['true'].values)\n",
    "        rec.append(recal_ratio)\n",
    "        \n",
    "        # Compute the miscalbiration ratio\n",
    "        mis.append(umetrics.miscalibration_area(mean, std * recal_ratio, data['true'].values))\n",
    "    subset_results.append({\n",
    "        'n': n,\n",
    "        'count': len(mis),\n",
    "        'mean': np.mean(mis),\n",
    "        'mean_recal': np.mean(recal_ratio),\n",
    "        'median': np.percentile(mis, 50),\n",
    "        '25perc': np.percentile(mis, 75),\n",
    "        'std': np.std(mis)\n",
    "    })"
   ]
  },
  {
   "cell_type": "code",
   "execution_count": 13,
   "metadata": {
    "execution": {
     "iopub.execute_input": "2021-11-10T00:03:38.387517Z",
     "iopub.status.busy": "2021-11-10T00:03:38.386872Z",
     "iopub.status.idle": "2021-11-10T00:03:38.421668Z",
     "shell.execute_reply": "2021-11-10T00:03:38.422177Z"
    }
   },
   "outputs": [],
   "source": [
    "subset_results = pd.DataFrame(subset_results)\n",
    "subset_results.to_csv('calibration-results.csv', index=False)"
   ]
  },
  {
   "cell_type": "code",
   "execution_count": 14,
   "metadata": {
    "execution": {
     "iopub.execute_input": "2021-11-10T00:03:38.434848Z",
     "iopub.status.busy": "2021-11-10T00:03:38.429118Z",
     "iopub.status.idle": "2021-11-10T00:03:38.506290Z",
     "shell.execute_reply": "2021-11-10T00:03:38.505518Z"
    }
   },
   "outputs": [
    {
     "data": {
      "text/plain": [
       "Text(0, 0.5, 'Miscalibration Area')"
      ]
     },
     "execution_count": 1,
     "metadata": {},
     "output_type": "execute_result"
    },
    {
     "data": {
      "image/png": "[encoded data removed]",
      "text/plain": [
       "<Figure size 252x158.4 with 1 Axes>"
      ]
     },
     "metadata": {
      "needs_background": "light"
     },
     "output_type": "display_data"
    }
   ],
   "source": [
    "fig, ax = plt.subplots(figsize=(3.5, 2.2))\n",
    "\n",
    "ax.plot(subset_results['n'], subset_results['mean'], 'o-')\n",
    "ax.plot(subset_results['n'], subset_results['25perc'], 'v-')\n",
    "\n",
    "ax.set_xlim(ax.get_xlim())\n",
    "\n",
    "ax.set_xlabel('Ensemble Size')\n",
    "ax.set_ylabel('Miscalibration Area')"
   ]
  },
  {
   "cell_type": "markdown",
   "metadata": {},
   "source": [
    "Make a few plots of the full calibration curve"
   ]
  },
  {
   "cell_type": "code",
   "execution_count": 15,
   "metadata": {
    "execution": {
     "iopub.execute_input": "2021-11-10T00:03:38.536533Z",
     "iopub.status.busy": "2021-11-10T00:03:38.520830Z",
     "iopub.status.idle": "2021-11-10T00:03:47.046967Z",
     "shell.execute_reply": "2021-11-10T00:03:47.046179Z"
    }
   },
   "outputs": [
    {
     "data": {
      "text/plain": [
       "<matplotlib.legend.Legend at 0x14b62102f1c0>"
      ]
     },
     "execution_count": 1,
     "metadata": {},
     "output_type": "execute_result"
    },
    {
     "data": {
      "image/png": "[encoded data removed]",
      "text/plain": [
       "<Figure size 468x252 with 2 Axes>"
      ]
     },
     "metadata": {
      "needs_background": "light"
     },
     "output_type": "display_data"
    }
   ],
   "source": [
    "fig, axs = plt.subplots(1, 2, figsize=(6.5, 3.5), sharey=True)\n",
    "\n",
    "for n in [4, 8, 16]:\n",
    "     # Summarize the results\n",
    "    subset = data[sample(c, k=n)].values\n",
    "    mean = subset.mean(axis=1)\n",
    "    std = subset.std(axis=1)\n",
    "    \n",
    "    # Plot uncalibrated\n",
    "    exp_props, obs_props = get_proportion_lists_vectorized(mean, std, data['true'].values)\n",
    "    axs[0].plot(exp_props, obs_props, label=n)\n",
    "\n",
    "    # Get a recalibration factor\n",
    "    recal_ratio = optimize_recalibration_ratio(mean, std, data['true'].values)\n",
    "    exp_props, obs_props = get_proportion_lists_vectorized(mean, std * recal_ratio, data['true'].values)\n",
    "\n",
    "    axs[1].plot(exp_props, obs_props, label=n)\n",
    "      \n",
    "\n",
    "axs[0].set_title('Uncalibrated')\n",
    "axs[1].set_title('Calibrated')\n",
    "for ax in axs:\n",
    "    ax.set_xlim([0, 1])\n",
    "    ax.set_ylim([0, 1])\n",
    "    ax.plot([0, 1], [0, 1], 'k--')\n",
    "    ax.set_xlabel('Expected in Interval')\n",
    "axs[0].set_ylabel('Observed in Interval')\n",
    "    \n",
    "ax.legend()"
   ]
  },
  {
   "cell_type": "markdown",
   "metadata": {},
   "source": [
    "*Finding*: Good calibration overall regardless of ensemble size, as long as we scale it appropriately."
   ]
  },
  {
   "cell_type": "markdown",
   "metadata": {},
   "source": [
    "## Determine MAE\n",
    "Do the predictions get better after a certain stage?"
   ]
  },
  {
   "cell_type": "code",
   "execution_count": 16,
   "metadata": {
    "execution": {
     "iopub.execute_input": "2021-11-10T00:03:47.052497Z",
     "iopub.status.busy": "2021-11-10T00:03:47.051759Z",
     "iopub.status.idle": "2021-11-10T00:04:31.612722Z",
     "shell.execute_reply": "2021-11-10T00:04:31.613355Z"
    }
   },
   "outputs": [
    {
     "name": "stderr",
     "output_type": "stream",
     "text": [
      "100%|██████████| 16/16 [00:44<00:00,  2.78s/it]\n"
     ]
    }
   ],
   "source": [
    "subset_results = []\n",
    "for n in tqdm(range(1, len(pred_cols)+1)):\n",
    "    maes = []\n",
    "    for c in combinations(pred_cols, n):\n",
    "        maes.append(np.abs(data['true'] - data[list(c)].mean(axis=1)).mean())\n",
    "    subset_results.append({\n",
    "        'n': n,\n",
    "        'count': len(maes),\n",
    "        'mean': np.mean(maes),\n",
    "        'median': np.percentile(maes, 50),\n",
    "        '25perc': np.percentile(maes, 75),\n",
    "        'std': np.std(maes)\n",
    "    })"
   ]
  },
  {
   "cell_type": "code",
   "execution_count": 17,
   "metadata": {
    "execution": {
     "iopub.execute_input": "2021-11-10T00:04:31.618254Z",
     "iopub.status.busy": "2021-11-10T00:04:31.617525Z",
     "iopub.status.idle": "2021-11-10T00:04:31.620357Z",
     "shell.execute_reply": "2021-11-10T00:04:31.619705Z"
    }
   },
   "outputs": [],
   "source": [
    "subset_results = pd.DataFrame(subset_results)"
   ]
  },
  {
   "cell_type": "code",
   "execution_count": 18,
   "metadata": {
    "execution": {
     "iopub.execute_input": "2021-11-10T00:04:31.637336Z",
     "iopub.status.busy": "2021-11-10T00:04:31.636369Z",
     "iopub.status.idle": "2021-11-10T00:04:31.699271Z",
     "shell.execute_reply": "2021-11-10T00:04:31.699876Z"
    }
   },
   "outputs": [
    {
     "data": {
      "text/plain": [
       "Text(0, 0.5, 'MAE (V)')"
      ]
     },
     "execution_count": 1,
     "metadata": {},
     "output_type": "execute_result"
    },
    {
     "data": {
      "image/png": "[encoded data removed]",
      "text/plain": [
       "<Figure size 252x158.4 with 1 Axes>"
      ]
     },
     "metadata": {
      "needs_background": "light"
     },
     "output_type": "display_data"
    }
   ],
   "source": [
    "fig, ax = plt.subplots(figsize=(3.5, 2.2))\n",
    "\n",
    "ax.plot(subset_results['n'], subset_results['mean'], 'o-')\n",
    "ax.plot(subset_results['n'], subset_results['25perc'], 'v-')\n",
    "\n",
    "ax.set_xlim(ax.get_xlim())\n",
    "\n",
    "ax.set_xlabel('Ensemble Size')\n",
    "ax.set_ylabel('MAE (V)')"
   ]
  },
  {
   "cell_type": "markdown",
   "metadata": {},
   "source": [
    "*Finding*: Increasing the number of points can be pretty important"
   ]
  }
 ],
 "metadata": {
  "kernelspec": {
   "display_name": "Python 3",
   "language": "python",
   "name": "python3"
  },
  "language_info": {
   "codemirror_mode": {
    "name": "ipython",
    "version": 3
   },
   "file_extension": ".py",
   "mimetype": "text/x-python",
   "name": "python",
   "nbconvert_exporter": "python",
   "pygments_lexer": "ipython3",
   "version": "3.7.9"
  }
 },
 "nbformat": 4,
 "nbformat_minor": 4
}
