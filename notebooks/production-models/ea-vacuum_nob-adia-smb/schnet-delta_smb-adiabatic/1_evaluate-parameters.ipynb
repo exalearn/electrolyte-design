{
 "cells": [
  {
   "cell_type": "markdown",
   "metadata": {},
   "source": [
    "# Evaluate MPNN Performance\n",
    "Review the models which have been trained and pick one for our application."
   ]
  },
  {
   "cell_type": "code",
   "execution_count": 1,
   "metadata": {},
   "outputs": [],
   "source": [
    "%matplotlib inline\n",
    "from matplotlib import pyplot as plt\n",
    "from glob import glob\n",
    "import pandas as pd\n",
    "import numpy as np\n",
    "import json\n",
    "import os"
   ]
  },
  {
   "cell_type": "markdown",
   "metadata": {},
   "source": [
    "## Load in the Models\n",
    "They are all located in a directory with a `test_summary.json` file"
   ]
  },
  {
   "cell_type": "code",
   "execution_count": 2,
   "metadata": {},
   "outputs": [
    {
     "name": "stdout",
     "output_type": "stream",
     "text": [
      "Found 5 model directories\n"
     ]
    }
   ],
   "source": [
    "model_dirs = list(map(os.path.dirname, glob(os.path.join('networks', '**', 'test_summary.json'))))\n",
    "print(f'Found {len(model_dirs)} model directories')"
   ]
  },
  {
   "cell_type": "code",
   "execution_count": 3,
   "metadata": {},
   "outputs": [],
   "source": [
    "def get_summary(path):\n",
    "    \"\"\"Get the summary of a run\"\"\"\n",
    "    \n",
    "    output = {'path': path}\n",
    "    \n",
    "    # Load the config\n",
    "    with open(os.path.join(path, 'config.json')) as fp:\n",
    "        output.update(json.load(fp))\n",
    "        \n",
    "    # Load in the run summary\n",
    "    with open(os.path.join(path, 'test_summary.json')) as fp:\n",
    "        output.update(json.load(fp))\n",
    "    return output"
   ]
  },
  {
   "cell_type": "code",
   "execution_count": 4,
   "metadata": {},
   "outputs": [
    {
     "data": {
      "text/html": [
       "<div>\n",
       "<style scoped>\n",
       "    .dataframe tbody tr th:only-of-type {\n",
       "        vertical-align: middle;\n",
       "    }\n",
       "\n",
       "    .dataframe tbody tr th {\n",
       "        vertical-align: top;\n",
       "    }\n",
       "\n",
       "    .dataframe thead th {\n",
       "        text-align: right;\n",
       "    }\n",
       "</style>\n",
       "<table border=\"1\" class=\"dataframe\">\n",
       "  <thead>\n",
       "    <tr style=\"text-align: right;\">\n",
       "      <th></th>\n",
       "      <th>path</th>\n",
       "      <th>atom_features</th>\n",
       "      <th>num_messages</th>\n",
       "      <th>output_layers</th>\n",
       "      <th>batch_size</th>\n",
       "      <th>num_epochs</th>\n",
       "      <th>readout_fn</th>\n",
       "      <th>atomwise</th>\n",
       "      <th>device</th>\n",
       "      <th>r2_score</th>\n",
       "      <th>spearmanr</th>\n",
       "      <th>kendall_tau</th>\n",
       "      <th>mae</th>\n",
       "      <th>rmse</th>\n",
       "      <th>test_time</th>\n",
       "    </tr>\n",
       "  </thead>\n",
       "  <tbody>\n",
       "    <tr>\n",
       "      <th>0</th>\n",
       "      <td>networks/T6_b32_n512_a1f123</td>\n",
       "      <td>128</td>\n",
       "      <td>6</td>\n",
       "      <td>3</td>\n",
       "      <td>32</td>\n",
       "      <td>512</td>\n",
       "      <td>avg</td>\n",
       "      <td>True</td>\n",
       "      <td>cuda</td>\n",
       "      <td>0.606265</td>\n",
       "      <td>0.740227</td>\n",
       "      <td>0.560853</td>\n",
       "      <td>0.203587</td>\n",
       "      <td>0.417990</td>\n",
       "      <td>0.418843</td>\n",
       "    </tr>\n",
       "    <tr>\n",
       "      <th>3</th>\n",
       "      <td>networks/T6_b32_n512_58d734</td>\n",
       "      <td>128</td>\n",
       "      <td>6</td>\n",
       "      <td>3</td>\n",
       "      <td>32</td>\n",
       "      <td>512</td>\n",
       "      <td>softmax</td>\n",
       "      <td>True</td>\n",
       "      <td>cuda</td>\n",
       "      <td>0.579327</td>\n",
       "      <td>0.751501</td>\n",
       "      <td>0.573707</td>\n",
       "      <td>0.211935</td>\n",
       "      <td>0.432099</td>\n",
       "      <td>0.405334</td>\n",
       "    </tr>\n",
       "    <tr>\n",
       "      <th>1</th>\n",
       "      <td>networks/T6_b32_n512_1f977d</td>\n",
       "      <td>128</td>\n",
       "      <td>6</td>\n",
       "      <td>3</td>\n",
       "      <td>32</td>\n",
       "      <td>512</td>\n",
       "      <td>avg</td>\n",
       "      <td>False</td>\n",
       "      <td>cuda</td>\n",
       "      <td>0.567193</td>\n",
       "      <td>0.718873</td>\n",
       "      <td>0.544725</td>\n",
       "      <td>0.219898</td>\n",
       "      <td>0.438156</td>\n",
       "      <td>0.412064</td>\n",
       "    </tr>\n",
       "    <tr>\n",
       "      <th>2</th>\n",
       "      <td>networks/T6_b32_n512_3030bf</td>\n",
       "      <td>128</td>\n",
       "      <td>6</td>\n",
       "      <td>3</td>\n",
       "      <td>32</td>\n",
       "      <td>512</td>\n",
       "      <td>softmax</td>\n",
       "      <td>False</td>\n",
       "      <td>cuda</td>\n",
       "      <td>0.512314</td>\n",
       "      <td>0.735923</td>\n",
       "      <td>0.545711</td>\n",
       "      <td>0.252052</td>\n",
       "      <td>0.471181</td>\n",
       "      <td>0.408513</td>\n",
       "    </tr>\n",
       "    <tr>\n",
       "      <th>4</th>\n",
       "      <td>networks/T6_b32_n512_5c1159</td>\n",
       "      <td>128</td>\n",
       "      <td>6</td>\n",
       "      <td>3</td>\n",
       "      <td>32</td>\n",
       "      <td>512</td>\n",
       "      <td>sum</td>\n",
       "      <td>False</td>\n",
       "      <td>cuda</td>\n",
       "      <td>0.476568</td>\n",
       "      <td>0.652623</td>\n",
       "      <td>0.477297</td>\n",
       "      <td>0.268767</td>\n",
       "      <td>0.488023</td>\n",
       "      <td>0.407702</td>\n",
       "    </tr>\n",
       "  </tbody>\n",
       "</table>\n",
       "</div>"
      ],
      "text/plain": [
       "                          path  atom_features  num_messages  output_layers  \\\n",
       "0  networks/T6_b32_n512_a1f123            128             6              3   \n",
       "3  networks/T6_b32_n512_58d734            128             6              3   \n",
       "1  networks/T6_b32_n512_1f977d            128             6              3   \n",
       "2  networks/T6_b32_n512_3030bf            128             6              3   \n",
       "4  networks/T6_b32_n512_5c1159            128             6              3   \n",
       "\n",
       "   batch_size  num_epochs readout_fn  atomwise device  r2_score  spearmanr  \\\n",
       "0          32         512        avg      True   cuda  0.606265   0.740227   \n",
       "3          32         512    softmax      True   cuda  0.579327   0.751501   \n",
       "1          32         512        avg     False   cuda  0.567193   0.718873   \n",
       "2          32         512    softmax     False   cuda  0.512314   0.735923   \n",
       "4          32         512        sum     False   cuda  0.476568   0.652623   \n",
       "\n",
       "   kendall_tau       mae      rmse  test_time  \n",
       "0     0.560853  0.203587  0.417990   0.418843  \n",
       "3     0.573707  0.211935  0.432099   0.405334  \n",
       "1     0.544725  0.219898  0.438156   0.412064  \n",
       "2     0.545711  0.252052  0.471181   0.408513  \n",
       "4     0.477297  0.268767  0.488023   0.407702  "
      ]
     },
     "execution_count": 4,
     "metadata": {},
     "output_type": "execute_result"
    }
   ],
   "source": [
    "models = pd.DataFrame(get_summary(p) for p in model_dirs).sort_values('mae')\n",
    "models.head(5)"
   ]
  },
  {
   "cell_type": "markdown",
   "metadata": {},
   "source": [
    "## Validate the Model\n",
    "Visualize the results on the hold-out set of 10% of our data"
   ]
  },
  {
   "cell_type": "code",
   "execution_count": 5,
   "metadata": {},
   "outputs": [],
   "source": [
    "best_model = models.iloc[0]"
   ]
  },
  {
   "cell_type": "code",
   "execution_count": 6,
   "metadata": {},
   "outputs": [
    {
     "data": {
      "text/plain": [
       "path             networks/T6_b32_n512_a1f123\n",
       "atom_features                            128\n",
       "num_messages                               6\n",
       "output_layers                              3\n",
       "batch_size                                32\n",
       "num_epochs                               512\n",
       "readout_fn                               avg\n",
       "atomwise                                True\n",
       "device                                  cuda\n",
       "r2_score                            0.606265\n",
       "spearmanr                           0.740227\n",
       "kendall_tau                         0.560853\n",
       "mae                                 0.203587\n",
       "rmse                                 0.41799\n",
       "test_time                           0.418843\n",
       "Name: 0, dtype: object"
      ]
     },
     "execution_count": 6,
     "metadata": {},
     "output_type": "execute_result"
    }
   ],
   "source": [
    "best_model"
   ]
  },
  {
   "cell_type": "code",
   "execution_count": 7,
   "metadata": {},
   "outputs": [],
   "source": [
    "test_data = pd.read_csv(os.path.join(best_model['path'], 'test_results.csv'))"
   ]
  },
  {
   "cell_type": "code",
   "execution_count": 8,
   "metadata": {},
   "outputs": [
    {
     "data": {
      "image/png": "[encoded data removed]",
      "text/plain": [
       "<Figure size 468x180 with 2 Axes>"
      ]
     },
     "metadata": {
      "needs_background": "light"
     },
     "output_type": "display_data"
    }
   ],
   "source": [
    "fig, axs = plt.subplots(1, 2, figsize=(6.5, 2.5))\n",
    "\n",
    "errors = (test_data['pred'] - test_data['true'])\n",
    "\n",
    "ax = axs[0]\n",
    "ax.scatter(test_data['true'], test_data['pred'], s=5, alpha=0.7, edgecolor='none')\n",
    "ax.text(0.05, 0.95, f'$R^2$:{best_model[\"r2_score\"]: .5f}\\nMAE:{errors.abs().mean(): .1f} V', \n",
    "       transform=ax.transAxes, va='top', ha='left')\n",
    "\n",
    "ax.set_xlim(ax.get_xlim())\n",
    "ax.set_ylim(ax.get_xlim())\n",
    "\n",
    "ax.plot(ax.get_xlim(), ax.get_xlim(), 'k--')\n",
    "\n",
    "ax.set_xlabel('IP, True (V)')\n",
    "ax.set_ylabel('IP, MPNN (V)')\n",
    "\n",
    "ax = axs[1]\n",
    "\n",
    "\n",
    "ax.hist(errors, bins=np.linspace(-1, 1, 32))\n",
    "ax.text(1, 0.95, f'', \n",
    "       transform=ax.transAxes, va='top', ha='right')\n",
    "\n",
    "ax.set_ylim(ax.get_ylim())\n",
    "ax.plot([-1, -1], ax.get_ylim(), 'k--')\n",
    "ax.plot([1, 1], ax.get_ylim(), 'k--')\n",
    "\n",
    "ax.set_xlabel('Error (V)')\n",
    "ax.set_ylabel('Frequency')\n",
    "fig.tight_layout()"
   ]
  },
  {
   "cell_type": "markdown",
   "metadata": {},
   "source": [
    "Link the best model to the local directory"
   ]
  },
  {
   "cell_type": "code",
   "execution_count": 9,
   "metadata": {},
   "outputs": [],
   "source": [
    "if os.path.exists('best_model'):\n",
    "    os.unlink('best_model')\n",
    "os.symlink(os.path.join(best_model['path'], 'best_model'), 'best_model')"
   ]
  },
  {
   "cell_type": "code",
   "execution_count": 10,
   "metadata": {},
   "outputs": [],
   "source": [
    "if os.path.exists('best_config.json'):\n",
    "    os.unlink('best_config.json')\n",
    "os.symlink(os.path.join(best_model['path'], 'config.json'), 'best_config.json')"
   ]
  },
  {
   "cell_type": "code",
   "execution_count": 11,
   "metadata": {},
   "outputs": [],
   "source": [
    "if os.path.exists('best_performance.json'):\n",
    "    os.unlink('best_performance.json')\n",
    "os.symlink(os.path.join(best_model['path'], 'test_summary.json'), 'best_performance.json')"
   ]
  },
  {
   "cell_type": "code",
   "execution_count": null,
   "metadata": {},
   "outputs": [],
   "source": []
  }
 ],
 "metadata": {
  "kernelspec": {
   "display_name": "Python 3",
   "language": "python",
   "name": "python3"
  },
  "language_info": {
   "codemirror_mode": {
    "name": "ipython",
    "version": 3
   },
   "file_extension": ".py",
   "mimetype": "text/x-python",
   "name": "python",
   "nbconvert_exporter": "python",
   "pygments_lexer": "ipython3",
   "version": "3.7.9"
  }
 },
 "nbformat": 4,
 "nbformat_minor": 4
}
