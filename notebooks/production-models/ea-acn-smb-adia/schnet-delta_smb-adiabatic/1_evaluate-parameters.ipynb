{
 "cells": [
  {
   "cell_type": "markdown",
   "metadata": {},
   "source": [
    "# Evaluate MPNN Performance\n",
    "Review the models which have been trained and pick one for our application."
   ]
  },
  {
   "cell_type": "code",
   "execution_count": 1,
   "metadata": {},
   "outputs": [],
   "source": [
    "%matplotlib inline\n",
    "from matplotlib import pyplot as plt\n",
    "from glob import glob\n",
    "import pandas as pd\n",
    "import numpy as np\n",
    "import json\n",
    "import os"
   ]
  },
  {
   "cell_type": "markdown",
   "metadata": {},
   "source": [
    "## Load in the Models\n",
    "They are all located in a directory with a `test_summary.json` file"
   ]
  },
  {
   "cell_type": "code",
   "execution_count": 2,
   "metadata": {},
   "outputs": [
    {
     "name": "stdout",
     "output_type": "stream",
     "text": [
      "Found 4 model directories\n"
     ]
    }
   ],
   "source": [
    "model_dirs = list(map(os.path.dirname, glob(os.path.join('networks', '**', 'test_summary.json'))))\n",
    "print(f'Found {len(model_dirs)} model directories')"
   ]
  },
  {
   "cell_type": "code",
   "execution_count": 3,
   "metadata": {},
   "outputs": [],
   "source": [
    "def get_summary(path):\n",
    "    \"\"\"Get the summary of a run\"\"\"\n",
    "    \n",
    "    output = {'path': path}\n",
    "    \n",
    "    # Load the config\n",
    "    with open(os.path.join(path, 'config.json')) as fp:\n",
    "        output.update(json.load(fp))\n",
    "        \n",
    "    # Load in the run summary\n",
    "    with open(os.path.join(path, 'test_summary.json')) as fp:\n",
    "        output.update(json.load(fp))\n",
    "    return output"
   ]
  },
  {
   "cell_type": "code",
   "execution_count": 4,
   "metadata": {},
   "outputs": [
    {
     "data": {
      "text/html": [
       "<div>\n",
       "<style scoped>\n",
       "    .dataframe tbody tr th:only-of-type {\n",
       "        vertical-align: middle;\n",
       "    }\n",
       "\n",
       "    .dataframe tbody tr th {\n",
       "        vertical-align: top;\n",
       "    }\n",
       "\n",
       "    .dataframe thead th {\n",
       "        text-align: right;\n",
       "    }\n",
       "</style>\n",
       "<table border=\"1\" class=\"dataframe\">\n",
       "  <thead>\n",
       "    <tr style=\"text-align: right;\">\n",
       "      <th></th>\n",
       "      <th>path</th>\n",
       "      <th>atom_features</th>\n",
       "      <th>num_messages</th>\n",
       "      <th>output_layers</th>\n",
       "      <th>batch_size</th>\n",
       "      <th>num_epochs</th>\n",
       "      <th>readout_fn</th>\n",
       "      <th>atomwise</th>\n",
       "      <th>device</th>\n",
       "      <th>r2_score</th>\n",
       "      <th>spearmanr</th>\n",
       "      <th>kendall_tau</th>\n",
       "      <th>mae</th>\n",
       "      <th>rmse</th>\n",
       "      <th>test_time</th>\n",
       "    </tr>\n",
       "  </thead>\n",
       "  <tbody>\n",
       "    <tr>\n",
       "      <th>3</th>\n",
       "      <td>networks/T6_b32_n512_58d734</td>\n",
       "      <td>128</td>\n",
       "      <td>6</td>\n",
       "      <td>3</td>\n",
       "      <td>32</td>\n",
       "      <td>512</td>\n",
       "      <td>softmax</td>\n",
       "      <td>True</td>\n",
       "      <td>cuda</td>\n",
       "      <td>0.671401</td>\n",
       "      <td>0.569365</td>\n",
       "      <td>0.421147</td>\n",
       "      <td>0.245177</td>\n",
       "      <td>0.460696</td>\n",
       "      <td>0.507249</td>\n",
       "    </tr>\n",
       "    <tr>\n",
       "      <th>0</th>\n",
       "      <td>networks/T6_b32_n512_a1f123</td>\n",
       "      <td>128</td>\n",
       "      <td>6</td>\n",
       "      <td>3</td>\n",
       "      <td>32</td>\n",
       "      <td>512</td>\n",
       "      <td>avg</td>\n",
       "      <td>True</td>\n",
       "      <td>cuda</td>\n",
       "      <td>0.628225</td>\n",
       "      <td>0.529675</td>\n",
       "      <td>0.401589</td>\n",
       "      <td>0.256324</td>\n",
       "      <td>0.495039</td>\n",
       "      <td>0.432270</td>\n",
       "    </tr>\n",
       "    <tr>\n",
       "      <th>1</th>\n",
       "      <td>networks/T6_b32_n512_3030bf</td>\n",
       "      <td>128</td>\n",
       "      <td>6</td>\n",
       "      <td>3</td>\n",
       "      <td>32</td>\n",
       "      <td>512</td>\n",
       "      <td>softmax</td>\n",
       "      <td>False</td>\n",
       "      <td>cuda</td>\n",
       "      <td>0.590137</td>\n",
       "      <td>0.548038</td>\n",
       "      <td>0.409909</td>\n",
       "      <td>0.286178</td>\n",
       "      <td>0.516762</td>\n",
       "      <td>0.418000</td>\n",
       "    </tr>\n",
       "    <tr>\n",
       "      <th>2</th>\n",
       "      <td>networks/T6_b32_n512_6e5bef</td>\n",
       "      <td>128</td>\n",
       "      <td>6</td>\n",
       "      <td>3</td>\n",
       "      <td>32</td>\n",
       "      <td>512</td>\n",
       "      <td>sum</td>\n",
       "      <td>True</td>\n",
       "      <td>cuda</td>\n",
       "      <td>0.597686</td>\n",
       "      <td>0.471816</td>\n",
       "      <td>0.341851</td>\n",
       "      <td>0.326423</td>\n",
       "      <td>0.517345</td>\n",
       "      <td>0.465948</td>\n",
       "    </tr>\n",
       "  </tbody>\n",
       "</table>\n",
       "</div>"
      ],
      "text/plain": [
       "                          path  atom_features  num_messages  output_layers  \\\n",
       "3  networks/T6_b32_n512_58d734            128             6              3   \n",
       "0  networks/T6_b32_n512_a1f123            128             6              3   \n",
       "1  networks/T6_b32_n512_3030bf            128             6              3   \n",
       "2  networks/T6_b32_n512_6e5bef            128             6              3   \n",
       "\n",
       "   batch_size  num_epochs readout_fn  atomwise device  r2_score  spearmanr  \\\n",
       "3          32         512    softmax      True   cuda  0.671401   0.569365   \n",
       "0          32         512        avg      True   cuda  0.628225   0.529675   \n",
       "1          32         512    softmax     False   cuda  0.590137   0.548038   \n",
       "2          32         512        sum      True   cuda  0.597686   0.471816   \n",
       "\n",
       "   kendall_tau       mae      rmse  test_time  \n",
       "3     0.421147  0.245177  0.460696   0.507249  \n",
       "0     0.401589  0.256324  0.495039   0.432270  \n",
       "1     0.409909  0.286178  0.516762   0.418000  \n",
       "2     0.341851  0.326423  0.517345   0.465948  "
      ]
     },
     "execution_count": 4,
     "metadata": {},
     "output_type": "execute_result"
    }
   ],
   "source": [
    "models = pd.DataFrame(get_summary(p) for p in model_dirs).sort_values('mae')\n",
    "models.head(5)"
   ]
  },
  {
   "cell_type": "markdown",
   "metadata": {},
   "source": [
    "## Validate the Model\n",
    "Visualize the results on the hold-out set of 10% of our data"
   ]
  },
  {
   "cell_type": "code",
   "execution_count": 5,
   "metadata": {},
   "outputs": [],
   "source": [
    "best_model = models.iloc[0]"
   ]
  },
  {
   "cell_type": "code",
   "execution_count": 6,
   "metadata": {},
   "outputs": [
    {
     "data": {
      "text/plain": [
       "path             networks/T6_b32_n512_58d734\n",
       "atom_features                            128\n",
       "num_messages                               6\n",
       "output_layers                              3\n",
       "batch_size                                32\n",
       "num_epochs                               512\n",
       "readout_fn                           softmax\n",
       "atomwise                                True\n",
       "device                                  cuda\n",
       "r2_score                            0.671401\n",
       "spearmanr                           0.569365\n",
       "kendall_tau                         0.421147\n",
       "mae                                 0.245177\n",
       "rmse                                0.460696\n",
       "test_time                           0.507249\n",
       "Name: 3, dtype: object"
      ]
     },
     "execution_count": 6,
     "metadata": {},
     "output_type": "execute_result"
    }
   ],
   "source": [
    "best_model"
   ]
  },
  {
   "cell_type": "code",
   "execution_count": 7,
   "metadata": {},
   "outputs": [],
   "source": [
    "test_data = pd.read_csv(os.path.join(best_model['path'], 'test_results.csv'))"
   ]
  },
  {
   "cell_type": "code",
   "execution_count": 8,
   "metadata": {},
   "outputs": [
    {
     "data": {
      "image/png": "[encoded data removed]",
      "text/plain": [
       "<Figure size 468x180 with 2 Axes>"
      ]
     },
     "metadata": {
      "needs_background": "light"
     },
     "output_type": "display_data"
    }
   ],
   "source": [
    "fig, axs = plt.subplots(1, 2, figsize=(6.5, 2.5))\n",
    "\n",
    "errors = (test_data['pred'] - test_data['true'])\n",
    "\n",
    "ax = axs[0]\n",
    "ax.scatter(test_data['true'], test_data['pred'], s=5, alpha=0.7, edgecolor='none')\n",
    "ax.text(0.05, 0.95, f'$R^2$:{best_model[\"r2_score\"]: .5f}\\nMAE:{errors.abs().mean(): .1f} V', \n",
    "       transform=ax.transAxes, va='top', ha='left')\n",
    "\n",
    "ax.set_xlim(ax.get_xlim())\n",
    "ax.set_ylim(ax.get_xlim())\n",
    "\n",
    "ax.plot(ax.get_xlim(), ax.get_xlim(), 'k--')\n",
    "\n",
    "ax.set_xlabel('IP, True (V)')\n",
    "ax.set_ylabel('IP, MPNN (V)')\n",
    "\n",
    "ax = axs[1]\n",
    "\n",
    "\n",
    "ax.hist(errors, bins=np.linspace(-1, 1, 32))\n",
    "ax.text(1, 0.95, f'', \n",
    "       transform=ax.transAxes, va='top', ha='right')\n",
    "\n",
    "ax.set_ylim(ax.get_ylim())\n",
    "ax.plot([-1, -1], ax.get_ylim(), 'k--')\n",
    "ax.plot([1, 1], ax.get_ylim(), 'k--')\n",
    "\n",
    "ax.set_xlabel('Error (V)')\n",
    "ax.set_ylabel('Frequency')\n",
    "fig.tight_layout()"
   ]
  },
  {
   "cell_type": "markdown",
   "metadata": {},
   "source": [
    "Link the best model to the local directory"
   ]
  },
  {
   "cell_type": "code",
   "execution_count": 9,
   "metadata": {},
   "outputs": [],
   "source": [
    "if os.path.exists('best_model'):\n",
    "    os.unlink('best_model')\n",
    "os.symlink(os.path.join(best_model['path'], 'best_model'), 'best_model')"
   ]
  },
  {
   "cell_type": "code",
   "execution_count": 10,
   "metadata": {},
   "outputs": [],
   "source": [
    "if os.path.exists('best_config.json'):\n",
    "    os.unlink('best_config.json')\n",
    "os.symlink(os.path.join(best_model['path'], 'config.json'), 'best_config.json')"
   ]
  },
  {
   "cell_type": "code",
   "execution_count": 11,
   "metadata": {},
   "outputs": [],
   "source": [
    "if os.path.exists('best_performance.json'):\n",
    "    os.unlink('best_performance.json')\n",
    "os.symlink(os.path.join(best_model['path'], 'test_summary.json'), 'best_performance.json')"
   ]
  },
  {
   "cell_type": "code",
   "execution_count": null,
   "metadata": {},
   "outputs": [],
   "source": []
  }
 ],
 "metadata": {
  "kernelspec": {
   "display_name": "Python 3",
   "language": "python",
   "name": "python3"
  },
  "language_info": {
   "codemirror_mode": {
    "name": "ipython",
    "version": 3
   },
   "file_extension": ".py",
   "mimetype": "text/x-python",
   "name": "python",
   "nbconvert_exporter": "python",
   "pygments_lexer": "ipython3",
   "version": "3.7.9"
  }
 },
 "nbformat": 4,
 "nbformat_minor": 4
}
