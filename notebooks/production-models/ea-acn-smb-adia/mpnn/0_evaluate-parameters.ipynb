{
 "cells": [
  {
   "cell_type": "markdown",
   "metadata": {},
   "source": [
    "# Evaluate MPNN Performance\n",
    "Review the models which have been trained and pick one for our application."
   ]
  },
  {
   "cell_type": "code",
   "execution_count": 1,
   "metadata": {},
   "outputs": [],
   "source": [
    "%matplotlib inline\n",
    "from matplotlib import pyplot as plt\n",
    "from glob import glob\n",
    "import pandas as pd\n",
    "import numpy as np\n",
    "import json\n",
    "import os"
   ]
  },
  {
   "cell_type": "markdown",
   "metadata": {},
   "source": [
    "## Load in the Models\n",
    "They are all located in a directory with a `test_summary.json` file"
   ]
  },
  {
   "cell_type": "code",
   "execution_count": 2,
   "metadata": {},
   "outputs": [
    {
     "name": "stdout",
     "output_type": "stream",
     "text": [
      "Found 3 model directories\n"
     ]
    }
   ],
   "source": [
    "model_dirs = list(map(os.path.dirname, glob(os.path.join('networks', '**', 'test_summary.json'))))\n",
    "print(f'Found {len(model_dirs)} model directories')"
   ]
  },
  {
   "cell_type": "code",
   "execution_count": 3,
   "metadata": {},
   "outputs": [],
   "source": [
    "def get_summary(path):\n",
    "    \"\"\"Get the summary of a run\"\"\"\n",
    "    \n",
    "    output = {'path': path}\n",
    "    \n",
    "    # Load the config\n",
    "    with open(os.path.join(path, 'config.json')) as fp:\n",
    "        output.update(json.load(fp))\n",
    "        \n",
    "    # Load in the run summary\n",
    "    with open(os.path.join(path, 'test_summary.json')) as fp:\n",
    "        output.update(json.load(fp))\n",
    "    return output"
   ]
  },
  {
   "cell_type": "code",
   "execution_count": 4,
   "metadata": {},
   "outputs": [
    {
     "data": {
      "text/html": [
       "<div>\n",
       "<style scoped>\n",
       "    .dataframe tbody tr th:only-of-type {\n",
       "        vertical-align: middle;\n",
       "    }\n",
       "\n",
       "    .dataframe tbody tr th {\n",
       "        vertical-align: top;\n",
       "    }\n",
       "\n",
       "    .dataframe thead th {\n",
       "        text-align: right;\n",
       "    }\n",
       "</style>\n",
       "<table border=\"1\" class=\"dataframe\">\n",
       "  <thead>\n",
       "    <tr style=\"text-align: right;\">\n",
       "      <th></th>\n",
       "      <th>path</th>\n",
       "      <th>atom_features</th>\n",
       "      <th>num_messages</th>\n",
       "      <th>output_layers</th>\n",
       "      <th>batch_size</th>\n",
       "      <th>num_epochs</th>\n",
       "      <th>readout_fn</th>\n",
       "      <th>minimum</th>\n",
       "      <th>overwrite</th>\n",
       "      <th>atomwise</th>\n",
       "      <th>r2_score</th>\n",
       "      <th>spearmanr</th>\n",
       "      <th>kendall_tau</th>\n",
       "      <th>mae</th>\n",
       "      <th>rmse</th>\n",
       "      <th>test_time</th>\n",
       "    </tr>\n",
       "  </thead>\n",
       "  <tbody>\n",
       "    <tr>\n",
       "      <th>2</th>\n",
       "      <td>networks/T8_b32_n128_7acf3c</td>\n",
       "      <td>128</td>\n",
       "      <td>8</td>\n",
       "      <td>[256, 128, 64]</td>\n",
       "      <td>32</td>\n",
       "      <td>128</td>\n",
       "      <td>max</td>\n",
       "      <td>False</td>\n",
       "      <td>False</td>\n",
       "      <td>False</td>\n",
       "      <td>0.731017</td>\n",
       "      <td>0.835829</td>\n",
       "      <td>0.655370</td>\n",
       "      <td>0.468838</td>\n",
       "      <td>0.655032</td>\n",
       "      <td>0.579269</td>\n",
       "    </tr>\n",
       "    <tr>\n",
       "      <th>0</th>\n",
       "      <td>networks/T8_b32_n512_58ad2f</td>\n",
       "      <td>128</td>\n",
       "      <td>8</td>\n",
       "      <td>[256, 128, 64]</td>\n",
       "      <td>32</td>\n",
       "      <td>512</td>\n",
       "      <td>max</td>\n",
       "      <td>False</td>\n",
       "      <td>True</td>\n",
       "      <td>False</td>\n",
       "      <td>0.709623</td>\n",
       "      <td>0.786744</td>\n",
       "      <td>0.610142</td>\n",
       "      <td>0.493502</td>\n",
       "      <td>0.685130</td>\n",
       "      <td>0.580385</td>\n",
       "    </tr>\n",
       "    <tr>\n",
       "      <th>1</th>\n",
       "      <td>networks/T8_b32_n128_618cac</td>\n",
       "      <td>128</td>\n",
       "      <td>8</td>\n",
       "      <td>[256, 128, 64]</td>\n",
       "      <td>32</td>\n",
       "      <td>128</td>\n",
       "      <td>mean</td>\n",
       "      <td>False</td>\n",
       "      <td>False</td>\n",
       "      <td>False</td>\n",
       "      <td>0.690058</td>\n",
       "      <td>0.814366</td>\n",
       "      <td>0.631159</td>\n",
       "      <td>0.496045</td>\n",
       "      <td>0.696379</td>\n",
       "      <td>0.578594</td>\n",
       "    </tr>\n",
       "  </tbody>\n",
       "</table>\n",
       "</div>"
      ],
      "text/plain": [
       "                          path  atom_features  num_messages   output_layers  \\\n",
       "2  networks/T8_b32_n128_7acf3c            128             8  [256, 128, 64]   \n",
       "0  networks/T8_b32_n512_58ad2f            128             8  [256, 128, 64]   \n",
       "1  networks/T8_b32_n128_618cac            128             8  [256, 128, 64]   \n",
       "\n",
       "   batch_size  num_epochs readout_fn  minimum  overwrite  atomwise  r2_score  \\\n",
       "2          32         128        max    False      False     False  0.731017   \n",
       "0          32         512        max    False       True     False  0.709623   \n",
       "1          32         128       mean    False      False     False  0.690058   \n",
       "\n",
       "   spearmanr  kendall_tau       mae      rmse  test_time  \n",
       "2   0.835829     0.655370  0.468838  0.655032   0.579269  \n",
       "0   0.786744     0.610142  0.493502  0.685130   0.580385  \n",
       "1   0.814366     0.631159  0.496045  0.696379   0.578594  "
      ]
     },
     "execution_count": 4,
     "metadata": {},
     "output_type": "execute_result"
    }
   ],
   "source": [
    "models = pd.DataFrame(get_summary(p) for p in model_dirs).sort_values('mae')\n",
    "models.head(5)"
   ]
  },
  {
   "cell_type": "markdown",
   "metadata": {},
   "source": [
    "## Validate the Best Model\n",
    "Visualize the results on the hold-out set of 10% of our data"
   ]
  },
  {
   "cell_type": "code",
   "execution_count": 5,
   "metadata": {},
   "outputs": [],
   "source": [
    "best_model = models.iloc[0]"
   ]
  },
  {
   "cell_type": "code",
   "execution_count": 6,
   "metadata": {},
   "outputs": [
    {
     "data": {
      "text/plain": [
       "path             networks/T8_b32_n128_7acf3c\n",
       "atom_features                            128\n",
       "num_messages                               8\n",
       "output_layers                 [256, 128, 64]\n",
       "batch_size                                32\n",
       "num_epochs                               128\n",
       "readout_fn                               max\n",
       "minimum                                False\n",
       "overwrite                              False\n",
       "atomwise                               False\n",
       "r2_score                            0.731017\n",
       "spearmanr                           0.835829\n",
       "kendall_tau                          0.65537\n",
       "mae                                 0.468838\n",
       "rmse                                0.655032\n",
       "test_time                           0.579269\n",
       "Name: 2, dtype: object"
      ]
     },
     "execution_count": 6,
     "metadata": {},
     "output_type": "execute_result"
    }
   ],
   "source": [
    "best_model"
   ]
  },
  {
   "cell_type": "code",
   "execution_count": 7,
   "metadata": {},
   "outputs": [],
   "source": [
    "test_data = pd.read_csv(os.path.join(best_model['path'], 'test_results.csv'))"
   ]
  },
  {
   "cell_type": "code",
   "execution_count": 8,
   "metadata": {},
   "outputs": [
    {
     "data": {
      "image/png": "[encoded data removed]",
      "text/plain": [
       "<Figure size 468x180 with 2 Axes>"
      ]
     },
     "metadata": {
      "needs_background": "light"
     },
     "output_type": "display_data"
    }
   ],
   "source": [
    "fig, axs = plt.subplots(1, 2, figsize=(6.5, 2.5))\n",
    "\n",
    "errors = (test_data['pred'] - test_data['true'])\n",
    "\n",
    "ax = axs[0]\n",
    "ax.scatter(test_data['true'], test_data['pred'], s=5, alpha=0.7, edgecolor='none')\n",
    "ax.text(0.05, 0.95, f'$R^2$:{best_model[\"r2_score\"]: .3f}\\nMAE:{errors.abs().mean(): .3f} V', \n",
    "       transform=ax.transAxes, va='top', ha='left')\n",
    "\n",
    "min_ = min(ax.get_xlim() + ax.get_ylim())\n",
    "max_ = max(ax.get_xlim() + ax.get_ylim())\n",
    "ax.set_xlim(min_, max_)\n",
    "ax.set_ylim(ax.get_xlim())\n",
    "\n",
    "ax.plot(ax.get_xlim(), ax.get_xlim(), 'k--')\n",
    "\n",
    "ax.set_xlabel('IP, True (V)')\n",
    "ax.set_ylabel('IP, MPNN (V)')\n",
    "\n",
    "ax = axs[1]\n",
    "\n",
    "\n",
    "ax.hist(errors, bins=np.linspace(-4, 4, 32))\n",
    "\n",
    "ax.set_ylim(ax.get_ylim())\n",
    "ax.plot([-1, -1], ax.get_ylim(), 'k--')\n",
    "ax.plot([1, 1], ax.get_ylim(), 'k--')\n",
    "\n",
    "ax.set_xlabel('Error (V)')\n",
    "ax.set_ylabel('Frequency')\n",
    "fig.tight_layout()"
   ]
  },
  {
   "cell_type": "markdown",
   "metadata": {},
   "source": [
    "Link the best model to the local directory"
   ]
  },
  {
   "cell_type": "code",
   "execution_count": 9,
   "metadata": {},
   "outputs": [],
   "source": [
    "if os.path.exists('best_model.h5'):\n",
    "    os.unlink('best_model.h5')\n",
    "os.symlink(os.path.join(best_model['path'], 'best_model.h5'), 'best_model.h5')"
   ]
  },
  {
   "cell_type": "code",
   "execution_count": 10,
   "metadata": {},
   "outputs": [],
   "source": [
    "if os.path.exists('best_config.json'):\n",
    "    os.unlink('best_config.json')\n",
    "os.symlink(os.path.join(best_model['path'], 'config.json'), 'best_config.json')"
   ]
  },
  {
   "cell_type": "code",
   "execution_count": 11,
   "metadata": {},
   "outputs": [],
   "source": [
    "if os.path.exists('best_performance.json'):\n",
    "    os.unlink('best_performance.json')\n",
    "os.symlink(os.path.join(best_model['path'], 'test_summary.json'), 'best_performance.json')"
   ]
  },
  {
   "cell_type": "code",
   "execution_count": null,
   "metadata": {},
   "outputs": [],
   "source": []
  }
 ],
 "metadata": {
  "kernelspec": {
   "display_name": "Python 3",
   "language": "python",
   "name": "python3"
  },
  "language_info": {
   "codemirror_mode": {
    "name": "ipython",
    "version": 3
   },
   "file_extension": ".py",
   "mimetype": "text/x-python",
   "name": "python",
   "nbconvert_exporter": "python",
   "pygments_lexer": "ipython3",
   "version": "3.7.9"
  }
 },
 "nbformat": 4,
 "nbformat_minor": 4
}
