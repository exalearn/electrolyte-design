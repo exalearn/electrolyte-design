{
 "cells": [
  {
   "cell_type": "markdown",
   "metadata": {},
   "source": [
    "# Gather Example Molecules\n",
    "Get a range of molecules by size that would be good for scaling tests"
   ]
  },
  {
   "cell_type": "code",
   "execution_count": 1,
   "metadata": {},
   "outputs": [
    {
     "name": "stderr",
     "output_type": "stream",
     "text": [
      "RDKit WARNING: [18:01:37] Enabling RDKit 2019.09.3 jupyter extensions\n"
     ]
    }
   ],
   "source": [
    "from moldesign.simulate.qcfractal import GeometryDataset\n",
    "from rdkit import Chem\n",
    "import pandas as pd\n",
    "import shutil\n",
    "import os"
   ]
  },
  {
   "cell_type": "markdown",
   "metadata": {},
   "source": [
    "Get the \"small basis\" dataset"
   ]
  },
  {
   "cell_type": "code",
   "execution_count": 2,
   "metadata": {},
   "outputs": [],
   "source": [
    "data = GeometryDataset('Electrolyte Geometry NWChem', 'small_basis')"
   ]
  },
  {
   "cell_type": "markdown",
   "metadata": {},
   "source": [
    "Get all of the molecules"
   ]
  },
  {
   "cell_type": "code",
   "execution_count": 3,
   "metadata": {},
   "outputs": [
    {
     "name": "stdout",
     "output_type": "stream",
     "text": [
      "Loaded 9258 completed calculations\n",
      "CPU times: user 4.49 s, sys: 84.1 ms, total: 4.57 s\n",
      "Wall time: 11.2 s\n"
     ]
    }
   ],
   "source": [
    "%%time\n",
    "records = data.get_complete_records()\n",
    "print(f'Loaded {len(records)} completed calculations')"
   ]
  },
  {
   "cell_type": "code",
   "execution_count": 4,
   "metadata": {},
   "outputs": [],
   "source": [
    "record_df = pd.DataFrame(zip(records.index, records.values), columns=['name', 'record'])"
   ]
  },
  {
   "cell_type": "markdown",
   "metadata": {},
   "source": [
    "Get the state and number of electrons"
   ]
  },
  {
   "cell_type": "code",
   "execution_count": 5,
   "metadata": {},
   "outputs": [],
   "source": [
    "record_df['state'] = record_df['name'].apply(lambda x: x.split(\"_\")[-1])\n",
    "record_df['inchi'] = record_df['name'].apply(lambda x: x.split(\"_\")[0])"
   ]
  },
  {
   "cell_type": "code",
   "execution_count": 6,
   "metadata": {},
   "outputs": [],
   "source": [
    "def count_electrons(inchi: str) -> int:\n",
    "    mol = Chem.MolFromInchi(inchi)\n",
    "    mol = Chem.AddHs(mol)\n",
    "    return sum(a.GetAtomicNum() for a in mol.GetAtoms())"
   ]
  },
  {
   "cell_type": "code",
   "execution_count": 7,
   "metadata": {},
   "outputs": [
    {
     "name": "stderr",
     "output_type": "stream",
     "text": [
      "RDKit WARNING: [18:01:52] Cannot assign bond directions!\n",
      "RDKit WARNING: [18:01:52] Cannot assign bond directions!\n",
      "RDKit WARNING: [18:01:52] Cannot assign bond directions!\n",
      "RDKit WARNING: [18:01:53] Cannot assign bond directions!\n",
      "RDKit WARNING: [18:01:54] Cannot assign bond directions!\n",
      "RDKit WARNING: [18:01:54] Cannot assign bond directions!\n"
     ]
    }
   ],
   "source": [
    "record_df['num_electrons'] = record_df.inchi.apply(count_electrons)"
   ]
  },
  {
   "cell_type": "markdown",
   "metadata": {},
   "source": [
    "Shuffle the dataset and then pick a single example for each level"
   ]
  },
  {
   "cell_type": "code",
   "execution_count": 8,
   "metadata": {},
   "outputs": [],
   "source": [
    "record_df = record_df.sample(frac=1.0)"
   ]
  },
  {
   "cell_type": "code",
   "execution_count": 9,
   "metadata": {},
   "outputs": [],
   "source": [
    "record_df.query('state==\"neutral\"', inplace=True)"
   ]
  },
  {
   "cell_type": "code",
   "execution_count": 10,
   "metadata": {},
   "outputs": [
    {
     "name": "stdout",
     "output_type": "stream",
     "text": [
      "Reduced to 113 examples\n"
     ]
    }
   ],
   "source": [
    "record_df.drop_duplicates('num_electrons', keep='first', inplace=True)\n",
    "print(f'Reduced to {len(record_df)} examples')"
   ]
  },
  {
   "cell_type": "code",
   "execution_count": 11,
   "metadata": {},
   "outputs": [
    {
     "data": {
      "text/plain": [
       "count    113.000000\n",
       "mean      92.176991\n",
       "std       68.370476\n",
       "min        8.000000\n",
       "25%       40.000000\n",
       "50%       75.000000\n",
       "75%      126.000000\n",
       "max      312.000000\n",
       "Name: num_electrons, dtype: float64"
      ]
     },
     "execution_count": 11,
     "metadata": {},
     "output_type": "execute_result"
    }
   ],
   "source": [
    "record_df['num_electrons'].describe()"
   ]
  },
  {
   "cell_type": "markdown",
   "metadata": {},
   "source": [
    "Get the molecule for each"
   ]
  },
  {
   "cell_type": "code",
   "execution_count": 12,
   "metadata": {},
   "outputs": [],
   "source": [
    "record_df['molecule'] = record_df['record'].apply(lambda x: x.get_final_molecule())"
   ]
  },
  {
   "cell_type": "code",
   "execution_count": 13,
   "metadata": {},
   "outputs": [],
   "source": [
    "record_df['xyz'] = record_df['molecule'].apply(lambda x: x.to_string('xyz'))"
   ]
  },
  {
   "cell_type": "markdown",
   "metadata": {},
   "source": [
    "Save to disk"
   ]
  },
  {
   "cell_type": "code",
   "execution_count": 14,
   "metadata": {},
   "outputs": [],
   "source": [
    "record_df.drop(columns=['record', 'molecule']).to_csv('example_molecules.csv', index=False)"
   ]
  },
  {
   "cell_type": "code",
   "execution_count": null,
   "metadata": {},
   "outputs": [],
   "source": []
  }
 ],
 "metadata": {
  "kernelspec": {
   "display_name": "Python 3",
   "language": "python",
   "name": "python3"
  },
  "language_info": {
   "codemirror_mode": {
    "name": "ipython",
    "version": 3
   },
   "file_extension": ".py",
   "mimetype": "text/x-python",
   "name": "python",
   "nbconvert_exporter": "python",
   "pygments_lexer": "ipython3",
   "version": "3.7.9"
  }
 },
 "nbformat": 4,
 "nbformat_minor": 4
}
