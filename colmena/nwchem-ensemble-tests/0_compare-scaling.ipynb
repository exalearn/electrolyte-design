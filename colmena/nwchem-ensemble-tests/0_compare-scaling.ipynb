{
 "cells": [
  {
   "cell_type": "markdown",
   "metadata": {},
   "source": [
    "# Compare HTEX to Threads for NWChem Ensembles\n",
    "The tradeoff are likely that HTEx consumes more resources but has lower overhead for running large numbers of tasks, as it creates separate Python interpreters."
   ]
  },
  {
   "cell_type": "code",
   "execution_count": 1,
   "metadata": {},
   "outputs": [],
   "source": [
    "%matplotlib inline\n",
    "from matplotlib import pyplot as plt\n",
    "from scipy.stats import linregress\n",
    "from pathlib import Path\n",
    "import pandas as pd\n",
    "import numpy as np\n",
    "import json\n",
    "import re"
   ]
  },
  {
   "cell_type": "markdown",
   "metadata": {},
   "source": [
    "Get the run parameters"
   ]
  },
  {
   "cell_type": "code",
   "execution_count": 2,
   "metadata": {},
   "outputs": [],
   "source": [
    "down_select = \"mode=='hessian' and nodes_per_task==2\""
   ]
  },
  {
   "cell_type": "markdown",
   "metadata": {},
   "source": [
    "## Find all the runs\n",
    "Look for the run config directory"
   ]
  },
  {
   "cell_type": "code",
   "execution_count": 3,
   "metadata": {},
   "outputs": [],
   "source": [
    "run_files = list(Path('runs').glob('**/run_params.json'))"
   ]
  },
  {
   "cell_type": "code",
   "execution_count": 4,
   "metadata": {},
   "outputs": [],
   "source": [
    "results = pd.DataFrame([json.loads(r.read_text()) for r in run_files])\n",
    "results['path'] = [p.parent for p in run_files]"
   ]
  },
  {
   "cell_type": "code",
   "execution_count": 5,
   "metadata": {},
   "outputs": [],
   "source": [
    "results.query(down_select, inplace=True)"
   ]
  },
  {
   "cell_type": "markdown",
   "metadata": {},
   "source": [
    "## Compute MOM Node Utilization\n",
    "We want to know how much memory is used and the total CPU utilization"
   ]
  },
  {
   "cell_type": "code",
   "execution_count": 6,
   "metadata": {},
   "outputs": [],
   "source": [
    "def assess_utilization(path: Path) -> dict:\n",
    "    \"\"\"Compute the memory and CPU utilization statistics\n",
    "    \n",
    "    Args:\n",
    "        path: Path to the run directory\n",
    "    Returns:\n",
    "        (dict) Description of the inputs\n",
    "    \"\"\"\n",
    "    \n",
    "    util = pd.read_json(path / 'usage.json', lines=True)\n",
    "    return {\n",
    "        'mem_max': util['all_mem'].max() / 1024 ** 2,\n",
    "        'cpu_max': util['all_cpu'].max(),\n",
    "        'cpu_mean': util['all_cpu'].mean(),\n",
    "    }"
   ]
  },
  {
   "cell_type": "code",
   "execution_count": 7,
   "metadata": {},
   "outputs": [],
   "source": [
    "results = results.join(pd.DataFrame(results['path'].apply(assess_utilization).to_list()))"
   ]
  },
  {
   "cell_type": "code",
   "execution_count": 8,
   "metadata": {},
   "outputs": [
    {
     "data": {
      "text/html": [
       "<div>\n",
       "<style scoped>\n",
       "    .dataframe tbody tr th:only-of-type {\n",
       "        vertical-align: middle;\n",
       "    }\n",
       "\n",
       "    .dataframe tbody tr th {\n",
       "        vertical-align: top;\n",
       "    }\n",
       "\n",
       "    .dataframe thead th {\n",
       "        text-align: right;\n",
       "    }\n",
       "</style>\n",
       "<table border=\"1\" class=\"dataframe\">\n",
       "  <thead>\n",
       "    <tr style=\"text-align: right;\">\n",
       "      <th></th>\n",
       "      <th>config</th>\n",
       "      <th>nnodes</th>\n",
       "      <th>mem_max</th>\n",
       "    </tr>\n",
       "  </thead>\n",
       "  <tbody>\n",
       "    <tr>\n",
       "      <th>8</th>\n",
       "      <td>htex</td>\n",
       "      <td>2</td>\n",
       "      <td>371.352539</td>\n",
       "    </tr>\n",
       "    <tr>\n",
       "      <th>9</th>\n",
       "      <td>htex</td>\n",
       "      <td>4</td>\n",
       "      <td>499.282227</td>\n",
       "    </tr>\n",
       "    <tr>\n",
       "      <th>1</th>\n",
       "      <td>htex</td>\n",
       "      <td>8</td>\n",
       "      <td>717.361328</td>\n",
       "    </tr>\n",
       "    <tr>\n",
       "      <th>2</th>\n",
       "      <td>htex</td>\n",
       "      <td>128</td>\n",
       "      <td>7080.495117</td>\n",
       "    </tr>\n",
       "    <tr>\n",
       "      <th>6</th>\n",
       "      <td>htex</td>\n",
       "      <td>256</td>\n",
       "      <td>13788.324219</td>\n",
       "    </tr>\n",
       "    <tr>\n",
       "      <th>0</th>\n",
       "      <td>thread</td>\n",
       "      <td>2</td>\n",
       "      <td>259.693359</td>\n",
       "    </tr>\n",
       "    <tr>\n",
       "      <th>5</th>\n",
       "      <td>thread</td>\n",
       "      <td>4</td>\n",
       "      <td>282.362305</td>\n",
       "    </tr>\n",
       "    <tr>\n",
       "      <th>4</th>\n",
       "      <td>thread</td>\n",
       "      <td>8</td>\n",
       "      <td>286.370117</td>\n",
       "    </tr>\n",
       "    <tr>\n",
       "      <th>7</th>\n",
       "      <td>thread</td>\n",
       "      <td>128</td>\n",
       "      <td>518.754883</td>\n",
       "    </tr>\n",
       "    <tr>\n",
       "      <th>3</th>\n",
       "      <td>thread</td>\n",
       "      <td>256</td>\n",
       "      <td>855.776367</td>\n",
       "    </tr>\n",
       "  </tbody>\n",
       "</table>\n",
       "</div>"
      ],
      "text/plain": [
       "   config  nnodes       mem_max\n",
       "8    htex       2    371.352539\n",
       "9    htex       4    499.282227\n",
       "1    htex       8    717.361328\n",
       "2    htex     128   7080.495117\n",
       "6    htex     256  13788.324219\n",
       "0  thread       2    259.693359\n",
       "5  thread       4    282.362305\n",
       "4  thread       8    286.370117\n",
       "7  thread     128    518.754883\n",
       "3  thread     256    855.776367"
      ]
     },
     "execution_count": 8,
     "metadata": {},
     "output_type": "execute_result"
    }
   ],
   "source": [
    "results[['config', 'nnodes', 'mem_max']].sort_values(['config', 'nnodes'])"
   ]
  },
  {
   "cell_type": "code",
   "execution_count": 9,
   "metadata": {},
   "outputs": [
    {
     "name": "stdout",
     "output_type": "stream",
     "text": [
      "htex: 288.5 + N * 105.6 MiB - R = 1.00\n",
      "thread: 260.2 + N * 4.5 MiB - R = 1.00\n"
     ]
    },
    {
     "data": {
      "text/plain": [
       "Text(0, 0.5, 'Max Memory Usage (MiB)')"
      ]
     },
     "execution_count": 9,
     "metadata": {},
     "output_type": "execute_result"
    },
    {
     "data": {
      "image/png": "[encoded data removed]",
      "text/plain": [
       "<Figure size 252x180 with 1 Axes>"
      ]
     },
     "metadata": {
      "needs_background": "light"
     },
     "output_type": "display_data"
    }
   ],
   "source": [
    "fig, ax = plt.subplots(figsize=(3.5, 2.5))\n",
    "\n",
    "for gid, group in results.groupby('config'):\n",
    "    # Plot the results\n",
    "    group = group.sort_values('nnodes')\n",
    "    l = ax.scatter(group['qc_workers'], group['mem_max'], label=gid)\n",
    "    \n",
    "    # Determine the relationship with node count\n",
    "    r = linregress(group['qc_workers'], group['mem_max'])\n",
    "    x = np.linspace(group['qc_workers'].min(), group['qc_workers'].max(), 128)\n",
    "    y = r.intercept + x * r.slope\n",
    "    ax.plot(x, y, '--', lw=1)\n",
    "    print(f'{gid}: {r.intercept:.1f} + N * {r.slope:.1f} MiB - R = {r.rvalue:.2f}')\n",
    "\n",
    "ax.legend()\n",
    "ax.set_xlabel('Worker Count')\n",
    "ax.set_ylabel('Max Memory Usage (MiB)')"
   ]
  },
  {
   "cell_type": "markdown",
   "metadata": {},
   "source": [
    "*Finding*: We save a lot of memory using the ThreadPoolExecutor"
   ]
  },
  {
   "cell_type": "code",
   "execution_count": 10,
   "metadata": {},
   "outputs": [
    {
     "name": "stdout",
     "output_type": "stream",
     "text": [
      "htex: -35.4 + N * 6.8 % - R = 0.95\n",
      "thread: 10.4 + N * 0.6 % - R = 0.91\n"
     ]
    },
    {
     "data": {
      "text/plain": [
       "Text(0, 0.5, 'Max CPU Usage (%)')"
      ]
     },
     "execution_count": 10,
     "metadata": {},
     "output_type": "execute_result"
    },
    {
     "data": {
      "image/png": "[encoded data removed]",
      "text/plain": [
       "<Figure size 252x180 with 1 Axes>"
      ]
     },
     "metadata": {
      "needs_background": "light"
     },
     "output_type": "display_data"
    }
   ],
   "source": [
    "fig, ax = plt.subplots(figsize=(3.5, 2.5))\n",
    "\n",
    "for gid, group in results.groupby('config'):\n",
    "    # Plot the results\n",
    "    group = group.sort_values('nnodes')\n",
    "    l = ax.scatter(group['qc_workers'], group['cpu_max'], label=gid)\n",
    "    \n",
    "    # Determine the relationship with node count\n",
    "    r = linregress(group['qc_workers'], group['cpu_max'])\n",
    "    x = np.linspace(group['qc_workers'].min(), group['nnodes'].max(), 128)\n",
    "    y = r.intercept + x * r.slope\n",
    "    print(f'{gid}: {r.intercept:.1f} + N * {r.slope:.1f} % - R = {r.rvalue:.2f}')\n",
    "    \n",
    "ax.set_xlim(ax.get_xlim())\n",
    "ax.plot(ax.get_xlim(), [100]*2, 'k--')\n",
    "\n",
    "ax.legend()\n",
    "ax.set_xlabel('Worker Count')\n",
    "ax.set_ylabel('Max CPU Usage (%)')"
   ]
  },
  {
   "cell_type": "markdown",
   "metadata": {},
   "source": [
    "*Finding*: We do start to hit the single-threaded limit with the thread pool executor."
   ]
  },
  {
   "cell_type": "markdown",
   "metadata": {},
   "source": [
    "## Study the Overhead\n",
    "We want to know if running multiple threads interferes with execution runtime, and if having many in an ensemble cuases other problems with the launch system"
   ]
  },
  {
   "cell_type": "code",
   "execution_count": 11,
   "metadata": {},
   "outputs": [],
   "source": [
    "nwc_walltime_re = re.compile('wall:\\s+([0-9]+\\.[0-9]+)s')"
   ]
  },
  {
   "cell_type": "code",
   "execution_count": 12,
   "metadata": {},
   "outputs": [],
   "source": [
    "def assess_overhead(path: Path) -> dict:\n",
    "    \"\"\"Assess the overhead on the NWChem computations:\n",
    "    \n",
    "        - Launch overhead: How much time is spent executing and processing NWChem\n",
    "            Walltime of QCEngine call - walltime of NWChem\n",
    "        - Wrapper overhead: How much time is spent preparing for NWChem call (e.g., generating XYZ)\n",
    "            Walltime of Colmena function - Walltime of QCEngine Call\n",
    "        - Colmena overhead: How much time is spent moving task request and results\n",
    "            Time between submission and result - Walltime of Colmena Function\n",
    "        - Total overead: How much time is spent doing _anything_ besides NWChem\n",
    "            Time between submission and result - walltime of NWChem\n",
    "    \"\"\"\n",
    "    \n",
    "    # Evaluate the difference between QCEngine walltime and NWChem\n",
    "    qce_walltimes = []\n",
    "    nwc_walltimes = []\n",
    "    with open(path / 'qcfractal-records.json') as fp:\n",
    "        for line in fp:\n",
    "            # Get the NWC and QCE walltimes\n",
    "            qcf = json.loads(line)\n",
    "            qce_walltimes.append(qcf['provenance']['wall_time'])\n",
    "            nwc_walltimes.append(float(nwc_walltime_re.findall(qcf['stdout'])[0]))\n",
    "    \n",
    "    # Load in the result summaries\n",
    "    results = pd.read_json(path / 'simulation-results.json', lines=True)\n",
    "    results['makespan'] = results['time_result_received'] - results['time_created']\n",
    "    \n",
    "    outputs = {\n",
    "        'launch_overhead': np.subtract(qce_walltimes, nwc_walltimes),\n",
    "        'wrapper_overhead': np.subtract(results.query('success')['time_running'], qce_walltimes).values,\n",
    "        'colmena_overhead': (results['makespan'] - results['time_running']).values,\n",
    "        'total_overhead': np.subtract(results.query('success')['makespan'], nwc_walltimes).values\n",
    "    }\n",
    "    for c in list(outputs.keys()):\n",
    "        outputs[c + '_median'] = np.percentile(outputs[c], 50)\n",
    "    return outputs"
   ]
  },
  {
   "cell_type": "code",
   "execution_count": 13,
   "metadata": {},
   "outputs": [
    {
     "data": {
      "text/plain": [
       "{'launch_overhead': array([21.65562873, 10.02654605,  9.91008272, 10.44037261]),\n",
       " 'wrapper_overhead': array([1.14609634e+01, 1.07737409e-02, 1.65147083e-02, 1.42774079e-02]),\n",
       " 'colmena_overhead': array([0.2906359 , 0.00809423, 0.00813253, 0.00784211, 0.00269903,\n",
       "        0.00249969]),\n",
       " 'total_overhead': array([33.40722804, 10.04541402,  9.93472996, 10.46249213]),\n",
       " 'launch_overhead_median': 10.233459329605068,\n",
       " 'wrapper_overhead_median': 0.015396058093756437,\n",
       " 'colmena_overhead_median': 0.00796817141235806,\n",
       " 'total_overhead_median': 10.253953075408901}"
      ]
     },
     "execution_count": 13,
     "metadata": {},
     "output_type": "execute_result"
    }
   ],
   "source": [
    "assess_overhead(results['path'][0])"
   ]
  },
  {
   "cell_type": "code",
   "execution_count": 14,
   "metadata": {},
   "outputs": [
    {
     "name": "stdout",
     "output_type": "stream",
     "text": [
      "CPU times: user 2.1 s, sys: 2.29 s, total: 4.38 s\n",
      "Wall time: 4.46 s\n"
     ]
    }
   ],
   "source": [
    "%%time\n",
    "overheads = pd.DataFrame(results['path'].apply(assess_overhead).to_list())"
   ]
  },
  {
   "cell_type": "code",
   "execution_count": 15,
   "metadata": {},
   "outputs": [],
   "source": [
    "for c in ['nnodes', 'qc_workers', 'config']:\n",
    "    overheads[c] = results[c]"
   ]
  },
  {
   "cell_type": "markdown",
   "metadata": {},
   "source": [
    "Plot the breakdown"
   ]
  },
  {
   "cell_type": "code",
   "execution_count": 16,
   "metadata": {},
   "outputs": [
    {
     "data": {
      "text/plain": [
       "Text(0, 0.5, 'Overhead (s)')"
      ]
     },
     "execution_count": 16,
     "metadata": {},
     "output_type": "execute_result"
    },
    {
     "data": {
      "image/png": "[encoded data removed]",
      "text/plain": [
       "<Figure size 612x180 with 2 Axes>"
      ]
     },
     "metadata": {
      "needs_background": "light"
     },
     "output_type": "display_data"
    }
   ],
   "source": [
    "fig, axs = plt.subplots(1, 2, sharey=True, figsize=(8.5, 2.5))\n",
    "\n",
    "for ax, (gid, group) in zip(axs, overheads.groupby('config')):\n",
    "    group = group.sort_values('nnodes')\n",
    "    for c in ['launch', 'wrapper', 'colmena']:\n",
    "        ax.plot(group['qc_workers'], group[f'{c}_overhead_median'], '--o', label=c)\n",
    "    \n",
    "    ax.plot(group['qc_workers'], group['total_overhead_median'], 'k--o')\n",
    "    \n",
    "    ax.set_title(f'{gid} Overhead')\n",
    "    ax.set_xlabel('Worker Count')\n",
    "    \n",
    "axs[0].legend()\n",
    "axs[0].set_ylabel('Overhead (s)')"
   ]
  },
  {
   "cell_type": "markdown",
   "metadata": {},
   "source": [
    "*Finding*: We do observe increasing colmena overhead as we increase the worker count and that the increase is slower with Threads."
   ]
  },
  {
   "cell_type": "code",
   "execution_count": null,
   "metadata": {},
   "outputs": [],
   "source": []
  }
 ],
 "metadata": {
  "kernelspec": {
   "display_name": "Python 3",
   "language": "python",
   "name": "python3"
  },
  "language_info": {
   "codemirror_mode": {
    "name": "ipython",
    "version": 3
   },
   "file_extension": ".py",
   "mimetype": "text/x-python",
   "name": "python",
   "nbconvert_exporter": "python",
   "pygments_lexer": "ipython3",
   "version": "3.7.4"
  }
 },
 "nbformat": 4,
 "nbformat_minor": 4
}
