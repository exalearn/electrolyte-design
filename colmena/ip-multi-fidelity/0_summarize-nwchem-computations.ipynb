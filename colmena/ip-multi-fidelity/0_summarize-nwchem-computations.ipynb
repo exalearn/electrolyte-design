{
 "cells": [
  {
   "cell_type": "markdown",
   "id": "4a6456d1-7490-47b9-ad8d-97233b4aa45c",
   "metadata": {},
   "source": [
    "# Summarize NWChem Computations\n",
    "Gets a list of all of the NWChem computations that have completed and put them in a single summary document. "
   ]
  },
  {
   "cell_type": "code",
   "execution_count": 1,
   "id": "46fbd835-fd7b-4b26-88c7-028cb09190c7",
   "metadata": {},
   "outputs": [],
   "source": [
    "%matplotlib inline\n",
    "from matplotlib import pyplot as plt\n",
    "from pathlib import Path\n",
    "from tqdm import tqdm\n",
    "from datetime import datetime\n",
    "import pandas as pd\n",
    "import numpy as np\n",
    "import json"
   ]
  },
  {
   "cell_type": "markdown",
   "id": "731411cc-4ad1-405a-a3e9-7a672254683f",
   "metadata": {},
   "source": [
    "## Find all of the Simulation Recorsds, Summarize them\n",
    "These files contain the runtime information about "
   ]
  },
  {
   "cell_type": "code",
   "execution_count": 2,
   "id": "c0287748-bc5f-4844-ab17-c7aedee5d8e7",
   "metadata": {},
   "outputs": [
    {
     "name": "stdout",
     "output_type": "stream",
     "text": [
      "Found 20 sets of simulation records\n"
     ]
    }
   ],
   "source": [
    "records = list(Path('runs').glob('**/simulation-results.json'))\n",
    "print(f'Found {len(records)} sets of simulation records')"
   ]
  },
  {
   "cell_type": "code",
   "execution_count": 3,
   "id": "62bbf507-cf12-43b0-a8c5-786e4479cacb",
   "metadata": {},
   "outputs": [],
   "source": [
    "def get_run_info(record: Path):\n",
    "    \"\"\"Get information about the records that were run\n",
    "    \n",
    "    We want:\n",
    "        - The computation being run: molecule name, computation type, options (e.g., charge, solvent), how many nodes\n",
    "        - Output information: Did it complete successfully, how long did it take\n",
    "        - Timing: When was the computation started, when did the steering app launch\n",
    "        - Selection info: What was the predicted IP and uncertainty, search_space name\n",
    "        - Success metrics: What are the IPs of this molecule\n",
    "        \n",
    "    Args:\n",
    "        record: Path to the simulation records\n",
    "        \n",
    "    Returns:\n",
    "        DataFrame of molecule information\n",
    "    \"\"\"\n",
    "    \n",
    "    # Load in the molecule records\n",
    "    sim_records = pd.read_json(record, lines=True)\n",
    "    task_info = pd.DataFrame(sim_records['task_info'].to_list())\n",
    "    \n",
    "    # Load in the environment variables\n",
    "    with open(record.parent / 'environment.json') as fp:\n",
    "        envs = json.load(fp)\n",
    "    \n",
    "    # Load in the run parameters information\n",
    "    with open(record.parent / 'run_params.json') as fp:\n",
    "        run_params = json.load(fp)\n",
    "        \n",
    "    # Get task input information\n",
    "    output = task_info[['inchi', 'method']].copy()\n",
    "    output['qc_nodes'] = run_params['nodes_per_task']\n",
    "    output['ensemble_nodes'] = run_params['nnodes']\n",
    "    \n",
    "    #   Settings for the single point computations\n",
    "    def _get_charge(rec):\n",
    "        if rec['method'] == \"compute_single_point\":\n",
    "            return rec['inputs'][0][1]\n",
    "        return 1 if rec['method'] == 'compute_adiabatic' else 0\n",
    "    output['charge'] = sim_records.apply(_get_charge, axis=1)\n",
    "    output['solvent'] = sim_records.query('method==\"compute_single_point\"')['inputs'].apply(lambda x: None if len(x[0]) < 3 else x[0][2])\n",
    "    \n",
    "    # Output from the computation\n",
    "    output['success'] = sim_records['success']\n",
    "    output['time_running'] = sim_records['time_running']\n",
    "    output['time_completed'] = sim_records['time_result_received']\n",
    "    output['node_hours'] = sim_records['time_running'] * output['qc_nodes'] / 3600\n",
    "    \n",
    "    # Timing\n",
    "    output['run_name'] = record.parent.name\n",
    "    output['start_time'] = sim_records['time_created']\n",
    "    with open(record.parent / 'runtime.log') as fp:\n",
    "        first = datetime.strptime(fp.readline().split(\" - \")[0], '%Y-%m-%d %H:%M:%S,%f')\n",
    "        output['ensemble_start_time'] = first.timestamp()\n",
    "    output['walltime_elapsed'] = output['time_completed'] - output['ensemble_start_time']\n",
    "    output['node_hours_elapsed'] = output['walltime_elapsed'] * output['ensemble_nodes'] / 3600\n",
    "    \n",
    "    # Selection info\n",
    "    for r in ['mean', 'std']:\n",
    "        output[f'pred_ip_{r}'] = task_info[r]\n",
    "    output['search_space'] = Path(run_params['search_space']).name\n",
    "        \n",
    "    # Success metrics\n",
    "    if 'ips' in task_info:\n",
    "        ips = pd.DataFrame(task_info['ips'].apply(lambda x: x if isinstance(x, dict) else {}).tolist())\n",
    "        output = pd.concat((output, ips), axis=1)\n",
    "    \n",
    "    return output"
   ]
  },
  {
   "cell_type": "code",
   "execution_count": 4,
   "id": "d93f76f7-54d5-4e38-bf79-f950fce681ab",
   "metadata": {},
   "outputs": [
    {
     "name": "stderr",
     "output_type": "stream",
     "text": [
      "100%|██████████| 20/20 [00:15<00:00,  1.29it/s]\n"
     ]
    }
   ],
   "source": [
    "all_runs = pd.concat([get_run_info(r) for r in tqdm(records)], ignore_index=True)"
   ]
  },
  {
   "cell_type": "markdown",
   "id": "40831d0d-f7f7-46d0-a21f-232aa88b9398",
   "metadata": {},
   "source": [
    "Sort in a reasonable order"
   ]
  },
  {
   "cell_type": "code",
   "execution_count": 5,
   "id": "2443247e-4607-4b07-b70a-add7eb0b542a",
   "metadata": {},
   "outputs": [],
   "source": [
    "all_runs.sort_values(['ensemble_start_time', 'time_completed'], ascending=True, inplace=True, ignore_index=True)"
   ]
  },
  {
   "cell_type": "markdown",
   "id": "46d6dada-1d82-4c1c-86be-fb81d0896f21",
   "metadata": {},
   "source": [
    "Compute the total elapsed walltime and node hours"
   ]
  },
  {
   "cell_type": "code",
   "execution_count": 6,
   "id": "84cb2923-2de2-4309-b841-0f5949b5fb55",
   "metadata": {},
   "outputs": [],
   "source": [
    "def compute_elapsed_time(data, column): \n",
    "    \"\"\"Compute the elapsed walltime across jobs\n",
    "    \n",
    "    Args:\n",
    "        data: Dataframe to modify\n",
    "        column: Name of elapsed time to consider\n",
    "    \"\"\"\n",
    "    \n",
    "    # Get the endpoint from the previous jobs\n",
    "    starting_point = [0] + data.groupby('run_name')[column].max().tolist()[:-1]\n",
    "    starting_point = np.cumsum(starting_point)\n",
    "    \n",
    "    # Add it to the appropriate rows\n",
    "    to_add = np.repeat(starting_point, data.groupby('run_name').apply(len))\n",
    "    return data[column] + to_add"
   ]
  },
  {
   "cell_type": "code",
   "execution_count": 7,
   "id": "ac308f8a-a119-4c7a-a33a-8d8e8f63f268",
   "metadata": {},
   "outputs": [],
   "source": [
    "all_runs['walltime_elapsed_total'] = compute_elapsed_time(all_runs, 'walltime_elapsed')"
   ]
  },
  {
   "cell_type": "code",
   "execution_count": 8,
   "id": "79df146a-4341-4280-a8cc-fc7e012c85b6",
   "metadata": {},
   "outputs": [],
   "source": [
    "all_runs['node_hours_elapsed_total'] = compute_elapsed_time(all_runs, 'node_hours_elapsed')"
   ]
  },
  {
   "cell_type": "markdown",
   "id": "4705e825-275a-4013-9e02-f515cdee8908",
   "metadata": {},
   "source": [
    "## Computing Cost vs Task Type\n",
    "So we can get good numbers to emulate with the XTB app"
   ]
  },
  {
   "cell_type": "markdown",
   "id": "9b353a53-8a9e-4eb0-ab82-c1e43f9d0d9c",
   "metadata": {},
   "source": [
    "Get the molecules for which we have all 4 computations"
   ]
  },
  {
   "cell_type": "code",
   "execution_count": 9,
   "id": "0698936b-86e1-43c8-a91a-9e81f153637e",
   "metadata": {},
   "outputs": [],
   "source": [
    "num_run = all_runs.groupby('inchi').apply(lambda x: set(zip(x['method'], x['charge']))).apply(len)"
   ]
  },
  {
   "cell_type": "code",
   "execution_count": 10,
   "id": "e1e6ee64-9fee-4e90-b76f-fe3b7c243660",
   "metadata": {},
   "outputs": [],
   "source": [
    "all_run = set(num_run[num_run > 3].index)"
   ]
  },
  {
   "cell_type": "code",
   "execution_count": 11,
   "id": "f6c7b843-6189-4724-a59d-db59299b22c4",
   "metadata": {},
   "outputs": [
    {
     "name": "stdout",
     "output_type": "stream",
     "text": [
      "adiabatic 0.7606316275441968\n",
      "single_point c=0 0.062194034353971334\n",
      "single_point c=1 0.1712626714074352\n",
      "vertical 0.37415375622558317\n"
     ]
    },
    {
     "data": {
      "image/png": "[encoded data removed]",
      "text/plain": [
       "<Figure size 252x180 with 1 Axes>"
      ]
     },
     "metadata": {
      "needs_background": "light"
     },
     "output_type": "display_data"
    }
   ],
   "source": [
    "fig, ax = plt.subplots(figsize=(3.5, 2.5))\n",
    "\n",
    "bins = np.logspace(-1.8, 0.8, 32)\n",
    "\n",
    "for method, group in all_runs[all_runs.inchi.apply(lambda x: x in all_run)].query('success').groupby('method'):\n",
    "    if method == 'compute_single_point':\n",
    "        for charge, subgroup in group.groupby('charge'):\n",
    "            ax.hist(subgroup['node_hours'], bins=bins, label=f'{method[8:]} c={charge}', alpha=0.5)\n",
    "            print(f'single_point c={charge}', subgroup['node_hours'].mean())\n",
    "    else:\n",
    "        ax.hist(group['node_hours'], bins=bins, label=method[8:], alpha=0.5)\n",
    "        print(method[8:], group['node_hours'].mean())\n",
    "    \n",
    "ax.set_xscale('log')\n",
    "\n",
    "ax.set_xlabel('Cost (node-hr)')\n",
    "ax.set_ylabel('Count')\n",
    "ax.legend(fontsize=9, ncol=2)\n",
    "fig.tight_layout()\n",
    "fig.savefig('figures/runtime-by-task.png', dpi=320)"
   ]
  },
  {
   "cell_type": "markdown",
   "id": "f013eb1c-c92c-4a9b-a03a-f64dbbd558c8",
   "metadata": {},
   "source": [
    "## Computing Number Found Over Time\n",
    "\"Time\" can mean total walltime expended or nodehours burned"
   ]
  },
  {
   "cell_type": "code",
   "execution_count": 12,
   "id": "e8d3034a-7f38-4e63-bc4a-21b9bbe97c56",
   "metadata": {},
   "outputs": [
    {
     "data": {
      "image/png": "[encoded data removed]",
      "text/plain": [
       "<Figure size 468x165.6 with 2 Axes>"
      ]
     },
     "metadata": {
      "needs_background": "light"
     },
     "output_type": "display_data"
    }
   ],
   "source": [
    "fig, axs = plt.subplots(1, 2, sharey=True, figsize=(6.5, 2.3))\n",
    "\n",
    "axs[0].plot(all_runs['walltime_elapsed_total'] / 3600, np.cumsum(all_runs['nob-vacuum-smb-geom'] > 10))\n",
    "axs[0].set_xlabel('Walltime (hr)')\n",
    "\n",
    "axs[1].plot(all_runs['node_hours_elapsed_total'], np.cumsum(all_runs['nob-vacuum-smb-geom'] > 10))\n",
    "axs[1].set_xlabel('Compute Time (node-hr)')\n",
    "\n",
    "axs[0].set_ylabel('IP > 10 V')\n",
    "\n",
    "fig.tight_layout()\n",
    "fig.savefig('figures/all-molecules-over-time.png', dpi=320)"
   ]
  },
  {
   "cell_type": "markdown",
   "id": "afd16a40-5739-4a51-9b14-7f7c7c45d6bb",
   "metadata": {},
   "source": [
    "## Look at the Mix of Tasks Performed\n",
    "As a function of time, what fraction of each type of job did we perform"
   ]
  },
  {
   "cell_type": "code",
   "execution_count": 13,
   "id": "05239ae7-8278-450f-b818-0569deeac156",
   "metadata": {},
   "outputs": [],
   "source": [
    "n_performed = dict(\n",
    "    (m, np.cumsum(all_runs['method'] == m).values)\n",
    "    for m in set(all_runs['method'])\n",
    ")"
   ]
  },
  {
   "cell_type": "code",
   "execution_count": 14,
   "id": "1c80b822-6cf8-42f3-af60-c116966f7b5a",
   "metadata": {},
   "outputs": [
    {
     "data": {
      "text/plain": [
       "Text(0, 0.5, 'Proportion')"
      ]
     },
     "execution_count": 14,
     "metadata": {},
     "output_type": "execute_result"
    },
    {
     "data": {
      "image/png": "[encoded data removed]",
      "text/plain": [
       "<Figure size 432x288 with 1 Axes>"
      ]
     },
     "metadata": {
      "needs_background": "light"
     },
     "output_type": "display_data"
    }
   ],
   "source": [
    "fig, ax = plt.subplots()\n",
    "\n",
    "for m, counts in n_performed.items():\n",
    "    ax.plot(all_runs.index, counts / (all_runs.index + 1), label=m[8:])\n",
    "    \n",
    "ax.legend()\n",
    "\n",
    "ax.set_xlabel('Number Computations')\n",
    "ax.set_ylabel('Proportion')"
   ]
  },
  {
   "cell_type": "markdown",
   "id": "9a498bdd-c706-4f67-8f77-478ead46c3f7",
   "metadata": {},
   "source": [
    "## Do we have any repeated failures?\n",
    "See if I need to add logic to avoid them from being run repeatedly."
   ]
  },
  {
   "cell_type": "code",
   "execution_count": 22,
   "id": "84f39b2c-480c-4fab-8e75-5f5bead14bc1",
   "metadata": {},
   "outputs": [],
   "source": [
    "bad_records = []\n",
    "for (inchi, method, charge), group in all_runs.query('not success').groupby(['inchi', 'method', 'charge']):\n",
    "    n_failures = len(group)\n",
    "    last_failure = datetime.fromtimestamp(group.query('not success')['time_completed'].max())\n",
    "    eventual_success = all_runs.query(f'inchi==\"{inchi}\" and method==\"{method}\" and charge=={charge}')['success'].any()\n",
    "    bad_records.append({\n",
    "        'inchi': inchi,\n",
    "        'method': method,\n",
    "        'charge': charge,\n",
    "        'n_failures': n_failures,\n",
    "        'last_failure': last_failure,\n",
    "        'eventual_success': eventual_success,\n",
    "        'node_hours_wasted': group['node_hours'].sum()\n",
    "    })\n",
    "bad_records = pd.DataFrame(bad_records)"
   ]
  },
  {
   "cell_type": "code",
   "execution_count": 25,
   "id": "77fad897-f8fc-4557-9b7d-61ed33d13326",
   "metadata": {},
   "outputs": [
    {
     "data": {
      "text/html": [
       "<div>\n",
       "<style scoped>\n",
       "    .dataframe tbody tr th:only-of-type {\n",
       "        vertical-align: middle;\n",
       "    }\n",
       "\n",
       "    .dataframe tbody tr th {\n",
       "        vertical-align: top;\n",
       "    }\n",
       "\n",
       "    .dataframe thead th {\n",
       "        text-align: right;\n",
       "    }\n",
       "</style>\n",
       "<table border=\"1\" class=\"dataframe\">\n",
       "  <thead>\n",
       "    <tr style=\"text-align: right;\">\n",
       "      <th></th>\n",
       "      <th>inchi</th>\n",
       "      <th>method</th>\n",
       "      <th>charge</th>\n",
       "      <th>n_failures</th>\n",
       "      <th>last_failure</th>\n",
       "      <th>eventual_success</th>\n",
       "      <th>node_hours_wasted</th>\n",
       "    </tr>\n",
       "  </thead>\n",
       "  <tbody>\n",
       "    <tr>\n",
       "      <th>80</th>\n",
       "      <td>InChI=1S/C4H7F3/c1-3(2)4(5,6)7/h3H,1-2H3</td>\n",
       "      <td>compute_vertical</td>\n",
       "      <td>0</td>\n",
       "      <td>5</td>\n",
       "      <td>2021-10-21 08:19:23.212613</td>\n",
       "      <td>False</td>\n",
       "      <td>0.819341</td>\n",
       "    </tr>\n",
       "    <tr>\n",
       "      <th>87</th>\n",
       "      <td>InChI=1S/C4N4O/c5-1-3-4(2-6)8-9-7-3</td>\n",
       "      <td>compute_adiabatic</td>\n",
       "      <td>1</td>\n",
       "      <td>6</td>\n",
       "      <td>2021-10-21 08:14:35.633428</td>\n",
       "      <td>False</td>\n",
       "      <td>1.608198</td>\n",
       "    </tr>\n",
       "    <tr>\n",
       "      <th>100</th>\n",
       "      <td>InChI=1S/C5H3N3/c1-5(2-6,3-7)4-8/h1H3</td>\n",
       "      <td>compute_adiabatic</td>\n",
       "      <td>1</td>\n",
       "      <td>8</td>\n",
       "      <td>2021-10-21 09:59:33.460718</td>\n",
       "      <td>False</td>\n",
       "      <td>5.789362</td>\n",
       "    </tr>\n",
       "  </tbody>\n",
       "</table>\n",
       "</div>"
      ],
      "text/plain": [
       "                                        inchi             method  charge  \\\n",
       "80   InChI=1S/C4H7F3/c1-3(2)4(5,6)7/h3H,1-2H3   compute_vertical       0   \n",
       "87        InChI=1S/C4N4O/c5-1-3-4(2-6)8-9-7-3  compute_adiabatic       1   \n",
       "100     InChI=1S/C5H3N3/c1-5(2-6,3-7)4-8/h1H3  compute_adiabatic       1   \n",
       "\n",
       "     n_failures               last_failure  eventual_success  \\\n",
       "80            5 2021-10-21 08:19:23.212613             False   \n",
       "87            6 2021-10-21 08:14:35.633428             False   \n",
       "100           8 2021-10-21 09:59:33.460718             False   \n",
       "\n",
       "     node_hours_wasted  \n",
       "80            0.819341  \n",
       "87            1.608198  \n",
       "100           5.789362  "
      ]
     },
     "execution_count": 25,
     "metadata": {},
     "output_type": "execute_result"
    }
   ],
   "source": [
    "bad_records.query('not eventual_success').sort_values('n_failures').tail(3)"
   ]
  },
  {
   "cell_type": "code",
   "execution_count": null,
   "id": "5b4617c8-fd20-4625-8d36-e493181ef2fc",
   "metadata": {},
   "outputs": [],
   "source": []
  }
 ],
 "metadata": {
  "kernelspec": {
   "display_name": "Python 3 (ipykernel)",
   "language": "python",
   "name": "python3"
  },
  "language_info": {
   "codemirror_mode": {
    "name": "ipython",
    "version": 3
   },
   "file_extension": ".py",
   "mimetype": "text/x-python",
   "name": "python",
   "nbconvert_exporter": "python",
   "pygments_lexer": "ipython3",
   "version": "3.7.4"
  }
 },
 "nbformat": 4,
 "nbformat_minor": 5
}
