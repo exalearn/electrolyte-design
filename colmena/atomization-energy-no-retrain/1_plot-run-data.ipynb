{
 "cells": [
  {
   "cell_type": "markdown",
   "metadata": {},
   "source": [
    "# Plot Run Data\n",
    "This notebook plots the performance of a run to assess the optimization performance and system utilization."
   ]
  },
  {
   "cell_type": "code",
   "execution_count": 1,
   "metadata": {},
   "outputs": [],
   "source": [
    "%matplotlib inline\n",
    "from matplotlib import pyplot as plt\n",
    "from datetime import datetime\n",
    "import pandas as pd\n",
    "import numpy as np\n",
    "import json\n",
    "import os"
   ]
  },
  {
   "cell_type": "markdown",
   "metadata": {},
   "source": [
    "Load the run information "
   ]
  },
  {
   "cell_type": "code",
   "execution_count": 2,
   "metadata": {},
   "outputs": [],
   "source": [
    "run_info = pd.read_csv('run_data.csv')"
   ]
  },
  {
   "cell_type": "markdown",
   "metadata": {},
   "source": [
    "Pick one"
   ]
  },
  {
   "cell_type": "code",
   "execution_count": 3,
   "metadata": {},
   "outputs": [
    {
     "name": "stdout",
     "output_type": "stream",
     "text": [
      "path                                runs/small_basis-02Dec20-141127-c25cc7\n",
      "param_hash                                                          c25cc7\n",
      "start_time                                             2020-12-02 14:11:27\n",
      "mpnn_config_directory      ../../ai-components/mpnn/nwchem-atomization-v0/\n",
      "mpnn_model_files         ['../../ai-components/mpnn/nwchem-atomization-...\n",
      "search_space             ../../ai-components/search-spaces/G13-filtered...\n",
      "qc_spec                                                        small_basis\n",
      "qc_parallelism                                                           1\n",
      "parallel_guesses                                                         1\n",
      "search_size                                                           1000\n",
      "molecules_per_ml_task                                                10000\n",
      "sampling_fraction                                                     0.01\n",
      "nnodes                                                                 128\n",
      "qc_workers                                                             128\n",
      "version                                                             simple\n",
      "hostname                                                         thetamom1\n",
      "n_evals                                                                  2\n",
      "Name: 2, dtype: object\n"
     ]
    }
   ],
   "source": [
    "run_info = run_info.sort_values('start_time', ascending=False).iloc[0]\n",
    "#run_info = run_info.query('path==\"runs/14Nov20-202818-2f4d2c\"').iloc[0]  # XTB run\n",
    "print(run_info)"
   ]
  },
  {
   "cell_type": "markdown",
   "metadata": {},
   "source": [
    "## Load in Result File\n",
    "This file is the list of the quantum chemistry results"
   ]
  },
  {
   "cell_type": "code",
   "execution_count": 4,
   "metadata": {},
   "outputs": [],
   "source": [
    "result_data = pd.read_json(os.path.join(run_info['path'], 'simulation_records.jsonld'), lines=True)\n",
    "result_data.sort_values('time_created', inplace=True)"
   ]
  },
  {
   "cell_type": "code",
   "execution_count": 5,
   "metadata": {},
   "outputs": [],
   "source": [
    "result_data.reset_index(inplace=True)"
   ]
  },
  {
   "cell_type": "markdown",
   "metadata": {},
   "source": [
    "Plot the time since first result"
   ]
  },
  {
   "cell_type": "code",
   "execution_count": 6,
   "metadata": {},
   "outputs": [],
   "source": [
    "result_data['walltime'] = result_data['time_result_received'] - result_data['time_created'].min()"
   ]
  },
  {
   "cell_type": "markdown",
   "metadata": {},
   "source": [
    "Plot the rate at which we aquired new results"
   ]
  },
  {
   "cell_type": "code",
   "execution_count": 7,
   "metadata": {},
   "outputs": [
    {
     "data": {
      "image/png": "[encoded data removed]",
      "text/plain": [
       "<Figure size 468x180 with 2 Axes>"
      ]
     },
     "metadata": {
      "needs_background": "light"
     },
     "output_type": "display_data"
    }
   ],
   "source": [
    "fig, axs = plt.subplots(1, 2, sharey=True, figsize=(6.5, 2.5))\n",
    "\n",
    "axs[1].scatter(result_data.index, result_data['value'], s=1)\n",
    "axs[1].set_xlabel('Index')\n",
    "axs[0].set_ylabel('Atomization Energy (Ha)')\n",
    "\n",
    "axs[0].scatter(result_data['walltime'], result_data['value'], s=1)\n",
    "axs[0].set_xlabel('Walltime (s)')\n",
    "\n",
    "fig.tight_layout()\n",
    "fig.savefig('figures/optimizer-performance.svg')"
   ]
  },
  {
   "cell_type": "markdown",
   "metadata": {},
   "source": [
    "## Evaluate Runtimes\n",
    "Estimate the runtimes of the QC code"
   ]
  },
  {
   "cell_type": "code",
   "execution_count": 8,
   "metadata": {},
   "outputs": [],
   "source": [
    "screen_data = pd.read_json(os.path.join(run_info['path'], 'inference_records.jsonld'), lines=True)"
   ]
  },
  {
   "cell_type": "code",
   "execution_count": 9,
   "metadata": {},
   "outputs": [
    {
     "data": {
      "image/png": "[encoded data removed]",
      "text/plain": [
       "<Figure size 468x144 with 2 Axes>"
      ]
     },
     "metadata": {
      "needs_background": "light"
     },
     "output_type": "display_data"
    }
   ],
   "source": [
    "fig, axs = plt.subplots(1, 2, figsize=(6.5, 2.))\n",
    "\n",
    "\n",
    "for data, label, ax in zip([result_data, screen_data], ['Simulate', 'Screen'], axs.flatten()):\n",
    "    if label == \"Simulate\":\n",
    "        wt_range = np.log10([data['time_running'].min() * 0.9,\n",
    "                             data['time_running'].max() * 1.1])\n",
    "        bins = np.logspace(*wt_range, 32)\n",
    "        ax.set_xscale('log')\n",
    "    else:\n",
    "        wt_range = [data['time_running'].min() * 0.9, data['time_running'].max() * 1.1]\n",
    "        bins = np.linspace(*wt_range, 32)\n",
    "    ax.hist(data['time_running'], bins=bins)\n",
    "\n",
    "    ax.set_title(f'{label}', fontsize=10)\n",
    "    ax.set_xlabel('Runtime (s)')    \n",
    "    \n",
    "axs[0].set_ylabel('Frequency')\n",
    "\n",
    "fig.tight_layout()"
   ]
  },
  {
   "cell_type": "markdown",
   "metadata": {},
   "source": [
    "## Evaluate Overhead\n",
    "Measure the time executing vs the end-to-end time for each of the tasks"
   ]
  },
  {
   "cell_type": "markdown",
   "metadata": {},
   "source": [
    "Compute overhead"
   ]
  },
  {
   "cell_type": "code",
   "execution_count": 10,
   "metadata": {},
   "outputs": [],
   "source": [
    "for data in [result_data, screen_data]:\n",
    "    data['overhead_time'] = (data['time_result_received'] - data['time_created']) - data['time_running']\n",
    "    data['overhead_frac'] = 1 - data['time_running'] / (data['time_result_received'] - data['time_created'])"
   ]
  },
  {
   "cell_type": "markdown",
   "metadata": {},
   "source": [
    "Plot overhead"
   ]
  },
  {
   "cell_type": "code",
   "execution_count": 11,
   "metadata": {},
   "outputs": [
    {
     "data": {
      "image/png": "[encoded data removed]",
      "text/plain": [
       "<Figure size 468x144 with 2 Axes>"
      ]
     },
     "metadata": {
      "needs_background": "light"
     },
     "output_type": "display_data"
    }
   ],
   "source": [
    "fig, axs = plt.subplots(1, 2, figsize=(6.5, 2.), sharex=True)\n",
    "\n",
    "for data, label, ax in zip([result_data, screen_data], ['Simulate', 'Screen'], axs.flatten()):\n",
    "    ax.hist(data['overhead_frac'].tolist(), bins=np.linspace(0, 1, 32))\n",
    "    ax.set_xlabel('Overhead Fraction')\n",
    "    ax.set_title(f'{label}', fontsize=10)\n",
    "    \n",
    "axs[0].set_ylabel('Frequency')\n",
    "fig.tight_layout()\n",
    "fig.savefig(os.path.join('figures', 'overhead-fraction.svg'))"
   ]
  },
  {
   "cell_type": "markdown",
   "metadata": {},
   "source": [
    "### Explain the overhead\n",
    "See if we can explain the overhead events for the tasks"
   ]
  },
  {
   "cell_type": "markdown",
   "metadata": {},
   "source": [
    "Compute each step"
   ]
  },
  {
   "cell_type": "code",
   "execution_count": 12,
   "metadata": {},
   "outputs": [],
   "source": [
    "for data in [result_data, screen_data]:\n",
    "    data['client_to_method-server'] = data['time_input_received'] - (data['time_created'] + data['time_serialize_inputs'])\n",
    "    data['method-server_to_worker'] = data['time_compute_started'] - data['time_input_received']\n",
    "    data['worker_to_method-server'] = data['time_result_sent'] - (data['time_compute_started']\n",
    "                                                                  + data['time_running']\n",
    "                                                                  + data['time_deserialize_inputs']\n",
    "                                                                  + data['time_serialize_results'])\n",
    "    data['method-server_to_client'] = data['time_result_received'] - (data['time_result_sent'] + data['time_deserialize_results'])\n",
    "    data['serialization'] = data[[c for c in data.columns if c.startswith('time_') and 'serialize' in c]].sum(axis=1)"
   ]
  },
  {
   "cell_type": "markdown",
   "metadata": {},
   "source": [
    "Plot overheads"
   ]
  },
  {
   "cell_type": "code",
   "execution_count": 13,
   "metadata": {},
   "outputs": [
    {
     "data": {
      "image/png": "[encoded data removed]",
      "text/plain": [
       "<Figure size 468x144 with 2 Axes>"
      ]
     },
     "metadata": {
      "needs_background": "light"
     },
     "output_type": "display_data"
    }
   ],
   "source": [
    "fig, axs = plt.subplots(1, 2, figsize=(6.5, 2.))\n",
    "\n",
    "for data, label, ax in zip([result_data, screen_data],\n",
    "                           ['Simulate', 'Screen'], \n",
    "                           axs.flatten()):\n",
    "    subset = data.sort_values('time_created', ascending=True).tail(min(25, len(data)))\n",
    "    steps = ['client_to_method-server', 'method-server_to_worker', 'worker_to_method-server', 'method-server_to_client', 'serialization']\n",
    "    x = np.arange(len(subset))\n",
    "    for i in range(len(steps)):\n",
    "        start = subset[steps[:i]].sum(axis=1).values\n",
    "        ax.bar(x, subset[steps[i]].values, bottom=start, label=steps[i].replace(\"_to_\", \"->\").replace('method-server', 'server'))\n",
    "    ax.bar(x, subset['overhead_time'].values, edgecolor='k', facecolor='none', lw=1)\n",
    "    \n",
    "    ax.set_xticks([])\n",
    "    ax.set_title(label)\n",
    "    ax.set_xlabel('Task')\n",
    "    \n",
    "axs[-1].legend()\n",
    "axs[0].set_ylabel('Communication Time (s)')\n",
    "fig.tight_layout()\n",
    "fig.savefig(os.path.join('figures', 'overhead-breakdown.svg'))"
   ]
  },
  {
   "cell_type": "markdown",
   "metadata": {},
   "source": [
    "*Finding*: It generally seems like the time from the task being recieved by the method server to starting on the compute note is generally the longest. Need to figure out what the issue is."
   ]
  },
  {
   "cell_type": "markdown",
   "metadata": {},
   "source": [
    "## Plot the Number of Results Being Run at a Time\n",
    "We can look at the completed QC records to compute the utilization"
   ]
  },
  {
   "cell_type": "markdown",
   "metadata": {},
   "source": [
    "Find the events related to calculations starting and finishing"
   ]
  },
  {
   "cell_type": "code",
   "execution_count": 14,
   "metadata": {},
   "outputs": [],
   "source": [
    "start_time = min([tasks['time_created'].min() for tasks in [result_data, screen_data]])"
   ]
  },
  {
   "cell_type": "code",
   "execution_count": 15,
   "metadata": {},
   "outputs": [],
   "source": [
    "events = [{'time': 0}]\n",
    "for tag, tasks in zip(['qc', 'ml'], [result_data, screen_data]):\n",
    "    col = f'{tag}_active_delta'\n",
    "    events.extend({'time': t - start_time, col: -1} for t in tasks[['time_compute_started', 'time_running']].sum(axis=1))\n",
    "    events.extend({'time': t - start_time, col: 1} for t in tasks['time_compute_started'])\n",
    "events = pd.DataFrame(events)"
   ]
  },
  {
   "cell_type": "code",
   "execution_count": 16,
   "metadata": {},
   "outputs": [],
   "source": [
    "events[events.isnull()] = 0  # If no change, the delta is zero"
   ]
  },
  {
   "cell_type": "markdown",
   "metadata": {},
   "source": [
    "Make the results easier to plot"
   ]
  },
  {
   "cell_type": "code",
   "execution_count": 17,
   "metadata": {},
   "outputs": [],
   "source": [
    "events.sort_values('time', ascending=True, inplace=True)"
   ]
  },
  {
   "cell_type": "code",
   "execution_count": 18,
   "metadata": {},
   "outputs": [],
   "source": [
    "assert events.columns[0] == 'time'"
   ]
  },
  {
   "cell_type": "code",
   "execution_count": 19,
   "metadata": {},
   "outputs": [],
   "source": [
    "for col in events.columns[1:]:\n",
    "    tag = col.split(\"_\")[0]\n",
    "    events[f'{tag}_num_active'] = events[col].cumsum()"
   ]
  },
  {
   "cell_type": "code",
   "execution_count": 20,
   "metadata": {},
   "outputs": [
    {
     "data": {
      "text/html": [
       "<div>\n",
       "<style scoped>\n",
       "    .dataframe tbody tr th:only-of-type {\n",
       "        vertical-align: middle;\n",
       "    }\n",
       "\n",
       "    .dataframe tbody tr th {\n",
       "        vertical-align: top;\n",
       "    }\n",
       "\n",
       "    .dataframe thead th {\n",
       "        text-align: right;\n",
       "    }\n",
       "</style>\n",
       "<table border=\"1\" class=\"dataframe\">\n",
       "  <thead>\n",
       "    <tr style=\"text-align: right;\">\n",
       "      <th></th>\n",
       "      <th>time</th>\n",
       "      <th>qc_active_delta</th>\n",
       "      <th>ml_active_delta</th>\n",
       "      <th>qc_num_active</th>\n",
       "      <th>ml_num_active</th>\n",
       "    </tr>\n",
       "  </thead>\n",
       "  <tbody>\n",
       "    <tr>\n",
       "      <th>10</th>\n",
       "      <td>9963.853420</td>\n",
       "      <td>-1.0</td>\n",
       "      <td>0.0</td>\n",
       "      <td>4.0</td>\n",
       "      <td>0.0</td>\n",
       "    </tr>\n",
       "    <tr>\n",
       "      <th>74</th>\n",
       "      <td>9989.573954</td>\n",
       "      <td>-1.0</td>\n",
       "      <td>0.0</td>\n",
       "      <td>3.0</td>\n",
       "      <td>0.0</td>\n",
       "    </tr>\n",
       "    <tr>\n",
       "      <th>5</th>\n",
       "      <td>10063.655377</td>\n",
       "      <td>-1.0</td>\n",
       "      <td>0.0</td>\n",
       "      <td>2.0</td>\n",
       "      <td>0.0</td>\n",
       "    </tr>\n",
       "    <tr>\n",
       "      <th>42</th>\n",
       "      <td>10127.001645</td>\n",
       "      <td>-1.0</td>\n",
       "      <td>0.0</td>\n",
       "      <td>1.0</td>\n",
       "      <td>0.0</td>\n",
       "    </tr>\n",
       "    <tr>\n",
       "      <th>39</th>\n",
       "      <td>10363.848729</td>\n",
       "      <td>-1.0</td>\n",
       "      <td>0.0</td>\n",
       "      <td>0.0</td>\n",
       "      <td>0.0</td>\n",
       "    </tr>\n",
       "  </tbody>\n",
       "</table>\n",
       "</div>"
      ],
      "text/plain": [
       "            time  qc_active_delta  ml_active_delta  qc_num_active  \\\n",
       "10   9963.853420             -1.0              0.0            4.0   \n",
       "74   9989.573954             -1.0              0.0            3.0   \n",
       "5   10063.655377             -1.0              0.0            2.0   \n",
       "42  10127.001645             -1.0              0.0            1.0   \n",
       "39  10363.848729             -1.0              0.0            0.0   \n",
       "\n",
       "    ml_num_active  \n",
       "10            0.0  \n",
       "74            0.0  \n",
       "5             0.0  \n",
       "42            0.0  \n",
       "39            0.0  "
      ]
     },
     "execution_count": 20,
     "metadata": {},
     "output_type": "execute_result"
    }
   ],
   "source": [
    "events.tail()"
   ]
  },
  {
   "cell_type": "markdown",
   "metadata": {},
   "source": [
    "Compute worker utilization"
   ]
  },
  {
   "cell_type": "code",
   "execution_count": 21,
   "metadata": {},
   "outputs": [],
   "source": [
    "events['qc_utilization'] = np.clip(events['qc_num_active'] / run_info['qc_workers'], 0, 1)"
   ]
  },
  {
   "cell_type": "code",
   "execution_count": 22,
   "metadata": {},
   "outputs": [],
   "source": [
    "events['ml_utilization'] = np.clip(events['ml_num_active'] / run_info['nnodes'], 0, 1)"
   ]
  },
  {
   "cell_type": "code",
   "execution_count": 23,
   "metadata": {},
   "outputs": [],
   "source": [
    "events['utilization'] = events['qc_utilization'] + events['ml_utilization']"
   ]
  },
  {
   "cell_type": "markdown",
   "metadata": {},
   "source": [
    "Compute the cumulative utilization"
   ]
  },
  {
   "cell_type": "code",
   "execution_count": 24,
   "metadata": {},
   "outputs": [],
   "source": [
    "def cumulative_utilization(time: float) -> float:\n",
    "    \"\"\"Compute average utilization over time\"\"\"\n",
    "    # Integrating knowing that we have a piecewise functions\n",
    "    # Integrate over all of the pieces before the current piece\n",
    "    past_events = events[events.time <= time]\n",
    "    if len(past_events) <= 1:\n",
    "        return 0.0\n",
    "    past_util = (np.diff(past_events['time'].values) * past_events['utilization'].values[:-1]).sum()\n",
    "    \n",
    "    # Integrate the current piece\n",
    "    current_event = past_events.iloc[-1]\n",
    "    current_util = (time - current_event.time) * current_event.utilization\n",
    "    return (past_util + current_util) / time"
   ]
  },
  {
   "cell_type": "code",
   "execution_count": 25,
   "metadata": {},
   "outputs": [],
   "source": [
    "times = np.linspace(0, events.time.max(), 1024)\n",
    "utilization = np.array([cumulative_utilization(x) for x in times])"
   ]
  },
  {
   "cell_type": "code",
   "execution_count": 26,
   "metadata": {},
   "outputs": [
    {
     "name": "stdout",
     "output_type": "stream",
     "text": [
      "Best cumulative utilization: 87.83%\n"
     ]
    }
   ],
   "source": [
    "print(f'Best cumulative utilization: {utilization.max()*100:.2f}%')"
   ]
  },
  {
   "cell_type": "markdown",
   "metadata": {},
   "source": [
    "Plot the queue length and utilization"
   ]
  },
  {
   "cell_type": "code",
   "execution_count": 27,
   "metadata": {},
   "outputs": [
    {
     "data": {
      "image/png": "[encoded data removed]",
      "text/plain": [
       "<Figure size 396x180 with 2 Axes>"
      ]
     },
     "metadata": {
      "needs_background": "light"
     },
     "output_type": "display_data"
    }
   ],
   "source": [
    "fig, axs = plt.subplots(1, 2, figsize=(5.5, 2.5))\n",
    "\n",
    "# Plot the queue length\n",
    "ax = axs[0]\n",
    "ax.step(events['time'], events['ml_utilization'] * 100, where='post')\n",
    "ax.step(events['time'], events['qc_utilization'] * 100, where='post')\n",
    "ax.set_xlabel('Walltime (s)')\n",
    "ax.set_ylabel('Utilization (%)')\n",
    "ax.set_ylim(0, 105)\n",
    "\n",
    "ax = axs[1]\n",
    "ax.plot(times, utilization * 100)\n",
    "ax.set_xlabel('Walltime (s)')\n",
    "ax.set_ylabel('Cumulative Util. (%)')\n",
    "ax.set_ylim(0, 105)\n",
    "\n",
    "fig.tight_layout()\n",
    "fig.savefig('figures/utilization-over-time.svg')"
   ]
  },
  {
   "cell_type": "markdown",
   "metadata": {},
   "source": [
    "*Finding*: Utilization stays around ~90% for the most of the run. The dropoff towards the end is because tasks that launched did not complete before the end of the allocation period."
   ]
  },
  {
   "cell_type": "code",
   "execution_count": 28,
   "metadata": {},
   "outputs": [
    {
     "data": {
      "text/plain": [
       "Text(0, 0.5, 'Task Submit Rate (1/s)')"
      ]
     },
     "execution_count": 28,
     "metadata": {},
     "output_type": "execute_result"
    },
    {
     "data": {
      "image/png": "[encoded data removed]",
      "text/plain": [
       "<Figure size 252x180 with 1 Axes>"
      ]
     },
     "metadata": {
      "needs_background": "light"
     },
     "output_type": "display_data"
    }
   ],
   "source": [
    "fig, ax = plt.subplots(figsize=(3.5, 2.5))\n",
    "\n",
    "window_size = 15\n",
    "window_bin = np.arange(0, events.time.max(), window_size)\n",
    "counts = [len(events.query(f'(qc_active_delta == 1 or ml_active_delta == 1) and {i} <= time < {i+window_size}')) / window_size for i in window_bin]\n",
    "\n",
    "ax.plot(window_bin, counts)\n",
    "\n",
    "ax.set_xlabel('Walltime (s)')\n",
    "ax.set_ylabel('Task Submit Rate (1/s)')"
   ]
  },
  {
   "cell_type": "code",
   "execution_count": null,
   "metadata": {},
   "outputs": [],
   "source": []
  }
 ],
 "metadata": {
  "kernelspec": {
   "display_name": "Python 3",
   "language": "python",
   "name": "python3"
  },
  "language_info": {
   "codemirror_mode": {
    "name": "ipython",
    "version": 3
   },
   "file_extension": ".py",
   "mimetype": "text/x-python",
   "name": "python",
   "nbconvert_exporter": "python",
   "pygments_lexer": "ipython3",
   "version": "3.7.4"
  }
 },
 "nbformat": 4,
 "nbformat_minor": 4
}
