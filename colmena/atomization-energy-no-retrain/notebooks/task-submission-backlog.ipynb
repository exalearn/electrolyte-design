{
 "cells": [
  {
   "cell_type": "markdown",
   "metadata": {},
   "source": [
    "# Evaluating Task Submission Timings\n",
    "See how Parsl's task submission pipleine scales with different task rates"
   ]
  },
  {
   "cell_type": "code",
   "execution_count": 1,
   "metadata": {},
   "outputs": [],
   "source": [
    "%matplotlib inline\n",
    "from matplotlib import pyplot as plt\n",
    "from datetime import datetime\n",
    "import pandas as pd\n",
    "import re\n",
    "import os"
   ]
  },
  {
   "cell_type": "code",
   "execution_count": 2,
   "metadata": {},
   "outputs": [],
   "source": [
    "log_re = r\"^(?P<date>\\d{4}-\\d{2}-\\d{2} \\d{2}:\\d{2}:\\d{2},\\d{3}) - (?P<module>\\S+) - (?P<level>[A-Z]+) - (?P<message>[\\s\\S]*?)(?=^\\d{4})\""
   ]
  },
  {
   "cell_type": "markdown",
   "metadata": {},
   "source": [
    "Configuration "
   ]
  },
  {
   "cell_type": "code",
   "execution_count": 3,
   "metadata": {},
   "outputs": [],
   "source": [
    "run_dir = '../runs/small_basis-16Dec20-002024-cdbd8b/'"
   ]
  },
  {
   "cell_type": "markdown",
   "metadata": {},
   "source": [
    "## Load in the Logging Messages\n",
    "Load them in and parse them"
   ]
  },
  {
   "cell_type": "code",
   "execution_count": 4,
   "metadata": {},
   "outputs": [
    {
     "name": "stdout",
     "output_type": "stream",
     "text": [
      "Parsed 92702 log lines\n"
     ]
    }
   ],
   "source": [
    "with open(os.path.join(run_dir, 'runtime.log')) as fp:\n",
    "    log_data = pd.DataFrame([x.groupdict() for x in re.finditer(log_re, fp.read(), re.MULTILINE)])\n",
    "print(f'Parsed {len(log_data)} log lines')"
   ]
  },
  {
   "cell_type": "code",
   "execution_count": 5,
   "metadata": {},
   "outputs": [],
   "source": [
    "log_data['datetime'] = log_data['date'].apply(lambda x: datetime.strptime(x, '%Y-%m-%d %H:%M:%S,%f').timestamp())"
   ]
  },
  {
   "cell_type": "markdown",
   "metadata": {},
   "source": [
    "## Measure Times of Submission Process\n",
    "Get when a task was pushed from client into queue, recieved and parsed from queue, and launched on Parsl."
   ]
  },
  {
   "cell_type": "code",
   "execution_count": 6,
   "metadata": {},
   "outputs": [
    {
     "name": "stdout",
     "output_type": "stream",
     "text": [
      "Found 5689 task submissions\n"
     ]
    }
   ],
   "source": [
    "push_records = log_data[log_data.message.str.startswith('Client sent a evaluate_mpnn task with topic screen')]\n",
    "receive_record = log_data[log_data.message.str.startswith('Received a task message with topic screen inbound queue')]\n",
    "pull_records = log_data[log_data.message.str.startswith('Received request for evaluate_mpnn with topic screen')]\n",
    "start_records = log_data[log_data.message.str.startswith('Pushed task to Parsl')]\n",
    "print(f'Found {len(push_records)} task submissions')"
   ]
  },
  {
   "cell_type": "markdown",
   "metadata": {},
   "source": [
    "Measure times"
   ]
  },
  {
   "cell_type": "code",
   "execution_count": 7,
   "metadata": {},
   "outputs": [],
   "source": [
    "data = pd.DataFrame({\n",
    "    'start_walltime': a - log_data.datetime.min(),\n",
    "    'time_received': b - log_data.datetime.min(),\n",
    "    'push-to-pull': b - a,\n",
    "    'time-to-decode': c - b,\n",
    "    'time-to-submit': d - c, \n",
    "    'pull-to-submit': d - b,\n",
    "    'start-to-finish': d - a,\n",
    "    'finish_walltime': d - log_data.datetime.min()\n",
    "} for a, b, c, d in zip(push_records.datetime, receive_record.datetime, pull_records.datetime, start_records.datetime))"
   ]
  },
  {
   "cell_type": "markdown",
   "metadata": {},
   "source": [
    "Compute the time between submit"
   ]
  },
  {
   "cell_type": "code",
   "execution_count": 8,
   "metadata": {},
   "outputs": [],
   "source": [
    "data['time-to-pull'] = data['time_received'].iloc[1:] - data['finish_walltime'].iloc[:-1].values"
   ]
  },
  {
   "cell_type": "code",
   "execution_count": 9,
   "metadata": {},
   "outputs": [
    {
     "data": {
      "text/html": [
       "<div>\n",
       "<style scoped>\n",
       "    .dataframe tbody tr th:only-of-type {\n",
       "        vertical-align: middle;\n",
       "    }\n",
       "\n",
       "    .dataframe tbody tr th {\n",
       "        vertical-align: top;\n",
       "    }\n",
       "\n",
       "    .dataframe thead th {\n",
       "        text-align: right;\n",
       "    }\n",
       "</style>\n",
       "<table border=\"1\" class=\"dataframe\">\n",
       "  <thead>\n",
       "    <tr style=\"text-align: right;\">\n",
       "      <th></th>\n",
       "      <th>start_walltime</th>\n",
       "      <th>time_received</th>\n",
       "      <th>push-to-pull</th>\n",
       "      <th>time-to-decode</th>\n",
       "      <th>time-to-submit</th>\n",
       "      <th>pull-to-submit</th>\n",
       "      <th>start-to-finish</th>\n",
       "      <th>finish_walltime</th>\n",
       "      <th>time-to-pull</th>\n",
       "    </tr>\n",
       "  </thead>\n",
       "  <tbody>\n",
       "    <tr>\n",
       "      <th>count</th>\n",
       "      <td>5689.000000</td>\n",
       "      <td>5689.000000</td>\n",
       "      <td>5689.000000</td>\n",
       "      <td>5689.000000</td>\n",
       "      <td>5689.000000</td>\n",
       "      <td>5689.000000</td>\n",
       "      <td>5689.000000</td>\n",
       "      <td>5689.000000</td>\n",
       "      <td>5688.000000</td>\n",
       "    </tr>\n",
       "    <tr>\n",
       "      <th>mean</th>\n",
       "      <td>369.347117</td>\n",
       "      <td>369.893131</td>\n",
       "      <td>0.546014</td>\n",
       "      <td>0.001386</td>\n",
       "      <td>0.016034</td>\n",
       "      <td>0.017420</td>\n",
       "      <td>0.563434</td>\n",
       "      <td>369.910551</td>\n",
       "      <td>0.088356</td>\n",
       "    </tr>\n",
       "    <tr>\n",
       "      <th>std</th>\n",
       "      <td>153.761954</td>\n",
       "      <td>153.833304</td>\n",
       "      <td>0.503511</td>\n",
       "      <td>0.003584</td>\n",
       "      <td>0.022074</td>\n",
       "      <td>0.023464</td>\n",
       "      <td>0.504785</td>\n",
       "      <td>153.836685</td>\n",
       "      <td>2.318068</td>\n",
       "    </tr>\n",
       "    <tr>\n",
       "      <th>min</th>\n",
       "      <td>0.128000</td>\n",
       "      <td>3.157000</td>\n",
       "      <td>-0.004000</td>\n",
       "      <td>0.000000</td>\n",
       "      <td>0.003000</td>\n",
       "      <td>0.003000</td>\n",
       "      <td>0.002000</td>\n",
       "      <td>3.177000</td>\n",
       "      <td>0.000000</td>\n",
       "    </tr>\n",
       "    <tr>\n",
       "      <th>25%</th>\n",
       "      <td>268.021000</td>\n",
       "      <td>268.327000</td>\n",
       "      <td>0.033000</td>\n",
       "      <td>0.000000</td>\n",
       "      <td>0.004000</td>\n",
       "      <td>0.004000</td>\n",
       "      <td>0.055000</td>\n",
       "      <td>268.367000</td>\n",
       "      <td>0.000000</td>\n",
       "    </tr>\n",
       "    <tr>\n",
       "      <th>50%</th>\n",
       "      <td>380.525000</td>\n",
       "      <td>382.034000</td>\n",
       "      <td>0.471000</td>\n",
       "      <td>0.001000</td>\n",
       "      <td>0.004000</td>\n",
       "      <td>0.005000</td>\n",
       "      <td>0.490000</td>\n",
       "      <td>382.038000</td>\n",
       "      <td>0.001000</td>\n",
       "    </tr>\n",
       "    <tr>\n",
       "      <th>75%</th>\n",
       "      <td>493.498000</td>\n",
       "      <td>494.659000</td>\n",
       "      <td>0.893000</td>\n",
       "      <td>0.001000</td>\n",
       "      <td>0.025000</td>\n",
       "      <td>0.027000</td>\n",
       "      <td>0.912000</td>\n",
       "      <td>494.663000</td>\n",
       "      <td>0.014000</td>\n",
       "    </tr>\n",
       "    <tr>\n",
       "      <th>max</th>\n",
       "      <td>604.794000</td>\n",
       "      <td>604.825000</td>\n",
       "      <td>3.029000</td>\n",
       "      <td>0.139000</td>\n",
       "      <td>0.431000</td>\n",
       "      <td>0.433000</td>\n",
       "      <td>3.049000</td>\n",
       "      <td>604.828000</td>\n",
       "      <td>172.955000</td>\n",
       "    </tr>\n",
       "  </tbody>\n",
       "</table>\n",
       "</div>"
      ],
      "text/plain": [
       "       start_walltime  time_received  push-to-pull  time-to-decode  \\\n",
       "count     5689.000000    5689.000000   5689.000000     5689.000000   \n",
       "mean       369.347117     369.893131      0.546014        0.001386   \n",
       "std        153.761954     153.833304      0.503511        0.003584   \n",
       "min          0.128000       3.157000     -0.004000        0.000000   \n",
       "25%        268.021000     268.327000      0.033000        0.000000   \n",
       "50%        380.525000     382.034000      0.471000        0.001000   \n",
       "75%        493.498000     494.659000      0.893000        0.001000   \n",
       "max        604.794000     604.825000      3.029000        0.139000   \n",
       "\n",
       "       time-to-submit  pull-to-submit  start-to-finish  finish_walltime  \\\n",
       "count     5689.000000     5689.000000      5689.000000      5689.000000   \n",
       "mean         0.016034        0.017420         0.563434       369.910551   \n",
       "std          0.022074        0.023464         0.504785       153.836685   \n",
       "min          0.003000        0.003000         0.002000         3.177000   \n",
       "25%          0.004000        0.004000         0.055000       268.367000   \n",
       "50%          0.004000        0.005000         0.490000       382.038000   \n",
       "75%          0.025000        0.027000         0.912000       494.663000   \n",
       "max          0.431000        0.433000         3.049000       604.828000   \n",
       "\n",
       "       time-to-pull  \n",
       "count   5688.000000  \n",
       "mean       0.088356  \n",
       "std        2.318068  \n",
       "min        0.000000  \n",
       "25%        0.000000  \n",
       "50%        0.001000  \n",
       "75%        0.014000  \n",
       "max      172.955000  "
      ]
     },
     "execution_count": 9,
     "metadata": {},
     "output_type": "execute_result"
    }
   ],
   "source": [
    "data.describe()"
   ]
  },
  {
   "cell_type": "code",
   "execution_count": 10,
   "metadata": {},
   "outputs": [
    {
     "data": {
      "text/plain": [
       "Text(0.5, 0, 'Walltime (s)')"
      ]
     },
     "execution_count": 10,
     "metadata": {},
     "output_type": "execute_result"
    },
    {
     "data": {
      "image/png": "[encoded data removed]",
      "text/plain": [
       "<Figure size 252x180 with 1 Axes>"
      ]
     },
     "metadata": {
      "needs_background": "light"
     },
     "output_type": "display_data"
    }
   ],
   "source": [
    "fig, ax = plt.subplots(figsize=(3.5, 2.5))\n",
    "\n",
    "\n",
    "ax.scatter(data['start_walltime'], data['start-to-finish'], s=0.7, label='total')\n",
    "ax.scatter(data['start_walltime'], data['time-to-pull'], s=0.7, label='redis')\n",
    "ax.scatter(data['start_walltime'], data['time-to-decode'], s=0.7, label='parsl')\n",
    "ax.scatter(data['start_walltime'], data['time-to-submit'], s=0.7, label='decode')\n",
    "\n",
    "ax.set_xlim(193, 210)\n",
    "ax.set_ylim(0, 0.5)\n",
    "ax.legend(ncol=3)\n",
    "\n",
    "ax.set_ylabel('Time (s)')\n",
    "ax.set_xlabel('Walltime (s)')"
   ]
  },
  {
   "cell_type": "markdown",
   "metadata": {},
   "source": [
    "*Finding*: Our time to complete each task are only mildly affected by how busy the system is. The long \"time to submit\" (blue) can be explained by us submitting tasks to Colmena faster than we can clear them, which remains a constant 50ms per task (200 tasks/s)"
   ]
  },
  {
   "cell_type": "code",
   "execution_count": null,
   "metadata": {},
   "outputs": [],
   "source": []
  }
 ],
 "metadata": {
  "kernelspec": {
   "display_name": "edw",
   "language": "python",
   "name": "edw"
  },
  "language_info": {
   "codemirror_mode": {
    "name": "ipython",
    "version": 3
   },
   "file_extension": ".py",
   "mimetype": "text/x-python",
   "name": "python",
   "nbconvert_exporter": "python",
   "pygments_lexer": "ipython3",
   "version": "3.7.9"
  }
 },
 "nbformat": 4,
 "nbformat_minor": 4
}
