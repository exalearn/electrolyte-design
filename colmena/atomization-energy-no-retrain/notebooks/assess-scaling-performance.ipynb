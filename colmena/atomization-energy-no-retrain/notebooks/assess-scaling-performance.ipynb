{
 "cells": [
  {
   "cell_type": "markdown",
   "metadata": {},
   "source": [
    "# Assess Scaling Performance\n",
    "Assess the scaling performance of \"screen-then-evaluate\" application"
   ]
  },
  {
   "cell_type": "code",
   "execution_count": 2,
   "metadata": {},
   "outputs": [],
   "source": [
    "%matplotlib inline\n",
    "from matplotlib import pyplot as plt\n",
    "from datetime import datetime\n",
    "import pandas as pd\n",
    "import numpy as np\n",
    "import json\n",
    "import os"
   ]
  },
  {
   "cell_type": "markdown",
   "metadata": {},
   "source": [
    "## Load in the Scaling Runs\n",
    "We have a list of runs stored in a local folder. Let's get a summary of each"
   ]
  },
  {
   "cell_type": "code",
   "execution_count": 3,
   "metadata": {},
   "outputs": [],
   "source": [
    "run_summary = []\n",
    "for d in os.listdir(\"scaling-runs\"):\n",
    "    with open(os.path.join(\"scaling-runs\", d, \"run_params.json\")) as fp:\n",
    "        record = json.load(fp)\n",
    "    record[\"study\"] = d.split(\"-\")[-1]\n",
    "    record[\"name\"] = d\n",
    "    record[\"path\"] = os.path.join(\"scaling-runs\", d)\n",
    "    run_summary.append(record)\n",
    "run_summary = pd.DataFrame(run_summary)"
   ]
  },
  {
   "cell_type": "code",
   "execution_count": 4,
   "metadata": {},
   "outputs": [
    {
     "data": {
      "text/html": [
       "<div>\n",
       "<style scoped>\n",
       "    .dataframe tbody tr th:only-of-type {\n",
       "        vertical-align: middle;\n",
       "    }\n",
       "\n",
       "    .dataframe tbody tr th {\n",
       "        vertical-align: top;\n",
       "    }\n",
       "\n",
       "    .dataframe thead th {\n",
       "        text-align: right;\n",
       "    }\n",
       "</style>\n",
       "<table border=\"1\" class=\"dataframe\">\n",
       "  <thead>\n",
       "    <tr style=\"text-align: right;\">\n",
       "      <th></th>\n",
       "      <th>nnodes</th>\n",
       "      <th>qc_parallelism</th>\n",
       "      <th>qc_workers</th>\n",
       "      <th>sampling_fraction</th>\n",
       "      <th>study</th>\n",
       "    </tr>\n",
       "  </thead>\n",
       "  <tbody>\n",
       "    <tr>\n",
       "      <th>0</th>\n",
       "      <td>128</td>\n",
       "      <td>2</td>\n",
       "      <td>64</td>\n",
       "      <td>0.0100</td>\n",
       "      <td>strong</td>\n",
       "    </tr>\n",
       "    <tr>\n",
       "      <th>1</th>\n",
       "      <td>8</td>\n",
       "      <td>2</td>\n",
       "      <td>4</td>\n",
       "      <td>0.0100</td>\n",
       "      <td>strong</td>\n",
       "    </tr>\n",
       "    <tr>\n",
       "      <th>2</th>\n",
       "      <td>8</td>\n",
       "      <td>2</td>\n",
       "      <td>4</td>\n",
       "      <td>0.0008</td>\n",
       "      <td>weak</td>\n",
       "    </tr>\n",
       "    <tr>\n",
       "      <th>3</th>\n",
       "      <td>128</td>\n",
       "      <td>2</td>\n",
       "      <td>64</td>\n",
       "      <td>0.0128</td>\n",
       "      <td>weak</td>\n",
       "    </tr>\n",
       "    <tr>\n",
       "      <th>4</th>\n",
       "      <td>256</td>\n",
       "      <td>2</td>\n",
       "      <td>128</td>\n",
       "      <td>0.0100</td>\n",
       "      <td>strong</td>\n",
       "    </tr>\n",
       "    <tr>\n",
       "      <th>5</th>\n",
       "      <td>2</td>\n",
       "      <td>2</td>\n",
       "      <td>1</td>\n",
       "      <td>0.0100</td>\n",
       "      <td>strong</td>\n",
       "    </tr>\n",
       "    <tr>\n",
       "      <th>6</th>\n",
       "      <td>2</td>\n",
       "      <td>2</td>\n",
       "      <td>1</td>\n",
       "      <td>0.0002</td>\n",
       "      <td>weak</td>\n",
       "    </tr>\n",
       "    <tr>\n",
       "      <th>7</th>\n",
       "      <td>256</td>\n",
       "      <td>2</td>\n",
       "      <td>128</td>\n",
       "      <td>0.0256</td>\n",
       "      <td>weak</td>\n",
       "    </tr>\n",
       "  </tbody>\n",
       "</table>\n",
       "</div>"
      ],
      "text/plain": [
       "   nnodes  qc_parallelism  qc_workers  sampling_fraction   study\n",
       "0     128               2          64             0.0100  strong\n",
       "1       8               2           4             0.0100  strong\n",
       "2       8               2           4             0.0008    weak\n",
       "3     128               2          64             0.0128    weak\n",
       "4     256               2         128             0.0100  strong\n",
       "5       2               2           1             0.0100  strong\n",
       "6       2               2           1             0.0002    weak\n",
       "7     256               2         128             0.0256    weak"
      ]
     },
     "execution_count": 4,
     "metadata": {},
     "output_type": "execute_result"
    }
   ],
   "source": [
    "run_summary[['nnodes', 'qc_parallelism', 'qc_workers', 'sampling_fraction', 'study']]"
   ]
  },
  {
   "cell_type": "markdown",
   "metadata": {},
   "source": [
    "## Compute Some Basic Information about the Runs\n",
    "Things that we are going to use in later analyses"
   ]
  },
  {
   "cell_type": "code",
   "execution_count": 5,
   "metadata": {},
   "outputs": [],
   "source": [
    "def start_time(path):\n",
    "    \"\"\"Get the start time for a run\"\"\"\n",
    "    with open(os.path.join(path, \"runtime.log\")) as fp:\n",
    "        first_line = fp.readline()\n",
    "    return datetime.strptime(first_line.split(\" - \")[0], \"%Y-%m-%d %H:%M:%S,%f\").timestamp()"
   ]
  },
  {
   "cell_type": "code",
   "execution_count": 6,
   "metadata": {},
   "outputs": [],
   "source": [
    "run_summary[\"start_time\"] = run_summary[\"path\"].apply(start_time)"
   ]
  },
  {
   "cell_type": "markdown",
   "metadata": {},
   "source": [
    "## Assess the Inference Tasks\n",
    "The first tasks relate to how long it taks to evaluate the search space"
   ]
  },
  {
   "cell_type": "code",
   "execution_count": 7,
   "metadata": {},
   "outputs": [],
   "source": [
    "screen_results = run_summary[[\"name\", \"path\", \"nnodes\", \"start_time\", \"study\"]].copy().sort_values(\"nnodes\")"
   ]
  },
  {
   "cell_type": "markdown",
   "metadata": {},
   "source": [
    "Compute the time until first task starts and completes on compute node"
   ]
  },
  {
   "cell_type": "code",
   "execution_count": 8,
   "metadata": {},
   "outputs": [],
   "source": [
    "def compute_start(path):\n",
    "    screen_results = pd.read_json(os.path.join(path, \"inference_records.jsonld\"), lines=True)\n",
    "    return screen_results[\"time_compute_started\"].min() "
   ]
  },
  {
   "cell_type": "code",
   "execution_count": 9,
   "metadata": {},
   "outputs": [],
   "source": [
    "screen_results[\"first_compute_start\"] = screen_results[\"path\"].apply(compute_start) - screen_results[\"start_time\"]"
   ]
  },
  {
   "cell_type": "code",
   "execution_count": 10,
   "metadata": {},
   "outputs": [],
   "source": [
    "def first_complete(path):\n",
    "    screen_results = pd.read_json(os.path.join(path, \"inference_records.jsonld\"), lines=True)\n",
    "    return screen_results[\"time_result_received\"].min() "
   ]
  },
  {
   "cell_type": "code",
   "execution_count": 11,
   "metadata": {},
   "outputs": [],
   "source": [
    "screen_results[\"first_compute_complete\"] = screen_results[\"path\"].apply(first_complete) - screen_results[\"start_time\"]"
   ]
  },
  {
   "cell_type": "markdown",
   "metadata": {},
   "source": [
    "Get the number and time required for evaluation"
   ]
  },
  {
   "cell_type": "code",
   "execution_count": 12,
   "metadata": {},
   "outputs": [],
   "source": [
    "def total_count(path):\n",
    "    screen_results = pd.read_json(os.path.join(path, \"inference_records.jsonld\"), lines=True)\n",
    "    return screen_results[\"task_info\"].apply(lambda x: x[\"chunk_size\"]).sum()\n",
    "screen_results[\"num_screened\"] = screen_results[\"path\"].apply(total_count)"
   ]
  },
  {
   "cell_type": "code",
   "execution_count": 13,
   "metadata": {},
   "outputs": [],
   "source": [
    "def time_complete(path):\n",
    "    screen_results = pd.read_json(os.path.join(path, \"inference_records.jsonld\"), lines=True)\n",
    "    return screen_results[\"time_result_received\"].max()\n",
    "screen_results[\"time_complete\"] = screen_results[\"path\"].apply(time_complete) - screen_results[\"start_time\"]"
   ]
  },
  {
   "cell_type": "markdown",
   "metadata": {},
   "source": [
    "Get the overhead statistics"
   ]
  },
  {
   "cell_type": "code",
   "execution_count": 14,
   "metadata": {},
   "outputs": [],
   "source": [
    "overhead_results = []\n",
    "for p, n in screen_results[[\"path\", \"nnodes\"]].values:\n",
    "    data = pd.read_json(os.path.join(p, \"inference_records.jsonld\"), lines=True).sort_values('time_created').iloc[n:]\n",
    "    overhead_results.append({\n",
    "        'client_to_method-server': (data['time_input_received'] - (data['time_created'] + data['time_serialize_inputs'])).median(),\n",
    "        'worker_to_method-server': (data['time_result_sent'] - (data['time_compute_started']\n",
    "                                                                  + data['time_running']\n",
    "                                                                  + data['time_deserialize_inputs']\n",
    "                                                                  + data['time_serialize_results'])).median(),\n",
    "        'method-server_to_client': (data['time_result_received'] - (data['time_result_sent'] + data['time_deserialize_results'])).median(),\n",
    "        'serialization': data[[c for c in data.columns if c.startswith('time_') and 'serialize' in c]].sum(axis=1).median()\n",
    "    })\n",
    "overhead_cols = list(overhead_results[0].keys())\n",
    "screen_results = pd.concat([screen_results, pd.DataFrame(overhead_results)], axis=1).sort_values('nnodes')"
   ]
  },
  {
   "cell_type": "markdown",
   "metadata": {},
   "source": [
    "Get the time to load the ML workers"
   ]
  },
  {
   "cell_type": "code",
   "execution_count": 27,
   "metadata": {},
   "outputs": [],
   "source": [
    "def get_worker_start_times(path):\n",
    "    \"\"\"Get the median time until workers first reports\"\"\"\n",
    "    # Get the log records that are Parsl starting or a worker starting\n",
    "    with open(os.path.join(path, 'runtime.log')) as fp:\n",
    "        log_lines = [l.split(\" - \")[0] for l in fp if '[MAIN] Adding manager' in l]\n",
    "    \n",
    "    # Compute the start time\n",
    "    times = [datetime.strptime(x, '%Y-%m-%d %H:%M:%S,%f').timestamp() for x in log_lines]\n",
    "    return np.percentile(times, 50)\n",
    "screen_results['time_to_worker_start'] = screen_results['path'].apply(get_worker_start_times) - screen_results['start_time']"
   ]
  },
  {
   "cell_type": "markdown",
   "metadata": {},
   "source": [
    "Estimate the TF load time as the time between the median worker starting and the median computation start.\n",
    "Each worker must unpickle the function before starting computations, which requires loading Tensorflow."
   ]
  },
  {
   "cell_type": "code",
   "execution_count": 30,
   "metadata": {},
   "outputs": [],
   "source": [
    "def get_tf_load_times(record):\n",
    "    data = pd.read_json(os.path.join(record[\"path\"], \"inference_records.jsonld\"), lines=True).sort_values('time_compute_started')[:record[\"nnodes\"]]\n",
    "    return data[\"time_compute_started\"].median()\n",
    "screen_results['tf_load_time'] = screen_results.apply(get_tf_load_times, axis=1) - screen_results['time_to_worker_start'] - screen_results['start_time']"
   ]
  },
  {
   "cell_type": "markdown",
   "metadata": {},
   "source": [
    "### Make Plots\n",
    "\n",
    "Plot the evaluation rates"
   ]
  },
  {
   "cell_type": "code",
   "execution_count": 14,
   "metadata": {},
   "outputs": [
    {
     "data": {
      "text/plain": [
       "<matplotlib.legend.Legend at 0x7fc6401deb10>"
      ]
     },
     "execution_count": 14,
     "metadata": {},
     "output_type": "execute_result"
    },
    {
     "data": {
      "image/png": "[encoded data removed]",
      "text/plain": [
       "<Figure size 252x180 with 1 Axes>"
      ]
     },
     "metadata": {
      "needs_background": "light"
     },
     "output_type": "display_data"
    }
   ],
   "source": [
    "fig, ax = plt.subplots(figsize=(3.5, 2.5), sharey=True)\n",
    "\n",
    "for gid, group in screen_results.groupby(\"study\"):\n",
    "\n",
    "    # Eval rate from logging start\n",
    "    ax.loglog(group[\"nnodes\"], group[\"num_screened\"] / group[\"time_complete\"], 'o--', label=gid)\n",
    "\n",
    "    # Plot the baseline\n",
    "    smallest_run = group.iloc[0]\n",
    "    baseline_rate = smallest_run[\"num_screened\"] / smallest_run[\"time_complete\"] / smallest_run[\"nnodes\"]\n",
    "\n",
    "    # Put the ideal\n",
    "    ax.set_xlim(ax.get_xlim())\n",
    "    ax.plot(ax.get_xlim(), np.multiply(baseline_rate, ax.get_xlim()), 'k', lw=0.5)\n",
    "\n",
    "ax.set_ylabel(\"Eval. Rate (mol/s)\")\n",
    "ax.set_xlabel(\"Node Count\")\n",
    "ax.legend()"
   ]
  },
  {
   "cell_type": "markdown",
   "metadata": {},
   "source": [
    "Most of this time is probably start up costs"
   ]
  },
  {
   "cell_type": "code",
   "execution_count": 15,
   "metadata": {},
   "outputs": [
    {
     "data": {
      "text/plain": [
       "<matplotlib.legend.Legend at 0x7fc61d3fe710>"
      ]
     },
     "execution_count": 15,
     "metadata": {},
     "output_type": "execute_result"
    },
    {
     "data": {
      "image/png": "[encoded data removed]",
      "text/plain": [
       "<Figure size 252x180 with 1 Axes>"
      ]
     },
     "metadata": {
      "needs_background": "light"
     },
     "output_type": "display_data"
    }
   ],
   "source": [
    "fig, ax = plt.subplots(figsize=(3.5, 2.5))\n",
    "\n",
    "for gid, group in screen_results.groupby(\"study\"):\n",
    "    ax.semilogx(group[\"nnodes\"], group[\"first_compute_start\"] / group[\"time_complete\"], 'o--', label=gid)\n",
    "\n",
    "ax.set_ylabel(\"Fraction Startup\")\n",
    "ax.set_xlabel(\"Node Count\")\n",
    "ax.legend()"
   ]
  },
  {
   "cell_type": "code",
   "execution_count": 24,
   "metadata": {},
   "outputs": [
    {
     "data": {
      "text/plain": [
       "<matplotlib.legend.Legend at 0x7fc61d3511d0>"
      ]
     },
     "execution_count": 24,
     "metadata": {},
     "output_type": "execute_result"
    },
    {
     "data": {
      "image/png": "[encoded data removed]",
      "text/plain": [
       "<Figure size 252x180 with 1 Axes>"
      ]
     },
     "metadata": {
      "needs_background": "light"
     },
     "output_type": "display_data"
    }
   ],
   "source": [
    "fig, ax = plt.subplots(figsize=(3.5, 2.5))\n",
    "\n",
    "subset = screen_results.query(\"study=='weak'\")\n",
    "for c in overhead_cols:\n",
    "    ax.loglog(subset[\"nnodes\"], subset[c], label=c.replace(\"_to_\", \"->\").replace('method-server', 'server'))\n",
    "    \n",
    "ax.set_ylabel(\"Overhead Time (s)\")\n",
    "ax.set_xlabel(\"Node Count\")\n",
    "ax.legend()"
   ]
  },
  {
   "cell_type": "markdown",
   "metadata": {},
   "source": [
    "Time to launch Parsl workers and for them to load TF"
   ]
  },
  {
   "cell_type": "code",
   "execution_count": 34,
   "metadata": {},
   "outputs": [
    {
     "data": {
      "text/plain": [
       "<matplotlib.legend.Legend at 0x7f70b554bb90>"
      ]
     },
     "execution_count": 34,
     "metadata": {},
     "output_type": "execute_result"
    },
    {
     "data": {
      "image/png": "[encoded data removed]",
      "text/plain": [
       "<Figure size 252x180 with 1 Axes>"
      ]
     },
     "metadata": {
      "needs_background": "light"
     },
     "output_type": "display_data"
    }
   ],
   "source": [
    "fig, ax = plt.subplots(figsize=(3.5, 2.5))\n",
    "\n",
    "subset = screen_results.query(\"study=='weak'\")\n",
    "ax.semilogx(subset[\"nnodes\"], subset['tf_load_time'], label='TF Load')\n",
    "ax.semilogx(subset[\"nnodes\"], subset['time_to_worker_start'], label='Worker Start')\n",
    "    \n",
    "ax.set_ylabel(\"Time (s)\")\n",
    "ax.set_xlabel(\"Node Count\")\n",
    "ax.legend()"
   ]
  },
  {
   "cell_type": "markdown",
   "metadata": {},
   "source": [
    "## Dig into to scaling performance\n",
    "Try to determine where the bottlenecks are\n",
    "\n",
    "Plot a trace of the \"client-server\" runs over time"
   ]
  },
  {
   "cell_type": "code",
   "execution_count": 34,
   "metadata": {},
   "outputs": [],
   "source": [
    "run = subset.query('nnodes==256').iloc[0]\n",
    "data = pd.read_json(os.path.join(run['path'], 'inference_records.jsonld'), lines=True)\n",
    "data['walltime'] = data['time_created'] - data['time_created'].min()\n",
    "data['client-to-server'] = data['time_input_received'] - (data['time_created'] + data['time_serialize_inputs'])"
   ]
  },
  {
   "cell_type": "code",
   "execution_count": 41,
   "metadata": {},
   "outputs": [
    {
     "data": {
      "text/plain": [
       "Text(0, 0.5, 'Client->Server Time (s)')"
      ]
     },
     "execution_count": 41,
     "metadata": {},
     "output_type": "execute_result"
    },
    {
     "data": {
      "image/png": "[encoded data removed]",
      "text/plain": [
       "<Figure size 252x180 with 1 Axes>"
      ]
     },
     "metadata": {
      "needs_background": "light"
     },
     "output_type": "display_data"
    }
   ],
   "source": [
    "fig, ax = plt.subplots(figsize=(3.5, 2.5))\n",
    "\n",
    "ax.scatter(data['walltime'], data['client-to-server'], s=0.6)\n",
    "#ax.set_xlim(0, 4)\n",
    "ax.set_xlabel('Walltime')\n",
    "ax.set_ylabel('Client->Server Time (s)')"
   ]
  },
  {
   "cell_type": "markdown",
   "metadata": {},
   "source": [
    "We do assemble a sizeable backlog of tasks waiting in Redis to be submitted to compute resources. Maybe need to make the chunk size per task larger"
   ]
  },
  {
   "cell_type": "markdown",
   "metadata": {},
   "source": [
    "## QC Computation Scaling\n",
    "At least see if the overhead changes, measuring the performance of the individual NWChem calcualtions is beyond our efforts for now"
   ]
  },
  {
   "cell_type": "code",
   "execution_count": 20,
   "metadata": {},
   "outputs": [],
   "source": [
    "simulate_results = run_summary[[\"name\", \"path\", \"nnodes\", \"start_time\", \"study\"]].copy().sort_values(\"nnodes\")"
   ]
  },
  {
   "cell_type": "markdown",
   "metadata": {},
   "source": [
    "Get the overhead times"
   ]
  },
  {
   "cell_type": "code",
   "execution_count": 21,
   "metadata": {},
   "outputs": [],
   "source": [
    "overhead_results = []\n",
    "for p, n in simulate_results[[\"path\", \"nnodes\"]].values:\n",
    "    data_path = os.path.join(p, \"simulation_records.jsonld\")\n",
    "    if not os.path.isfile(data_path):\n",
    "        continue\n",
    "    data = pd.read_json(data_path, lines=True).sort_values('time_created')\n",
    "    overhead_results.append({\n",
    "        'path': p,\n",
    "        'client_to_method-server': (data['time_input_received'] - (data['time_created'] + data['time_serialize_inputs'])).median(),\n",
    "        'worker_to_method-server': (data['time_result_sent'] - (data['time_compute_started']\n",
    "                                                                  + data['time_running']\n",
    "                                                                  + data['time_deserialize_inputs']\n",
    "                                                                  + data['time_serialize_results'])).median(),\n",
    "        'method-server_to_client': (data['time_result_received'] - (data['time_result_sent'] + data['time_deserialize_results'])).median(),\n",
    "        'serialization': data[[c for c in data.columns if c.startswith('time_') and 'serialize' in c]].sum(axis=1).median()\n",
    "    })\n",
    "overhead_cols = list(overhead_results[0].keys())\n",
    "overhead_cols.remove(\"path\")"
   ]
  },
  {
   "cell_type": "code",
   "execution_count": 22,
   "metadata": {},
   "outputs": [],
   "source": [
    "simulate_results = simulate_results.merge(pd.DataFrame(overhead_results), on='path')"
   ]
  },
  {
   "cell_type": "code",
   "execution_count": 42,
   "metadata": {},
   "outputs": [
    {
     "data": {
      "text/plain": [
       "<matplotlib.legend.Legend at 0x7fc61ceac210>"
      ]
     },
     "execution_count": 42,
     "metadata": {},
     "output_type": "execute_result"
    },
    {
     "data": {
      "image/png": "[encoded data removed]",
      "text/plain": [
       "<Figure size 252x180 with 1 Axes>"
      ]
     },
     "metadata": {
      "needs_background": "light"
     },
     "output_type": "display_data"
    }
   ],
   "source": [
    "fig, ax = plt.subplots(figsize=(3.5, 2.5))\n",
    "\n",
    "subset = simulate_results.query(\"study=='weak'\")\n",
    "for c in overhead_cols:\n",
    "    ax.loglog(subset[\"nnodes\"], subset[c], label=c.replace(\"_to_\", \"->\").replace('method-server', 'server'))\n",
    "    \n",
    "ax.set_ylabel(\"Overhead Time (s)\")\n",
    "ax.set_xlabel(\"Node Count\")\n",
    "ax.legend()"
   ]
  },
  {
   "cell_type": "markdown",
   "metadata": {},
   "source": [
    "Again, the time it takes to submit tasks is the rate-limiting step."
   ]
  },
  {
   "cell_type": "code",
   "execution_count": null,
   "metadata": {},
   "outputs": [],
   "source": []
  }
 ],
 "metadata": {
  "kernelspec": {
   "display_name": "edw",
   "language": "python",
   "name": "edw"
  },
  "language_info": {
   "codemirror_mode": {
    "name": "ipython",
    "version": 3
   },
   "file_extension": ".py",
   "mimetype": "text/x-python",
   "name": "python",
   "nbconvert_exporter": "python",
   "pygments_lexer": "ipython3",
   "version": "3.7.9"
  }
 },
 "nbformat": 4,
 "nbformat_minor": 4
}
