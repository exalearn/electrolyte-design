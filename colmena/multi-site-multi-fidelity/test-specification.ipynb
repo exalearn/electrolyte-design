{
 "cells": [
  {
   "cell_type": "markdown",
   "id": "512648cc-45d0-4648-808a-d2bd63a1931c",
   "metadata": {},
   "source": [
    "# Test out Specification\n",
    "We provide a specification object for the various steps in our multi-fidelity search as well as the models needed to calibrate the results of lower-fidelity step.\n",
    "\n",
    "This notebooks makes sure a specification parses correctly and ensures the utility operations work"
   ]
  },
  {
   "cell_type": "code",
   "execution_count": 1,
   "id": "0e0c38df-2e29-4dd2-ae39-1f9d312078a6",
   "metadata": {},
   "outputs": [
    {
     "name": "stderr",
     "output_type": "stream",
     "text": [
      "C:\\Users\\ward6\\Miniconda3\\envs\\edw\\lib\\site-packages\\tqdm\\auto.py:22: TqdmWarning: IProgress not found. Please update jupyter and ipywidgets. See https://ipywidgets.readthedocs.io/en/stable/user_install.html\n",
      "  from .autonotebook import tqdm as notebook_tqdm\n",
      "RDKit WARNING: [11:08:42] Enabling RDKit 2019.09.3 jupyter extensions\n"
     ]
    }
   ],
   "source": [
    "from moldesign.specify import MultiFidelitySearchSpecification\n",
    "from moldesign.store.mongo import MoleculePropertyDB\n",
    "import yaml"
   ]
  },
  {
   "cell_type": "markdown",
   "id": "cc5a8ff0-cef2-4429-8216-b38bdb390f51",
   "metadata": {},
   "source": [
    "## Load the spec\n",
    "Make sure it parses and generate some derived properties"
   ]
  },
  {
   "cell_type": "code",
   "execution_count": 2,
   "id": "ceaf04ef-a8a2-40ec-90b3-19e41cd4d581",
   "metadata": {},
   "outputs": [
    {
     "data": {
      "text/plain": [
       "MultiFidelitySearchSpecification(oxidation_state=<OxidationState.OXIDIZED: 'oxidized'>, target_level='nob-acn-smb-geom', model_levels=[ModelEnsemble(base_fidelity='smb-vacuum-vertical', model_type=<ModelType.SCHNET: 'schnet'>, model_pattern='../../ai-components/ip-multi-fidelity/ip-acn-nob-adia-smb/adiabatic/**/best_model', max_models=8, calibration=1.0, model_paths_=())], base_model=ModelEnsemble(base_fidelity=None, model_type=<ModelType.MPNN: 'mpnn'>, model_pattern='../../ai-components/ip-multi-fidelity/ip-acn-nob-adia-smb/vertical/**/best_model.h5', max_models=8, calibration=1, model_paths_=()))"
      ]
     },
     "execution_count": 2,
     "metadata": {},
     "output_type": "execute_result"
    }
   ],
   "source": [
    "with open('model-spec.yaml') as fp:\n",
    "    spec = MultiFidelitySearchSpecification.parse_obj(yaml.safe_load(fp))\n",
    "spec"
   ]
  },
  {
   "cell_type": "markdown",
   "id": "1cdd0f22-db21-4005-9acb-ed41df3d20bc",
   "metadata": {},
   "source": [
    "Get the levels"
   ]
  },
  {
   "cell_type": "code",
   "execution_count": 3,
   "id": "a3943ab4-fc5c-40ab-9d59-d42788c3635f",
   "metadata": {},
   "outputs": [
    {
     "data": {
      "text/plain": [
       "['smb-vacuum-vertical', 'nob-acn-smb-geom']"
      ]
     },
     "execution_count": 3,
     "metadata": {},
     "output_type": "execute_result"
    }
   ],
   "source": [
    "spec.levels"
   ]
  },
  {
   "cell_type": "markdown",
   "id": "34b5d0e7-f642-4d9d-98c2-9cf955e2631d",
   "metadata": {},
   "source": [
    "Get the target property"
   ]
  },
  {
   "cell_type": "code",
   "execution_count": 4,
   "id": "0bc82a02-0a1b-4727-b665-55b5f1599330",
   "metadata": {},
   "outputs": [
    {
     "data": {
      "text/plain": [
       "'oxidation_potential.nob-acn-smb-geom'"
      ]
     },
     "execution_count": 4,
     "metadata": {},
     "output_type": "execute_result"
    }
   ],
   "source": [
    "spec.target_property"
   ]
  },
  {
   "cell_type": "markdown",
   "id": "5219d4e4-014c-4545-8c71-57c6c75cb47d",
   "metadata": {},
   "source": [
    "## Test gathering the training set\n",
    "One key feature is that we can use the specification to draw the training sets needed for each level."
   ]
  },
  {
   "cell_type": "markdown",
   "id": "afd42554-99de-4eda-a00e-19730a7b85fa",
   "metadata": {},
   "source": [
    "First, connect to MongoDB"
   ]
  },
  {
   "cell_type": "code",
   "execution_count": 5,
   "id": "e1b54af3-5422-4a2f-897c-79781b5ed7af",
   "metadata": {},
   "outputs": [],
   "source": [
    "db = MoleculePropertyDB.from_connection_info(port=27855)"
   ]
  },
  {
   "cell_type": "markdown",
   "id": "c61cb084-db8e-4715-b028-1330d658ce8e",
   "metadata": {},
   "source": [
    "Get the training set used for an MPNN that predicts the target property"
   ]
  },
  {
   "cell_type": "code",
   "execution_count": 6,
   "id": "2cad5ee0-8429-4539-aadb-1d8b924cb324",
   "metadata": {},
   "outputs": [
    {
     "name": "stdout",
     "output_type": "stream",
     "text": [
      "Pulled 3376 molecules for the initial training set\n"
     ]
    }
   ],
   "source": [
    "base_training = spec.get_base_training_set(db)\n",
    "print(f'Pulled {len(base_training)} molecules for the initial training set')"
   ]
  },
  {
   "cell_type": "markdown",
   "id": "9e08ca21-7902-47e4-9302-88c8c1881737",
   "metadata": {},
   "source": [
    "Get for one of the calibration models"
   ]
  },
  {
   "cell_type": "code",
   "execution_count": 7,
   "id": "ba73c912-4c6c-49fc-99e1-2459e265bc0a",
   "metadata": {},
   "outputs": [
    {
     "name": "stdout",
     "output_type": "stream",
     "text": [
      "Pulled 3331 molecules for the initial training set\n"
     ]
    }
   ],
   "source": [
    "base_training = spec.get_calibration_training_set(0, db)\n",
    "print(f'Pulled {len(base_training)} molecules for the initial training set')"
   ]
  },
  {
   "cell_type": "markdown",
   "id": "ff90a413-c034-4b8b-b9fa-65cc946ab84a",
   "metadata": {},
   "source": [
    "## Load the models\n",
    "Show that we can load the models for each level"
   ]
  },
  {
   "cell_type": "code",
   "execution_count": 8,
   "id": "d5180576-1831-49f6-bbb2-2df63a9592f3",
   "metadata": {},
   "outputs": [
    {
     "name": "stdout",
     "output_type": "stream",
     "text": [
      "Found 8 models for the base level\n"
     ]
    }
   ],
   "source": [
    "print(f'Found {len(spec.base_model.model_paths)} models for the base level')"
   ]
  },
  {
   "cell_type": "code",
   "execution_count": 10,
   "id": "6b7e4ac6-c7ff-4bda-b034-5d55764cb311",
   "metadata": {},
   "outputs": [
    {
     "data": {
      "text/plain": [
       "<moldesign.score.mpnn.MPNNMessage at 0x20791f6cd60>"
      ]
     },
     "execution_count": 10,
     "metadata": {},
     "output_type": "execute_result"
    }
   ],
   "source": [
    "next(spec.base_model.load_all_model_messages())"
   ]
  },
  {
   "cell_type": "markdown",
   "id": "11be91ae-15f0-4d30-91a7-7f5260199292",
   "metadata": {},
   "source": [
    "Repeat the process for the next levels"
   ]
  },
  {
   "cell_type": "code",
   "execution_count": 11,
   "id": "1042aa39-5501-4748-ac9f-652bdd55ac1e",
   "metadata": {},
   "outputs": [
    {
     "name": "stdout",
     "output_type": "stream",
     "text": [
      "Found 8 models for smb-vacuum-vertical\n",
      "First model: <moldesign.score.schnet.TorchMessage object at 0x00000207916AEF70>\n"
     ]
    }
   ],
   "source": [
    "for level in spec.model_levels:\n",
    "    print(f'Found {len(level.model_paths)} models for {level.base_fidelity}')\n",
    "    print(f'First model: {next(level.load_all_model_messages())}')"
   ]
  },
  {
   "cell_type": "markdown",
   "id": "b9f5b737-67b6-4ef5-a8ee-05ab7d5eef65",
   "metadata": {},
   "source": [
    "## Preparing for Inference\n",
    "Given a record get the inputs needed for the next step"
   ]
  },
  {
   "cell_type": "markdown",
   "id": "53a33ea4-0360-4f87-9e01-b97773ef58de",
   "metadata": {},
   "source": [
    "Get the full record for a molecule that has not finished all levels of fidelity"
   ]
  },
  {
   "cell_type": "code",
   "execution_count": 12,
   "id": "aca8c154-269f-4a73-b2e1-f9aa78f9e864",
   "metadata": {},
   "outputs": [],
   "source": [
    "record = db.get_eligible_molecule_records(['oxidation_potential.smb-vacuum-vertical'], [spec.target_property])[0]\n",
    "record = db.get_molecule_record(record.key)"
   ]
  },
  {
   "cell_type": "markdown",
   "id": "51b35dd7-1f49-4b4a-939d-ab642df6d2e9",
   "metadata": {},
   "source": [
    "See the highest level completed so far"
   ]
  },
  {
   "cell_type": "code",
   "execution_count": 13,
   "id": "75100fdd-eb8c-480f-8a42-66f5c02fdab6",
   "metadata": {},
   "outputs": [
    {
     "data": {
      "text/plain": [
       "'smb-vacuum-vertical'"
      ]
     },
     "execution_count": 13,
     "metadata": {},
     "output_type": "execute_result"
    }
   ],
   "source": [
    "spec.get_current_step(record)"
   ]
  },
  {
   "cell_type": "markdown",
   "id": "68c54fe6-a723-4375-a6b4-2291f90fe8cc",
   "metadata": {},
   "source": [
    "Get the inputs needed for the calibration model"
   ]
  },
  {
   "cell_type": "code",
   "execution_count": 14,
   "id": "fe14093f-a5b1-4571-88de-eb64939ae5a1",
   "metadata": {},
   "outputs": [
    {
     "data": {
      "text/plain": [
       "('smb-vacuum-vertical',\n",
       " '13\\n0 1 InChI=1S/C3H5N3O2/c4-3-2(1-7)5-6-8-3/h7H,1,4H2_neutral\\nN                     0.205762452359     1.536840246918    -0.805931613138\\nC                     0.910389167616     0.679716572569    -0.046123943213\\nC                     0.374419207421    -0.590489622807     0.334054354851\\nC                    -0.914073356733    -1.148432544046    -0.153505813140\\nO                    -1.948277494540    -0.081423366647    -0.238146307630\\nN                     1.292642791341    -1.175704153662     1.131349865537\\nN                     2.353921905696    -0.621180375622     1.391132538528\\nO                     2.098005547990     0.929770676459     0.438067118103\\nH                    -0.774756798334     1.285990794116    -0.965230323761\\nH                     0.592326505748     2.433486523580    -1.068617752290\\nH                    -1.235985934228    -1.985267824914     0.476944645771\\nH                    -0.849792862226    -1.497562504084    -1.189250468111\\nH                    -2.104581131912     0.234255578021     0.695257682668\\n',\n",
       " 8.304875162936533)"
      ]
     },
     "execution_count": 14,
     "metadata": {},
     "output_type": "execute_result"
    }
   ],
   "source": [
    "spec.get_inference_inputs(record)"
   ]
  },
  {
   "cell_type": "code",
   "execution_count": null,
   "id": "4dc0e65e-abb1-41dc-b47b-e796a735874f",
   "metadata": {},
   "outputs": [],
   "source": []
  }
 ],
 "metadata": {
  "kernelspec": {
   "display_name": "Python 3 (ipykernel)",
   "language": "python",
   "name": "python3"
  },
  "language_info": {
   "codemirror_mode": {
    "name": "ipython",
    "version": 3
   },
   "file_extension": ".py",
   "mimetype": "text/x-python",
   "name": "python",
   "nbconvert_exporter": "python",
   "pygments_lexer": "ipython3",
   "version": "3.8.12"
  }
 },
 "nbformat": 4,
 "nbformat_minor": 5
}
