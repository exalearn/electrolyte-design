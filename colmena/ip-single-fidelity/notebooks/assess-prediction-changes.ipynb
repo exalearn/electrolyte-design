{
 "cells": [
  {
   "cell_type": "markdown",
   "metadata": {},
   "source": [
    "# Assess How Predictions Change\n",
    "Look at the results that are from predictions in each batch, measure errors and look at the variances"
   ]
  },
  {
   "cell_type": "code",
   "execution_count": 1,
   "metadata": {},
   "outputs": [],
   "source": [
    "%matplotlib inline\n",
    "from matplotlib import pyplot as plt\n",
    "from datetime import datetime\n",
    "from pathlib import Path\n",
    "import pandas as pd\n",
    "import numpy as np\n",
    "import json"
   ]
  },
  {
   "cell_type": "markdown",
   "metadata": {},
   "source": [
    "## Load Runs\n",
    "Get the data from the productive-level runs"
   ]
  },
  {
   "cell_type": "code",
   "execution_count": 2,
   "metadata": {},
   "outputs": [],
   "source": [
    "runs = list(Path(\"prod-runs\").glob(\"*\"))"
   ]
  },
  {
   "cell_type": "code",
   "execution_count": 3,
   "metadata": {},
   "outputs": [],
   "source": [
    "def get_run_data(path: Path):\n",
    "    \"\"\"Get the data about a run\n",
    "    \n",
    "    Args:\n",
    "        path: Path to the run\n",
    "    Returns:\n",
    "        (dict) Data about the run\n",
    "    \"\"\"\n",
    "    \n",
    "    # Get the basic information\n",
    "    output = dict(path=path, study=path.name.split(\"_\")[-1])\n",
    "    with open(path.joinpath('run_params.json')) as fp:\n",
    "        run_params = json.load(fp)\n",
    "    output['num_nodes'] = run_params['nnodes']\n",
    "    for k in ['random', 'retrain_frequency']:\n",
    "        output[k] = run_params[k]\n",
    "    \n",
    "    # Get the start-time\n",
    "    with open(path.joinpath('runtime.log')) as fp:\n",
    "        line = fp.readline().strip()\n",
    "        start_time = datetime.strptime(line.split(\" - \")[0].strip(), \"%Y-%m-%d %H:%M:%S,%f\")\n",
    "    \n",
    "    # Get the molecules that were scanned\n",
    "    with open(path.joinpath('moldata-records.json')) as fp:\n",
    "        records = [\n",
    "            json.loads(x)  # First record is the save time\n",
    "            for x in fp\n",
    "        ]\n",
    "        output['time'] = [(datetime.fromtimestamp(x[0]) - start_time).total_seconds() for x in records]\n",
    "        mol_data = [json.loads(x[1]) for x in records]\n",
    "    output['molecules'] = [x['identifier']['smiles'] for x in mol_data]\n",
    "    output['ip'] = [x['oxidation_potential'].get('smb-vacuum') for x in mol_data]\n",
    "    \n",
    "    # Get the predictions and standard deviations for each successful run\n",
    "    sim_records = pd.read_json(path.joinpath('simulation-results.json'), lines=True).query('success')\n",
    "    output['pred_mean'] = sim_records['task_info'].apply(lambda x: x.get('mean')).values\n",
    "    output['pred_std'] = sim_records['task_info'].apply(lambda x: x.get('std')).values\n",
    "    output['pred_batch'] = sim_records['task_info'].apply(lambda x: x.get('batch')).values\n",
    "    return output"
   ]
  },
  {
   "cell_type": "code",
   "execution_count": 4,
   "metadata": {},
   "outputs": [],
   "source": [
    "results = pd.DataFrame([get_run_data(x) for x in runs]).query('not random')"
   ]
  },
  {
   "cell_type": "markdown",
   "metadata": {},
   "source": [
    "## Compare Initial Only vs Retraining\n",
    "See how the predictions change with batch"
   ]
  },
  {
   "cell_type": "code",
   "execution_count": 5,
   "metadata": {},
   "outputs": [],
   "source": [
    "subset = results.query('num_nodes == 256')"
   ]
  },
  {
   "cell_type": "code",
   "execution_count": 6,
   "metadata": {},
   "outputs": [],
   "source": [
    "no_retrain = subset.query('retrain_frequency>=1000').iloc[0]"
   ]
  },
  {
   "cell_type": "code",
   "execution_count": 7,
   "metadata": {},
   "outputs": [],
   "source": [
    "retrain = subset.sort_values('retrain_frequency').iloc[0]"
   ]
  },
  {
   "cell_type": "code",
   "execution_count": 8,
   "metadata": {},
   "outputs": [
    {
     "data": {
      "text/plain": [
       "path                                     prod-runs/256-nodes_retrain-8\n",
       "study                                                        retrain-8\n",
       "num_nodes                                                          256\n",
       "random                                                           False\n",
       "retrain_frequency                                                    8\n",
       "time                 [1384.257589, 1577.698727, 1589.415107, 1603.2...\n",
       "molecules            [Fc1cc(F)ncn1, Fc1ccnc(F)n1, O=c1cc(F)oc(F)c1,...\n",
       "ip                   [9.894218045390485, 10.337883133156366, 9.2167...\n",
       "pred_mean            [8.257448196411133, 8.278129577636719, 8.03619...\n",
       "pred_std             [0.278163254261016, 0.266804158687591, 0.26189...\n",
       "pred_batch           [0, 0, 0, 0, 0, 0, 0, 0, 0, 0, 0, 0, 0, 0, 0, ...\n",
       "Name: 0, dtype: object"
      ]
     },
     "execution_count": 8,
     "metadata": {},
     "output_type": "execute_result"
    }
   ],
   "source": [
    "retrain"
   ]
  },
  {
   "cell_type": "markdown",
   "metadata": {},
   "source": [
    "Plot the retrain as a function of batch"
   ]
  },
  {
   "cell_type": "code",
   "execution_count": 9,
   "metadata": {},
   "outputs": [],
   "source": [
    "retrain_mols = pd.DataFrame(retrain[['molecules', 'ip', 'pred_mean', 'pred_std', 'pred_batch']].to_dict())\n",
    "retrain_mols['error'] = (retrain_mols['ip'] - retrain_mols['pred_mean']).abs()"
   ]
  },
  {
   "cell_type": "code",
   "execution_count": 10,
   "metadata": {},
   "outputs": [
    {
     "data": {
      "text/plain": [
       "<matplotlib.legend.Legend at 0x7f49207ec990>"
      ]
     },
     "execution_count": 10,
     "metadata": {},
     "output_type": "execute_result"
    },
    {
     "data": {
      "image/png": "[encoded data removed]",
      "text/plain": [
       "<Figure size 432x288 with 1 Axes>"
      ]
     },
     "metadata": {
      "needs_background": "light"
     },
     "output_type": "display_data"
    }
   ],
   "source": [
    "fig, ax = plt.subplots()\n",
    "\n",
    "bins = np.linspace(7, 14, 32)\n",
    "for gid, group in retrain_mols.groupby('pred_batch'):\n",
    "    ax.hist(group['ip'], bins=bins, label=f'Batch {gid}', density=False)\n",
    "    \n",
    "ax.legend()"
   ]
  },
  {
   "cell_type": "code",
   "execution_count": 12,
   "metadata": {},
   "outputs": [
    {
     "data": {
      "text/html": [
       "<div>\n",
       "<style scoped>\n",
       "    .dataframe tbody tr th:only-of-type {\n",
       "        vertical-align: middle;\n",
       "    }\n",
       "\n",
       "    .dataframe tbody tr th {\n",
       "        vertical-align: top;\n",
       "    }\n",
       "\n",
       "    .dataframe thead th {\n",
       "        text-align: right;\n",
       "    }\n",
       "</style>\n",
       "<table border=\"1\" class=\"dataframe\">\n",
       "  <thead>\n",
       "    <tr style=\"text-align: right;\">\n",
       "      <th></th>\n",
       "      <th>ip</th>\n",
       "      <th>pred_mean</th>\n",
       "      <th>pred_std</th>\n",
       "      <th>error</th>\n",
       "    </tr>\n",
       "    <tr>\n",
       "      <th>pred_batch</th>\n",
       "      <th></th>\n",
       "      <th></th>\n",
       "      <th></th>\n",
       "      <th></th>\n",
       "    </tr>\n",
       "  </thead>\n",
       "  <tbody>\n",
       "    <tr>\n",
       "      <th>0</th>\n",
       "      <td>9.707714</td>\n",
       "      <td>7.999272</td>\n",
       "      <td>0.256844</td>\n",
       "      <td>1.732555</td>\n",
       "    </tr>\n",
       "    <tr>\n",
       "      <th>1</th>\n",
       "      <td>9.585629</td>\n",
       "      <td>7.897513</td>\n",
       "      <td>0.150985</td>\n",
       "      <td>1.762297</td>\n",
       "    </tr>\n",
       "    <tr>\n",
       "      <th>2</th>\n",
       "      <td>9.619071</td>\n",
       "      <td>8.136994</td>\n",
       "      <td>0.149908</td>\n",
       "      <td>1.589365</td>\n",
       "    </tr>\n",
       "    <tr>\n",
       "      <th>3</th>\n",
       "      <td>9.880852</td>\n",
       "      <td>7.843665</td>\n",
       "      <td>0.166777</td>\n",
       "      <td>2.030425</td>\n",
       "    </tr>\n",
       "    <tr>\n",
       "      <th>4</th>\n",
       "      <td>9.788958</td>\n",
       "      <td>8.040187</td>\n",
       "      <td>0.174728</td>\n",
       "      <td>1.742482</td>\n",
       "    </tr>\n",
       "    <tr>\n",
       "      <th>5</th>\n",
       "      <td>9.803462</td>\n",
       "      <td>7.998921</td>\n",
       "      <td>0.167944</td>\n",
       "      <td>1.945758</td>\n",
       "    </tr>\n",
       "    <tr>\n",
       "      <th>6</th>\n",
       "      <td>9.789197</td>\n",
       "      <td>7.877638</td>\n",
       "      <td>0.151240</td>\n",
       "      <td>1.836036</td>\n",
       "    </tr>\n",
       "    <tr>\n",
       "      <th>7</th>\n",
       "      <td>9.732908</td>\n",
       "      <td>7.908713</td>\n",
       "      <td>0.123279</td>\n",
       "      <td>1.702276</td>\n",
       "    </tr>\n",
       "  </tbody>\n",
       "</table>\n",
       "</div>"
      ],
      "text/plain": [
       "                  ip  pred_mean  pred_std     error\n",
       "pred_batch                                         \n",
       "0           9.707714   7.999272  0.256844  1.732555\n",
       "1           9.585629   7.897513  0.150985  1.762297\n",
       "2           9.619071   8.136994  0.149908  1.589365\n",
       "3           9.880852   7.843665  0.166777  2.030425\n",
       "4           9.788958   8.040187  0.174728  1.742482\n",
       "5           9.803462   7.998921  0.167944  1.945758\n",
       "6           9.789197   7.877638  0.151240  1.836036\n",
       "7           9.732908   7.908713  0.123279  1.702276"
      ]
     },
     "execution_count": 12,
     "metadata": {},
     "output_type": "execute_result"
    }
   ],
   "source": [
    "retrain_mols.groupby('pred_batch').median()"
   ]
  },
  {
   "cell_type": "code",
   "execution_count": null,
   "metadata": {},
   "outputs": [],
   "source": []
  }
 ],
 "metadata": {
  "kernelspec": {
   "display_name": "Python 3",
   "language": "python",
   "name": "python3"
  },
  "language_info": {
   "codemirror_mode": {
    "name": "ipython",
    "version": 3
   },
   "file_extension": ".py",
   "mimetype": "text/x-python",
   "name": "python",
   "nbconvert_exporter": "python",
   "pygments_lexer": "ipython3",
   "version": "3.7.4"
  }
 },
 "nbformat": 4,
 "nbformat_minor": 4
}
