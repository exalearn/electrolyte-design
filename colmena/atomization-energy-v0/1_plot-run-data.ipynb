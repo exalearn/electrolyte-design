{
 "cells": [
  {
   "cell_type": "markdown",
   "metadata": {},
   "source": [
    "# Plot Run Data\n",
    "This notebook plots the performance of a run to assess the optimization performance and system utilization."
   ]
  },
  {
   "cell_type": "code",
   "execution_count": 28,
   "metadata": {},
   "outputs": [],
   "source": [
    "%matplotlib inline\n",
    "from matplotlib import pyplot as plt\n",
    "from datetime import datetime\n",
    "import pandas as pd\n",
    "import numpy as np\n",
    "import json\n",
    "import os"
   ]
  },
  {
   "cell_type": "markdown",
   "metadata": {},
   "source": [
    "Load the run information "
   ]
  },
  {
   "cell_type": "code",
   "execution_count": 29,
   "metadata": {},
   "outputs": [],
   "source": [
    "run_info = pd.read_csv('run_data.csv')"
   ]
  },
  {
   "cell_type": "markdown",
   "metadata": {},
   "source": [
    "Pick one"
   ]
  },
  {
   "cell_type": "code",
   "execution_count": 30,
   "metadata": {},
   "outputs": [
    {
     "name": "stdout",
     "output_type": "stream",
     "text": [
      "path                                            runs/14Nov20-202818-2f4d2c\n",
      "param_hash                                                          2f4d2c\n",
      "start_time                                             2020-11-14 20:28:01\n",
      "mpnn_config_directory      ../../ai-components/mpnn/nwchem-atomization-v0/\n",
      "mpnn_model_files         ['../../ai-components/mpnn/nwchem-atomization-...\n",
      "initial_agent            ../../ai-components/moldqn/nwchem-atomization-...\n",
      "initial_search_space     ../../ai-components/moldqn/nwchem-atomization-...\n",
      "initial_database         ../../ai-components/mpnn/nwchem-atomization-v0...\n",
      "qc_spec                                                        small_basis\n",
      "parallel_guesses                                                       128\n",
      "parallel_updating                                                        1\n",
      "rl_episodes                                                             10\n",
      "search_size                                                         100000\n",
      "queue_length                                                           400\n",
      "random_frac                                                            0.1\n",
      "greedy_frac                                                            0.8\n",
      "version                                                             simple\n",
      "hostname                                                         thetamom2\n",
      "worker_count                                                           135\n",
      "n_evals                                                                321\n",
      "Name: 15, dtype: object\n"
     ]
    }
   ],
   "source": [
    "run_info = run_info.sort_values('start_time', ascending=False).iloc[0]\n",
    "#run_info = run_info.query('path==\"runs/10Nov20-210002-b59342\"').iloc[0]  # XTB run\n",
    "print(run_info)"
   ]
  },
  {
   "cell_type": "markdown",
   "metadata": {},
   "source": [
    "## Load in Result File\n",
    "This file is the list of the quantum chemistry results"
   ]
  },
  {
   "cell_type": "code",
   "execution_count": 31,
   "metadata": {},
   "outputs": [],
   "source": [
    "result_data = pd.read_json(os.path.join(run_info['path'], 'simulation_records.jsonld'), lines=True).query('success')\n",
    "result_data.sort_values('time_created', inplace=True)"
   ]
  },
  {
   "cell_type": "code",
   "execution_count": 32,
   "metadata": {},
   "outputs": [],
   "source": [
    "result_data.reset_index(inplace=True)"
   ]
  },
  {
   "cell_type": "markdown",
   "metadata": {},
   "source": [
    "Compute start time for the job"
   ]
  },
  {
   "cell_type": "code",
   "execution_count": 33,
   "metadata": {},
   "outputs": [],
   "source": [
    "with open(os.path.join(run_info['path'], 'environment.json')) as fp:\n",
    "    env = json.load(fp)\n",
    "start_time = datetime.fromtimestamp(float(env['COBALT_STARTTIME']))"
   ]
  },
  {
   "cell_type": "markdown",
   "metadata": {},
   "source": [
    "Plot the time since first result"
   ]
  },
  {
   "cell_type": "code",
   "execution_count": 34,
   "metadata": {},
   "outputs": [],
   "source": [
    "result_data['walltime'] = result_data['time_result_received'] - start_time.timestamp()"
   ]
  },
  {
   "cell_type": "markdown",
   "metadata": {},
   "source": [
    "Plot the rate at which we aquired new results"
   ]
  },
  {
   "cell_type": "code",
   "execution_count": 35,
   "metadata": {},
   "outputs": [
    {
     "data": {
      "image/png": "[encoded data removed]",
      "text/plain": [
       "<Figure size 468x180 with 2 Axes>"
      ]
     },
     "metadata": {
      "needs_background": "light"
     },
     "output_type": "display_data"
    }
   ],
   "source": [
    "fig, axs = plt.subplots(1, 2, sharey=True, figsize=(6.5, 2.5))\n",
    "\n",
    "axs[1].plot(result_data.index, result_data['value'])\n",
    "axs[1].set_xlabel('Index')\n",
    "axs[0].set_ylabel('Atomization Energy (Ha)')\n",
    "\n",
    "axs[0].scatter(result_data['walltime'], result_data['value'], s=1)\n",
    "axs[0].set_xlabel('Walltime (s)')\n",
    "\n",
    "fig.tight_layout()\n",
    "fig.savefig('figures/optimizer-performance.svg')"
   ]
  },
  {
   "cell_type": "markdown",
   "metadata": {},
   "source": [
    "## Evaluate Runtimes\n",
    "Estimate the runtimes of the QC code"
   ]
  },
  {
   "cell_type": "code",
   "execution_count": 36,
   "metadata": {},
   "outputs": [],
   "source": [
    "rl_data = pd.read_json(os.path.join(run_info['path'], 'generate_records.jsonld'), lines=True)"
   ]
  },
  {
   "cell_type": "code",
   "execution_count": 37,
   "metadata": {},
   "outputs": [],
   "source": [
    "screen_data = pd.read_json(os.path.join(run_info['path'], 'screen_records.jsonld'), lines=True)"
   ]
  },
  {
   "cell_type": "code",
   "execution_count": 38,
   "metadata": {},
   "outputs": [],
   "source": [
    "update_data = pd.read_json(os.path.join(run_info['path'], 'update_records.jsonld'), lines=True)"
   ]
  },
  {
   "cell_type": "code",
   "execution_count": 39,
   "metadata": {},
   "outputs": [
    {
     "data": {
      "image/png": "[encoded data removed]",
      "text/plain": [
       "<Figure size 468x288 with 4 Axes>"
      ]
     },
     "metadata": {
      "needs_background": "light"
     },
     "output_type": "display_data"
    }
   ],
   "source": [
    "fig, axs = plt.subplots(2, 2, figsize=(6.5, 4.))\n",
    "\n",
    "\n",
    "for data, label, ax in zip([result_data, update_data, rl_data, screen_data], ['Simulate', 'Updating Models', 'Generating', 'Screening'], axs.flatten()):\n",
    "    if label == \"Simulate\":\n",
    "        wt_range = np.log10([data['time_running'].min() * 0.9,\n",
    "                             data['time_running'].max() * 1.1])\n",
    "        bins = np.logspace(*wt_range, 32)\n",
    "        ax.set_xscale('log')\n",
    "    else:\n",
    "        wt_range = [data['time_running'].min() * 0.9, data['time_running'].max() * 1.1]\n",
    "        bins = np.linspace(*wt_range, 32)\n",
    "    ax.hist(data['time_running'], bins=bins)\n",
    "\n",
    "    ax.set_title(f'{label}', fontsize=10)\n",
    "    \n",
    "for ax in axs[:, 0]:\n",
    "    ax.set_ylabel('Frequency')   \n",
    "for ax in axs[-1, :]:\n",
    "    ax.set_xlabel('Runtime (s)')    \n",
    "\n",
    "fig.tight_layout()"
   ]
  },
  {
   "cell_type": "markdown",
   "metadata": {},
   "source": [
    "## Evaluate Overhead\n",
    "Measure the time executing vs the end-to-end time for each of the tasks"
   ]
  },
  {
   "cell_type": "markdown",
   "metadata": {},
   "source": [
    "Compute overhead"
   ]
  },
  {
   "cell_type": "code",
   "execution_count": 40,
   "metadata": {},
   "outputs": [],
   "source": [
    "for data in [result_data, rl_data, screen_data, update_data]:\n",
    "    data['overhead_time'] = (data['time_result_received'] - data['time_created']) - data['time_running']\n",
    "    data['overhead_frac'] = 1 - data['time_running'] / (data['time_result_received'] - data['time_created'])"
   ]
  },
  {
   "cell_type": "markdown",
   "metadata": {},
   "source": [
    "Plot overhead"
   ]
  },
  {
   "cell_type": "code",
   "execution_count": 41,
   "metadata": {},
   "outputs": [
    {
     "data": {
      "image/png": "[encoded data removed]",
      "text/plain": [
       "<Figure size 468x288 with 4 Axes>"
      ]
     },
     "metadata": {
      "needs_background": "light"
     },
     "output_type": "display_data"
    }
   ],
   "source": [
    "fig, axs = plt.subplots(2, 2, figsize=(6.5, 4.), sharex=True)\n",
    "\n",
    "for data, label, ax in zip([result_data, update_data, rl_data, screen_data], ['Simulate', 'Updating Models', 'Generating', 'Screening'], axs.flatten()):\n",
    "    ax.hist(data['overhead_frac'].tolist(), bins=np.linspace(0, 1, 32))\n",
    "    ax.set_xlabel('Overhead Fraction')\n",
    "    ax.set_title(f'{label}', fontsize=10)\n",
    "    \n",
    "for ax in axs[:, 0]:\n",
    "    ax.set_ylabel('Frequency')\n",
    "fig.tight_layout()\n",
    "fig.savefig(os.path.join('figures', 'overhead-fraction.svg'))"
   ]
  },
  {
   "cell_type": "markdown",
   "metadata": {},
   "source": [
    "### Explain the overhead\n",
    "See if we can explain the overhead events for the tasks"
   ]
  },
  {
   "cell_type": "markdown",
   "metadata": {},
   "source": [
    "Compute each step"
   ]
  },
  {
   "cell_type": "code",
   "execution_count": 42,
   "metadata": {},
   "outputs": [],
   "source": [
    "for data in [result_data, rl_data, screen_data, update_data]:\n",
    "    data['client_to_method-server'] = data['time_input_received'] - (data['time_created'] + data['time_serialize_inputs'])\n",
    "    data['method-server_to_worker'] = data['time_compute_started'] - data['time_input_received']\n",
    "    data['worker_to_method-server'] = data['time_result_sent'] - (data['time_compute_started']\n",
    "                                                                  + data['time_running']\n",
    "                                                                  + data['time_deserialize_inputs']\n",
    "                                                                  + data['time_serialize_results'])\n",
    "    data['method-server_to_client'] = data['time_result_received'] - (data['time_result_sent'] + data['time_deserialize_results'])\n",
    "    data['serialization'] = data[[c for c in data.columns if c.startswith('time_') and 'serialize' in c]].sum(axis=1)"
   ]
  },
  {
   "cell_type": "markdown",
   "metadata": {},
   "source": [
    "Plot overheads"
   ]
  },
  {
   "cell_type": "code",
   "execution_count": 43,
   "metadata": {},
   "outputs": [
    {
     "data": {
      "text/html": [
       "<div>\n",
       "<style scoped>\n",
       "    .dataframe tbody tr th:only-of-type {\n",
       "        vertical-align: middle;\n",
       "    }\n",
       "\n",
       "    .dataframe tbody tr th {\n",
       "        vertical-align: top;\n",
       "    }\n",
       "\n",
       "    .dataframe thead th {\n",
       "        text-align: right;\n",
       "    }\n",
       "</style>\n",
       "<table border=\"1\" class=\"dataframe\">\n",
       "  <thead>\n",
       "    <tr style=\"text-align: right;\">\n",
       "      <th></th>\n",
       "      <th>time_serialize_inputs</th>\n",
       "      <th>time_deserialize_inputs</th>\n",
       "      <th>time_serialize_results</th>\n",
       "      <th>time_deserialize_results</th>\n",
       "      <th>worker_to_method-server</th>\n",
       "    </tr>\n",
       "  </thead>\n",
       "  <tbody>\n",
       "    <tr>\n",
       "      <th>16</th>\n",
       "      <td>0.239504</td>\n",
       "      <td>10.281072</td>\n",
       "      <td>1.392425</td>\n",
       "      <td>1.475072</td>\n",
       "      <td>13.961050</td>\n",
       "    </tr>\n",
       "    <tr>\n",
       "      <th>17</th>\n",
       "      <td>0.239638</td>\n",
       "      <td>10.453492</td>\n",
       "      <td>1.443904</td>\n",
       "      <td>2.770440</td>\n",
       "      <td>14.647104</td>\n",
       "    </tr>\n",
       "    <tr>\n",
       "      <th>18</th>\n",
       "      <td>0.344558</td>\n",
       "      <td>12.663711</td>\n",
       "      <td>1.392252</td>\n",
       "      <td>1.446938</td>\n",
       "      <td>14.787176</td>\n",
       "    </tr>\n",
       "    <tr>\n",
       "      <th>19</th>\n",
       "      <td>0.261135</td>\n",
       "      <td>10.522515</td>\n",
       "      <td>1.322115</td>\n",
       "      <td>1.539000</td>\n",
       "      <td>14.484409</td>\n",
       "    </tr>\n",
       "    <tr>\n",
       "      <th>20</th>\n",
       "      <td>0.287404</td>\n",
       "      <td>10.662250</td>\n",
       "      <td>1.402731</td>\n",
       "      <td>2.144592</td>\n",
       "      <td>14.363890</td>\n",
       "    </tr>\n",
       "  </tbody>\n",
       "</table>\n",
       "</div>"
      ],
      "text/plain": [
       "    time_serialize_inputs  time_deserialize_inputs  time_serialize_results  \\\n",
       "16               0.239504                10.281072                1.392425   \n",
       "17               0.239638                10.453492                1.443904   \n",
       "18               0.344558                12.663711                1.392252   \n",
       "19               0.261135                10.522515                1.322115   \n",
       "20               0.287404                10.662250                1.402731   \n",
       "\n",
       "    time_deserialize_results  worker_to_method-server  \n",
       "16                  1.475072                13.961050  \n",
       "17                  2.770440                14.647104  \n",
       "18                  1.446938                14.787176  \n",
       "19                  1.539000                14.484409  \n",
       "20                  2.144592                14.363890  "
      ]
     },
     "execution_count": 43,
     "metadata": {},
     "output_type": "execute_result"
    }
   ],
   "source": [
    "rl_data[[c for c in data.columns if c.startswith('time_') and 'serialize' in c] + ['worker_to_method-server']].tail()"
   ]
  },
  {
   "cell_type": "code",
   "execution_count": 44,
   "metadata": {},
   "outputs": [
    {
     "data": {
      "image/png": "[encoded data removed]",
      "text/plain": [
       "<Figure size 468x288 with 4 Axes>"
      ]
     },
     "metadata": {
      "needs_background": "light"
     },
     "output_type": "display_data"
    }
   ],
   "source": [
    "fig, axs = plt.subplots(2, 2, figsize=(6.5, 4.))\n",
    "\n",
    "for data, label, ax in zip([result_data, update_data, rl_data, screen_data],\n",
    "                           ['Simulate', 'Updating Models', 'Generating', 'Screening'], \n",
    "                           axs.flatten()):\n",
    "    subset = data.sort_values('time_created', ascending=True).tail(min(25, len(data)))\n",
    "    steps = ['client_to_method-server', 'method-server_to_worker', 'worker_to_method-server', 'method-server_to_client', 'serialization']\n",
    "    x = np.arange(len(subset))\n",
    "    for i in range(len(steps)):\n",
    "        start = subset[steps[:i]].sum(axis=1).values\n",
    "        ax.bar(x, subset[steps[i]].values, bottom=start, label=steps[i].replace(\"_to_\", \"->\").replace('method-server', 'server'))\n",
    "    ax.bar(x, subset['overhead_time'].values, edgecolor='k', facecolor='none', lw=1)\n",
    "    \n",
    "    ax.set_xticks([])\n",
    "    ax.set_title(label)\n",
    "    ax.set_xlabel('Task')\n",
    "    \n",
    "axs[0, 0].legend()\n",
    "for ax in axs[:, 0]:\n",
    "    ax.set_ylabel('Communication Time (s)')\n",
    "fig.tight_layout()\n",
    "fig.savefig(os.path.join('figures', 'overhead-breakdown.svg'))"
   ]
  },
  {
   "cell_type": "markdown",
   "metadata": {},
   "source": [
    "*Finding*: It generally seems like the time from the task being recieved by the method server to starting on the compute note is generally the longest. Need to figure out what the issue is."
   ]
  },
  {
   "cell_type": "markdown",
   "metadata": {},
   "source": [
    "## Plot the Number of Results Being Run at a Time\n",
    "We can look at the completed QC records to compute the utilization"
   ]
  },
  {
   "cell_type": "markdown",
   "metadata": {},
   "source": [
    "Find the events related to calculations starting and finishing"
   ]
  },
  {
   "cell_type": "code",
   "execution_count": 45,
   "metadata": {},
   "outputs": [],
   "source": [
    "events = [{'time': 0, 'active_delta': 0}]\n",
    "events.extend({'time': t - start_time.timestamp(), 'active_delta': -1} for t in result_data[['time_compute_started', 'time_running']].sum(axis=1))\n",
    "events.extend({'time': t - start_time.timestamp(), 'active_delta': 1} for t in result_data['time_compute_started'])\n",
    "events = pd.DataFrame(events)"
   ]
  },
  {
   "cell_type": "markdown",
   "metadata": {},
   "source": [
    "Make the results easier to plot"
   ]
  },
  {
   "cell_type": "code",
   "execution_count": 46,
   "metadata": {},
   "outputs": [],
   "source": [
    "events.sort_values('time', ascending=True, inplace=True)"
   ]
  },
  {
   "cell_type": "code",
   "execution_count": 47,
   "metadata": {},
   "outputs": [],
   "source": [
    "events['num_active'] = events['active_delta'].cumsum()"
   ]
  },
  {
   "cell_type": "code",
   "execution_count": 48,
   "metadata": {},
   "outputs": [
    {
     "data": {
      "text/html": [
       "<div>\n",
       "<style scoped>\n",
       "    .dataframe tbody tr th:only-of-type {\n",
       "        vertical-align: middle;\n",
       "    }\n",
       "\n",
       "    .dataframe tbody tr th {\n",
       "        vertical-align: top;\n",
       "    }\n",
       "\n",
       "    .dataframe thead th {\n",
       "        text-align: right;\n",
       "    }\n",
       "</style>\n",
       "<table border=\"1\" class=\"dataframe\">\n",
       "  <thead>\n",
       "    <tr style=\"text-align: right;\">\n",
       "      <th></th>\n",
       "      <th>time</th>\n",
       "      <th>active_delta</th>\n",
       "      <th>num_active</th>\n",
       "    </tr>\n",
       "  </thead>\n",
       "  <tbody>\n",
       "    <tr>\n",
       "      <th>546</th>\n",
       "      <td>12108.708474</td>\n",
       "      <td>-1</td>\n",
       "      <td>4</td>\n",
       "    </tr>\n",
       "    <tr>\n",
       "      <th>581</th>\n",
       "      <td>12139.455006</td>\n",
       "      <td>-1</td>\n",
       "      <td>3</td>\n",
       "    </tr>\n",
       "    <tr>\n",
       "      <th>535</th>\n",
       "      <td>12146.627181</td>\n",
       "      <td>-1</td>\n",
       "      <td>2</td>\n",
       "    </tr>\n",
       "    <tr>\n",
       "      <th>515</th>\n",
       "      <td>12150.119304</td>\n",
       "      <td>-1</td>\n",
       "      <td>1</td>\n",
       "    </tr>\n",
       "    <tr>\n",
       "      <th>560</th>\n",
       "      <td>12176.358409</td>\n",
       "      <td>-1</td>\n",
       "      <td>0</td>\n",
       "    </tr>\n",
       "  </tbody>\n",
       "</table>\n",
       "</div>"
      ],
      "text/plain": [
       "             time  active_delta  num_active\n",
       "546  12108.708474            -1           4\n",
       "581  12139.455006            -1           3\n",
       "535  12146.627181            -1           2\n",
       "515  12150.119304            -1           1\n",
       "560  12176.358409            -1           0"
      ]
     },
     "execution_count": 48,
     "metadata": {},
     "output_type": "execute_result"
    }
   ],
   "source": [
    "events.tail()"
   ]
  },
  {
   "cell_type": "markdown",
   "metadata": {},
   "source": [
    "Compute worker utilization"
   ]
  },
  {
   "cell_type": "code",
   "execution_count": 49,
   "metadata": {},
   "outputs": [],
   "source": [
    "events['utilization'] = np.clip(events['num_active'] / run_info['parallel_guesses'], 0, 1)"
   ]
  },
  {
   "cell_type": "code",
   "execution_count": 50,
   "metadata": {},
   "outputs": [],
   "source": [
    "utilization_int = (np.diff(events['time'].values) * events['utilization'].values[:-1]).cumsum()"
   ]
  },
  {
   "cell_type": "code",
   "execution_count": 51,
   "metadata": {},
   "outputs": [],
   "source": [
    "events['cumulative_utilization'] = None\n",
    "events['cumulative_utilization'] = utilization_int / events['time'].iloc[1:]"
   ]
  },
  {
   "cell_type": "code",
   "execution_count": 52,
   "metadata": {},
   "outputs": [
    {
     "name": "stdout",
     "output_type": "stream",
     "text": [
      "Best cumulative utilization: 80.06%\n"
     ]
    }
   ],
   "source": [
    "print(f'Best cumulative utilization: {events[\"cumulative_utilization\"].max()*100:.2f}%')"
   ]
  },
  {
   "cell_type": "markdown",
   "metadata": {},
   "source": [
    "Plot the queue length and utilization"
   ]
  },
  {
   "cell_type": "code",
   "execution_count": 53,
   "metadata": {},
   "outputs": [
    {
     "data": {
      "image/png": "[encoded data removed]",
      "text/plain": [
       "<Figure size 612x180 with 3 Axes>"
      ]
     },
     "metadata": {
      "needs_background": "light"
     },
     "output_type": "display_data"
    }
   ],
   "source": [
    "fig, axs = plt.subplots(1, 3, figsize=(8.5, 2.5))\n",
    "\n",
    "# Plot the queue length\n",
    "ax = axs[0]\n",
    "ax.step(events['time'], events['num_active'], where='post')\n",
    "ax.set_xlabel('Walltime (s)')\n",
    "ax.set_ylabel('Active Workers')\n",
    "\n",
    "ax = axs[1]\n",
    "ax.step(events['time'], events['utilization'] * 100, where='post')\n",
    "ax.set_xlabel('Walltime (s)')\n",
    "ax.set_ylabel('Utilization (%)')\n",
    "ax.set_ylim(0, 105)\n",
    "\n",
    "ax = axs[2]\n",
    "ax.plot(events['time'], events['cumulative_utilization'] * 100)\n",
    "ax.set_xlabel('Walltime (s)')\n",
    "ax.set_ylabel('Cumulative Util. (%)')\n",
    "ax.set_ylim(0, 105)\n",
    "\n",
    "fig.tight_layout()\n",
    "fig.savefig('figures/utilization-over-time.svg')"
   ]
  },
  {
   "cell_type": "markdown",
   "metadata": {},
   "source": [
    "*Finding*: Utilization stays around ~90% for the most of the run. The dropoff towards the end is because tasks that launched did not complete before the end of the allocation period."
   ]
  },
  {
   "cell_type": "code",
   "execution_count": 54,
   "metadata": {},
   "outputs": [
    {
     "data": {
      "text/plain": [
       "Text(0, 0.5, 'Task Submit Rate (1/s)')"
      ]
     },
     "execution_count": 54,
     "metadata": {},
     "output_type": "execute_result"
    },
    {
     "data": {
      "image/png": "[encoded data removed]",
      "text/plain": [
       "<Figure size 252x180 with 1 Axes>"
      ]
     },
     "metadata": {
      "needs_background": "light"
     },
     "output_type": "display_data"
    }
   ],
   "source": [
    "fig, ax = plt.subplots(figsize=(3.5, 2.5))\n",
    "\n",
    "window_size = 60\n",
    "window_bin = np.arange(2000, events.time.max(), window_size)\n",
    "counts = [len(events.query(f'active_delta == 1 and {i} <= time < {i+window_size}')) / window_size for i in window_bin]\n",
    "\n",
    "ax.plot(window_bin, counts)\n",
    "\n",
    "ax.set_xlabel('Walltime (s)')\n",
    "ax.set_ylabel('Task Submit Rate (1/s)')"
   ]
  },
  {
   "cell_type": "code",
   "execution_count": null,
   "metadata": {},
   "outputs": [],
   "source": []
  }
 ],
 "metadata": {
  "kernelspec": {
   "display_name": "Python 3",
   "language": "python",
   "name": "python3"
  },
  "language_info": {
   "codemirror_mode": {
    "name": "ipython",
    "version": 3
   },
   "file_extension": ".py",
   "mimetype": "text/x-python",
   "name": "python",
   "nbconvert_exporter": "python",
   "pygments_lexer": "ipython3",
   "version": "3.7.4"
  }
 },
 "nbformat": 4,
 "nbformat_minor": 4
}
