{
 "cells": [
  {
   "cell_type": "markdown",
   "metadata": {},
   "source": [
    "# Compare to Scan Once\n",
    "See how well we do given the same computing hours as the \"screen once\" option"
   ]
  },
  {
   "cell_type": "code",
   "execution_count": 1,
   "metadata": {},
   "outputs": [],
   "source": [
    "%matplotlib inline \n",
    "from matplotlib import pyplot as plt\n",
    "from datetime import datetime\n",
    "from glob import glob\n",
    "import pandas as pd\n",
    "import json\n",
    "import os"
   ]
  },
  {
   "cell_type": "markdown",
   "metadata": {},
   "source": [
    "## Load in the Runs for Comparison\n",
    "I want to compare runs from the active and single-pass strong-scaling runs. Get the path to the runs and some metadata"
   ]
  },
  {
   "cell_type": "code",
   "execution_count": 2,
   "metadata": {},
   "outputs": [],
   "source": [
    "single_pass = [] \n",
    "for p in glob('../../atomization-energy-no-retrain/notebooks/scaling-runs/*-strong'):\n",
    "    with open(os.path.join(p, 'run_params.json')) as fp:\n",
    "        record = json.load(fp)\n",
    "    record['path'] = p\n",
    "    single_pass.append(record)\n",
    "single_pass = pd.DataFrame(single_pass)"
   ]
  },
  {
   "cell_type": "code",
   "execution_count": 3,
   "metadata": {},
   "outputs": [],
   "source": [
    "active = [] \n",
    "for p in glob('scaling-runs/*'):\n",
    "    with open(os.path.join(p, 'run_params.json')) as fp:\n",
    "        record = json.load(fp)\n",
    "    record['path'] = p\n",
    "    active.append(record)\n",
    "active = pd.DataFrame(active)"
   ]
  },
  {
   "cell_type": "markdown",
   "metadata": {},
   "source": [
    "## Load in Run Data\n",
    "We want when the run started and the outcomes of each run"
   ]
  },
  {
   "cell_type": "code",
   "execution_count": 4,
   "metadata": {},
   "outputs": [],
   "source": [
    "def get_qc_data(path):\n",
    "    # Get the start time of the run\n",
    "    with open(os.path.join(path, 'runtime.log')) as fp:\n",
    "        start_time = datetime.strptime(fp.readline().split(\" - \")[0], '%Y-%m-%d %H:%M:%S,%f').timestamp()\n",
    "    \n",
    "    # Load the data and compute walltime\n",
    "    data_path = os.path.join(path, 'simulation_records.jsonld')\n",
    "    if os.path.isfile(data_path):\n",
    "        data = pd.read_json(data_path, lines=True)\n",
    "        data['walltime'] = data['time_result_received'] - start_time\n",
    "        return data\n",
    "    return []\n",
    "single_pass['qc_records'] = single_pass['path'].apply(get_qc_data)\n",
    "active['qc_records'] = active['path'].apply(get_qc_data)"
   ]
  },
  {
   "cell_type": "code",
   "execution_count": 5,
   "metadata": {},
   "outputs": [],
   "source": [
    "def get_geometry_optimizer(path):\n",
    "    data_path = os.path.join(path, 'qcfractal_records.jsonld')\n",
    "    if os.path.isfile(data_path):\n",
    "        with open(data_path) as fp:\n",
    "            record = json.loads(fp.readline())\n",
    "        return record['provenance']['creator']\n",
    "single_pass['optimizer'] = single_pass['path'].apply(get_geometry_optimizer)\n",
    "active['optimizer'] = active['path'].apply(get_geometry_optimizer)"
   ]
  },
  {
   "cell_type": "markdown",
   "metadata": {},
   "source": [
    "## Plot the records over time\n",
    "We want to see the best found over time"
   ]
  },
  {
   "cell_type": "code",
   "execution_count": 12,
   "metadata": {},
   "outputs": [
    {
     "data": {
      "text/plain": [
       "Text(0, 0.5, '$E_{atom}$ (Ha)')"
      ]
     },
     "execution_count": 12,
     "metadata": {},
     "output_type": "execute_result"
    },
    {
     "data": {
      "image/png": "[encoded data removed]",
      "text/plain": [
       "<Figure size 252x180 with 1 Axes>"
      ]
     },
     "metadata": {
      "needs_background": "light"
     },
     "output_type": "display_data"
    }
   ],
   "source": [
    "fig, ax = plt.subplots(figsize=(3.5, 2.5))\n",
    "\n",
    "n_nodes = 256\n",
    "for l, subset in zip(['Active', 'Single Pass'], [active, single_pass]):\n",
    "    run = subset.query(f'nnodes=={n_nodes}').iloc[0]['qc_records'].sort_values('time_result_received').query('success')\n",
    "    \n",
    "    ax.scatter(run['walltime'], run['value'], label=l)\n",
    "    ax.step(run['walltime'], run['value'].cummin())\n",
    "\n",
    "ax.set_ylim(-6, -3.4)\n",
    "ax.legend()\n",
    "ax.set_xlabel('Time (s)')\n",
    "ax.set_ylabel('$E_{atom}$ (Ha)')"
   ]
  },
  {
   "cell_type": "code",
   "execution_count": null,
   "metadata": {},
   "outputs": [],
   "source": []
  }
 ],
 "metadata": {
  "kernelspec": {
   "display_name": "edw",
   "language": "python",
   "name": "edw"
  },
  "language_info": {
   "codemirror_mode": {
    "name": "ipython",
    "version": 3
   },
   "file_extension": ".py",
   "mimetype": "text/x-python",
   "name": "python",
   "nbconvert_exporter": "python",
   "pygments_lexer": "ipython3",
   "version": "3.7.9"
  }
 },
 "nbformat": 4,
 "nbformat_minor": 4
}
