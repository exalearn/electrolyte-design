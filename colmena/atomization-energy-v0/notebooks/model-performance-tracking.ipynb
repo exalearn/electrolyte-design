{
 "cells": [
  {
   "cell_type": "markdown",
   "metadata": {},
   "source": [
    "# Evaluate Rate of ML Update\n",
    "Assess the performance of the machine learning models as they are updated"
   ]
  },
  {
   "cell_type": "code",
   "execution_count": 1,
   "metadata": {},
   "outputs": [
    {
     "name": "stderr",
     "output_type": "stream",
     "text": [
      "RDKit WARNING: [00:17:55] Enabling RDKit 2019.09.3 jupyter extensions\n"
     ]
    }
   ],
   "source": [
    "%matplotlib inline\n",
    "from moldesign.score.mpnn.layers import custom_objects\n",
    "from moldesign.score.mpnn import evaluate_mpnn\n",
    "from matplotlib import pyplot as plt\n",
    "from datetime import datetime\n",
    "from functools import partial\n",
    "from scipy.stats import kendalltau\n",
    "import tensorflow as tf\n",
    "from tqdm import tqdm\n",
    "from glob import glob\n",
    "import pandas as pd\n",
    "import numpy as np\n",
    "import json\n",
    "import os\n",
    "import re"
   ]
  },
  {
   "cell_type": "markdown",
   "metadata": {},
   "source": [
    "Load the run information "
   ]
  },
  {
   "cell_type": "code",
   "execution_count": 2,
   "metadata": {},
   "outputs": [],
   "source": [
    "run_info = pd.read_csv('../run_data.csv')"
   ]
  },
  {
   "cell_type": "code",
   "execution_count": 3,
   "metadata": {},
   "outputs": [
    {
     "data": {
      "text/plain": [
       "{'path': 'runs/16Dec20-212040-c18827',\n",
       " 'param_hash': 'c18827',\n",
       " 'start_time': '2020-12-16 21:20:04',\n",
       " 'mpnn_config_directory': '../../ai-components/mpnn/nwchem-atomization-v0/',\n",
       " 'mpnn_model_files': \"['../../ai-components/mpnn/nwchem-atomization-v0/best_model.h5', '../../ai-components/mpnn/nwchem-atomization-v0/networks/b32_n512_S10/best_model.h5', '../../ai-components/mpnn/nwchem-atomization-v0/networks/b32_n512_S11/best_model.h5', '../../ai-components/mpnn/nwchem-atomization-v0/networks/b32_n512_S12/best_model.h5']\",\n",
       " 'initial_agent': '../../ai-components/moldqn/nwchem-atomization-v0//agent.pkl',\n",
       " 'initial_search_space': '../../ai-components/moldqn/nwchem-atomization-v0//best_mols.json',\n",
       " 'initial_database': '../../ai-components/mpnn/nwchem-atomization-v0//initial_database.json',\n",
       " 'qc_spec': 'small_basis',\n",
       " 'qc_parallelism': 4,\n",
       " 'parallel_updating': 2,\n",
       " 'rl_episodes': 10,\n",
       " 'search_size': 1000,\n",
       " 'queue_length': 1024,\n",
       " 'random_frac': 0.1,\n",
       " 'greedy_frac': 0.8,\n",
       " 'nnodes': 128,\n",
       " 'ml_nodes': 4,\n",
       " 'qc_nodes': 124,\n",
       " 'qc_workers': 31,\n",
       " 'version': 'simple',\n",
       " 'hostname': 'thetamom3',\n",
       " 'worker_count': 35,\n",
       " 'n_evals': 37.0}"
      ]
     },
     "execution_count": 3,
     "metadata": {},
     "output_type": "execute_result"
    }
   ],
   "source": [
    "run_info = run_info.sort_values('start_time', ascending=False).iloc[0].to_dict()\n",
    "#run_info = run_info.query('path==\"runs/10Nov20-210002-b59342\"').iloc[0]  # XTB run\n",
    "run_info"
   ]
  },
  {
   "cell_type": "markdown",
   "metadata": {},
   "source": [
    "## Load in the Trajectories\n",
    "We need the records associated with QC records and model update tasks"
   ]
  },
  {
   "cell_type": "code",
   "execution_count": 4,
   "metadata": {},
   "outputs": [],
   "source": [
    "result_data = pd.read_json(os.path.join('..', run_info['path'], 'simulation_records.jsonld'), lines=True).query('success')\n",
    "result_data.sort_values('time_created', inplace=True)"
   ]
  },
  {
   "cell_type": "code",
   "execution_count": 5,
   "metadata": {},
   "outputs": [
    {
     "name": "stdout",
     "output_type": "stream",
     "text": [
      "Loaded 100 update records\n"
     ]
    }
   ],
   "source": [
    "update_records = pd.read_json(os.path.join('..', run_info['path'], 'update_records.jsonld'), lines=True).query('success')\n",
    "print(f'Loaded {len(update_records)} update records')"
   ]
  },
  {
   "cell_type": "markdown",
   "metadata": {},
   "source": [
    "## Evaluate Model Library Predictions after Updates\n",
    "We are going to incrementally measure the predictions as model updates"
   ]
  },
  {
   "cell_type": "code",
   "execution_count": 6,
   "metadata": {},
   "outputs": [
    {
     "name": "stdout",
     "output_type": "stream",
     "text": [
      "Found 18 molecules to evaluate\n"
     ]
    }
   ],
   "source": [
    "smiles = [r['smiles'] for r in result_data['task_info']]\n",
    "print(f'Found {len(smiles)} molecules to evaluate')"
   ]
  },
  {
   "cell_type": "code",
   "execution_count": 7,
   "metadata": {},
   "outputs": [],
   "source": [
    "models = eval(run_info['mpnn_model_files'])"
   ]
  },
  {
   "cell_type": "code",
   "execution_count": 8,
   "metadata": {},
   "outputs": [
    {
     "name": "stdout",
     "output_type": "stream",
     "text": [
      "Initialized a (18, 4, 101) array to store predictions\n"
     ]
    }
   ],
   "source": [
    "outputs = np.zeros((len(smiles), len(models), len(update_records) + 1))\n",
    "print(f'Initialized a {outputs.shape} array to store predictions')"
   ]
  },
  {
   "cell_type": "markdown",
   "metadata": {},
   "source": [
    "### Load in an Initial Model\n",
    "We are only going to hold one model in memory at a time"
   ]
  },
  {
   "cell_type": "code",
   "execution_count": 9,
   "metadata": {},
   "outputs": [
    {
     "name": "stderr",
     "output_type": "stream",
     "text": [
      "/lus/theta-fs0/projects/CSC249ADCD08/edw/env/lib/python3.7/site-packages/tensorflow_core/python/framework/indexed_slices.py:433: UserWarning: Converting sparse IndexedSlices to a dense Tensor of unknown shape. This may consume a large amount of memory.\n",
      "  \"Converting sparse IndexedSlices to a dense Tensor of unknown shape. \"\n",
      "/lus/theta-fs0/projects/CSC249ADCD08/edw/env/lib/python3.7/site-packages/tensorflow_core/python/framework/indexed_slices.py:433: UserWarning: Converting sparse IndexedSlices to a dense Tensor of unknown shape. This may consume a large amount of memory.\n",
      "  \"Converting sparse IndexedSlices to a dense Tensor of unknown shape. \"\n",
      "/lus/theta-fs0/projects/CSC249ADCD08/edw/env/lib/python3.7/site-packages/tensorflow_core/python/framework/indexed_slices.py:433: UserWarning: Converting sparse IndexedSlices to a dense Tensor of unknown shape. This may consume a large amount of memory.\n",
      "  \"Converting sparse IndexedSlices to a dense Tensor of unknown shape. \"\n",
      "/lus/theta-fs0/projects/CSC249ADCD08/edw/env/lib/python3.7/site-packages/tensorflow_core/python/framework/indexed_slices.py:433: UserWarning: Converting sparse IndexedSlices to a dense Tensor of unknown shape. This may consume a large amount of memory.\n",
      "  \"Converting sparse IndexedSlices to a dense Tensor of unknown shape. \"\n",
      "/lus/theta-fs0/projects/CSC249ADCD08/edw/env/lib/python3.7/site-packages/tensorflow_core/python/framework/indexed_slices.py:433: UserWarning: Converting sparse IndexedSlices to a dense Tensor of unknown shape. This may consume a large amount of memory.\n",
      "  \"Converting sparse IndexedSlices to a dense Tensor of unknown shape. \"\n",
      "/lus/theta-fs0/projects/CSC249ADCD08/edw/env/lib/python3.7/site-packages/tensorflow_core/python/framework/indexed_slices.py:433: UserWarning: Converting sparse IndexedSlices to a dense Tensor of unknown shape. This may consume a large amount of memory.\n",
      "  \"Converting sparse IndexedSlices to a dense Tensor of unknown shape. \"\n",
      "/lus/theta-fs0/projects/CSC249ADCD08/edw/env/lib/python3.7/site-packages/tensorflow_core/python/framework/indexed_slices.py:433: UserWarning: Converting sparse IndexedSlices to a dense Tensor of unknown shape. This may consume a large amount of memory.\n",
      "  \"Converting sparse IndexedSlices to a dense Tensor of unknown shape. \"\n",
      "/lus/theta-fs0/projects/CSC249ADCD08/edw/env/lib/python3.7/site-packages/tensorflow_core/python/framework/indexed_slices.py:433: UserWarning: Converting sparse IndexedSlices to a dense Tensor of unknown shape. This may consume a large amount of memory.\n",
      "  \"Converting sparse IndexedSlices to a dense Tensor of unknown shape. \"\n",
      "/lus/theta-fs0/projects/CSC249ADCD08/edw/env/lib/python3.7/site-packages/tensorflow_core/python/framework/indexed_slices.py:433: UserWarning: Converting sparse IndexedSlices to a dense Tensor of unknown shape. This may consume a large amount of memory.\n",
      "  \"Converting sparse IndexedSlices to a dense Tensor of unknown shape. \"\n",
      "/lus/theta-fs0/projects/CSC249ADCD08/edw/env/lib/python3.7/site-packages/tensorflow_core/python/framework/indexed_slices.py:433: UserWarning: Converting sparse IndexedSlices to a dense Tensor of unknown shape. This may consume a large amount of memory.\n",
      "  \"Converting sparse IndexedSlices to a dense Tensor of unknown shape. \"\n"
     ]
    }
   ],
   "source": [
    "model = tf.keras.models.load_model(os.path.join('..', models[0]), custom_objects=custom_objects)"
   ]
  },
  {
   "cell_type": "markdown",
   "metadata": {},
   "source": [
    "Create the inference function"
   ]
  },
  {
   "cell_type": "code",
   "execution_count": 10,
   "metadata": {},
   "outputs": [],
   "source": [
    "with open(os.path.join('..', run_info['mpnn_config_directory'], 'atom_types.json')) as fp:\n",
    "    atom_types = json.load(fp)"
   ]
  },
  {
   "cell_type": "code",
   "execution_count": 11,
   "metadata": {},
   "outputs": [],
   "source": [
    "with open(os.path.join('..', run_info['mpnn_config_directory'], 'bond_types.json')) as fp:\n",
    "    bond_types = json.load(fp)"
   ]
  },
  {
   "cell_type": "code",
   "execution_count": 12,
   "metadata": {},
   "outputs": [],
   "source": [
    "inference_function = partial(evaluate_mpnn, atom_types=atom_types, bond_types=bond_types, batch_size=512)"
   ]
  },
  {
   "cell_type": "markdown",
   "metadata": {},
   "source": [
    "### Get the Predictions of Initial Models\n",
    "Get how the models perform before we start updating them"
   ]
  },
  {
   "cell_type": "code",
   "execution_count": 13,
   "metadata": {},
   "outputs": [
    {
     "name": "stderr",
     "output_type": "stream",
     "text": [
      "4it [00:05,  1.28s/it]\n"
     ]
    }
   ],
   "source": [
    "for i, path in tqdm(enumerate(models)):\n",
    "    model.load_weights(os.path.join('..', path))\n",
    "    y_pred = inference_function([model], smiles)\n",
    "    outputs[:, i, :] = y_pred"
   ]
  },
  {
   "cell_type": "markdown",
   "metadata": {},
   "source": [
    "### Evaluate Predictions with Updates\n",
    "We are going to load in new models and re-evaluate predictions"
   ]
  },
  {
   "cell_type": "code",
   "execution_count": 14,
   "metadata": {},
   "outputs": [
    {
     "name": "stdout",
     "output_type": "stream",
     "text": [
      "Found 100 model updates\n"
     ]
    }
   ],
   "source": [
    "updated_model_paths = glob(os.path.join('..', run_info['path'], 'models', '*.h5'))\n",
    "print(f'Found {len(updated_model_paths)} model updates')"
   ]
  },
  {
   "cell_type": "markdown",
   "metadata": {},
   "source": [
    "Sort them by execution order"
   ]
  },
  {
   "cell_type": "code",
   "execution_count": 15,
   "metadata": {},
   "outputs": [],
   "source": [
    "updated_models = []\n",
    "for m in updated_model_paths:\n",
    "    words = os.path.basename(m)[:-3].split(\"_\")\n",
    "    updated_models.append({\n",
    "        'model_id': int(words[-1]),\n",
    "        'index': int(words[0]),\n",
    "        'path': m\n",
    "    })\n",
    "updated_models = pd.DataFrame(updated_models).sort_values('index')"
   ]
  },
  {
   "cell_type": "markdown",
   "metadata": {},
   "source": [
    "Evaluate each new model and store how the predictions change"
   ]
  },
  {
   "cell_type": "code",
   "execution_count": 16,
   "metadata": {},
   "outputs": [
    {
     "name": "stderr",
     "output_type": "stream",
     "text": [
      "100%|██████████| 100/100 [00:36<00:00,  2.71it/s]\n"
     ]
    }
   ],
   "source": [
    "for _, r in tqdm(updated_models.iterrows(), total=len(updated_models)):\n",
    "    # Update the model\n",
    "    model.load_weights(r[\"path\"])\n",
    "    \n",
    "    # Re-run inference\n",
    "    y_pred = inference_function([model], smiles)\n",
    "    \n",
    "    # Store these predictions for current iteration and \n",
    "    #  all future iterations with this model. We sorted\n",
    "    #  by execution order to prevent unnecessary overwriting\n",
    "    outputs[:, r[\"model_id\"], r[\"index\"] + 1:] = y_pred"
   ]
  },
  {
   "cell_type": "markdown",
   "metadata": {},
   "source": [
    "## Study how Predictions they Change\n",
    "See if our models improve, etc. with iteration"
   ]
  },
  {
   "cell_type": "markdown",
   "metadata": {},
   "source": [
    "Make the times for each update"
   ]
  },
  {
   "cell_type": "code",
   "execution_count": 17,
   "metadata": {},
   "outputs": [],
   "source": [
    "times = np.concatenate(([0], update_records['time_result_received'] - update_records['time_created'].min()))"
   ]
  },
  {
   "cell_type": "markdown",
   "metadata": {},
   "source": [
    "### Models Accuracy Changes\n",
    "See if the model gets better or worse with time"
   ]
  },
  {
   "cell_type": "code",
   "execution_count": 18,
   "metadata": {},
   "outputs": [],
   "source": [
    "y_true = result_data['value'].values"
   ]
  },
  {
   "cell_type": "code",
   "execution_count": 19,
   "metadata": {},
   "outputs": [],
   "source": [
    "maes = np.abs(outputs.mean(axis=1) - y_true[:, None]).mean(axis=0)"
   ]
  },
  {
   "cell_type": "code",
   "execution_count": 20,
   "metadata": {},
   "outputs": [
    {
     "data": {
      "text/plain": [
       "Text(0.5, 0, 'Walltime (s)')"
      ]
     },
     "execution_count": 20,
     "metadata": {},
     "output_type": "execute_result"
    },
    {
     "data": {
      "image/png": "[encoded data removed]",
      "text/plain": [
       "<Figure size 252x180 with 1 Axes>"
      ]
     },
     "metadata": {
      "needs_background": "light"
     },
     "output_type": "display_data"
    }
   ],
   "source": [
    "fig, ax = plt.subplots(figsize=(3.5, 2.5))\n",
    "\n",
    "ax.plot(times, maes, '--o')\n",
    "\n",
    "ax.set_ylabel('MAE (Ha)')\n",
    "ax.set_xlabel('Walltime (s)')"
   ]
  },
  {
   "cell_type": "markdown",
   "metadata": {},
   "source": [
    "## Ranking Changes\n",
    "See how the predicted ranking based on the mean or standard deviation of model predictons"
   ]
  },
  {
   "cell_type": "code",
   "execution_count": 21,
   "metadata": {},
   "outputs": [],
   "source": [
    "mean_order = np.argsort(outputs.mean(axis=1), axis=0)\n",
    "mean_ranks = mean_order.argsort(axis=0)"
   ]
  },
  {
   "cell_type": "code",
   "execution_count": 22,
   "metadata": {},
   "outputs": [],
   "source": [
    "std_order = np.argsort(outputs.std(axis=1), axis=0)\n",
    "std_ranks = std_order.argsort(axis=0)"
   ]
  },
  {
   "cell_type": "markdown",
   "metadata": {},
   "source": [
    "Compute how the ranking performance changes as we update the model"
   ]
  },
  {
   "cell_type": "code",
   "execution_count": 23,
   "metadata": {},
   "outputs": [],
   "source": [
    "std_tau = [kendalltau(std_ranks[:, 4], s)[0] for s in std_ranks.T]"
   ]
  },
  {
   "cell_type": "code",
   "execution_count": 24,
   "metadata": {},
   "outputs": [],
   "source": [
    "mean_tau = [kendalltau(mean_ranks[:, 4], s)[0] for s in mean_ranks.T]"
   ]
  },
  {
   "cell_type": "code",
   "execution_count": 25,
   "metadata": {},
   "outputs": [],
   "source": [
    "mean_corr = [np.corrcoef(mean_ranks[:, 4], s)[0, 1] for s in mean_ranks.T]"
   ]
  },
  {
   "cell_type": "code",
   "execution_count": 26,
   "metadata": {},
   "outputs": [],
   "source": [
    "std_corr = [np.corrcoef(std_ranks[:, 4], s)[0, 1] for s in std_ranks.T]"
   ]
  },
  {
   "cell_type": "code",
   "execution_count": 27,
   "metadata": {},
   "outputs": [
    {
     "data": {
      "image/png": "[encoded data removed]",
      "text/plain": [
       "<Figure size 396x180 with 2 Axes>"
      ]
     },
     "metadata": {
      "needs_background": "light"
     },
     "output_type": "display_data"
    }
   ],
   "source": [
    "fig, axs = plt.subplots(1, 2, sharey=True, figsize=(5.5, 2.5))\n",
    "\n",
    "axs[0].plot(times, mean_corr, '--o', color='crimson')\n",
    "axs[0].set_title('Ranking by Mean')\n",
    "axs[1].plot(times, std_corr, '--o')\n",
    "axs[1].set_title('Ranking by Variance')\n",
    "\n",
    "axs[0].set_ylabel('Correlation')\n",
    "for ax in axs:\n",
    "    ax.set_xlabel('Walltime (s)')"
   ]
  },
  {
   "cell_type": "markdown",
   "metadata": {},
   "source": [
    "*Finding*: The variance drops off slower and the correlation goes to zero."
   ]
  },
  {
   "cell_type": "code",
   "execution_count": null,
   "metadata": {},
   "outputs": [],
   "source": []
  }
 ],
 "metadata": {
  "kernelspec": {
   "display_name": "edw",
   "language": "python",
   "name": "edw"
  },
  "language_info": {
   "codemirror_mode": {
    "name": "ipython",
    "version": 3
   },
   "file_extension": ".py",
   "mimetype": "text/x-python",
   "name": "python",
   "nbconvert_exporter": "python",
   "pygments_lexer": "ipython3",
   "version": "3.7.9"
  }
 },
 "nbformat": 4,
 "nbformat_minor": 4
}
