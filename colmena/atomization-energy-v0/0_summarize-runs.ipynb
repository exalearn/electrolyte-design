{
 "cells": [
  {
   "cell_type": "markdown",
   "metadata": {},
   "source": [
    "# Summarize Runs\n",
    "Summarize the runs that have been performed to date"
   ]
  },
  {
   "cell_type": "code",
   "execution_count": 1,
   "metadata": {},
   "outputs": [],
   "source": [
    "%matplotlib inline\n",
    "from matplotlib import pyplot as plt\n",
    "from datetime import datetime\n",
    "from glob import glob\n",
    "import pandas as pd\n",
    "import json\n",
    "import re\n",
    "import os"
   ]
  },
  {
   "cell_type": "markdown",
   "metadata": {},
   "source": [
    "## Find the Result Directories\n",
    "They each contain a `runtime.log` file"
   ]
  },
  {
   "cell_type": "code",
   "execution_count": 2,
   "metadata": {},
   "outputs": [],
   "source": [
    "models = glob(os.path.join('runs', '**', 'runtime.log'))"
   ]
  },
  {
   "cell_type": "code",
   "execution_count": 3,
   "metadata": {},
   "outputs": [],
   "source": [
    "def load_models(log_path):\n",
    "    \"\"\"Get the information from the run in\n",
    "    \n",
    "    Args:\n",
    "        log_path (str): Path to the runtime log\n",
    "    \"\"\"\n",
    "    \n",
    "    # Store the path\n",
    "    run_dir = os.path.dirname(log_path)\n",
    "    path_name = os.path.basename(run_dir)\n",
    "    output = {\n",
    "        'path': run_dir,\n",
    "        'param_hash': path_name.split(\"-\")[-1],\n",
    "        'start_time': datetime.strptime(path_name[:13], \"%d%b%y-%H%M%S\")\n",
    "    }\n",
    "    \n",
    "    # Get the run parameters\n",
    "    with open(os.path.join(run_dir, 'run_params.json')) as fp:\n",
    "        output.update(json.load(fp))\n",
    "    for p in ['redishost', 'redisport']:\n",
    "        del output[p]\n",
    "        \n",
    "    # Load in the system information\n",
    "    with open(os.path.join(run_dir, 'host_info.json')) as fp:\n",
    "        output['hostname'] = json.load(fp)['hostname']\n",
    "        \n",
    "    # Count the number of workers\n",
    "    #  TODO (wardlt): Divide up by manager type\n",
    "    workers = 0\n",
    "    for m in glob(os.path.join(run_dir, '**', 'manager.log'), recursive=True):\n",
    "        with open(m) as fp:\n",
    "            workers += int(re.findall('Manager will spawn (\\d+) workers', fp.read(), re.MULTILINE)[0])\n",
    "    output['worker_count'] = workers\n",
    "        \n",
    "    # Get the number evaluated\n",
    "    result_file = os.path.join(run_dir, 'simulation_records.jsonld')\n",
    "    if os.path.isfile(result_file):\n",
    "        with open(result_file) as fp:\n",
    "            output['n_evals'] = len(fp.readlines())\n",
    "    \n",
    "    return output"
   ]
  },
  {
   "cell_type": "code",
   "execution_count": 4,
   "metadata": {},
   "outputs": [
    {
     "data": {
      "text/html": [
       "<div>\n",
       "<style scoped>\n",
       "    .dataframe tbody tr th:only-of-type {\n",
       "        vertical-align: middle;\n",
       "    }\n",
       "\n",
       "    .dataframe tbody tr th {\n",
       "        vertical-align: top;\n",
       "    }\n",
       "\n",
       "    .dataframe thead th {\n",
       "        text-align: right;\n",
       "    }\n",
       "</style>\n",
       "<table border=\"1\" class=\"dataframe\">\n",
       "  <thead>\n",
       "    <tr style=\"text-align: right;\">\n",
       "      <th></th>\n",
       "      <th>path</th>\n",
       "      <th>n_evals</th>\n",
       "      <th>worker_count</th>\n",
       "    </tr>\n",
       "  </thead>\n",
       "  <tbody>\n",
       "    <tr>\n",
       "      <th>4</th>\n",
       "      <td>runs/14Dec20-102234-45bbbb</td>\n",
       "      <td>208.0</td>\n",
       "      <td>66</td>\n",
       "    </tr>\n",
       "    <tr>\n",
       "      <th>2</th>\n",
       "      <td>runs/15Dec20-074345-dca458</td>\n",
       "      <td>351.0</td>\n",
       "      <td>130</td>\n",
       "    </tr>\n",
       "    <tr>\n",
       "      <th>3</th>\n",
       "      <td>runs/16Dec20-212040-c18827</td>\n",
       "      <td>37.0</td>\n",
       "      <td>35</td>\n",
       "    </tr>\n",
       "  </tbody>\n",
       "</table>\n",
       "</div>"
      ],
      "text/plain": [
       "                         path  n_evals  worker_count\n",
       "4  runs/14Dec20-102234-45bbbb    208.0            66\n",
       "2  runs/15Dec20-074345-dca458    351.0           130\n",
       "3  runs/16Dec20-212040-c18827     37.0            35"
      ]
     },
     "execution_count": 4,
     "metadata": {},
     "output_type": "execute_result"
    }
   ],
   "source": [
    "results = pd.DataFrame(load_models(m) for m in models).sort_values('start_time')\n",
    "results[['path', 'n_evals', 'worker_count']].tail(3)"
   ]
  },
  {
   "cell_type": "code",
   "execution_count": 5,
   "metadata": {},
   "outputs": [],
   "source": [
    "results.to_csv('run_data.csv', index=False)"
   ]
  },
  {
   "cell_type": "code",
   "execution_count": null,
   "metadata": {},
   "outputs": [],
   "source": []
  }
 ],
 "metadata": {
  "kernelspec": {
   "display_name": "Python 3",
   "language": "python",
   "name": "python3"
  },
  "language_info": {
   "codemirror_mode": {
    "name": "ipython",
    "version": 3
   },
   "file_extension": ".py",
   "mimetype": "text/x-python",
   "name": "python",
   "nbconvert_exporter": "python",
   "pygments_lexer": "ipython3",
   "version": "3.7.4"
  }
 },
 "nbformat": 4,
 "nbformat_minor": 4
}
