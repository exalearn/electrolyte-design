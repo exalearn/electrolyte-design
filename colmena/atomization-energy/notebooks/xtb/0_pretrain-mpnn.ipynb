{
 "cells": [
  {
   "cell_type": "markdown",
   "metadata": {},
   "source": [
    "# Pretrain MPNN using XTB Atomization Energies\n",
    "Use transfer learning from the Gaussian model to create an initial model for the atomization energy app."
   ]
  },
  {
   "cell_type": "code",
   "execution_count": 1,
   "metadata": {
    "execution": {
     "iopub.execute_input": "2020-10-29T19:21:33.301424Z",
     "iopub.status.busy": "2020-10-29T19:21:33.300627Z",
     "iopub.status.idle": "2020-10-29T19:21:36.593016Z",
     "shell.execute_reply": "2020-10-29T19:21:36.593721Z"
    }
   },
   "outputs": [
    {
     "name": "stderr",
     "output_type": "stream",
     "text": [
      "RDKit WARNING: [14:21:36] Enabling RDKit 2019.09.3 jupyter extensions\n"
     ]
    }
   ],
   "source": [
    "%matplotlib inline\n",
    "from matplotlib import pyplot as plt\n",
    "from moldesign.score.mpnn.data import convert_nx_to_dict, make_type_lookup_tables, make_tfrecord, make_data_loader\n",
    "from moldesign.utils.conversions import convert_smiles_to_nx\n",
    "from moldesign.score.mpnn.callbacks import LRLogger, EpochTimeLogger\n",
    "from moldesign.score.mpnn.layers import custom_objects\n",
    "from sklearn.model_selection import train_test_split\n",
    "from tqdm import tqdm\n",
    "import tensorflow as tf\n",
    "import pandas as pd\n",
    "import numpy as np\n",
    "import json\n",
    "import os"
   ]
  },
  {
   "cell_type": "markdown",
   "metadata": {},
   "source": [
    "Configuration data"
   ]
  },
  {
   "cell_type": "code",
   "execution_count": 2,
   "metadata": {
    "execution": {
     "iopub.execute_input": "2020-10-29T19:21:36.597119Z",
     "iopub.status.busy": "2020-10-29T19:21:36.596512Z",
     "iopub.status.idle": "2020-10-29T19:21:36.600433Z",
     "shell.execute_reply": "2020-10-29T19:21:36.601054Z"
    }
   },
   "outputs": [],
   "source": [
    "model_dir = os.path.join('..', '..', '..', '..', 'notebooks', 'mpnn-atomization-energy')\n",
    "assert os.path.isdir(model_dir)"
   ]
  },
  {
   "cell_type": "markdown",
   "metadata": {},
   "source": [
    "Initial dataset"
   ]
  },
  {
   "cell_type": "code",
   "execution_count": 3,
   "metadata": {
    "execution": {
     "iopub.execute_input": "2020-10-29T19:21:36.603990Z",
     "iopub.status.busy": "2020-10-29T19:21:36.603378Z",
     "iopub.status.idle": "2020-10-29T19:21:36.615051Z",
     "shell.execute_reply": "2020-10-29T19:21:36.615722Z"
    }
   },
   "outputs": [],
   "source": [
    "data_path = os.path.join('..', '..', 'baselines', 'random-search', 'xtb', 'xtb-random-search.jsonld')"
   ]
  },
  {
   "cell_type": "markdown",
   "metadata": {},
   "source": [
    "## Load in the XTB Data\n",
    "Make the training and validation data for the model"
   ]
  },
  {
   "cell_type": "code",
   "execution_count": 4,
   "metadata": {
    "execution": {
     "iopub.execute_input": "2020-10-29T19:21:36.782705Z",
     "iopub.status.busy": "2020-10-29T19:21:36.781955Z",
     "iopub.status.idle": "2020-10-29T19:21:36.817018Z",
     "shell.execute_reply": "2020-10-29T19:21:36.817747Z"
    }
   },
   "outputs": [],
   "source": [
    "data = pd.read_json(data_path, lines=True)"
   ]
  },
  {
   "cell_type": "code",
   "execution_count": 5,
   "metadata": {
    "execution": {
     "iopub.execute_input": "2020-10-29T19:21:36.821422Z",
     "iopub.status.busy": "2020-10-29T19:21:36.820779Z",
     "iopub.status.idle": "2020-10-29T19:21:48.520469Z",
     "shell.execute_reply": "2020-10-29T19:21:48.521116Z"
    }
   },
   "outputs": [
    {
     "name": "stdout",
     "output_type": "stream",
     "text": [
      "CPU times: user 11 s, sys: 429 ms, total: 11.4 s\n",
      "Wall time: 11.7 s\n"
     ]
    }
   ],
   "source": [
    "%%time\n",
    "data['nx'] = data['smiles'].apply(lambda x: convert_smiles_to_nx(x, add_hs=True))"
   ]
  },
  {
   "cell_type": "markdown",
   "metadata": {},
   "source": [
    "Save it in TF format"
   ]
  },
  {
   "cell_type": "code",
   "execution_count": 6,
   "metadata": {
    "execution": {
     "iopub.execute_input": "2020-10-29T19:21:48.524173Z",
     "iopub.status.busy": "2020-10-29T19:21:48.523556Z",
     "iopub.status.idle": "2020-10-29T19:21:48.540694Z",
     "shell.execute_reply": "2020-10-29T19:21:48.541382Z"
    }
   },
   "outputs": [],
   "source": [
    "with open(os.path.join(model_dir, 'atom_types.json')) as fp:\n",
    "    atom_types = json.load(fp)\n",
    "with open('atom_types.json', 'w') as fp:\n",
    "    json.dump(atom_types, fp)"
   ]
  },
  {
   "cell_type": "code",
   "execution_count": 7,
   "metadata": {
    "execution": {
     "iopub.execute_input": "2020-10-29T19:21:48.547455Z",
     "iopub.status.busy": "2020-10-29T19:21:48.546784Z",
     "iopub.status.idle": "2020-10-29T19:21:48.549224Z",
     "shell.execute_reply": "2020-10-29T19:21:48.548582Z"
    }
   },
   "outputs": [],
   "source": [
    "with open(os.path.join(model_dir, 'bond_types.json')) as fp:\n",
    "    bond_types = json.load(fp)\n",
    "with open('bond_types.json', 'w') as fp:\n",
    "    json.dump(bond_types, fp)"
   ]
  },
  {
   "cell_type": "code",
   "execution_count": 8,
   "metadata": {
    "execution": {
     "iopub.execute_input": "2020-10-29T19:21:48.551981Z",
     "iopub.status.busy": "2020-10-29T19:21:48.551381Z",
     "iopub.status.idle": "2020-10-29T19:21:48.564578Z",
     "shell.execute_reply": "2020-10-29T19:21:48.565269Z"
    }
   },
   "outputs": [],
   "source": [
    "train_set, test_set = train_test_split(data, test_size=0.1, random_state=1)"
   ]
  },
  {
   "cell_type": "code",
   "execution_count": 9,
   "metadata": {
    "execution": {
     "iopub.execute_input": "2020-10-29T19:21:48.568351Z",
     "iopub.status.busy": "2020-10-29T19:21:48.567727Z",
     "iopub.status.idle": "2020-10-29T19:21:48.590767Z",
     "shell.execute_reply": "2020-10-29T19:21:48.589952Z"
    }
   },
   "outputs": [],
   "source": [
    "train_set, val_set = train_test_split(train_set, test_size=0.1, random_state=1)"
   ]
  },
  {
   "cell_type": "markdown",
   "metadata": {},
   "source": [
    "Save the data"
   ]
  },
  {
   "cell_type": "code",
   "execution_count": 10,
   "metadata": {
    "execution": {
     "iopub.execute_input": "2020-10-29T19:21:48.600787Z",
     "iopub.status.busy": "2020-10-29T19:21:48.600052Z",
     "iopub.status.idle": "2020-10-29T19:21:59.675811Z",
     "shell.execute_reply": "2020-10-29T19:21:59.676400Z"
    }
   },
   "outputs": [
    {
     "name": "stderr",
     "output_type": "stream",
     "text": [
      "train: 12387it [00:08, 1405.86it/s]\n",
      "valid: 1377it [00:00, 1392.13it/s]\n",
      "test: 1530it [00:01, 1342.61it/s]\n"
     ]
    }
   ],
   "source": [
    "for name, dataset in zip(['train', 'valid', 'test'], [train_set, val_set, test_set]):\n",
    "    dataset = dataset.sample(frac=1.)  # Shuffle contents\n",
    "    dataset.to_csv(f'{name}_data.csv', index=False)\n",
    "    with tf.io.TFRecordWriter(f'{name}_data.proto') as writer:\n",
    "        for _, entry in tqdm(dataset.iterrows(), desc=name):\n",
    "            record = convert_nx_to_dict(entry['nx'], atom_types, bond_types)\n",
    "            for output in ['energy']:\n",
    "                record[output] = entry[output]\n",
    "            writer.write(make_tfrecord(record))"
   ]
  },
  {
   "cell_type": "markdown",
   "metadata": {},
   "source": [
    "## Train the Model\n",
    "Use the model trained on the QM9 atomization energy"
   ]
  },
  {
   "cell_type": "code",
   "execution_count": 11,
   "metadata": {
    "execution": {
     "iopub.execute_input": "2020-10-29T19:21:59.679408Z",
     "iopub.status.busy": "2020-10-29T19:21:59.678825Z",
     "iopub.status.idle": "2020-10-29T19:22:14.403407Z",
     "shell.execute_reply": "2020-10-29T19:22:14.404110Z"
    }
   },
   "outputs": [
    {
     "name": "stderr",
     "output_type": "stream",
     "text": [
      "/home/lward/electrolyte-design/env/lib/python3.7/site-packages/tensorflow_core/python/framework/indexed_slices.py:433: UserWarning: Converting sparse IndexedSlices to a dense Tensor of unknown shape. This may consume a large amount of memory.\n",
      "  \"Converting sparse IndexedSlices to a dense Tensor of unknown shape. \"\n",
      "/home/lward/electrolyte-design/env/lib/python3.7/site-packages/tensorflow_core/python/framework/indexed_slices.py:433: UserWarning: Converting sparse IndexedSlices to a dense Tensor of unknown shape. This may consume a large amount of memory.\n",
      "  \"Converting sparse IndexedSlices to a dense Tensor of unknown shape. \"\n",
      "/home/lward/electrolyte-design/env/lib/python3.7/site-packages/tensorflow_core/python/framework/indexed_slices.py:433: UserWarning: Converting sparse IndexedSlices to a dense Tensor of unknown shape. This may consume a large amount of memory.\n",
      "  \"Converting sparse IndexedSlices to a dense Tensor of unknown shape. \"\n",
      "/home/lward/electrolyte-design/env/lib/python3.7/site-packages/tensorflow_core/python/framework/indexed_slices.py:433: UserWarning: Converting sparse IndexedSlices to a dense Tensor of unknown shape. This may consume a large amount of memory.\n",
      "  \"Converting sparse IndexedSlices to a dense Tensor of unknown shape. \"\n",
      "/home/lward/electrolyte-design/env/lib/python3.7/site-packages/tensorflow_core/python/framework/indexed_slices.py:433: UserWarning: Converting sparse IndexedSlices to a dense Tensor of unknown shape. This may consume a large amount of memory.\n",
      "  \"Converting sparse IndexedSlices to a dense Tensor of unknown shape. \"\n",
      "/home/lward/electrolyte-design/env/lib/python3.7/site-packages/tensorflow_core/python/framework/indexed_slices.py:433: UserWarning: Converting sparse IndexedSlices to a dense Tensor of unknown shape. This may consume a large amount of memory.\n",
      "  \"Converting sparse IndexedSlices to a dense Tensor of unknown shape. \"\n",
      "/home/lward/electrolyte-design/env/lib/python3.7/site-packages/tensorflow_core/python/framework/indexed_slices.py:433: UserWarning: Converting sparse IndexedSlices to a dense Tensor of unknown shape. This may consume a large amount of memory.\n",
      "  \"Converting sparse IndexedSlices to a dense Tensor of unknown shape. \"\n",
      "/home/lward/electrolyte-design/env/lib/python3.7/site-packages/tensorflow_core/python/framework/indexed_slices.py:433: UserWarning: Converting sparse IndexedSlices to a dense Tensor of unknown shape. This may consume a large amount of memory.\n",
      "  \"Converting sparse IndexedSlices to a dense Tensor of unknown shape. \"\n",
      "/home/lward/electrolyte-design/env/lib/python3.7/site-packages/tensorflow_core/python/framework/indexed_slices.py:433: UserWarning: Converting sparse IndexedSlices to a dense Tensor of unknown shape. This may consume a large amount of memory.\n",
      "  \"Converting sparse IndexedSlices to a dense Tensor of unknown shape. \"\n",
      "/home/lward/electrolyte-design/env/lib/python3.7/site-packages/tensorflow_core/python/framework/indexed_slices.py:433: UserWarning: Converting sparse IndexedSlices to a dense Tensor of unknown shape. This may consume a large amount of memory.\n",
      "  \"Converting sparse IndexedSlices to a dense Tensor of unknown shape. \"\n"
     ]
    }
   ],
   "source": [
    "model = tf.keras.models.load_model(os.path.join(model_dir, 'best_model.h5'), custom_objects=custom_objects)"
   ]
  },
  {
   "cell_type": "code",
   "execution_count": 12,
   "metadata": {
    "execution": {
     "iopub.execute_input": "2020-10-29T19:22:14.407726Z",
     "iopub.status.busy": "2020-10-29T19:22:14.407095Z",
     "iopub.status.idle": "2020-10-29T19:22:14.410641Z",
     "shell.execute_reply": "2020-10-29T19:22:14.411267Z"
    }
   },
   "outputs": [],
   "source": [
    "with open(os.path.join(model_dir, 'best_config.json')) as fp:\n",
    "    config = json.load(fp)"
   ]
  },
  {
   "cell_type": "markdown",
   "metadata": {},
   "source": [
    "Make the data loaders"
   ]
  },
  {
   "cell_type": "code",
   "execution_count": 13,
   "metadata": {
    "execution": {
     "iopub.execute_input": "2020-10-29T19:22:14.414442Z",
     "iopub.status.busy": "2020-10-29T19:22:14.413799Z",
     "iopub.status.idle": "2020-10-29T19:22:15.390866Z",
     "shell.execute_reply": "2020-10-29T19:22:15.391932Z"
    }
   },
   "outputs": [],
   "source": [
    "train_loader = make_data_loader('train_data.proto', shuffle_buffer=1024, batch_size=config['batch_size'], output_property='energy')"
   ]
  },
  {
   "cell_type": "code",
   "execution_count": 14,
   "metadata": {
    "execution": {
     "iopub.execute_input": "2020-10-29T19:22:15.402154Z",
     "iopub.status.busy": "2020-10-29T19:22:15.401416Z",
     "iopub.status.idle": "2020-10-29T19:22:15.670732Z",
     "shell.execute_reply": "2020-10-29T19:22:15.671649Z"
    }
   },
   "outputs": [],
   "source": [
    "val_loader = make_data_loader('valid_data.proto', batch_size=config['batch_size'], output_property='energy')"
   ]
  },
  {
   "cell_type": "code",
   "execution_count": 15,
   "metadata": {
    "execution": {
     "iopub.execute_input": "2020-10-29T19:22:15.675859Z",
     "iopub.status.busy": "2020-10-29T19:22:15.675168Z",
     "iopub.status.idle": "2020-10-29T19:22:16.012826Z",
     "shell.execute_reply": "2020-10-29T19:22:16.013897Z"
    }
   },
   "outputs": [],
   "source": [
    "test_loader = make_data_loader('test_data.proto', batch_size=config['batch_size'], output_property='energy')"
   ]
  },
  {
   "cell_type": "markdown",
   "metadata": {},
   "source": [
    "Re-compile the model with a new optimizer"
   ]
  },
  {
   "cell_type": "code",
   "execution_count": 16,
   "metadata": {
    "execution": {
     "iopub.execute_input": "2020-10-29T19:22:16.019713Z",
     "iopub.status.busy": "2020-10-29T19:22:16.019072Z",
     "iopub.status.idle": "2020-10-29T19:22:16.020713Z",
     "shell.execute_reply": "2020-10-29T19:22:16.021647Z"
    }
   },
   "outputs": [],
   "source": [
    "final_learn_rate = 1e-6\n",
    "init_learn_rate = 1e-3\n",
    "decay_rate = (final_learn_rate / init_learn_rate) ** (1. / (config['num_epochs'] - 1))"
   ]
  },
  {
   "cell_type": "code",
   "execution_count": 17,
   "metadata": {
    "execution": {
     "iopub.execute_input": "2020-10-29T19:22:16.026080Z",
     "iopub.status.busy": "2020-10-29T19:22:16.025509Z",
     "iopub.status.idle": "2020-10-29T19:22:16.027211Z",
     "shell.execute_reply": "2020-10-29T19:22:16.028134Z"
    }
   },
   "outputs": [],
   "source": [
    "def lr_schedule(epoch, lr):\n",
    "    return lr * decay_rate"
   ]
  },
  {
   "cell_type": "code",
   "execution_count": 18,
   "metadata": {
    "execution": {
     "iopub.execute_input": "2020-10-29T19:22:16.031026Z",
     "iopub.status.busy": "2020-10-29T19:22:16.030484Z",
     "iopub.status.idle": "2020-10-29T19:22:16.033757Z",
     "shell.execute_reply": "2020-10-29T19:22:16.034595Z"
    }
   },
   "outputs": [],
   "source": [
    "cb = tf.keras.callbacks"
   ]
  },
  {
   "cell_type": "code",
   "execution_count": 19,
   "metadata": {
    "execution": {
     "iopub.execute_input": "2020-10-29T19:22:16.037521Z",
     "iopub.status.busy": "2020-10-29T19:22:16.036950Z",
     "iopub.status.idle": "2020-10-29T19:49:58.572313Z",
     "shell.execute_reply": "2020-10-29T19:49:58.573117Z"
    }
   },
   "outputs": [
    {
     "name": "stderr",
     "output_type": "stream",
     "text": [
      "/home/lward/electrolyte-design/env/lib/python3.7/site-packages/tensorflow_core/python/framework/indexed_slices.py:433: UserWarning: Converting sparse IndexedSlices to a dense Tensor of unknown shape. This may consume a large amount of memory.\n",
      "  \"Converting sparse IndexedSlices to a dense Tensor of unknown shape. \"\n",
      "/home/lward/electrolyte-design/env/lib/python3.7/site-packages/tensorflow_core/python/framework/indexed_slices.py:433: UserWarning: Converting sparse IndexedSlices to a dense Tensor of unknown shape. This may consume a large amount of memory.\n",
      "  \"Converting sparse IndexedSlices to a dense Tensor of unknown shape. \"\n",
      "/home/lward/electrolyte-design/env/lib/python3.7/site-packages/tensorflow_core/python/framework/indexed_slices.py:433: UserWarning: Converting sparse IndexedSlices to a dense Tensor of unknown shape. This may consume a large amount of memory.\n",
      "  \"Converting sparse IndexedSlices to a dense Tensor of unknown shape. \"\n",
      "/home/lward/electrolyte-design/env/lib/python3.7/site-packages/tensorflow_core/python/framework/indexed_slices.py:433: UserWarning: Converting sparse IndexedSlices to a dense Tensor of unknown shape. This may consume a large amount of memory.\n",
      "  \"Converting sparse IndexedSlices to a dense Tensor of unknown shape. \"\n",
      "/home/lward/electrolyte-design/env/lib/python3.7/site-packages/tensorflow_core/python/framework/indexed_slices.py:433: UserWarning: Converting sparse IndexedSlices to a dense Tensor of unknown shape. This may consume a large amount of memory.\n",
      "  \"Converting sparse IndexedSlices to a dense Tensor of unknown shape. \"\n",
      "/home/lward/electrolyte-design/env/lib/python3.7/site-packages/tensorflow_core/python/framework/indexed_slices.py:433: UserWarning: Converting sparse IndexedSlices to a dense Tensor of unknown shape. This may consume a large amount of memory.\n",
      "  \"Converting sparse IndexedSlices to a dense Tensor of unknown shape. \"\n",
      "/home/lward/electrolyte-design/env/lib/python3.7/site-packages/tensorflow_core/python/framework/indexed_slices.py:433: UserWarning: Converting sparse IndexedSlices to a dense Tensor of unknown shape. This may consume a large amount of memory.\n",
      "  \"Converting sparse IndexedSlices to a dense Tensor of unknown shape. \"\n",
      "/home/lward/electrolyte-design/env/lib/python3.7/site-packages/tensorflow_core/python/framework/indexed_slices.py:433: UserWarning: Converting sparse IndexedSlices to a dense Tensor of unknown shape. This may consume a large amount of memory.\n",
      "  \"Converting sparse IndexedSlices to a dense Tensor of unknown shape. \"\n",
      "/home/lward/electrolyte-design/env/lib/python3.7/site-packages/tensorflow_core/python/framework/indexed_slices.py:433: UserWarning: Converting sparse IndexedSlices to a dense Tensor of unknown shape. This may consume a large amount of memory.\n",
      "  \"Converting sparse IndexedSlices to a dense Tensor of unknown shape. \"\n",
      "/home/lward/electrolyte-design/env/lib/python3.7/site-packages/tensorflow_core/python/framework/indexed_slices.py:433: UserWarning: Converting sparse IndexedSlices to a dense Tensor of unknown shape. This may consume a large amount of memory.\n",
      "  \"Converting sparse IndexedSlices to a dense Tensor of unknown shape. \"\n",
      "/home/lward/electrolyte-design/env/lib/python3.7/site-packages/tensorflow_core/python/framework/indexed_slices.py:433: UserWarning: Converting sparse IndexedSlices to a dense Tensor of unknown shape. This may consume a large amount of memory.\n",
      "  \"Converting sparse IndexedSlices to a dense Tensor of unknown shape. \"\n",
      "/home/lward/electrolyte-design/env/lib/python3.7/site-packages/tensorflow_core/python/framework/indexed_slices.py:433: UserWarning: Converting sparse IndexedSlices to a dense Tensor of unknown shape. This may consume a large amount of memory.\n",
      "  \"Converting sparse IndexedSlices to a dense Tensor of unknown shape. \"\n",
      "/home/lward/electrolyte-design/env/lib/python3.7/site-packages/tensorflow_core/python/framework/indexed_slices.py:433: UserWarning: Converting sparse IndexedSlices to a dense Tensor of unknown shape. This may consume a large amount of memory.\n",
      "  \"Converting sparse IndexedSlices to a dense Tensor of unknown shape. \"\n",
      "/home/lward/electrolyte-design/env/lib/python3.7/site-packages/tensorflow_core/python/framework/indexed_slices.py:433: UserWarning: Converting sparse IndexedSlices to a dense Tensor of unknown shape. This may consume a large amount of memory.\n",
      "  \"Converting sparse IndexedSlices to a dense Tensor of unknown shape. \"\n",
      "/home/lward/electrolyte-design/env/lib/python3.7/site-packages/tensorflow_core/python/framework/indexed_slices.py:433: UserWarning: Converting sparse IndexedSlices to a dense Tensor of unknown shape. This may consume a large amount of memory.\n",
      "  \"Converting sparse IndexedSlices to a dense Tensor of unknown shape. \"\n",
      "/home/lward/electrolyte-design/env/lib/python3.7/site-packages/tensorflow_core/python/framework/indexed_slices.py:433: UserWarning: Converting sparse IndexedSlices to a dense Tensor of unknown shape. This may consume a large amount of memory.\n",
      "  \"Converting sparse IndexedSlices to a dense Tensor of unknown shape. \"\n",
      "/home/lward/electrolyte-design/env/lib/python3.7/site-packages/tensorflow_core/python/framework/indexed_slices.py:433: UserWarning: Converting sparse IndexedSlices to a dense Tensor of unknown shape. This may consume a large amount of memory.\n",
      "  \"Converting sparse IndexedSlices to a dense Tensor of unknown shape. \"\n",
      "/home/lward/electrolyte-design/env/lib/python3.7/site-packages/tensorflow_core/python/framework/indexed_slices.py:433: UserWarning: Converting sparse IndexedSlices to a dense Tensor of unknown shape. This may consume a large amount of memory.\n",
      "  \"Converting sparse IndexedSlices to a dense Tensor of unknown shape. \"\n",
      "/home/lward/electrolyte-design/env/lib/python3.7/site-packages/tensorflow_core/python/framework/indexed_slices.py:433: UserWarning: Converting sparse IndexedSlices to a dense Tensor of unknown shape. This may consume a large amount of memory.\n",
      "  \"Converting sparse IndexedSlices to a dense Tensor of unknown shape. \"\n",
      "/home/lward/electrolyte-design/env/lib/python3.7/site-packages/tensorflow_core/python/framework/indexed_slices.py:433: UserWarning: Converting sparse IndexedSlices to a dense Tensor of unknown shape. This may consume a large amount of memory.\n",
      "  \"Converting sparse IndexedSlices to a dense Tensor of unknown shape. \"\n"
     ]
    }
   ],
   "source": [
    "model.compile(tf.keras.optimizers.Adam(init_learn_rate), 'mean_squared_error', metrics=['mean_absolute_error'])\n",
    "history = model.fit(\n",
    "    train_loader, validation_data=val_loader, epochs=config['num_epochs'], verbose=False,\n",
    "    shuffle=False, callbacks=[\n",
    "        LRLogger(),\n",
    "        EpochTimeLogger(),\n",
    "        cb.LearningRateScheduler(lr_schedule),\n",
    "        cb.ModelCheckpoint('best_model.h5', save_best_only=True),\n",
    "        cb.EarlyStopping(patience=128, restore_best_weights=True),\n",
    "        cb.CSVLogger('train_log.csv'),\n",
    "        cb.TerminateOnNaN()\n",
    "    ]\n",
    ")"
   ]
  },
  {
   "cell_type": "markdown",
   "metadata": {},
   "source": [
    "Plot the training performance"
   ]
  },
  {
   "cell_type": "code",
   "execution_count": 20,
   "metadata": {
    "execution": {
     "iopub.execute_input": "2020-10-29T19:49:58.577703Z",
     "iopub.status.busy": "2020-10-29T19:49:58.577075Z",
     "iopub.status.idle": "2020-10-29T19:49:59.720601Z",
     "shell.execute_reply": "2020-10-29T19:49:59.721305Z"
    }
   },
   "outputs": [
    {
     "data": {
      "text/plain": [
       "Text(0, 0.5, 'Loss (Ha$^2$)')"
      ]
     },
     "execution_count": 1,
     "metadata": {},
     "output_type": "execute_result"
    },
    {
     "data": {
      "image/png": "[encoded data removed]",
      "text/plain": [
       "<Figure size 252x180 with 1 Axes>"
      ]
     },
     "metadata": {
      "needs_background": "light"
     },
     "output_type": "display_data"
    }
   ],
   "source": [
    "fig, ax = plt.subplots(figsize=(3.5, 2.5))\n",
    "\n",
    "ax.semilogy(history.epoch, history.history['loss'], label='Train')\n",
    "ax.semilogy(history.epoch, history.history['val_loss'], label='Validation')\n",
    "\n",
    "ax.set_xlabel('Epoch')\n",
    "ax.set_ylabel('Loss (Ha$^2$)')"
   ]
  },
  {
   "cell_type": "markdown",
   "metadata": {},
   "source": [
    "## Assess Performance\n",
    "Evaluate ht emodel performance"
   ]
  },
  {
   "cell_type": "code",
   "execution_count": 21,
   "metadata": {
    "execution": {
     "iopub.execute_input": "2020-10-29T19:49:59.728163Z",
     "iopub.status.busy": "2020-10-29T19:49:59.727435Z",
     "iopub.status.idle": "2020-10-29T19:50:01.460271Z",
     "shell.execute_reply": "2020-10-29T19:50:01.461195Z"
    }
   },
   "outputs": [],
   "source": [
    "y_true = np.hstack([x[1].numpy()[:, 0] for x in iter(test_loader)])\n",
    "y_pred = np.squeeze(model.predict(test_loader))"
   ]
  },
  {
   "cell_type": "code",
   "execution_count": 22,
   "metadata": {
    "execution": {
     "iopub.execute_input": "2020-10-29T19:50:01.465563Z",
     "iopub.status.busy": "2020-10-29T19:50:01.464432Z",
     "iopub.status.idle": "2020-10-29T19:50:01.471159Z",
     "shell.execute_reply": "2020-10-29T19:50:01.471978Z"
    }
   },
   "outputs": [],
   "source": [
    "test_data = pd.DataFrame({'true': y_true, 'pred': y_pred})"
   ]
  },
  {
   "cell_type": "code",
   "execution_count": 23,
   "metadata": {
    "execution": {
     "iopub.execute_input": "2020-10-29T19:50:01.475885Z",
     "iopub.status.busy": "2020-10-29T19:50:01.474738Z",
     "iopub.status.idle": "2020-10-29T19:50:01.914100Z",
     "shell.execute_reply": "2020-10-29T19:50:01.915088Z"
    }
   },
   "outputs": [
    {
     "data": {
      "image/png": "[encoded data removed]",
      "text/plain": [
       "<Figure size 468x180 with 2 Axes>"
      ]
     },
     "metadata": {
      "needs_background": "light"
     },
     "output_type": "display_data"
    }
   ],
   "source": [
    "fig, axs = plt.subplots(1, 2, figsize=(6.5, 2.5))\n",
    "\n",
    "errors = (test_data['pred'] - test_data['true']) * 627.50947406  # kcal/mol\n",
    "r2_score = np.corrcoef(test_data['pred'], test_data['true'])[0][1] ** 2\n",
    "\n",
    "ax = axs[0]\n",
    "ax.scatter(test_data['true'], test_data['pred'], s=25, alpha=0.7, edgecolor='none')\n",
    "ax.text(0.05, 0.95, f'$R^2$:{r2_score: .5f}\\nMAE:{errors.abs().mean(): .1f} kcal/mol', \n",
    "       transform=ax.transAxes, va='top', ha='left')\n",
    "\n",
    "ax.set_xlim(ax.get_xlim())\n",
    "ax.set_ylim(ax.get_xlim())\n",
    "\n",
    "ax.plot(ax.get_xlim(), ax.get_xlim(), 'k--')\n",
    "\n",
    "ax.set_xlabel('$U_0$, True (Ha)')\n",
    "ax.set_ylabel('$U_0$, MPNN (Ha)')\n",
    "\n",
    "ax = axs[1]\n",
    "\n",
    "\n",
    "ax.hist(errors, bins=np.linspace(-6, 6, 32))\n",
    "ax.text(1, 0.95, f'', \n",
    "       transform=ax.transAxes, va='top', ha='right')\n",
    "\n",
    "ax.set_ylim(ax.get_ylim())\n",
    "ax.plot([-1, -1], ax.get_ylim(), 'k--')\n",
    "ax.plot([1, 1], ax.get_ylim(), 'k--')\n",
    "\n",
    "ax.set_xlabel('Error (kcal/mol)')\n",
    "ax.set_ylabel('Frequency')\n",
    "fig.tight_layout()"
   ]
  },
  {
   "cell_type": "code",
   "execution_count": null,
   "metadata": {},
   "outputs": [],
   "source": []
  }
 ],
 "metadata": {
  "kernelspec": {
   "display_name": "edw",
   "language": "python",
   "name": "python"
  },
  "language_info": {
   "codemirror_mode": {
    "name": "ipython",
    "version": 3
   },
   "file_extension": ".py",
   "mimetype": "text/x-python",
   "name": "python",
   "nbconvert_exporter": "python",
   "pygments_lexer": "ipython3",
   "version": "3.7.9"
  }
 },
 "nbformat": 4,
 "nbformat_minor": 4
}
