{
 "cells": [
  {
   "cell_type": "markdown",
   "metadata": {},
   "source": [
    "# Collect Results from the Training, Pick the Best MolDQN\n",
    "Get the results from the different runs and mark the MolDQN which was the best"
   ]
  },
  {
   "cell_type": "code",
   "execution_count": 1,
   "metadata": {},
   "outputs": [],
   "source": [
    "%matplotlib inline\n",
    "from matplotlib import pyplot as plt\n",
    "from glob import glob\n",
    "import pandas as pd\n",
    "import numpy as np\n",
    "import json\n",
    "import os"
   ]
  },
  {
   "cell_type": "markdown",
   "metadata": {},
   "source": [
    "Things to configure"
   ]
  },
  {
   "cell_type": "code",
   "execution_count": 2,
   "metadata": {},
   "outputs": [],
   "source": [
    "top_mols_to_save = 8192"
   ]
  },
  {
   "cell_type": "markdown",
   "metadata": {},
   "source": [
    "## Get all the Results\n",
    "Get the results of any models"
   ]
  },
  {
   "cell_type": "code",
   "execution_count": 3,
   "metadata": {},
   "outputs": [
    {
     "name": "stdout",
     "output_type": "stream",
     "text": [
      "Found 8 run directories\n"
     ]
    }
   ],
   "source": [
    "dirs = list(filter(os.path.isdir, glob(os.path.join('rl_tests', '*'))))\n",
    "print(f'Found {len(dirs)} run directories')"
   ]
  },
  {
   "cell_type": "code",
   "execution_count": 4,
   "metadata": {},
   "outputs": [],
   "source": [
    "def summarize_run(path: str) -> dict:\n",
    "    \"\"\"Summarize the performance of a certain run\n",
    "    \n",
    "    Args:\n",
    "        path (str): Path to the ML run\n",
    "    Returns:\n",
    "        (dict) Run summary\n",
    "    \"\"\"\n",
    "    \n",
    "    # First, load in the configuratoin\n",
    "    with open(os.path.join(path, 'config.json')) as fp:\n",
    "        output = json.load(fp)\n",
    "    output['path'] = path\n",
    "        \n",
    "    # Load in the name of the system and some other performance details\n",
    "    perf_path = os.path.join(path, 'performance.json')\n",
    "    if os.path.isfile(perf_path):\n",
    "        with open(perf_path) as fp:\n",
    "            perf = json.load(fp)\n",
    "            for k in ['hostname', 'runtime']:\n",
    "                output[k] = perf[k]\n",
    "        output['complete'] = True\n",
    "    else:\n",
    "        output['complete'] = False\n",
    "            \n",
    "    # Assess the run data\n",
    "    try:\n",
    "        mols = pd.read_csv(os.path.join(path, 'molecules.csv'))\n",
    "    except:\n",
    "        return output\n",
    "    if not output['maximize']:\n",
    "        mols['reward'] = -1 * mols['reward']\n",
    "    output['episodes_completed'] = mols['episode'].max() + 1\n",
    "    output['rewards_computed'] = len(mols)\n",
    "    output['unique_molecules'] = len(set(mols['smiles']))\n",
    "    output['unique_fraction'] = output['unique_molecules'] / len(mols)\n",
    "    output['best_found'] = -1 * mols['u0_atom'].max()\n",
    "    output['below_4ha'] = len(set(mols.query('u0_atom >= 4')['smiles']))\n",
    "        \n",
    "    return output"
   ]
  },
  {
   "cell_type": "code",
   "execution_count": 5,
   "metadata": {},
   "outputs": [
    {
     "data": {
      "text/html": [
       "<div>\n",
       "<style scoped>\n",
       "    .dataframe tbody tr th:only-of-type {\n",
       "        vertical-align: middle;\n",
       "    }\n",
       "\n",
       "    .dataframe tbody tr th {\n",
       "        vertical-align: top;\n",
       "    }\n",
       "\n",
       "    .dataframe thead th {\n",
       "        text-align: right;\n",
       "    }\n",
       "</style>\n",
       "<table border=\"1\" class=\"dataframe\">\n",
       "  <thead>\n",
       "    <tr style=\"text-align: right;\">\n",
       "      <th></th>\n",
       "      <th>epsilon</th>\n",
       "      <th>epsilon_decay</th>\n",
       "      <th>max_steps</th>\n",
       "      <th>episodes</th>\n",
       "      <th>q_update_freq</th>\n",
       "      <th>reward</th>\n",
       "      <th>hidden_layers</th>\n",
       "      <th>gamma</th>\n",
       "      <th>fingerprint_size</th>\n",
       "      <th>batch_size</th>\n",
       "      <th>...</th>\n",
       "      <th>path</th>\n",
       "      <th>hostname</th>\n",
       "      <th>runtime</th>\n",
       "      <th>complete</th>\n",
       "      <th>episodes_completed</th>\n",
       "      <th>rewards_computed</th>\n",
       "      <th>unique_molecules</th>\n",
       "      <th>unique_fraction</th>\n",
       "      <th>best_found</th>\n",
       "      <th>below_4ha</th>\n",
       "    </tr>\n",
       "  </thead>\n",
       "  <tbody>\n",
       "    <tr>\n",
       "      <th>1</th>\n",
       "      <td>1.0</td>\n",
       "      <td>0.9995</td>\n",
       "      <td>40</td>\n",
       "      <td>40000</td>\n",
       "      <td>10</td>\n",
       "      <td>u0_atom</td>\n",
       "      <td>[1024, 512, 128, 32]</td>\n",
       "      <td>0.5</td>\n",
       "      <td>2048</td>\n",
       "      <td>32</td>\n",
       "      <td>...</td>\n",
       "      <td>rl_tests/u0_atom_2020-08-18T20.44.56.590153</td>\n",
       "      <td>venti</td>\n",
       "      <td>74535.541065</td>\n",
       "      <td>True</td>\n",
       "      <td>40000</td>\n",
       "      <td>594404</td>\n",
       "      <td>264132</td>\n",
       "      <td>0.444364</td>\n",
       "      <td>-4.013353</td>\n",
       "      <td>5</td>\n",
       "    </tr>\n",
       "    <tr>\n",
       "      <th>7</th>\n",
       "      <td>1.0</td>\n",
       "      <td>0.9995</td>\n",
       "      <td>40</td>\n",
       "      <td>16000</td>\n",
       "      <td>10</td>\n",
       "      <td>u0_atom</td>\n",
       "      <td>[1024, 512, 128, 32]</td>\n",
       "      <td>0.5</td>\n",
       "      <td>2048</td>\n",
       "      <td>32</td>\n",
       "      <td>...</td>\n",
       "      <td>rl_tests/u0_atom_2020-08-19T13.58.38.978329</td>\n",
       "      <td>NaN</td>\n",
       "      <td>NaN</td>\n",
       "      <td>False</td>\n",
       "      <td>10774</td>\n",
       "      <td>428631</td>\n",
       "      <td>164388</td>\n",
       "      <td>0.383519</td>\n",
       "      <td>-4.018610</td>\n",
       "      <td>1</td>\n",
       "    </tr>\n",
       "    <tr>\n",
       "      <th>0</th>\n",
       "      <td>1.0</td>\n",
       "      <td>0.9995</td>\n",
       "      <td>40</td>\n",
       "      <td>8000</td>\n",
       "      <td>10</td>\n",
       "      <td>u0_atom</td>\n",
       "      <td>[1024, 512, 128, 32]</td>\n",
       "      <td>0.5</td>\n",
       "      <td>2048</td>\n",
       "      <td>32</td>\n",
       "      <td>...</td>\n",
       "      <td>rl_tests/u0_atom_2020-08-19T13.58.38.342931</td>\n",
       "      <td>venti</td>\n",
       "      <td>51993.489720</td>\n",
       "      <td>True</td>\n",
       "      <td>8000</td>\n",
       "      <td>317233</td>\n",
       "      <td>135462</td>\n",
       "      <td>0.427011</td>\n",
       "      <td>-3.996570</td>\n",
       "      <td>0</td>\n",
       "    </tr>\n",
       "    <tr>\n",
       "      <th>2</th>\n",
       "      <td>1.0</td>\n",
       "      <td>0.9995</td>\n",
       "      <td>40</td>\n",
       "      <td>2000</td>\n",
       "      <td>10</td>\n",
       "      <td>u0_atom</td>\n",
       "      <td>[1024, 512, 128, 32]</td>\n",
       "      <td>0.5</td>\n",
       "      <td>2048</td>\n",
       "      <td>32</td>\n",
       "      <td>...</td>\n",
       "      <td>rl_tests/u0_atom_2020-08-19T13.58.38.658584</td>\n",
       "      <td>venti</td>\n",
       "      <td>13074.225148</td>\n",
       "      <td>True</td>\n",
       "      <td>2000</td>\n",
       "      <td>78690</td>\n",
       "      <td>56579</td>\n",
       "      <td>0.719011</td>\n",
       "      <td>-3.997649</td>\n",
       "      <td>0</td>\n",
       "    </tr>\n",
       "    <tr>\n",
       "      <th>3</th>\n",
       "      <td>1.0</td>\n",
       "      <td>0.9995</td>\n",
       "      <td>40</td>\n",
       "      <td>1000</td>\n",
       "      <td>10</td>\n",
       "      <td>u0_atom</td>\n",
       "      <td>[1024, 512, 128, 32]</td>\n",
       "      <td>0.5</td>\n",
       "      <td>2048</td>\n",
       "      <td>32</td>\n",
       "      <td>...</td>\n",
       "      <td>rl_tests/u0_atom_2020-08-19T13.58.38.996756</td>\n",
       "      <td>venti</td>\n",
       "      <td>5678.057511</td>\n",
       "      <td>True</td>\n",
       "      <td>1000</td>\n",
       "      <td>39193</td>\n",
       "      <td>29437</td>\n",
       "      <td>0.751078</td>\n",
       "      <td>-3.954979</td>\n",
       "      <td>0</td>\n",
       "    </tr>\n",
       "  </tbody>\n",
       "</table>\n",
       "<p>5 rows × 24 columns</p>\n",
       "</div>"
      ],
      "text/plain": [
       "   epsilon  epsilon_decay  max_steps  episodes  q_update_freq   reward  \\\n",
       "1      1.0         0.9995         40     40000             10  u0_atom   \n",
       "7      1.0         0.9995         40     16000             10  u0_atom   \n",
       "0      1.0         0.9995         40      8000             10  u0_atom   \n",
       "2      1.0         0.9995         40      2000             10  u0_atom   \n",
       "3      1.0         0.9995         40      1000             10  u0_atom   \n",
       "\n",
       "          hidden_layers  gamma  fingerprint_size  batch_size  ...  \\\n",
       "1  [1024, 512, 128, 32]    0.5              2048          32  ...   \n",
       "7  [1024, 512, 128, 32]    0.5              2048          32  ...   \n",
       "0  [1024, 512, 128, 32]    0.5              2048          32  ...   \n",
       "2  [1024, 512, 128, 32]    0.5              2048          32  ...   \n",
       "3  [1024, 512, 128, 32]    0.5              2048          32  ...   \n",
       "\n",
       "                                          path hostname       runtime  \\\n",
       "1  rl_tests/u0_atom_2020-08-18T20.44.56.590153    venti  74535.541065   \n",
       "7  rl_tests/u0_atom_2020-08-19T13.58.38.978329      NaN           NaN   \n",
       "0  rl_tests/u0_atom_2020-08-19T13.58.38.342931    venti  51993.489720   \n",
       "2  rl_tests/u0_atom_2020-08-19T13.58.38.658584    venti  13074.225148   \n",
       "3  rl_tests/u0_atom_2020-08-19T13.58.38.996756    venti   5678.057511   \n",
       "\n",
       "   complete episodes_completed rewards_computed  unique_molecules  \\\n",
       "1      True              40000           594404            264132   \n",
       "7     False              10774           428631            164388   \n",
       "0      True               8000           317233            135462   \n",
       "2      True               2000            78690             56579   \n",
       "3      True               1000            39193             29437   \n",
       "\n",
       "   unique_fraction  best_found  below_4ha  \n",
       "1         0.444364   -4.013353          5  \n",
       "7         0.383519   -4.018610          1  \n",
       "0         0.427011   -3.996570          0  \n",
       "2         0.719011   -3.997649          0  \n",
       "3         0.751078   -3.954979          0  \n",
       "\n",
       "[5 rows x 24 columns]"
      ]
     },
     "execution_count": 5,
     "metadata": {},
     "output_type": "execute_result"
    }
   ],
   "source": [
    "results = pd.DataFrame(summarize_run(d) for d in dirs).sort_values('below_4ha', ascending=False)\n",
    "results.head()#[['path', 'rewards_computed', 'unique_fraction', 'best_found', 'below_8ha']]"
   ]
  },
  {
   "cell_type": "code",
   "execution_count": 6,
   "metadata": {},
   "outputs": [],
   "source": [
    "best_run = results.query('complete').iloc[0]"
   ]
  },
  {
   "cell_type": "code",
   "execution_count": 7,
   "metadata": {},
   "outputs": [
    {
     "data": {
      "text/plain": [
       "epsilon                                                         1\n",
       "epsilon_decay                                              0.9995\n",
       "max_steps                                                      40\n",
       "episodes                                                    40000\n",
       "q_update_freq                                                  10\n",
       "reward                                                    u0_atom\n",
       "hidden_layers                                [1024, 512, 128, 32]\n",
       "gamma                                                         0.5\n",
       "fingerprint_size                                             2048\n",
       "batch_size                                                     32\n",
       "no_backtrack                                                 True\n",
       "initial_molecule                                             None\n",
       "max_size                                                       13\n",
       "maximize                                                    False\n",
       "path                  rl_tests/u0_atom_2020-08-18T20.44.56.590153\n",
       "hostname                                                    venti\n",
       "runtime                                                   74535.5\n",
       "complete                                                     True\n",
       "episodes_completed                                          40000\n",
       "rewards_computed                                           594404\n",
       "unique_molecules                                           264132\n",
       "unique_fraction                                          0.444364\n",
       "best_found                                               -4.01335\n",
       "below_4ha                                                       5\n",
       "Name: 1, dtype: object"
      ]
     },
     "execution_count": 7,
     "metadata": {},
     "output_type": "execute_result"
    }
   ],
   "source": [
    "best_run"
   ]
  },
  {
   "cell_type": "markdown",
   "metadata": {},
   "source": [
    "## Link the best agent to the local directory\n",
    "So that we can easily access it later"
   ]
  },
  {
   "cell_type": "code",
   "execution_count": 8,
   "metadata": {},
   "outputs": [],
   "source": [
    "if os.path.islink('agent.pkl'):\n",
    "    os.unlink('agent.pkl')\n",
    "os.symlink(os.path.join(best_run['path'], 'agent.pkl'), 'agent.pkl')"
   ]
  },
  {
   "cell_type": "markdown",
   "metadata": {},
   "source": [
    "## Save a list of \"top molecules\"\n",
    "So that we can seed the molecular design engine"
   ]
  },
  {
   "cell_type": "code",
   "execution_count": 9,
   "metadata": {},
   "outputs": [],
   "source": [
    "mols = pd.read_csv(os.path.join(best_run.path, 'molecules.csv'))"
   ]
  },
  {
   "cell_type": "code",
   "execution_count": 10,
   "metadata": {},
   "outputs": [
    {
     "data": {
      "image/png": "[encoded data removed]",
      "text/plain": [
       "<Figure size 252x180 with 1 Axes>"
      ]
     },
     "metadata": {
      "needs_background": "light"
     },
     "output_type": "display_data"
    }
   ],
   "source": [
    "fig, ax, = plt.subplots(figsize=(3.5, 2.5))\n",
    "\n",
    "# Get the top points by value\n",
    "x = np.linspace(0, top_mols_to_save, 128, dtype=np.int)\n",
    "u_0 = np.sort(mols.drop_duplicates('smiles')['u0_atom'])\n",
    "v = [-u_0[-i-1] for i in x]\n",
    "\n",
    "ax.scatter(x, v)\n",
    "ax.set_xlabel('Rank')\n",
    "ax.set_ylabel('$u_0$ (Ha)')\n",
    "fig.tight_layout()"
   ]
  },
  {
   "cell_type": "code",
   "execution_count": 11,
   "metadata": {},
   "outputs": [],
   "source": [
    "with open('best_mols.json', 'w') as fp:\n",
    "    best_list = list(set(mols.sort_values('u0_atom').drop_duplicates('smiles').tail(top_mols_to_save)['smiles']))\n",
    "    json.dump(best_list, fp)"
   ]
  },
  {
   "cell_type": "code",
   "execution_count": null,
   "metadata": {},
   "outputs": [],
   "source": []
  }
 ],
 "metadata": {
  "kernelspec": {
   "display_name": "Python 3",
   "language": "python",
   "name": "python3"
  },
  "language_info": {
   "codemirror_mode": {
    "name": "ipython",
    "version": 3
   },
   "file_extension": ".py",
   "mimetype": "text/x-python",
   "name": "python",
   "nbconvert_exporter": "python",
   "pygments_lexer": "ipython3",
   "version": "3.7.4"
  }
 },
 "nbformat": 4,
 "nbformat_minor": 4
}
