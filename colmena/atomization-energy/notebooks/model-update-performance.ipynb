{
 "cells": [
  {
   "cell_type": "markdown",
   "metadata": {},
   "source": [
    "# Evaluate Rate of ML Update\n",
    "Assess the performance of the machine learning updating logic during the coarse of a Colmena run"
   ]
  },
  {
   "cell_type": "code",
   "execution_count": 1,
   "metadata": {},
   "outputs": [],
   "source": [
    "%matplotlib inline\n",
    "from matplotlib import pyplot as plt\n",
    "from datetime import datetime\n",
    "from tqdm import tqdm\n",
    "import pandas as pd\n",
    "import numpy as np\n",
    "import json\n",
    "import os\n",
    "import re"
   ]
  },
  {
   "cell_type": "code",
   "execution_count": 2,
   "metadata": {},
   "outputs": [],
   "source": [
    "log_re = r\"^(?P<date>\\d{4}-\\d{2}-\\d{2} \\d{2}:\\d{2}:\\d{2},\\d{3}) - (?P<module>\\S+) - (?P<level>[A-Z]+) - (?P<message>[\\s\\S]*?)(?=^\\d{4})\""
   ]
  },
  {
   "cell_type": "markdown",
   "metadata": {},
   "source": [
    "Load the run information "
   ]
  },
  {
   "cell_type": "code",
   "execution_count": 3,
   "metadata": {},
   "outputs": [],
   "source": [
    "run_info = pd.read_csv('../run_data.csv')"
   ]
  },
  {
   "cell_type": "code",
   "execution_count": 4,
   "metadata": {},
   "outputs": [
    {
     "data": {
      "text/plain": [
       "{'path': 'runs/19Nov20-155403-b1d473',\n",
       " 'param_hash': 'b1d473',\n",
       " 'start_time': '2020-11-19 15:54:00',\n",
       " 'mpnn_config_directory': '../../ai-components/mpnn/xtb-atomization-v1/',\n",
       " 'mpnn_model_files': \"['../../ai-components/mpnn/xtb-atomization-v1/networks/b32_n512_S1/best_model.h5', '../../ai-components/mpnn/xtb-atomization-v1/networks/b32_n512_S10/best_model.h5', '../../ai-components/mpnn/xtb-atomization-v1/networks/b32_n512_S11/best_model.h5', '../../ai-components/mpnn/xtb-atomization-v1/networks/b32_n512_S12/best_model.h5']\",\n",
       " 'initial_agent': '../../ai-components/moldqn/xtb-atomization-v1//agent.pkl',\n",
       " 'initial_search_space': '../../ai-components/moldqn/xtb-atomization-v1//best_mols.json',\n",
       " 'initial_database': '../../ai-components/mpnn/xtb-atomization-v1//initial_database.json',\n",
       " 'qc_spec': 'xtb',\n",
       " 'qc_parallelism': 16.0,\n",
       " 'parallel_guesses': 96,\n",
       " 'parallel_updating': 2,\n",
       " 'rl_episodes': 10,\n",
       " 'search_size': 100000,\n",
       " 'queue_length': 4000,\n",
       " 'random_frac': 0.1,\n",
       " 'greedy_frac': 0.8,\n",
       " 'version': 'simple',\n",
       " 'hostname': 'thetamom2',\n",
       " 'worker_count': 104,\n",
       " 'n_evals': 1070.0}"
      ]
     },
     "execution_count": 4,
     "metadata": {},
     "output_type": "execute_result"
    }
   ],
   "source": [
    "run_info = run_info.sort_values('start_time', ascending=False).iloc[0].to_dict()\n",
    "#run_info = run_info.query('path==\"runs/10Nov20-210002-b59342\"').iloc[0]  # XTB run\n",
    "run_info"
   ]
  },
  {
   "cell_type": "markdown",
   "metadata": {},
   "source": [
    "## Load in the Trajectories\n",
    "We need the records associated with QC records and model update tasks"
   ]
  },
  {
   "cell_type": "code",
   "execution_count": 5,
   "metadata": {},
   "outputs": [],
   "source": [
    "result_data = pd.read_json(os.path.join('..', run_info['path'], 'simulation_records.jsonld'), lines=True)\n",
    "result_data.sort_values('time_created', inplace=True)"
   ]
  },
  {
   "cell_type": "code",
   "execution_count": 6,
   "metadata": {},
   "outputs": [],
   "source": [
    "update_records = pd.read_json(os.path.join('..', run_info['path'], 'update_records.jsonld'), lines=True)"
   ]
  },
  {
   "cell_type": "code",
   "execution_count": 7,
   "metadata": {},
   "outputs": [],
   "source": [
    "screen_records = pd.read_json(os.path.join('..', run_info['path'], 'screen_records.jsonld'), lines=True)"
   ]
  },
  {
   "cell_type": "markdown",
   "metadata": {},
   "source": [
    "Process the result log"
   ]
  },
  {
   "cell_type": "code",
   "execution_count": 8,
   "metadata": {},
   "outputs": [],
   "source": [
    "with open(os.path.join('..', run_info['path'], 'runtime.log')) as fp:\n",
    "    log_lines = fp.read()"
   ]
  },
  {
   "cell_type": "code",
   "execution_count": 9,
   "metadata": {},
   "outputs": [
    {
     "name": "stdout",
     "output_type": "stream",
     "text": [
      "Parsed 25115 log lines\n"
     ]
    }
   ],
   "source": [
    "log_data = pd.DataFrame([x.groupdict() for x in re.finditer(log_re, log_lines, re.MULTILINE)])\n",
    "del log_lines\n",
    "print(f'Parsed {len(log_data)} log lines')"
   ]
  },
  {
   "cell_type": "code",
   "execution_count": 10,
   "metadata": {},
   "outputs": [],
   "source": [
    "log_data['datetime'] = log_data['date'].apply(lambda x: datetime.strptime(x, '%Y-%m-%d %H:%M:%S,%f').timestamp())"
   ]
  },
  {
   "cell_type": "markdown",
   "metadata": {},
   "source": [
    "Find records associated with a molecule being submitted"
   ]
  },
  {
   "cell_type": "code",
   "execution_count": 11,
   "metadata": {},
   "outputs": [],
   "source": [
    "molecule_submission = log_data[np.logical_and(log_data['module'] == \"thinker.simulation_dispatcher\", log_data['message'].str.startswith('Submitted'))]"
   ]
  },
  {
   "cell_type": "markdown",
   "metadata": {},
   "source": [
    "## Measure Time-to-Updated\n",
    "Measure the time until any or all models are updated with the result from a tasks"
   ]
  },
  {
   "cell_type": "code",
   "execution_count": 12,
   "metadata": {},
   "outputs": [],
   "source": [
    "n_models = len(eval(run_info['mpnn_model_files']))"
   ]
  },
  {
   "cell_type": "code",
   "execution_count": 13,
   "metadata": {},
   "outputs": [],
   "source": [
    "row = update_records.iloc[0]"
   ]
  },
  {
   "cell_type": "code",
   "execution_count": 14,
   "metadata": {},
   "outputs": [],
   "source": [
    "def is_in_training_set(smiles):\n",
    "    \"\"\"Measure if a molecule is in the training set of the models after each training operation\n",
    "    \n",
    "    Args:\n",
    "        smiles (str): SMILES string\n",
    "    Returns:\n",
    "        (ndarray) Whether the molecule is in the training set for each model after each update operation\n",
    "    \"\"\"\n",
    "    \n",
    "    output = np.zeros((len(update_records), n_models), dtype=np.bool)\n",
    "    for i, row in update_records.iterrows():\n",
    "        output[i:, row['task_info']['index']] = smiles in row['task_info']['training_molecules']\n",
    "    return output"
   ]
  },
  {
   "cell_type": "code",
   "execution_count": 15,
   "metadata": {},
   "outputs": [],
   "source": [
    "def time_until_updated(smiles: str, t0: float) -> np.ndarray:\n",
    "    \"\"\"Compute time data from a molecule is used to re-train models\n",
    "    \n",
    "    Args:\n",
    "        smiles: SMILES string of a molecule\n",
    "        t0: Time that the properties finished computing\n",
    "    Returns:\n",
    "        (np.ndarray) Time until molecule appears in each training set\n",
    "    \"\"\"\n",
    "    \n",
    "    # Get whether the molecule is in the training set after each update operation\n",
    "    is_in_set = is_in_training_set(smiles)\n",
    "    \n",
    "    # Compute number of models that have been trained with molecule at each update\n",
    "    n_updated = is_in_set.sum(axis=1)\n",
    "    \n",
    "    # Compute time until [1, N) models have been trained using this data\n",
    "    output = np.zeros((n_models,)) + np.inf\n",
    "    for i in range(1, n_models+1):\n",
    "        if i <= n_updated.max():\n",
    "            output[i-1] = update_records['time_result_received'].iloc[\n",
    "                (n_updated == i).argmax()\n",
    "            ]\n",
    "    output -= t0\n",
    "    return output"
   ]
  },
  {
   "cell_type": "code",
   "execution_count": 16,
   "metadata": {},
   "outputs": [
    {
     "name": "stderr",
     "output_type": "stream",
     "text": [
      "1393it [00:10, 128.36it/s]\n"
     ]
    }
   ],
   "source": [
    "result_statistics = []\n",
    "for i, result in tqdm(result_data.query('success').iterrows()):\n",
    "    # Get the time until model was updated\n",
    "    update_timings = time_until_updated(result['task_info']['smiles'], result['time_result_received'])\n",
    "    \n",
    "    # Store the time until model updates\n",
    "    record = dict(zip(map(lambda x: f'updated_{x+1}', range(n_models)), update_timings))\n",
    "    record['updated_all'] = update_timings[-1]\n",
    "    \n",
    "    # Count the number of decisions made between \"data acquired\" and \"models updated\"\n",
    "    for i in range(n_models):\n",
    "        record[f'n_uninformed_{i+1}'] = np.logical_and(\n",
    "            molecule_submission['datetime'] >= result['time_result_received'],\n",
    "            molecule_submission['datetime'] <= result['time_result_received'] + record[f'updated_{i+1}']\n",
    "        ).sum()\n",
    "    record['n_uninformed_all'] = record[f'n_uninformed_{i+1}']\n",
    "    \n",
    "    # Store the molecule information\n",
    "    record.update(result['task_info'])\n",
    "    for l in ['time_result_received', 'time_created']:\n",
    "        record[l] = result[l]\n",
    "    result_statistics.append(record)"
   ]
  },
  {
   "cell_type": "code",
   "execution_count": 17,
   "metadata": {},
   "outputs": [],
   "source": [
    "result_statistics = pd.DataFrame(result_statistics)"
   ]
  },
  {
   "cell_type": "markdown",
   "metadata": {},
   "source": [
    "Compute the time to update"
   ]
  },
  {
   "cell_type": "code",
   "execution_count": 18,
   "metadata": {},
   "outputs": [
    {
     "data": {
      "image/png": "[encoded data removed]",
      "text/plain": [
       "<Figure size 396x180 with 2 Axes>"
      ]
     },
     "metadata": {
      "needs_background": "light"
     },
     "output_type": "display_data"
    }
   ],
   "source": [
    "fig, axs = plt.subplots(1, 2, figsize=(5.5, 2.5))\n",
    "\n",
    "# Plot the change over time\n",
    "ax = axs[0]\n",
    "medians = [0]\n",
    "for i in range(n_models):\n",
    "    r = result_statistics[f'updated_{i+1}']\n",
    "    r = r[~ r.isnull()]\n",
    "    ax.scatter(r, [(i+1) / n_models]*len(r), \n",
    "               color='crimson', alpha=0.05, edgecolor='none')\n",
    "    non_nans = result\n",
    "    medians.append(np.percentile(r, 50))\n",
    "    \n",
    "ax.plot(medians, np.arange(0, n_models+1) / n_models, 'k--')\n",
    "\n",
    "ax.set_xlim([-0, max(ax.get_xlim())])\n",
    "ax.set_ylim([0, 1.05])  \n",
    "ax.set_xlabel('Time (s)')\n",
    "ax.set_ylabel('Library Updated (%)')\n",
    "\n",
    "# Plot the histogram\n",
    "ax = axs[1]\n",
    "\n",
    "actual_max = np.max(result_statistics['updated_all'][~np.isinf(\n",
    "    result_statistics['updated_all']\n",
    ")])\n",
    "bins = np.linspace(0, actual_max * 1.1, 32)\n",
    "ax.hist(result_statistics['updated_all'], bins=bins, color='crimson')\n",
    "\n",
    "ax.set_ylabel('Frequency')\n",
    "ax.set_xlabel('Time to Updated (s)')\n",
    "\n",
    "fig.tight_layout()"
   ]
  },
  {
   "cell_type": "markdown",
   "metadata": {},
   "source": [
    "Determine the number of \"uninformed decisions\""
   ]
  },
  {
   "cell_type": "code",
   "execution_count": 19,
   "metadata": {},
   "outputs": [
    {
     "data": {
      "image/png": "[encoded data removed]",
      "text/plain": [
       "<Figure size 396x180 with 2 Axes>"
      ]
     },
     "metadata": {
      "needs_background": "light"
     },
     "output_type": "display_data"
    }
   ],
   "source": [
    "fig, axs = plt.subplots(1, 2, figsize=(5.5, 2.5))\n",
    "\n",
    "# Plot the change over time\n",
    "ax = axs[0]\n",
    "medians = [0]\n",
    "for i in range(n_models):\n",
    "    r = result_statistics[f'n_uninformed_{i+1}']\n",
    "    r = r[~ r.isnull()]\n",
    "    ax.scatter(r, [(i+1) / n_models]*len(r), \n",
    "               color='darkmagenta', alpha=0.05, edgecolor='none')\n",
    "    non_nans = result\n",
    "    medians.append(np.mean(r))\n",
    "    \n",
    "ax.plot(medians, np.arange(0, n_models+1) / n_models, 'k--')\n",
    "\n",
    "#ax.set_xlim([0, max(ax.get_xlim())])\n",
    "ax.set_ylim([0, 1.05])  \n",
    "ax.set_xlabel('Decisions before Update')\n",
    "ax.set_ylabel('Library Updated (%)')\n",
    "\n",
    "# Plot the histogram\n",
    "ax = axs[1]\n",
    "\n",
    "bins = np.linspace(0, result_statistics['n_uninformed_all'].max() * 1.1, 32)\n",
    "ax.hist(result_statistics['n_uninformed_all'], bins=bins, color='darkmagenta')\n",
    "\n",
    "ax.set_ylabel('Frequency')\n",
    "ax.set_xlabel('Decisions before Update')\n",
    "\n",
    "fig.tight_layout()"
   ]
  },
  {
   "cell_type": "markdown",
   "metadata": {},
   "source": [
    "## Time until Reprioritization\n",
    "Compute the time until the models are fully updated with new data _and_ that model has been used to re-prioritize the task list."
   ]
  },
  {
   "cell_type": "markdown",
   "metadata": {},
   "source": [
    "Get the times at which the queue was updated"
   ]
  },
  {
   "cell_type": "code",
   "execution_count": 20,
   "metadata": {},
   "outputs": [],
   "source": [
    "queue_update_events = log_data[np.logical_and(\n",
    "    log_data['module'] == \"thinker.task_ranker\", log_data[\"message\"].str.startswith(\"Added all of them\")\n",
    ")].sort_values('datetime', ascending=True)"
   ]
  },
  {
   "cell_type": "code",
   "execution_count": 21,
   "metadata": {},
   "outputs": [],
   "source": [
    "def time_until_reprioritization(smiles: str, t0: float) -> float:\n",
    "    \"\"\"Compute time data from a molecule is used to re-train models\n",
    "    \n",
    "    Args:\n",
    "        smiles: SMILES string of a molecule\n",
    "        t0: Time that the properties finished computing\n",
    "    Returns:\n",
    "        (float) Time until data used in all models in an inference task\n",
    "    \"\"\"\n",
    "    \n",
    "    # Get whether the molecule is in the training set after each screening operation\n",
    "    is_in_set = [all(smiles in t for t in r['task_info']['training_sets'])\n",
    "                for _, r in screen_records.iterrows()]\n",
    "    \n",
    "    # Get the time the first inference task was completed\n",
    "    if not any(is_in_set):\n",
    "        return np.inf\n",
    "    first_repri = is_in_set.index(True)\n",
    "\n",
    "    return queue_update_events.iloc[first_repri]['datetime'] - t0"
   ]
  },
  {
   "cell_type": "markdown",
   "metadata": {},
   "source": [
    "Compute this time for all entries"
   ]
  },
  {
   "cell_type": "code",
   "execution_count": 22,
   "metadata": {},
   "outputs": [
    {
     "name": "stderr",
     "output_type": "stream",
     "text": [
      "2092it [00:03, 594.81it/s]\n"
     ]
    }
   ],
   "source": [
    "result_data['reprioritization_time'] = [time_until_reprioritization(d['smiles'], t) for d, t in \n",
    "                                        tqdm(zip(result_data['task_info'], result_data['time_result_received']))]"
   ]
  },
  {
   "cell_type": "markdown",
   "metadata": {},
   "source": [
    "Plot whether data was used or not over time received"
   ]
  },
  {
   "cell_type": "code",
   "execution_count": 23,
   "metadata": {},
   "outputs": [
    {
     "data": {
      "text/plain": [
       "Text(0, 0.5, 'Used in an Update')"
      ]
     },
     "execution_count": 23,
     "metadata": {},
     "output_type": "execute_result"
    },
    {
     "data": {
      "image/png": "[encoded data removed]",
      "text/plain": [
       "<Figure size 252x180 with 1 Axes>"
      ]
     },
     "metadata": {
      "needs_background": "light"
     },
     "output_type": "display_data"
    }
   ],
   "source": [
    "fig, ax = plt.subplots(figsize=(3.5, 2.5))\n",
    "\n",
    "subset = result_data.sort_values('time_result_received').query('success')\n",
    "not_used = np.isinf(subset['reprioritization_time'])\n",
    "\n",
    "ax.scatter(subset['time_result_received'] - subset['time_result_received'].min(),\n",
    "           1 - not_used, s=0.5)\n",
    "\n",
    "ax.set_yticks([0, 1])\n",
    "ax.set_yticklabels(['False', 'True'])\n",
    "\n",
    "ax.set_xlabel('Time Received after First Result (s)')\n",
    "ax.set_ylabel('Used in an Update')"
   ]
  },
  {
   "cell_type": "markdown",
   "metadata": {},
   "source": [
    "*Finding*: Gut check passes.Tasks that completed early in simulation are used. Later ones are not"
   ]
  },
  {
   "cell_type": "code",
   "execution_count": 24,
   "metadata": {},
   "outputs": [
    {
     "data": {
      "text/plain": [
       "Text(0, 0.5, 'Frequency')"
      ]
     },
     "execution_count": 24,
     "metadata": {},
     "output_type": "execute_result"
    },
    {
     "data": {
      "image/png": "[encoded data removed]",
      "text/plain": [
       "<Figure size 252x180 with 1 Axes>"
      ]
     },
     "metadata": {
      "needs_background": "light"
     },
     "output_type": "display_data"
    }
   ],
   "source": [
    "fig, ax = plt.subplots(figsize=(3.5, 2.5))\n",
    "\n",
    "# Get only the tasks that were used\n",
    "subset = subset[~not_used]\n",
    "bins = np.linspace(0, subset['reprioritization_time'].max() * 1.1, 32)\n",
    "\n",
    "ax.hist(subset['reprioritization_time'], bins=bins)\n",
    "\n",
    "ax.set_xlabel('Time to Reprioritization (s)')\n",
    "ax.set_ylabel('Frequency')"
   ]
  },
  {
   "cell_type": "markdown",
   "metadata": {},
   "source": [
    "Measure the number of simulations between "
   ]
  },
  {
   "cell_type": "code",
   "execution_count": 25,
   "metadata": {},
   "outputs": [],
   "source": [
    "subset['n_uninformed'] = subset.apply(lambda x: np.logical_and(\n",
    "    molecule_submission['datetime'] >= x['time_result_received'],\n",
    "    molecule_submission['datetime'] <= x['time_result_received'] + x['reprioritization_time']\n",
    ").sum(), axis=1)"
   ]
  },
  {
   "cell_type": "code",
   "execution_count": 26,
   "metadata": {},
   "outputs": [
    {
     "data": {
      "text/plain": [
       "Text(0, 0.5, 'Frequency')"
      ]
     },
     "execution_count": 26,
     "metadata": {},
     "output_type": "execute_result"
    },
    {
     "data": {
      "image/png": "[encoded data removed]",
      "text/plain": [
       "<Figure size 252x180 with 1 Axes>"
      ]
     },
     "metadata": {
      "needs_background": "light"
     },
     "output_type": "display_data"
    }
   ],
   "source": [
    "fig, ax = plt.subplots(figsize=(3.5, 2.5))\n",
    "\n",
    "bins = np.linspace(0, subset['n_uninformed'].max() * 1.1, 32)\n",
    "ax.hist(subset['n_uninformed'], bins=bins)\n",
    "\n",
    "ax.set_xlabel('Decisions before Reprioritization')\n",
    "ax.set_ylabel('Frequency')"
   ]
  },
  {
   "cell_type": "code",
   "execution_count": null,
   "metadata": {},
   "outputs": [],
   "source": []
  }
 ],
 "metadata": {
  "kernelspec": {
   "display_name": "Python 3",
   "language": "python",
   "name": "python3"
  },
  "language_info": {
   "codemirror_mode": {
    "name": "ipython",
    "version": 3
   },
   "file_extension": ".py",
   "mimetype": "text/x-python",
   "name": "python",
   "nbconvert_exporter": "python",
   "pygments_lexer": "ipython3",
   "version": "3.7.4"
  }
 },
 "nbformat": 4,
 "nbformat_minor": 4
}
