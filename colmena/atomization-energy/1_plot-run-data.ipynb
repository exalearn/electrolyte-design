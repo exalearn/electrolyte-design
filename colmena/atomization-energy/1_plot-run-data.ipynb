{
 "cells": [
  {
   "cell_type": "markdown",
   "metadata": {},
   "source": [
    "# Plot Run Data\n",
    "This notebook plots the performance of a run to assess the optimization performance and system utilization."
   ]
  },
  {
   "cell_type": "code",
   "execution_count": 1,
   "metadata": {},
   "outputs": [],
   "source": [
    "%matplotlib inline\n",
    "from matplotlib import pyplot as plt\n",
    "from datetime import datetime\n",
    "import pandas as pd\n",
    "import numpy as np\n",
    "import json\n",
    "import os"
   ]
  },
  {
   "cell_type": "markdown",
   "metadata": {},
   "source": [
    "Load the run information "
   ]
  },
  {
   "cell_type": "code",
   "execution_count": 2,
   "metadata": {},
   "outputs": [],
   "source": [
    "run_info = pd.read_csv('run_data.csv')"
   ]
  },
  {
   "cell_type": "markdown",
   "metadata": {},
   "source": [
    "Pick one"
   ]
  },
  {
   "cell_type": "code",
   "execution_count": 3,
   "metadata": {},
   "outputs": [
    {
     "name": "stdout",
     "output_type": "stream",
     "text": [
      "path                                            runs/26Aug20-162040-a5ffd9\n",
      "param_hash                                                          a5ffd9\n",
      "start_time                                             2020-08-26 16:20:04\n",
      "mpnn_config_directory                                      ./notebooks/xtb\n",
      "mpnn_model_files         ['./notebooks/xtb/bootstrap-ensemble/networks/...\n",
      "initial_agent                    ./notebooks/xtb/moldqn-training/agent.pkl\n",
      "initial_search_space        ./notebooks/xtb/moldqn-training/best_mols.json\n",
      "initial_database                     ./notebooks/xtb/initial_database.json\n",
      "reference_energies                       ./notebooks/xtb/ref_energies.json\n",
      "qc_spec                                     ./notebooks/xtb/qc_config.json\n",
      "parallel_guesses                                                       112\n",
      "parallel_updating                                                        1\n",
      "rl_episodes                                                             10\n",
      "search_size                                                          16384\n",
      "queue_length                                                          2048\n",
      "random_frac                                                              0\n",
      "greedy_frac                                                              1\n",
      "version                                                             simple\n",
      "hostname                                                         thetamom1\n",
      "program                                                                xtb\n",
      "worker_count                                                           114\n",
      "n_evals                                                               4422\n",
      "Name: 9, dtype: object\n"
     ]
    }
   ],
   "source": [
    "run_info = run_info.sort_values('start_time', ascending=False).iloc[0]\n",
    "#run_info = run_info.query('path==\"runs/01Aug20-032649-8cadf9\"').iloc[0]\n",
    "print(run_info)"
   ]
  },
  {
   "cell_type": "markdown",
   "metadata": {},
   "source": [
    "## Load in Result File\n",
    "This file is the list of the quantum chemistry results"
   ]
  },
  {
   "cell_type": "code",
   "execution_count": 4,
   "metadata": {},
   "outputs": [],
   "source": [
    "result_data = pd.read_json(os.path.join(run_info['path'], 'simulation_records.jsonld'), lines=True).query('success')\n",
    "result_data.sort_values('time_created', inplace=True)"
   ]
  },
  {
   "cell_type": "code",
   "execution_count": 5,
   "metadata": {},
   "outputs": [],
   "source": [
    "result_data.reset_index(inplace=True)"
   ]
  },
  {
   "cell_type": "markdown",
   "metadata": {},
   "source": [
    "Compute start time for the job"
   ]
  },
  {
   "cell_type": "code",
   "execution_count": 6,
   "metadata": {},
   "outputs": [],
   "source": [
    "with open(os.path.join(run_info['path'], 'environment.json')) as fp:\n",
    "    env = json.load(fp)\n",
    "start_time = datetime.fromtimestamp(float(env['COBALT_STARTTIME']))"
   ]
  },
  {
   "cell_type": "markdown",
   "metadata": {},
   "source": [
    "Plot the time since first result"
   ]
  },
  {
   "cell_type": "code",
   "execution_count": 7,
   "metadata": {},
   "outputs": [],
   "source": [
    "result_data['walltime'] = result_data['time_result_received'] - start_time.timestamp()"
   ]
  },
  {
   "cell_type": "markdown",
   "metadata": {},
   "source": [
    "Plot the rate at which we aquired new results"
   ]
  },
  {
   "cell_type": "code",
   "execution_count": 8,
   "metadata": {},
   "outputs": [
    {
     "data": {
      "image/png": "[encoded data removed]",
      "text/plain": [
       "<Figure size 468x180 with 2 Axes>"
      ]
     },
     "metadata": {
      "needs_background": "light"
     },
     "output_type": "display_data"
    }
   ],
   "source": [
    "fig, axs = plt.subplots(1, 2, sharey=True, figsize=(6.5, 2.5))\n",
    "\n",
    "axs[0].plot(result_data.index, result_data['value'])\n",
    "axs[0].set_xlabel('Index')\n",
    "axs[0].set_ylabel('Atomization Energy (Ha)')\n",
    "\n",
    "axs[1].scatter(result_data['walltime'], result_data['value'], s=1)\n",
    "axs[1].set_xlabel('Walltime (s)')\n",
    "\n",
    "fig.tight_layout()"
   ]
  },
  {
   "cell_type": "markdown",
   "metadata": {},
   "source": [
    "## Evaluate Runtimes\n",
    "Estimate the runtimes of the QC code"
   ]
  },
  {
   "cell_type": "code",
   "execution_count": 9,
   "metadata": {},
   "outputs": [
    {
     "data": {
      "image/png": "[encoded data removed]",
      "text/plain": [
       "<Figure size 252x180 with 1 Axes>"
      ]
     },
     "metadata": {
      "needs_background": "light"
     },
     "output_type": "display_data"
    }
   ],
   "source": [
    "fig, ax = plt.subplots(figsize=(3.5, 2.5))\n",
    "\n",
    "wt_range = np.log10([result_data['time_running'].min() * 0.9,\n",
    "                     result_data['time_running'].max() * 1.1])\n",
    "ax.hist(result_data['time_running'], bins=np.logspace(*wt_range, 32))\n",
    "ax.set_xscale('log')\n",
    "\n",
    "ax.set_xlabel('Runtime (s)')\n",
    "ax.set_ylabel('Count')\n",
    "fig.tight_layout()"
   ]
  },
  {
   "cell_type": "markdown",
   "metadata": {},
   "source": [
    "## Evaluate Overhead\n",
    "Measure the time executing vs the end-to-end time for each of the tasks"
   ]
  },
  {
   "cell_type": "code",
   "execution_count": 10,
   "metadata": {},
   "outputs": [],
   "source": [
    "rl_data = pd.read_json(os.path.join(run_info['path'], 'generate_records.jsonld'), lines=True)"
   ]
  },
  {
   "cell_type": "code",
   "execution_count": 11,
   "metadata": {},
   "outputs": [],
   "source": [
    "screen_data = pd.read_json(os.path.join(run_info['path'], 'screen_records.jsonld'), lines=True)"
   ]
  },
  {
   "cell_type": "code",
   "execution_count": 12,
   "metadata": {},
   "outputs": [],
   "source": [
    "update_data = pd.read_json(os.path.join(run_info['path'], 'update_records.jsonld'), lines=True)"
   ]
  },
  {
   "cell_type": "markdown",
   "metadata": {},
   "source": [
    "Compute overhead"
   ]
  },
  {
   "cell_type": "code",
   "execution_count": 13,
   "metadata": {},
   "outputs": [],
   "source": [
    "for data in [result_data, rl_data, screen_data, update_data]:\n",
    "    data['overhead_time'] = (data['time_result_received'] - data['time_created']) - data['time_running']\n",
    "    data['overhead_frac'] = 1 - data['time_running'] / (data['time_result_received'] - data['time_created'])"
   ]
  },
  {
   "cell_type": "markdown",
   "metadata": {},
   "source": [
    "Plot overhead"
   ]
  },
  {
   "cell_type": "code",
   "execution_count": 14,
   "metadata": {},
   "outputs": [
    {
     "data": {
      "image/png": "[encoded data removed]",
      "text/plain": [
       "<Figure size 468x288 with 4 Axes>"
      ]
     },
     "metadata": {
      "needs_background": "light"
     },
     "output_type": "display_data"
    }
   ],
   "source": [
    "fig, axs = plt.subplots(2, 2, figsize=(6.5, 4.), sharex=True)\n",
    "\n",
    "for data, label, ax in zip([result_data, update_data, rl_data, screen_data], ['Simulate', 'Updating Models', 'Generating', 'Screening'], axs.flatten()):\n",
    "    ax.hist(data['overhead_frac'].tolist(), bins=np.linspace(0, 1, 32))\n",
    "    ax.set_xlabel('Overhead Fraction')\n",
    "    ax.set_title(f'{label}', fontsize=10)\n",
    "    \n",
    "for ax in axs[:, 0]:\n",
    "    ax.set_ylabel('Frequency')\n",
    "fig.tight_layout()\n",
    "fig.savefig(os.path.join('figures', 'overhead-fraction.svg'))"
   ]
  },
  {
   "cell_type": "markdown",
   "metadata": {},
   "source": [
    "### Explain the overhead\n",
    "See if we can explain the overhead events for the tasks"
   ]
  },
  {
   "cell_type": "markdown",
   "metadata": {},
   "source": [
    "Compute each step"
   ]
  },
  {
   "cell_type": "code",
   "execution_count": 15,
   "metadata": {},
   "outputs": [],
   "source": [
    "for data in [result_data, rl_data, screen_data, update_data]:\n",
    "    data['client_to_method-server'] = data['time_input_received'] - (data['time_created'] + data['time_serialize_inputs'])\n",
    "    data['method-server_to_worker'] = data['time_compute_started'] - data['time_input_received']\n",
    "    data['worker_to_method-server'] = data['time_result_sent'] - (data['time_compute_started']\n",
    "                                                                  + data['time_running']\n",
    "                                                                  + data['time_deserialize_inputs']\n",
    "                                                                  + data['time_serialize_results'])\n",
    "    data['method-server_to_client'] = data['time_result_received'] - (data['time_result_sent'] + data['time_deserialize_results'])\n",
    "    data['serialization'] = data[[c for c in data.columns if c.startswith('time_') and 'serialize' in c]].sum(axis=1)"
   ]
  },
  {
   "cell_type": "markdown",
   "metadata": {},
   "source": [
    "Plot overheads"
   ]
  },
  {
   "cell_type": "code",
   "execution_count": 16,
   "metadata": {},
   "outputs": [
    {
     "data": {
      "text/html": [
       "<div>\n",
       "<style scoped>\n",
       "    .dataframe tbody tr th:only-of-type {\n",
       "        vertical-align: middle;\n",
       "    }\n",
       "\n",
       "    .dataframe tbody tr th {\n",
       "        vertical-align: top;\n",
       "    }\n",
       "\n",
       "    .dataframe thead th {\n",
       "        text-align: right;\n",
       "    }\n",
       "</style>\n",
       "<table border=\"1\" class=\"dataframe\">\n",
       "  <thead>\n",
       "    <tr style=\"text-align: right;\">\n",
       "      <th></th>\n",
       "      <th>time_serialize_inputs</th>\n",
       "      <th>time_deserialize_inputs</th>\n",
       "      <th>time_serialize_results</th>\n",
       "      <th>time_deserialize_results</th>\n",
       "      <th>worker_to_method-server</th>\n",
       "    </tr>\n",
       "  </thead>\n",
       "  <tbody>\n",
       "    <tr>\n",
       "      <th>0</th>\n",
       "      <td>0.810276</td>\n",
       "      <td>11.884406</td>\n",
       "      <td>2.309631</td>\n",
       "      <td>2.395167</td>\n",
       "      <td>4.151898</td>\n",
       "    </tr>\n",
       "    <tr>\n",
       "      <th>1</th>\n",
       "      <td>0.411797</td>\n",
       "      <td>10.436930</td>\n",
       "      <td>1.508755</td>\n",
       "      <td>4.460485</td>\n",
       "      <td>3.454420</td>\n",
       "    </tr>\n",
       "    <tr>\n",
       "      <th>2</th>\n",
       "      <td>0.248000</td>\n",
       "      <td>10.920502</td>\n",
       "      <td>1.121841</td>\n",
       "      <td>3.378479</td>\n",
       "      <td>3.432972</td>\n",
       "    </tr>\n",
       "    <tr>\n",
       "      <th>3</th>\n",
       "      <td>0.287769</td>\n",
       "      <td>11.203824</td>\n",
       "      <td>1.428869</td>\n",
       "      <td>1.645089</td>\n",
       "      <td>3.631833</td>\n",
       "    </tr>\n",
       "    <tr>\n",
       "      <th>4</th>\n",
       "      <td>0.294113</td>\n",
       "      <td>10.118513</td>\n",
       "      <td>1.130022</td>\n",
       "      <td>2.030443</td>\n",
       "      <td>2.767556</td>\n",
       "    </tr>\n",
       "    <tr>\n",
       "      <th>5</th>\n",
       "      <td>0.292512</td>\n",
       "      <td>11.694227</td>\n",
       "      <td>2.243972</td>\n",
       "      <td>1.671025</td>\n",
       "      <td>5.626196</td>\n",
       "    </tr>\n",
       "    <tr>\n",
       "      <th>6</th>\n",
       "      <td>0.301082</td>\n",
       "      <td>16.813949</td>\n",
       "      <td>1.424000</td>\n",
       "      <td>1.709454</td>\n",
       "      <td>3.631114</td>\n",
       "    </tr>\n",
       "  </tbody>\n",
       "</table>\n",
       "</div>"
      ],
      "text/plain": [
       "   time_serialize_inputs  time_deserialize_inputs  time_serialize_results  \\\n",
       "0               0.810276                11.884406                2.309631   \n",
       "1               0.411797                10.436930                1.508755   \n",
       "2               0.248000                10.920502                1.121841   \n",
       "3               0.287769                11.203824                1.428869   \n",
       "4               0.294113                10.118513                1.130022   \n",
       "5               0.292512                11.694227                2.243972   \n",
       "6               0.301082                16.813949                1.424000   \n",
       "\n",
       "   time_deserialize_results  worker_to_method-server  \n",
       "0                  2.395167                 4.151898  \n",
       "1                  4.460485                 3.454420  \n",
       "2                  3.378479                 3.432972  \n",
       "3                  1.645089                 3.631833  \n",
       "4                  2.030443                 2.767556  \n",
       "5                  1.671025                 5.626196  \n",
       "6                  1.709454                 3.631114  "
      ]
     },
     "execution_count": 16,
     "metadata": {},
     "output_type": "execute_result"
    }
   ],
   "source": [
    "rl_data[[c for c in data.columns if c.startswith('time_') and 'serialize' in c] + ['worker_to_method-server']]"
   ]
  },
  {
   "cell_type": "code",
   "execution_count": 17,
   "metadata": {},
   "outputs": [
    {
     "data": {
      "image/png": "[encoded data removed]",
      "text/plain": [
       "<Figure size 468x288 with 4 Axes>"
      ]
     },
     "metadata": {
      "needs_background": "light"
     },
     "output_type": "display_data"
    }
   ],
   "source": [
    "fig, axs = plt.subplots(2, 2, figsize=(6.5, 4.))\n",
    "\n",
    "for data, label, ax in zip([result_data, update_data, rl_data, screen_data],\n",
    "                           ['Simulate', 'Updating Models', 'Generating', 'Screening'], \n",
    "                           axs.flatten()):\n",
    "    subset = data.sort_values('time_created', ascending=True).tail(min(25, len(data)))\n",
    "    steps = ['client_to_method-server', 'method-server_to_worker', 'worker_to_method-server', 'method-server_to_client', 'serialization']\n",
    "    x = np.arange(len(subset))\n",
    "    for i in range(len(steps)):\n",
    "        start = subset[steps[:i]].sum(axis=1).values\n",
    "        ax.bar(x, subset[steps[i]].values, bottom=start, label=steps[i].replace(\"_to_\", \"->\").replace('method-server', 'server'))\n",
    "    ax.bar(x, subset['overhead_time'].values, edgecolor='k', facecolor='none', lw=1)\n",
    "    \n",
    "    ax.set_xticks([])\n",
    "    ax.set_title(label)\n",
    "    ax.set_xlabel('Task')\n",
    "    \n",
    "axs[0, 0].legend()\n",
    "for ax in axs[:, 0]:\n",
    "    ax.set_ylabel('Communication Time (s)')\n",
    "fig.tight_layout()\n",
    "fig.savefig(os.path.join('figures', 'overhead-breakdown.svg'))"
   ]
  },
  {
   "cell_type": "markdown",
   "metadata": {},
   "source": [
    "*Finding*: It generally seems like the time from the task being recieved by the method server to starting on the compute note is generally the longest. Need to figure out what the issue is."
   ]
  },
  {
   "cell_type": "markdown",
   "metadata": {},
   "source": [
    "## Plot the Number of Results Being Run at a Time\n",
    "We can look at the completed QC records to compute the utilization"
   ]
  },
  {
   "cell_type": "markdown",
   "metadata": {},
   "source": [
    "Find the events related to calculations starting and finishing"
   ]
  },
  {
   "cell_type": "code",
   "execution_count": 18,
   "metadata": {},
   "outputs": [],
   "source": [
    "events = [{'time': 0, 'active_delta': 0}]\n",
    "events.extend({'time': t - start_time.timestamp(), 'active_delta': -1} for t in result_data[['time_compute_started', 'time_running']].sum(axis=1))\n",
    "events.extend({'time': t - start_time.timestamp(), 'active_delta': 1} for t in result_data['time_compute_started'])\n",
    "events = pd.DataFrame(events)"
   ]
  },
  {
   "cell_type": "markdown",
   "metadata": {},
   "source": [
    "Make the results easier to plot"
   ]
  },
  {
   "cell_type": "code",
   "execution_count": 19,
   "metadata": {},
   "outputs": [],
   "source": [
    "events.sort_values('time', ascending=True, inplace=True)"
   ]
  },
  {
   "cell_type": "code",
   "execution_count": 20,
   "metadata": {},
   "outputs": [],
   "source": [
    "events['num_active'] = events['active_delta'].cumsum()"
   ]
  },
  {
   "cell_type": "code",
   "execution_count": 21,
   "metadata": {},
   "outputs": [
    {
     "data": {
      "text/html": [
       "<div>\n",
       "<style scoped>\n",
       "    .dataframe tbody tr th:only-of-type {\n",
       "        vertical-align: middle;\n",
       "    }\n",
       "\n",
       "    .dataframe tbody tr th {\n",
       "        vertical-align: top;\n",
       "    }\n",
       "\n",
       "    .dataframe thead th {\n",
       "        text-align: right;\n",
       "    }\n",
       "</style>\n",
       "<table border=\"1\" class=\"dataframe\">\n",
       "  <thead>\n",
       "    <tr style=\"text-align: right;\">\n",
       "      <th></th>\n",
       "      <th>time</th>\n",
       "      <th>active_delta</th>\n",
       "      <th>num_active</th>\n",
       "    </tr>\n",
       "  </thead>\n",
       "  <tbody>\n",
       "    <tr>\n",
       "      <th>4413</th>\n",
       "      <td>3506.367192</td>\n",
       "      <td>-1</td>\n",
       "      <td>4</td>\n",
       "    </tr>\n",
       "    <tr>\n",
       "      <th>4417</th>\n",
       "      <td>3506.400416</td>\n",
       "      <td>-1</td>\n",
       "      <td>3</td>\n",
       "    </tr>\n",
       "    <tr>\n",
       "      <th>4374</th>\n",
       "      <td>3506.415816</td>\n",
       "      <td>-1</td>\n",
       "      <td>2</td>\n",
       "    </tr>\n",
       "    <tr>\n",
       "      <th>4335</th>\n",
       "      <td>3506.449516</td>\n",
       "      <td>-1</td>\n",
       "      <td>1</td>\n",
       "    </tr>\n",
       "    <tr>\n",
       "      <th>4389</th>\n",
       "      <td>3509.015399</td>\n",
       "      <td>-1</td>\n",
       "      <td>0</td>\n",
       "    </tr>\n",
       "  </tbody>\n",
       "</table>\n",
       "</div>"
      ],
      "text/plain": [
       "             time  active_delta  num_active\n",
       "4413  3506.367192            -1           4\n",
       "4417  3506.400416            -1           3\n",
       "4374  3506.415816            -1           2\n",
       "4335  3506.449516            -1           1\n",
       "4389  3509.015399            -1           0"
      ]
     },
     "execution_count": 21,
     "metadata": {},
     "output_type": "execute_result"
    }
   ],
   "source": [
    "events.tail()"
   ]
  },
  {
   "cell_type": "markdown",
   "metadata": {},
   "source": [
    "Compute worker utilization"
   ]
  },
  {
   "cell_type": "code",
   "execution_count": 22,
   "metadata": {},
   "outputs": [],
   "source": [
    "events['queue_length'] = events['num_active']"
   ]
  },
  {
   "cell_type": "code",
   "execution_count": 23,
   "metadata": {},
   "outputs": [],
   "source": [
    "events['utilization'] = np.clip(events['queue_length'] / run_info['parallel_guesses'], 0, 1)"
   ]
  },
  {
   "cell_type": "code",
   "execution_count": 24,
   "metadata": {},
   "outputs": [],
   "source": [
    "utilization_int = (np.diff(events['time'].values) * events['utilization'].values[:-1]).cumsum()"
   ]
  },
  {
   "cell_type": "code",
   "execution_count": 25,
   "metadata": {},
   "outputs": [],
   "source": [
    "events['cumulative_utilization'] = None\n",
    "events['cumulative_utilization'] = utilization_int / events['time'].iloc[1:]"
   ]
  },
  {
   "cell_type": "markdown",
   "metadata": {},
   "source": [
    "Plot the queue length and utilization"
   ]
  },
  {
   "cell_type": "code",
   "execution_count": 26,
   "metadata": {},
   "outputs": [
    {
     "data": {
      "image/png": "[encoded data removed]",
      "text/plain": [
       "<Figure size 612x180 with 3 Axes>"
      ]
     },
     "metadata": {
      "needs_background": "light"
     },
     "output_type": "display_data"
    }
   ],
   "source": [
    "fig, axs = plt.subplots(1, 3, figsize=(8.5, 2.5))\n",
    "\n",
    "# Plot the queue length\n",
    "ax = axs[0]\n",
    "ax.step(events['time'], events['queue_length'], where='post')\n",
    "ax.set_xlabel('Walltime (s)')\n",
    "ax.set_ylabel('Queue Length')\n",
    "\n",
    "ax = axs[1]\n",
    "ax.step(events['time'], events['utilization'] * 100, where='post')\n",
    "ax.set_xlabel('Walltime (s)')\n",
    "ax.set_ylabel('Utilization (%)')\n",
    "ax.set_ylim(0, 105)\n",
    "\n",
    "ax = axs[2]\n",
    "ax.plot(events['time'], events['cumulative_utilization'] * 100)\n",
    "ax.set_xlabel('Walltime (s)')\n",
    "ax.set_ylabel('Cumulative Util. (%)')\n",
    "ax.set_ylim(0, 105)\n",
    "\n",
    "fig.tight_layout()"
   ]
  },
  {
   "cell_type": "markdown",
   "metadata": {},
   "source": [
    "*Finding*: Utilization stays around ~90% for the most of the run. The dropoff towards the end is because tasks that launched did not complete before the end of the allocation period."
   ]
  },
  {
   "cell_type": "code",
   "execution_count": null,
   "metadata": {},
   "outputs": [],
   "source": []
  }
 ],
 "metadata": {
  "kernelspec": {
   "display_name": "Python 3",
   "language": "python",
   "name": "python3"
  },
  "language_info": {
   "codemirror_mode": {
    "name": "ipython",
    "version": 3
   },
   "file_extension": ".py",
   "mimetype": "text/x-python",
   "name": "python",
   "nbconvert_exporter": "python",
   "pygments_lexer": "ipython3",
   "version": "3.7.4"
  }
 },
 "nbformat": 4,
 "nbformat_minor": 4
}
